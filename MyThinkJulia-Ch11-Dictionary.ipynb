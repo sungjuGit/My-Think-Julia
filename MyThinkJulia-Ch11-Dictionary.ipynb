{
 "cells": [
  {
   "cell_type": "markdown",
   "metadata": {},
   "source": [
    "# Ch11: Dictionaries"
   ]
  },
  {
   "cell_type": "markdown",
   "metadata": {},
   "source": [
    "### A Dictionary is Mapping\n",
    "\n",
    "A dictionary is like an array, but more general. In an array, the indices have to be integers; in a dictionary they can be (almost) any type. \n",
    "\n",
    "A dictionary contains a collection of indices, which are called keys, and a collection of values. Each key is associated with a single value. The association of a key and a value is called a key-value pair or sometimes an item. In mathematical language, a dictionary represents a mapping from keys to values, so you can also say that each key “maps to” a value. As an example, we’ll build a dictionary that maps from English to Spanish words, so the keys and the values are all strings.\n"
   ]
  },
  {
   "cell_type": "code",
   "execution_count": 1,
   "metadata": {},
   "outputs": [
    {
     "data": {
      "text/plain": [
       "Dict{Any,Any} with 0 entries"
      ]
     },
     "execution_count": 1,
     "metadata": {},
     "output_type": "execute_result"
    }
   ],
   "source": [
    "eng2sp = Dict()"
   ]
  },
  {
   "cell_type": "markdown",
   "metadata": {},
   "source": [
    "To add items to the dictionary, you can use square brackets"
   ]
  },
  {
   "cell_type": "code",
   "execution_count": 3,
   "metadata": {},
   "outputs": [
    {
     "data": {
      "text/plain": [
       "\"uno\""
      ]
     },
     "execution_count": 3,
     "metadata": {},
     "output_type": "execute_result"
    }
   ],
   "source": [
    "eng2sp[\"one\"] = \"uno\""
   ]
  },
  {
   "cell_type": "code",
   "execution_count": 4,
   "metadata": {},
   "outputs": [
    {
     "data": {
      "text/plain": [
       "Dict{Any,Any} with 1 entry:\n",
       "  \"one\" => \"uno\""
      ]
     },
     "execution_count": 4,
     "metadata": {},
     "output_type": "execute_result"
    }
   ],
   "source": [
    "eng2sp"
   ]
  },
  {
   "cell_type": "markdown",
   "metadata": {},
   "source": [
    "To create a dictionary with multiple entries, we use arrow notations when we call `Dict`"
   ]
  },
  {
   "cell_type": "code",
   "execution_count": 6,
   "metadata": {},
   "outputs": [
    {
     "data": {
      "text/plain": [
       "Dict{String,String} with 3 entries:\n",
       "  \"two\"   => \"dos\"\n",
       "  \"one\"   => \"uno\"\n",
       "  \"three\" => \"tres\""
      ]
     },
     "execution_count": 6,
     "metadata": {},
     "output_type": "execute_result"
    }
   ],
   "source": [
    "eng2sp = Dict(\"one\" => \"uno\", \"two\" => \"dos\", \"three\" => \"tres\")"
   ]
  },
  {
   "cell_type": "markdown",
   "metadata": {},
   "source": [
    "The order of the key-value pairs might not be the same. If you type the same example on your computer, you might get a different result. In general, the order of items in a dictionary is unpredictable."
   ]
  },
  {
   "cell_type": "markdown",
   "metadata": {},
   "source": [
    "The length function works on dictionaries; it returns the number of key-value pairs."
   ]
  },
  {
   "cell_type": "code",
   "execution_count": 7,
   "metadata": {},
   "outputs": [
    {
     "data": {
      "text/plain": [
       "3"
      ]
     },
     "execution_count": 7,
     "metadata": {},
     "output_type": "execute_result"
    }
   ],
   "source": [
    "length(eng2sp)"
   ]
  },
  {
   "cell_type": "markdown",
   "metadata": {},
   "source": [
    "The function `keys` returns a collection with the keys of the dictionary:"
   ]
  },
  {
   "cell_type": "code",
   "execution_count": 8,
   "metadata": {},
   "outputs": [
    {
     "name": "stdout",
     "output_type": "stream",
     "text": [
      "[\"two\", \"one\", \"three\"]"
     ]
    }
   ],
   "source": [
    "ks = keys(eng2sp)\n",
    "print(ks)"
   ]
  },
  {
   "cell_type": "markdown",
   "metadata": {},
   "source": [
    "Now you can use the ∈ operator to see whether something appears as a key in the dictionary"
   ]
  },
  {
   "cell_type": "code",
   "execution_count": 9,
   "metadata": {},
   "outputs": [
    {
     "data": {
      "text/plain": [
       "(true, false)"
      ]
     },
     "execution_count": 9,
     "metadata": {},
     "output_type": "execute_result"
    }
   ],
   "source": [
    "\"one\" ∈ ks, \"uno\" ∈ ks"
   ]
  },
  {
   "cell_type": "markdown",
   "metadata": {},
   "source": [
    "To see whether something appears as a value in a dictionary, you can use the function `values`, which returns a collection\n",
    "of values, and then use the ∈ operator:"
   ]
  },
  {
   "cell_type": "code",
   "execution_count": 10,
   "metadata": {},
   "outputs": [
    {
     "data": {
      "text/plain": [
       "true"
      ]
     },
     "execution_count": 10,
     "metadata": {},
     "output_type": "execute_result"
    }
   ],
   "source": [
    "vs = values(eng2sp);\n",
    "\"uno\" ∈ vs"
   ]
  },
  {
   "cell_type": "markdown",
   "metadata": {},
   "source": [
    "The ∈ operator uses different algorithms for arrays and dictionaries. For arrays, it searches the elements of the array in order. As the array gets longer, the search time gets longer in direct proportion.\n",
    "\n",
    "For dictionaries, Julia uses an algorithm called a hash table that has a remarkable property: the ∈ operator takes about the same amount of time no matter how many items are in the dictionary.\n",
    "\n",
    "A `hash` is a function that takes a value (of any kind) and returns an integer. Dictionaries use these integers, called hash values, to store and look up key-value pairs.\n"
   ]
  },
  {
   "cell_type": "markdown",
   "metadata": {},
   "source": [
    "### Dictionary as a Collection of Counters\n",
    "\n",
    "Suppose you are given a string and you want to count how many times each letter appears. There are several ways you\n",
    "could do it:\n",
    "\n",
    "- You could create 26 variables, one for each letter of the alphabet. Then you could traverse the string and, for each character, increment the corresponding counter, probably using a chained conditional.\n",
    "- You could create an array with 26 elements. Then you could convert each character to a number (using the built-in function Int), use the number as an index into the array, and increment the appropriate counter.\n",
    "- You could create a dictionary with characters as keys and counters as the corresponding values. The first time you see a character, you would add an item to the dictionary. After that you would increment the value of an existing item. \n",
    "\n",
    "Each of these options performs the same computation, but each of them implements that computation in a different way. An implementation is a way of performing a computation; some implementations are better than others. For example, an advantage of the dictionary implementation is that we don’t have to know ahead of time which letters appear in the string and we only have to make room for the letters that do appear."
   ]
  },
  {
   "cell_type": "code",
   "execution_count": 11,
   "metadata": {},
   "outputs": [
    {
     "data": {
      "text/plain": [
       "histogram (generic function with 1 method)"
      ]
     },
     "execution_count": 11,
     "metadata": {},
     "output_type": "execute_result"
    }
   ],
   "source": [
    "function histogram(s) \n",
    "    d = Dict()\n",
    "    for c in s\n",
    "        if c ∉ keys(d)\n",
    "            d[c] = 1\n",
    "        else\n",
    "            d[c] += 1\n",
    "        end\n",
    "    end\n",
    "    d\n",
    "end"
   ]
  },
  {
   "cell_type": "code",
   "execution_count": 12,
   "metadata": {},
   "outputs": [
    {
     "data": {
      "text/plain": [
       "Dict{Any,Any} with 8 entries:\n",
       "  'n' => 1\n",
       "  's' => 2\n",
       "  'a' => 1\n",
       "  'r' => 2\n",
       "  't' => 1\n",
       "  'o' => 2\n",
       "  'u' => 2\n",
       "  'b' => 1"
      ]
     },
     "execution_count": 12,
     "metadata": {},
     "output_type": "execute_result"
    }
   ],
   "source": [
    "h = histogram(\"brontosaurus\")"
   ]
  },
  {
   "cell_type": "markdown",
   "metadata": {},
   "source": [
    "Dictionaries have a function called `get` that takes a key and a default value. If the key appears in the dictionary, `get`\n",
    "returns the corresponding value; otherwise it returns the default value. For example:"
   ]
  },
  {
   "cell_type": "code",
   "execution_count": 13,
   "metadata": {},
   "outputs": [
    {
     "data": {
      "text/plain": [
       "(1, 0)"
      ]
     },
     "execution_count": 13,
     "metadata": {},
     "output_type": "execute_result"
    }
   ],
   "source": [
    "h = histogram(\"a\")\n",
    "\n",
    "get(h, 'a', 0), get(h, 'b', 0)"
   ]
  },
  {
   "cell_type": "markdown",
   "metadata": {},
   "source": [
    "### Exercise 11-1\n",
    "\n",
    "Use `get` to write `histogram` more concisely. You should be able to eliminate the `if` statement."
   ]
  },
  {
   "cell_type": "code",
   "execution_count": 14,
   "metadata": {},
   "outputs": [
    {
     "data": {
      "text/plain": [
       "histogram (generic function with 1 method)"
      ]
     },
     "execution_count": 14,
     "metadata": {},
     "output_type": "execute_result"
    }
   ],
   "source": [
    "function histogram(s) \n",
    "    d = Dict()\n",
    "    for c in s\n",
    "        d[c] = get(d,c,0) + 1\n",
    "    end\n",
    "    d\n",
    "end"
   ]
  },
  {
   "cell_type": "code",
   "execution_count": 15,
   "metadata": {},
   "outputs": [
    {
     "data": {
      "text/plain": [
       "Dict{Any,Any} with 8 entries:\n",
       "  'n' => 1\n",
       "  's' => 2\n",
       "  'a' => 1\n",
       "  'r' => 2\n",
       "  't' => 1\n",
       "  'o' => 2\n",
       "  'u' => 2\n",
       "  'b' => 1"
      ]
     },
     "execution_count": 15,
     "metadata": {},
     "output_type": "execute_result"
    }
   ],
   "source": [
    "h = histogram(\"brontosaurus\")"
   ]
  },
  {
   "cell_type": "markdown",
   "metadata": {},
   "source": [
    "### Looping and Dictionaries\n",
    "\n",
    "You can traverse the keys of the dictionary in a `for` statement. For example, `printhist` prints each key and the corresponding value:"
   ]
  },
  {
   "cell_type": "code",
   "execution_count": 16,
   "metadata": {},
   "outputs": [
    {
     "data": {
      "text/plain": [
       "printhist (generic function with 1 method)"
      ]
     },
     "execution_count": 16,
     "metadata": {},
     "output_type": "execute_result"
    }
   ],
   "source": [
    "function printhist(h)\n",
    "    for c in keys(h)\n",
    "        println(c, \" \", h[c])\n",
    "    end\n",
    "end"
   ]
  },
  {
   "cell_type": "code",
   "execution_count": 18,
   "metadata": {},
   "outputs": [
    {
     "data": {
      "text/plain": [
       "Dict{Any,Any} with 5 entries:\n",
       "  'a' => 1\n",
       "  'r' => 2\n",
       "  'p' => 1\n",
       "  'o' => 1\n",
       "  't' => 1"
      ]
     },
     "execution_count": 18,
     "metadata": {},
     "output_type": "execute_result"
    }
   ],
   "source": [
    "h = histogram(\"parrot\")"
   ]
  },
  {
   "cell_type": "code",
   "execution_count": 19,
   "metadata": {},
   "outputs": [
    {
     "name": "stdout",
     "output_type": "stream",
     "text": [
      "a 1\n",
      "r 2\n",
      "p 1\n",
      "o 1\n",
      "t 1\n"
     ]
    }
   ],
   "source": [
    "printhist(h)"
   ]
  },
  {
   "cell_type": "markdown",
   "metadata": {},
   "source": [
    "Once again, the keys are in no particular order. To traverse the keys in sorted order, you can combine `sort` and `collect`:"
   ]
  },
  {
   "cell_type": "code",
   "execution_count": 20,
   "metadata": {},
   "outputs": [
    {
     "name": "stdout",
     "output_type": "stream",
     "text": [
      "a 1\n",
      "o 1\n",
      "p 1\n",
      "r 2\n",
      "t 1\n"
     ]
    }
   ],
   "source": [
    "for c in sort(collect(keys(h)))\n",
    "    println(c, \" \", h[c])\n",
    "end"
   ]
  },
  {
   "cell_type": "markdown",
   "metadata": {},
   "source": [
    "### Reverse Lookup\n",
    "\n",
    "Given a dictionary `d` and a key `k` , it is easy to find the corresponding value `v = d[k]`. This operation is called a lookup.  But what if you have v and you want to find k ? You have two problems: first, there might be more than one key that maps to the value v . Depending on the application, you might be able to pick one, or you might have to make an array that contains all of them. Second, there is no simple syntax to do a reverse lookup; you have to search."
   ]
  },
  {
   "cell_type": "code",
   "execution_count": 21,
   "metadata": {},
   "outputs": [
    {
     "data": {
      "text/plain": [
       "reverselookup (generic function with 1 method)"
      ]
     },
     "execution_count": 21,
     "metadata": {},
     "output_type": "execute_result"
    }
   ],
   "source": [
    "function reverselookup(d, v)\n",
    "    for k in keys(d)\n",
    "        if d[k] == v\n",
    "            return k\n",
    "        end\n",
    "    end\n",
    "    error(\"LookupError\")  # throws an exception if not found\n",
    "end"
   ]
  },
  {
   "cell_type": "code",
   "execution_count": 22,
   "metadata": {},
   "outputs": [
    {
     "data": {
      "text/plain": [
       "'r': ASCII/Unicode U+0072 (category Ll: Letter, lowercase)"
      ]
     },
     "execution_count": 22,
     "metadata": {},
     "output_type": "execute_result"
    }
   ],
   "source": [
    "h = histogram(\"parrot\");\n",
    "key = reverselookup(h, 2)"
   ]
  },
  {
   "cell_type": "code",
   "execution_count": 23,
   "metadata": {},
   "outputs": [
    {
     "ename": "ErrorException",
     "evalue": "LookupError",
     "output_type": "error",
     "traceback": [
      "LookupError",
      "",
      "Stacktrace:",
      " [1] error(::String) at .\\error.jl:33",
      " [2] reverselookup(::Dict{Any,Any}, ::Int64) at .\\In[21]:7",
      " [3] top-level scope at In[23]:1"
     ]
    }
   ],
   "source": [
    "key = reverselookup(h, 3)"
   ]
  },
  {
   "cell_type": "markdown",
   "metadata": {},
   "source": [
    "**Julia provides an optimized way to do a reverse lookup: `findall(isequal(3), h)`.**"
   ]
  },
  {
   "cell_type": "markdown",
   "metadata": {},
   "source": [
    "A reverse lookup is much slower than a forward lookup; if you have to do it often, or if the dictionary gets big, the performance of your program will suffer."
   ]
  },
  {
   "cell_type": "markdown",
   "metadata": {},
   "source": [
    "### Dictionaries and Arrays\n",
    "\n",
    "Arrays can appear as values in a dictionary. For example, if you are given a dictionary that maps from letters to frequencies, you might want to invert it; that is, create a dictionary that maps from frequencies to letters. Since there might be several letters with the same frequency, each value in the inverted dictionary should be an array of letters. Here is a function that inverts a dictionary:"
   ]
  },
  {
   "cell_type": "code",
   "execution_count": 25,
   "metadata": {},
   "outputs": [
    {
     "data": {
      "text/plain": [
       "invertdict (generic function with 1 method)"
      ]
     },
     "execution_count": 25,
     "metadata": {},
     "output_type": "execute_result"
    }
   ],
   "source": [
    "function invertdict(d)\n",
    "    inverse = Dict()\n",
    "    for key in keys(d)\n",
    "        val = d[key]\n",
    "        if val ∉ keys(inverse)\n",
    "            inverse[val] = [key]   # an array with one element is called singleton\n",
    "        else\n",
    "            push!(inverse[val], key)  # each item in the dictionary is an array\n",
    "        end\n",
    "    end\n",
    "    inverse\n",
    "end"
   ]
  },
  {
   "cell_type": "code",
   "execution_count": 26,
   "metadata": {},
   "outputs": [
    {
     "data": {
      "text/plain": [
       "Dict{Any,Any} with 2 entries:\n",
       "  2 => ['r']\n",
       "  1 => ['a', 'p', 'o', 't']"
      ]
     },
     "execution_count": 26,
     "metadata": {},
     "output_type": "execute_result"
    }
   ],
   "source": [
    "hist = histogram(\"parrot\");\n",
    "inverse = invertdict(hist)"
   ]
  },
  {
   "cell_type": "markdown",
   "metadata": {},
   "source": [
    "### Memos\n",
    "\n",
    "If you played with the fibonacci function from One More Example, you might have noticed that the bigger the argument you provide, the longer the function takes to run. Furthermore, the run time increases quickly.\n",
    "\n",
    "A call graph for `fibonacci` with a value like `n` = 4 shows that `fibonacci(0)` and `fibonacci(1)` would be called many times when `n` is large.\n",
    "\n",
    "One solution is to keep track of values that have already been computed by storing them in a dictionary. A previously computed value that is stored for later use is called a memo. Here is a “memoized” version of fibonacci:\n",
    "\n"
   ]
  },
  {
   "cell_type": "code",
   "execution_count": 27,
   "metadata": {},
   "outputs": [
    {
     "data": {
      "text/plain": [
       "fibonacci (generic function with 1 method)"
      ]
     },
     "execution_count": 27,
     "metadata": {},
     "output_type": "execute_result"
    }
   ],
   "source": [
    "known = Dict(0=>0, 1=>1)\n",
    "\n",
    "function fibonacci(n)\n",
    "    if n ∈ keys(known)\n",
    "        return known[n]\n",
    "    end\n",
    "    res = fibonacci(n-1) + fibonacci(n-2)\n",
    "    known[n] = res\n",
    "    res\n",
    "end"
   ]
  },
  {
   "cell_type": "code",
   "execution_count": 29,
   "metadata": {},
   "outputs": [
    {
     "data": {
      "text/plain": [
       "3"
      ]
     },
     "execution_count": 29,
     "metadata": {},
     "output_type": "execute_result"
    }
   ],
   "source": [
    "fibonacci(4)"
   ]
  },
  {
   "cell_type": "code",
   "execution_count": 30,
   "metadata": {},
   "outputs": [
    {
     "data": {
      "text/plain": [
       "55"
      ]
     },
     "execution_count": 30,
     "metadata": {},
     "output_type": "execute_result"
    }
   ],
   "source": [
    "fibonacci(10)"
   ]
  },
  {
   "cell_type": "markdown",
   "metadata": {},
   "source": [
    "### Global Variables\n",
    "\n",
    "In the previous example, known is created outside the function, so it belongs to the special frame called Main . Variables in Main are sometimes called global because they can be accessed from any function. Unlike local variables, which disappear when their function ends, global variables persist from one function call to the next. It is common to use global variables for flags; that is, boolean variables that indicate (“flag”) whether a condition is true. \n",
    "\n",
    "For example, some programs use a flag named verbose to control the level of detail in the output:"
   ]
  },
  {
   "cell_type": "code",
   "execution_count": 31,
   "metadata": {},
   "outputs": [
    {
     "data": {
      "text/plain": [
       "example1 (generic function with 1 method)"
      ]
     },
     "execution_count": 31,
     "metadata": {},
     "output_type": "execute_result"
    }
   ],
   "source": [
    "verbose = true\n",
    "\n",
    "function example1() \n",
    "    if verbose\n",
    "        println(\"Running example1\")\n",
    "    end\n",
    "end"
   ]
  },
  {
   "cell_type": "code",
   "execution_count": 32,
   "metadata": {},
   "outputs": [
    {
     "name": "stdout",
     "output_type": "stream",
     "text": [
      "Running example1\n"
     ]
    }
   ],
   "source": [
    "example1()"
   ]
  },
  {
   "cell_type": "markdown",
   "metadata": {},
   "source": [
    "To reassign a global variable inside a function you have to declare the variable global before you use it.  The global statement tells the interpreter something like, “In this function, when I say been_called , I mean the global variable; don’t create a local one.” Here’s an example that tries to update a global variable:"
   ]
  },
  {
   "cell_type": "code",
   "execution_count": 33,
   "metadata": {},
   "outputs": [
    {
     "data": {
      "text/plain": [
       "example3 (generic function with 1 method)"
      ]
     },
     "execution_count": 33,
     "metadata": {},
     "output_type": "execute_result"
    }
   ],
   "source": [
    "count = 0\n",
    "function example3()\n",
    "    count = count + 1 # WRONG\n",
    "end"
   ]
  },
  {
   "cell_type": "code",
   "execution_count": 34,
   "metadata": {},
   "outputs": [
    {
     "ename": "UndefVarError",
     "evalue": "UndefVarError: count not defined",
     "output_type": "error",
     "traceback": [
      "UndefVarError: count not defined",
      "",
      "Stacktrace:",
      " [1] example3() at .\\In[33]:3",
      " [2] top-level scope at In[34]:1"
     ]
    }
   ],
   "source": [
    "example3()"
   ]
  },
  {
   "cell_type": "markdown",
   "metadata": {},
   "source": [
    "Inside the function, Julia creates a new local variable `count`.  Julia therefore thinks that you are reading it before writing it. The solution is to declare `count` global."
   ]
  },
  {
   "cell_type": "code",
   "execution_count": 35,
   "metadata": {},
   "outputs": [
    {
     "data": {
      "text/plain": [
       "example3 (generic function with 1 method)"
      ]
     },
     "execution_count": 35,
     "metadata": {},
     "output_type": "execute_result"
    }
   ],
   "source": [
    "count = 0\n",
    "function example3()\n",
    "    global count\n",
    "    count += 1\n",
    "end"
   ]
  },
  {
   "cell_type": "code",
   "execution_count": 36,
   "metadata": {},
   "outputs": [
    {
     "data": {
      "text/plain": [
       "1"
      ]
     },
     "execution_count": 36,
     "metadata": {},
     "output_type": "execute_result"
    }
   ],
   "source": [
    "example3()"
   ]
  },
  {
   "cell_type": "markdown",
   "metadata": {},
   "source": [
    "There is one exception.  If a global variable refers to a mutable value, you can modify the value without declaring the variable global:"
   ]
  },
  {
   "cell_type": "code",
   "execution_count": 37,
   "metadata": {},
   "outputs": [
    {
     "data": {
      "text/plain": [
       "example4 (generic function with 1 method)"
      ]
     },
     "execution_count": 37,
     "metadata": {},
     "output_type": "execute_result"
    }
   ],
   "source": [
    "known = Dict(0=>0, 1=>1)\n",
    "function example4()\n",
    "    known[2] = 1\n",
    "end"
   ]
  },
  {
   "cell_type": "code",
   "execution_count": 38,
   "metadata": {},
   "outputs": [
    {
     "data": {
      "text/plain": [
       "Dict{Int64,Int64} with 3 entries:\n",
       "  0 => 0\n",
       "  2 => 1\n",
       "  1 => 1"
      ]
     },
     "execution_count": 38,
     "metadata": {},
     "output_type": "execute_result"
    }
   ],
   "source": [
    "example4();\n",
    "known"
   ]
  },
  {
   "cell_type": "markdown",
   "metadata": {},
   "source": [
    "So you can add, remove and replace elements of a global array or dictionary.  **But if you want to reassign the array or dictionary variable, you still have to declare it global:**"
   ]
  },
  {
   "cell_type": "code",
   "execution_count": 42,
   "metadata": {},
   "outputs": [
    {
     "data": {
      "text/plain": [
       "example5 (generic function with 1 method)"
      ]
     },
     "execution_count": 42,
     "metadata": {},
     "output_type": "execute_result"
    }
   ],
   "source": [
    "known = Dict(0=>0, 1=>1)\n",
    "\n",
    "function example5()\n",
    "    global known\n",
    "    known = Dict()\n",
    "end"
   ]
  },
  {
   "cell_type": "markdown",
   "metadata": {},
   "source": [
    "For performance reasons, you should declare a global variable constant. You can no longer reassign the variable but if it\n",
    "refers to a mutable value, you can modify the value."
   ]
  },
  {
   "cell_type": "code",
   "execution_count": 41,
   "metadata": {},
   "outputs": [
    {
     "data": {
      "text/plain": [
       "example4 (generic function with 1 method)"
      ]
     },
     "execution_count": 41,
     "metadata": {},
     "output_type": "execute_result"
    }
   ],
   "source": [
    "const known2 = Dict(0=>0, 1=>1)\n",
    "\n",
    "function example4()\n",
    "    known2[2] = 1\n",
    "end"
   ]
  },
  {
   "cell_type": "markdown",
   "metadata": {},
   "source": [
    "Global variables can be useful, but if you have a lot of them, and you modify them frequently, they can make programs hard to debug and perform badly."
   ]
  },
  {
   "cell_type": "markdown",
   "metadata": {},
   "source": [
    "### Debugging Tips for Big Datasets\n",
    "\n",
    "As you work with bigger datasets it can become unwieldy to debug by printing and checking the output by hand. Here are some suggestions for debugging large datasets:\n",
    "\n",
    "* Scale down the input: If possible, reduce the size of the dataset. For example if the program reads a text file, start with just the first 10 lines, or with the smallest example you can find which errors. You sould not edit the files themselves, but rather modify the program so it reads only the first lines. If there is an error, you can reduce to the smallest value that manifests the error, and then increase it gradually as you find and correct errors.\n",
    "\n",
    "* Check summaries and types: Instead of printing and checking the entire dataset, consider printing summaries of the data: for example, the number of items in a dictionary or the total of an array of numbers. A common cause of runtime errors is a value that is not the right type. For debugging this kind of error, it is often enough to print the type of a value.\n",
    "\n",
    "* Write self-checks: Sometimes you can write code to check for errors automatically. For example, if you are computing the average of an array of numbers, you could check that the result is not greater than the largest element in the array or less than the smallest. This is called a “sanity check”. Another kind of check compares the results of two different computations to see if they are consistent. This is called a “consistency check”.\n",
    "\n",
    "* Format the output: Formatting debugging output can make it easier to spot an error. We saw an example in Debugging. Again, time you spend building scaffolding can reduce the time you spend debugging."
   ]
  },
  {
   "cell_type": "markdown",
   "metadata": {},
   "source": [
    "### Exercise 11-2\n",
    "\n",
    "Write a function that reads the words in words.txt and stores them as keys in a dictionary. It doesn’t matter what the values are. Then you can use the ∈ operator as a fast way to check whether a string is in the dictionary. If you did Exercise 10-10, you can compare the speed of this implementation with the array ∈ operator and the bisection search.\n"
   ]
  },
  {
   "cell_type": "code",
   "execution_count": 45,
   "metadata": {},
   "outputs": [],
   "source": [
    "function build_words_dict()\n",
    "    \n",
    "    dict = Dict();\n",
    "    \n",
    "    for word in eachline(\"words.txt\")\n",
    "        dict[word] = \"\"\n",
    "    end\n",
    "\n",
    "    return dict\n",
    "    \n",
    "end\n",
    "\n",
    "words_dict = build_words_dict();"
   ]
  },
  {
   "cell_type": "code",
   "execution_count": 47,
   "metadata": {},
   "outputs": [
    {
     "data": {
      "text/plain": [
       "true"
      ]
     },
     "execution_count": 47,
     "metadata": {},
     "output_type": "execute_result"
    }
   ],
   "source": [
    "\"zebra\" ∈ keys(words_dict)"
   ]
  },
  {
   "cell_type": "code",
   "execution_count": 48,
   "metadata": {},
   "outputs": [
    {
     "data": {
      "text/plain": [
       "true"
      ]
     },
     "execution_count": 48,
     "metadata": {},
     "output_type": "execute_result"
    }
   ],
   "source": [
    "\"bookkeeper\" ∈ keys(words_dict)"
   ]
  },
  {
   "cell_type": "markdown",
   "metadata": {},
   "source": [
    "### Exercise 11-3\n",
    "\n",
    "Read the documentation of the dictionary function `get!` and use it to write a more concise version of `invertdict`."
   ]
  },
  {
   "cell_type": "code",
   "execution_count": 49,
   "metadata": {},
   "outputs": [
    {
     "name": "stdout",
     "output_type": "stream",
     "text": [
      "search: \u001b[0m\u001b[1mg\u001b[22m\u001b[0m\u001b[1me\u001b[22m\u001b[0m\u001b[1mt\u001b[22m\u001b[0m\u001b[1m!\u001b[22m \u001b[0m\u001b[1mg\u001b[22m\u001b[0m\u001b[1me\u001b[22m\u001b[0m\u001b[1mt\u001b[22m \u001b[0m\u001b[1mg\u001b[22m\u001b[0m\u001b[1me\u001b[22m\u001b[0m\u001b[1mt\u001b[22mpid \u001b[0m\u001b[1mg\u001b[22m\u001b[0m\u001b[1me\u001b[22m\u001b[0m\u001b[1mt\u001b[22mkey \u001b[0m\u001b[1mg\u001b[22m\u001b[0m\u001b[1me\u001b[22m\u001b[0m\u001b[1mt\u001b[22mfield \u001b[0m\u001b[1mg\u001b[22m\u001b[0m\u001b[1me\u001b[22m\u001b[0m\u001b[1mt\u001b[22mindex \u001b[0m\u001b[1mg\u001b[22m\u001b[0m\u001b[1me\u001b[22m\u001b[0m\u001b[1mt\u001b[22mproperty \u001b[0m\u001b[1mg\u001b[22m\u001b[0m\u001b[1me\u001b[22m\u001b[0m\u001b[1mt\u001b[22mhostname\n",
      "\n"
     ]
    },
    {
     "data": {
      "text/latex": [
       "\\begin{verbatim}\n",
       "get!(collection, key, default)\n",
       "\\end{verbatim}\n",
       "Return the value stored for the given key, or if no mapping for the key is present, store \\texttt{key => default}, and return \\texttt{default}.\n",
       "\n",
       "\\section{Examples}\n",
       "\\begin{verbatim}\n",
       "julia> d = Dict(\"a\"=>1, \"b\"=>2, \"c\"=>3);\n",
       "\n",
       "julia> get!(d, \"a\", 5)\n",
       "1\n",
       "\n",
       "julia> get!(d, \"d\", 4)\n",
       "4\n",
       "\n",
       "julia> d\n",
       "Dict{String,Int64} with 4 entries:\n",
       "  \"c\" => 3\n",
       "  \"b\" => 2\n",
       "  \"a\" => 1\n",
       "  \"d\" => 4\n",
       "\\end{verbatim}\n",
       "\\rule{\\textwidth}{1pt}\n",
       "\\begin{verbatim}\n",
       "get!(f::Function, collection, key)\n",
       "\\end{verbatim}\n",
       "Return the value stored for the given key, or if no mapping for the key is present, store \\texttt{key => f()}, and return \\texttt{f()}.\n",
       "\n",
       "This is intended to be called using \\texttt{do} block syntax:\n",
       "\n",
       "\\begin{verbatim}\n",
       "get!(dict, key) do\n",
       "    # default value calculated here\n",
       "    time()\n",
       "end\n",
       "\\end{verbatim}\n"
      ],
      "text/markdown": [
       "```\n",
       "get!(collection, key, default)\n",
       "```\n",
       "\n",
       "Return the value stored for the given key, or if no mapping for the key is present, store `key => default`, and return `default`.\n",
       "\n",
       "# Examples\n",
       "\n",
       "```jldoctest\n",
       "julia> d = Dict(\"a\"=>1, \"b\"=>2, \"c\"=>3);\n",
       "\n",
       "julia> get!(d, \"a\", 5)\n",
       "1\n",
       "\n",
       "julia> get!(d, \"d\", 4)\n",
       "4\n",
       "\n",
       "julia> d\n",
       "Dict{String,Int64} with 4 entries:\n",
       "  \"c\" => 3\n",
       "  \"b\" => 2\n",
       "  \"a\" => 1\n",
       "  \"d\" => 4\n",
       "```\n",
       "\n",
       "---\n",
       "\n",
       "```\n",
       "get!(f::Function, collection, key)\n",
       "```\n",
       "\n",
       "Return the value stored for the given key, or if no mapping for the key is present, store `key => f()`, and return `f()`.\n",
       "\n",
       "This is intended to be called using `do` block syntax:\n",
       "\n",
       "```julia\n",
       "get!(dict, key) do\n",
       "    # default value calculated here\n",
       "    time()\n",
       "end\n",
       "```\n"
      ],
      "text/plain": [
       "\u001b[36m  get!(collection, key, default)\u001b[39m\n",
       "\n",
       "  Return the value stored for the given key, or if no mapping for the key is\n",
       "  present, store \u001b[36mkey => default\u001b[39m, and return \u001b[36mdefault\u001b[39m.\n",
       "\n",
       "\u001b[1m  Examples\u001b[22m\n",
       "\u001b[1m  ≡≡≡≡≡≡≡≡≡≡\u001b[22m\n",
       "\n",
       "\u001b[36m  julia> d = Dict(\"a\"=>1, \"b\"=>2, \"c\"=>3);\u001b[39m\n",
       "\u001b[36m  \u001b[39m\n",
       "\u001b[36m  julia> get!(d, \"a\", 5)\u001b[39m\n",
       "\u001b[36m  1\u001b[39m\n",
       "\u001b[36m  \u001b[39m\n",
       "\u001b[36m  julia> get!(d, \"d\", 4)\u001b[39m\n",
       "\u001b[36m  4\u001b[39m\n",
       "\u001b[36m  \u001b[39m\n",
       "\u001b[36m  julia> d\u001b[39m\n",
       "\u001b[36m  Dict{String,Int64} with 4 entries:\u001b[39m\n",
       "\u001b[36m    \"c\" => 3\u001b[39m\n",
       "\u001b[36m    \"b\" => 2\u001b[39m\n",
       "\u001b[36m    \"a\" => 1\u001b[39m\n",
       "\u001b[36m    \"d\" => 4\u001b[39m\n",
       "\n",
       "  ────────────────────────────────────────────────────────────────────────────\n",
       "\n",
       "\u001b[36m  get!(f::Function, collection, key)\u001b[39m\n",
       "\n",
       "  Return the value stored for the given key, or if no mapping for the key is\n",
       "  present, store \u001b[36mkey => f()\u001b[39m, and return \u001b[36mf()\u001b[39m.\n",
       "\n",
       "  This is intended to be called using \u001b[36mdo\u001b[39m block syntax:\n",
       "\n",
       "\u001b[36m  get!(dict, key) do\u001b[39m\n",
       "\u001b[36m      # default value calculated here\u001b[39m\n",
       "\u001b[36m      time()\u001b[39m\n",
       "\u001b[36m  end\u001b[39m"
      ]
     },
     "execution_count": 49,
     "metadata": {},
     "output_type": "execute_result"
    }
   ],
   "source": [
    "?get!"
   ]
  },
  {
   "cell_type": "code",
   "execution_count": 50,
   "metadata": {},
   "outputs": [
    {
     "data": {
      "text/plain": [
       "invertdictV2 (generic function with 1 method)"
      ]
     },
     "execution_count": 50,
     "metadata": {},
     "output_type": "execute_result"
    }
   ],
   "source": [
    "# function invertdict(d)\n",
    "#     inverse = Dict()\n",
    "#     for key in keys(d)\n",
    "#         val = d[key]\n",
    "#         if val ∉ keys(inverse)\n",
    "#             inverse[val] = [key]   # an array with one element is called singleton\n",
    "#         else\n",
    "#             push!(inverse[val], key)  # each item in the dictionary is an array\n",
    "#         end\n",
    "#     end\n",
    "#     inverse\n",
    "# end\n",
    "\n",
    "\n",
    "function invertdictV2(d)\n",
    "    inverse = Dict()\n",
    "    \n",
    "    for key in keys(d)\n",
    "              \n",
    "        val = d[key]\n",
    "        push!( get!(inverse,val,[]), key )\n",
    "        \n",
    "    end\n",
    "    \n",
    "    inverse\n",
    "    \n",
    "end"
   ]
  },
  {
   "cell_type": "code",
   "execution_count": 51,
   "metadata": {},
   "outputs": [
    {
     "data": {
      "text/plain": [
       "Dict{Any,Any} with 2 entries:\n",
       "  2 => Any['r']\n",
       "  1 => Any['a', 'p', 'o', 't']"
      ]
     },
     "execution_count": 51,
     "metadata": {},
     "output_type": "execute_result"
    }
   ],
   "source": [
    "hist = histogram(\"parrot\");\n",
    "inverse = invertdictV2(hist)"
   ]
  },
  {
   "cell_type": "markdown",
   "metadata": {},
   "source": [
    "### Exercise 11-4\n",
    "\n",
    "Memoize the `Ackermann` function from Exercise 6-5 and see if memoization makes it possible to evaluate the function with\n",
    "bigger arguments."
   ]
  },
  {
   "cell_type": "code",
   "execution_count": 52,
   "metadata": {},
   "outputs": [
    {
     "data": {
      "text/plain": [
       "ack (generic function with 1 method)"
      ]
     },
     "execution_count": 52,
     "metadata": {},
     "output_type": "execute_result"
    }
   ],
   "source": [
    "# function ack(m,n)\n",
    "    \n",
    "#     if m == 0\n",
    "#       #  @show m,n\n",
    "#         return n+1\n",
    "#     elseif m > 0 && n == 0\n",
    "#       #  @show m,n\n",
    "#         return ack(m-1,1)\n",
    "#     elseif m > 0 && n > 0\n",
    "#         return ack(m-1,ack(m,n-1))\n",
    "#     end\n",
    "    \n",
    "# end\n",
    "\n",
    "\n",
    "# known = Dict(0=>0, 1=>1)\n",
    "\n",
    "# function fibonacci(n)\n",
    "#     if n ∈ keys(known)\n",
    "#         return known[n]\n",
    "#     end\n",
    "#     res = fibonacci(n-1) + fibonacci(n-2)\n",
    "#     known[n] = res\n",
    "#     res\n",
    "# end\n",
    "\n",
    "known = Dict()\n",
    "\n",
    "function ack(m,n)\n",
    "    \n",
    "    if (m,n) ∈ keys(known)        # tuples can be keys in a dictionary\n",
    "        return known[(m,n)]\n",
    "    end\n",
    "    \n",
    "    if m == 0\n",
    "        res = n+1\n",
    "    elseif m > 0 && n == 0\n",
    "        res = ack(m-1,1)\n",
    "    elseif m > 0 && n > 0\n",
    "        res = ack(m-1,ack(m,n-1))\n",
    "    end\n",
    "    \n",
    "    known[(m,n)] = res\n",
    "    return res\n",
    "    \n",
    "end"
   ]
  },
  {
   "cell_type": "code",
   "execution_count": 53,
   "metadata": {},
   "outputs": [
    {
     "data": {
      "text/plain": [
       "125"
      ]
     },
     "execution_count": 53,
     "metadata": {},
     "output_type": "execute_result"
    }
   ],
   "source": [
    "ack(3,4)"
   ]
  },
  {
   "cell_type": "code",
   "execution_count": 57,
   "metadata": {},
   "outputs": [
    {
     "data": {
      "text/plain": [
       "(65533, 65533)"
      ]
     },
     "execution_count": 57,
     "metadata": {},
     "output_type": "execute_result"
    }
   ],
   "source": [
    "ack(4,1), ack(5,0)"
   ]
  },
  {
   "cell_type": "code",
   "execution_count": 58,
   "metadata": {},
   "outputs": [
    {
     "ename": "StackOverflowError",
     "evalue": "StackOverflowError:",
     "output_type": "error",
     "traceback": [
      "StackOverflowError:",
      "",
      "Stacktrace:",
      " [1] ht_keyindex(::Dict{Any,Any}, ::Tuple{Int64,Int64}) at .\\dict.jl:289",
      " [2] in(::Tuple{Int64,Int64}, ::Base.KeySet{Any,Dict{Any,Any}}) at .\\dict.jl:546",
      " [3] ack(::Int64, ::Int64) at .\\In[52]:31",
      " [4] ack(::Int64, ::Int64) at .\\In[52]:40 (repeats 18635 times)",
      " [5] top-level scope at In[58]:1"
     ]
    }
   ],
   "source": [
    "ack(4,2)"
   ]
  },
  {
   "cell_type": "markdown",
   "metadata": {},
   "source": [
    "### Exercise 11-5\n",
    "\n",
    "If you did Exercise 10-7, you already have a function named `hasduplicates` that takes an array as a parameter and returns true if there is any object that appears more than once in the array. Use a dictionary to write a faster, simpler version of `hasduplicates."
   ]
  },
  {
   "cell_type": "code",
   "execution_count": 59,
   "metadata": {},
   "outputs": [
    {
     "data": {
      "text/plain": [
       "hasduplicatesVDic (generic function with 1 method)"
      ]
     },
     "execution_count": 59,
     "metadata": {},
     "output_type": "execute_result"
    }
   ],
   "source": [
    "# function hasduplicates(arr)\n",
    "    \n",
    "#     for index in eachindex(arr[1:end-1])\n",
    "        \n",
    "#         if arr[index] ∈ arr[index+1:end]\n",
    "#              return true\n",
    "#         end\n",
    "        \n",
    "#     end\n",
    "    \n",
    "#     return false\n",
    "    \n",
    "# end\n",
    "\n",
    "function hasduplicatesVDic(arr)\n",
    "    \n",
    "    d = Dict()\n",
    "    for item in arr\n",
    "        d[item] = get(d,item,0) + 1\n",
    "        if d[item] >= 2\n",
    "            return true\n",
    "        end\n",
    "    end\n",
    "\n",
    "    false\n",
    "    \n",
    "end   \n"
   ]
  },
  {
   "cell_type": "code",
   "execution_count": 61,
   "metadata": {},
   "outputs": [
    {
     "data": {
      "text/plain": [
       "(false, true)"
      ]
     },
     "execution_count": 61,
     "metadata": {},
     "output_type": "execute_result"
    }
   ],
   "source": [
    "hasduplicatesVDic([1,2,3,4,5,6,7,8,9,10]), hasduplicatesVDic([1,2,3,4,5,6,7,8,9,1])"
   ]
  },
  {
   "cell_type": "markdown",
   "metadata": {},
   "source": [
    "### Exercise 11-6\n",
    "\n",
    "Two words are “rotate pairs” if you can rotate one of them and get the other (see rotateword in Exercise 8-11). Write a program that reads a word array and finds all the rotate pairs."
   ]
  },
  {
   "cell_type": "code",
   "execution_count": 74,
   "metadata": {},
   "outputs": [
    {
     "data": {
      "text/plain": [
       "4360"
      ]
     },
     "execution_count": 74,
     "metadata": {},
     "output_type": "execute_result"
    }
   ],
   "source": [
    "function rotateword(input_string, shift_amount)\n",
    "    \n",
    "    rotated_string = \"\"\n",
    "    \n",
    "    for c in input_string\n",
    "    \n",
    "        if islowercase(c)\n",
    "            offset = Int('a')\n",
    "        else\n",
    "            offset = Int('A')\n",
    "        end\n",
    "        \n",
    "        new_char = Char( ( (Int(c)-offset+shift_amount)%26 + 26 )%26 + offset)\n",
    "        \n",
    "        rotated_string = rotated_string * new_char\n",
    "        \n",
    "    end\n",
    "    \n",
    "    return rotated_string\n",
    "    \n",
    "end\n",
    "\n",
    "\n",
    "rotate_pairs=[]\n",
    "for key in keys(words_dict)\n",
    "    \n",
    "     for i = -25:25\n",
    "        if i != 0\n",
    "            rotated = rotateword(key,i)\n",
    "            if rotated ∈ keys(words_dict)\n",
    "                push!(rotate_pairs,(key,rotated,i))\n",
    "            end\n",
    "        end\n",
    "    end\n",
    "    \n",
    "end\n",
    "\n",
    "length(rotate_pairs)"
   ]
  },
  {
   "cell_type": "code",
   "execution_count": 73,
   "metadata": {},
   "outputs": [
    {
     "data": {
      "text/plain": [
       "(\"kiva\", \"cans\", 18)"
      ]
     },
     "execution_count": 73,
     "metadata": {},
     "output_type": "execute_result"
    }
   ],
   "source": [
    "rotate_pairs[500]"
   ]
  },
  {
   "cell_type": "markdown",
   "metadata": {},
   "source": [
    "### Exercise 11-7\n",
    "\n",
    "Here’s another Puzzler from Car Talk (https://www.cartalk.com/puzzler/browse):\n",
    "\n",
    "\"This was sent in by a fellow named Dan O’Leary. He came upon a common one-syllable, five-letter word recently that has the following unique property. When you remove the first letter, the remaining letters form a homophone of the original word, that is a word that sounds exactly the same. Replace the first letter, that is, put it back and remove the second letter and the result is yet another homophone of the original word. And the question is, what’s the word?\n",
    "\n",
    "Now I’m going to give you an example that doesn’t work. Let’s look at the five-letter word, ‘wrack.’ W-R-A-C-K, you know like to ‘wrack with pain.’ If I remove the first letter, I am left with a fourletter word, ’R-A-C-K.’ As in, ‘Holy cow, did you see the rack on that buck! It must have been a ninepointer!’ It’s a perfect homophone. If you put the ‘w’ back, and remove the ‘r,’ instead, you’re left with the word, ‘wack,’ which is a real word, it’s just not a homophone of the other two words. But there is, however, at least one word that Dan and we know of, which will yield two homophones if you remove either of the first two letters to make two, new four-letter words. The question is, what’s the word?\"\n",
    "\n",
    "You can use the dictionary from Exercise 11-2 to check whether a string is in the word array.\n",
    "\n",
    "To check whether two words are homophones, you can use the CMU Pronouncing Dictionary. You can download it from http://www.speech.cs.cmu.edu/cgi-bin/cmudict.\n",
    "\n",
    "Write a program that lists all the words that solve the Puzzler.\n",
    "\n",
    "TIP: First build a dictionary with the words as the keys and their pronunciations as the values.  Note that the CMU Pronouncing Dictionary has all items capitalized.  Also, it appears that some words in this pronunciation dictionary do not appear in our main word dictionary.  We will go with the main dictionary."
   ]
  },
  {
   "cell_type": "code",
   "execution_count": 108,
   "metadata": {},
   "outputs": [],
   "source": [
    "function build_pronun_dict()\n",
    "    \n",
    "    dict = Dict();\n",
    "    \n",
    "    for string in eachline(\"cmudict-rem-punc.txt\")\n",
    "        aftersplit = split(string)\n",
    "        word = popfirst!(aftersplit)\n",
    "        pronunc = join(aftersplit,' ')\n",
    "        dict[word] = pronunc\n",
    "    end\n",
    "\n",
    "    return dict\n",
    "    \n",
    "end\n",
    "\n",
    "\n",
    "mypronundict = build_pronun_dict();\n"
   ]
  },
  {
   "cell_type": "markdown",
   "metadata": {},
   "source": [
    "To be picky, it also lists multiple alternative pronunciations for some of the words ((1), (2), etc).  But, let's ignore that for this exercise."
   ]
  },
  {
   "cell_type": "code",
   "execution_count": 124,
   "metadata": {},
   "outputs": [
    {
     "data": {
      "text/plain": [
       "(\"P R AA1 N\", \"P R AE1 N\")"
      ]
     },
     "execution_count": 124,
     "metadata": {},
     "output_type": "execute_result"
    }
   ],
   "source": [
    "mypronundict[\"PRAN\"],mypronundict[\"PRAN(1)\"]\n",
    "\n"
   ]
  },
  {
   "cell_type": "code",
   "execution_count": 125,
   "metadata": {},
   "outputs": [
    {
     "name": "stdout",
     "output_type": "stream",
     "text": [
      "scent\n",
      "llama\n"
     ]
    }
   ],
   "source": [
    "for key in keys(words_dict)\n",
    "    \n",
    "    if length(key) == 5\n",
    "        \n",
    "        word1 = key\n",
    "        word2 = word1[2:end]\n",
    "        word3 = word1[1] * word1[3:end]\n",
    "                      \n",
    "        if !(word1 ∈ keys(words_dict) && word2 ∈ keys(words_dict) && word3 ∈ keys(words_dict))\n",
    "            continue\n",
    "        end\n",
    "            \n",
    "        if ( get(mypronundict,uppercase(word1),\"1\") ==      # In case any of the words are not in mypronundict,\n",
    "                get(mypronundict,uppercase(word2),\"2\") ==   # we set get to output random different values \"1\", \"2\", and \"3\"\n",
    "                 get(mypronundict,uppercase(word3),\"3\") )   # We could have used another if statement.\n",
    "            \n",
    "                println(word1)\n",
    "            \n",
    "        end\n",
    "            \n",
    "        \n",
    "    end\n",
    "    \n",
    "end\n"
   ]
  }
 ],
 "metadata": {
  "kernelspec": {
   "display_name": "Julia 1.2.0",
   "language": "julia",
   "name": "julia-1.2"
  },
  "language_info": {
   "file_extension": ".jl",
   "mimetype": "application/julia",
   "name": "julia",
   "version": "1.2.0"
  }
 },
 "nbformat": 4,
 "nbformat_minor": 2
}
