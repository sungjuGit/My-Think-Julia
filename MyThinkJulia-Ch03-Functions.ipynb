{
 "cells": [
  {
   "cell_type": "markdown",
   "metadata": {
    "colab_type": "text",
    "id": "9dhoXiMHu6gO"
   },
   "source": [
    "# Ch 3: Functions"
   ]
  },
  {
   "cell_type": "markdown",
   "metadata": {
    "colab_type": "text",
    "id": "Cvd_FzIku6gR"
   },
   "source": [
    "### Function Calls\n",
    "\n",
    "A function is a sequence of statements that perform a computation.\n",
    "\n",
    "A function typically takes an argument (or arguments) and returns a result (also known as a return value).  The argument is an expression contained in parentheses in a function call."
   ]
  },
  {
   "cell_type": "code",
   "execution_count": 0,
   "metadata": {
    "colab": {},
    "colab_type": "code",
    "id": "YTObexgzu6gU",
    "outputId": "bad4757f-1826-4df6-8a19-1a2be54f6328"
   },
   "outputs": [
    {
     "name": "stdout",
     "output_type": "stream",
     "text": [
      "Hello World\n"
     ]
    }
   ],
   "source": [
    "println(\"Hello World\")"
   ]
  },
  {
   "cell_type": "code",
   "execution_count": 0,
   "metadata": {
    "colab": {},
    "colab_type": "code",
    "id": "LdxgqhvHu6gZ",
    "outputId": "b48fe9af-f742-4b5c-e6e3-51724ddf9f13"
   },
   "outputs": [
    {
     "data": {
      "text/plain": [
       "32"
      ]
     },
     "execution_count": 2,
     "metadata": {
      "tags": []
     },
     "output_type": "execute_result"
    }
   ],
   "source": [
    "int_value = parse(Int64, \"32\")"
   ]
  },
  {
   "cell_type": "code",
   "execution_count": 0,
   "metadata": {
    "colab": {},
    "colab_type": "code",
    "id": "Yib96uB6u6gd",
    "outputId": "2ceea42f-a9fe-4b9d-f878-3a1e0c7eceb1"
   },
   "outputs": [
    {
     "data": {
      "text/plain": [
       "32.0"
      ]
     },
     "execution_count": 3,
     "metadata": {
      "tags": []
     },
     "output_type": "execute_result"
    }
   ],
   "source": [
    "float(32)"
   ]
  },
  {
   "cell_type": "code",
   "execution_count": 0,
   "metadata": {
    "colab": {},
    "colab_type": "code",
    "id": "doCEfZCWu6gk",
    "outputId": "77b80fe1-035f-4a64-8747-0a906641fa36"
   },
   "outputs": [
    {
     "data": {
      "text/plain": [
       "3.979400086720376"
      ]
     },
     "execution_count": 4,
     "metadata": {
      "tags": []
     },
     "output_type": "execute_result"
    }
   ],
   "source": [
    "signal_power = 10\n",
    "noise_power = 4\n",
    "ratio = signal_power / noise_power\n",
    "decibels = 10 * log10(ratio)"
   ]
  },
  {
   "cell_type": "code",
   "execution_count": 0,
   "metadata": {
    "colab": {},
    "colab_type": "code",
    "id": "NWQm4qK2u6gp",
    "outputId": "770a267f-71d0-4442-8574-4845c2829d0e"
   },
   "outputs": [
    {
     "data": {
      "text/plain": [
       "0.7071067811865475"
      ]
     },
     "execution_count": 5,
     "metadata": {
      "tags": []
     },
     "output_type": "execute_result"
    }
   ],
   "source": [
    "degrees = 45\n",
    "radians = degrees * π / 180\n",
    "sin(radians)"
   ]
  },
  {
   "cell_type": "markdown",
   "metadata": {
    "colab_type": "text",
    "id": "hBBvvl1Bu6gv"
   },
   "source": [
    "### Composition\n",
    "\n",
    "We can combine different elements (variables, expressions) of a program to perform a computation.  For example, the argument of a function can be any kind of expression, including arithmetic operations:"
   ]
  },
  {
   "cell_type": "code",
   "execution_count": 0,
   "metadata": {
    "colab": {},
    "colab_type": "code",
    "id": "Cfb1W0v2u6gx",
    "outputId": "129acb51-1336-40c1-fe41-e4081e5fd5c9"
   },
   "outputs": [
    {
     "data": {
      "text/plain": [
       "0.7071067811865475"
      ]
     },
     "execution_count": 10,
     "metadata": {
      "tags": []
     },
     "output_type": "execute_result"
    }
   ],
   "source": [
    "x = sin(degrees * π / 180)"
   ]
  },
  {
   "cell_type": "code",
   "execution_count": 0,
   "metadata": {
    "colab": {},
    "colab_type": "code",
    "id": "ySR1Q4nLu6g1",
    "outputId": "244b6402-3779-40a8-c7f8-3eea6f13167f"
   },
   "outputs": [
    {
     "data": {
      "text/plain": [
       "3.0"
      ]
     },
     "execution_count": 7,
     "metadata": {
      "tags": []
     },
     "output_type": "execute_result"
    }
   ],
   "source": [
    "x = 2\n",
    "y = exp(log(x+1))"
   ]
  },
  {
   "cell_type": "markdown",
   "metadata": {
    "colab_type": "text",
    "id": "2WVzBdfIu6g4"
   },
   "source": [
    "Almost anywhere you can put a value, you can put an arbitrary expression, with one EXCEPTION: the left side of an assignment statement has to be a variable name (or variable names).  Any other expression on the left side is a syntax error.\n"
   ]
  },
  {
   "cell_type": "code",
   "execution_count": 0,
   "metadata": {
    "colab": {},
    "colab_type": "code",
    "id": "DDtdSc9Wu6g5",
    "outputId": "6dea21f6-182f-40fd-d929-cb88675d0181"
   },
   "outputs": [
    {
     "data": {
      "text/plain": [
       "120"
      ]
     },
     "execution_count": 8,
     "metadata": {
      "tags": []
     },
     "output_type": "execute_result"
    }
   ],
   "source": [
    "hours = 2\n",
    "minutes = hours * 60"
   ]
  },
  {
   "cell_type": "code",
   "execution_count": 0,
   "metadata": {
    "colab": {},
    "colab_type": "code",
    "id": "DiMu1UOJu6g-",
    "outputId": "6fd0a8d1-f1a8-4b23-f5f2-0a747231104c"
   },
   "outputs": [
    {
     "ename": "ErrorException",
     "evalue": "syntax: \"60\" is not a valid function argument name",
     "output_type": "error",
     "traceback": [
      "syntax: \"60\" is not a valid function argument name",
      "",
      "Stacktrace:",
      " [1] top-level scope at C:\\Users\\ST\\.julia\\packages\\IJulia\\fRegO\\src\\kernel.jl:52"
     ]
    }
   ],
   "source": [
    "hours * 60 = minutes"
   ]
  },
  {
   "cell_type": "markdown",
   "metadata": {
    "colab_type": "text",
    "id": "3t3VZ-zLu6hE"
   },
   "source": [
    "### Defining New Functions\n",
    "\n",
    "So far, we used only built-in functions.  But we can also define our own functions.  \n",
    "\n",
    "A function definition specifies the name of a new function, its parameters, and the sequence of statements that run when the function is called."
   ]
  },
  {
   "cell_type": "code",
   "execution_count": 0,
   "metadata": {
    "colab": {},
    "colab_type": "code",
    "id": "K0z5LJrtu6hG",
    "outputId": "384c3fdc-071d-43c7-8969-c52558a3aa5e"
   },
   "outputs": [
    {
     "data": {
      "text/plain": [
       "printlyrics (generic function with 1 method)"
      ]
     },
     "execution_count": 11,
     "metadata": {
      "tags": []
     },
     "output_type": "execute_result"
    }
   ],
   "source": [
    "function printlyrics()    # header\n",
    "    println(\"I am a lumberjack, and I'm okay.\")    #body\n",
    "    println(\"I sleep all night and I work all day.\")\n",
    "end"
   ]
  },
  {
   "cell_type": "markdown",
   "metadata": {
    "colab_type": "text",
    "id": "uD24biLQu6hL"
   },
   "source": [
    "You must call a function after it is defined.  The function definition only creates a function object and does not actually run the statements in the body."
   ]
  },
  {
   "cell_type": "code",
   "execution_count": 0,
   "metadata": {
    "colab": {},
    "colab_type": "code",
    "id": "mf19ypnvu6hN",
    "outputId": "2d3e9ccb-eac1-4861-c1fe-2efb0fd4d70a"
   },
   "outputs": [
    {
     "name": "stdout",
     "output_type": "stream",
     "text": [
      "I am a lumberjack, and I'm okay.\n",
      "I sleep all night and I work all day.\n"
     ]
    }
   ],
   "source": [
    "printlyrics()"
   ]
  },
  {
   "cell_type": "markdown",
   "metadata": {
    "colab_type": "text",
    "id": "TeopSbkzu6hT"
   },
   "source": [
    "Note that the empty parentheses mean that this function has no argument.  But you still must include the parentheses when defining and calling the function."
   ]
  },
  {
   "cell_type": "markdown",
   "metadata": {
    "colab_type": "text",
    "id": "jPn6qctOu6hV"
   },
   "source": [
    "The function name can contain almost all Unicode characters but the first character cannot be a number.  You also can't use a keyword as the name of a function.  You should also avoid having a variable and a function with the same name."
   ]
  },
  {
   "cell_type": "markdown",
   "metadata": {
    "colab_type": "text",
    "id": "cy3jdr9hu6hW"
   },
   "source": [
    "Once you have defined a function, you can use it inside another function."
   ]
  },
  {
   "cell_type": "code",
   "execution_count": 0,
   "metadata": {
    "colab": {},
    "colab_type": "code",
    "id": "noLBmNIvu6hY",
    "outputId": "05909029-af05-4f2a-88f8-4745c4f18aa5"
   },
   "outputs": [
    {
     "name": "stdout",
     "output_type": "stream",
     "text": [
      "I am a lumberjack, and I'm okay.\n",
      "I sleep all night and I work all day.\n",
      "I am a lumberjack, and I'm okay.\n",
      "I sleep all night and I work all day.\n"
     ]
    }
   ],
   "source": [
    "function repeatlyrics()\n",
    "    printlyrics()\n",
    "    printlyrics()\n",
    "end\n",
    "\n",
    "repeatlyrics()"
   ]
  },
  {
   "cell_type": "markdown",
   "metadata": {
    "colab_type": "text",
    "id": "JQojmUT7u6hc"
   },
   "source": [
    "### Flow of Execution\n",
    "\n",
    "The order statements run in is called the flow of execution. Execution always begins at the first statement of the program. Statements are run one at a time, in order from top to bottom. Function definitions do not alter the flow of execution of the program, but remember that statements inside the function don’t run until the function is called.\n",
    "\n",
    "A function call is like a detour in the flow of execution. Instead of going to the next statement, the flow jumps to the body of the function, runs the statements there, and then comes back to pick up where it left off.\n",
    "\n",
    "That sounds simple enough, until you remember that one function can call another. While in the middle of one function,\n",
    "the program might have to run the statements in another function. Then, while running that new function, the program\n",
    "might have to run yet another function!\n",
    "\n",
    "In summary, when you read a program, you don’t always want to read from top to bottom. Sometimes it makes more sense\n",
    "if you follow the flow of execution.\n"
   ]
  },
  {
   "cell_type": "markdown",
   "metadata": {
    "colab_type": "text",
    "id": "UwFweGYyu6hd"
   },
   "source": [
    "### Parameters and Arguments\n",
    "\n",
    "Some of the functions we have seen require *arguments*. For example, when you call `sin` you pass a number as an argument. Some functions take more than one argument: `parse` takes two, a number type and a string. Inside the function, the arguments are assigned to variables called *parameters*.\n",
    "\n",
    "Here is a definition for a function that takes an argument:"
   ]
  },
  {
   "cell_type": "code",
   "execution_count": 0,
   "metadata": {
    "colab": {},
    "colab_type": "code",
    "id": "WsX5bQ24u6he",
    "outputId": "e2935f8e-64c9-45c4-98ed-86a08bbdbca9"
   },
   "outputs": [
    {
     "data": {
      "text/plain": [
       "printtwice (generic function with 1 method)"
      ]
     },
     "execution_count": 16,
     "metadata": {
      "tags": []
     },
     "output_type": "execute_result"
    }
   ],
   "source": [
    "function printtwice(bruce)\n",
    "    println(bruce)\n",
    "    println(bruce)\n",
    "end"
   ]
  },
  {
   "cell_type": "code",
   "execution_count": 0,
   "metadata": {
    "colab": {},
    "colab_type": "code",
    "id": "r9sHobwtu6hh",
    "outputId": "019d2b56-6610-4e1b-d6ef-2fd312b38166"
   },
   "outputs": [
    {
     "name": "stdout",
     "output_type": "stream",
     "text": [
      "Spam\n",
      "Spam\n"
     ]
    }
   ],
   "source": [
    "printtwice(\"Spam\")"
   ]
  },
  {
   "cell_type": "markdown",
   "metadata": {
    "colab_type": "text",
    "id": "JSiWMbCQv1Ku"
   },
   "source": [
    "The argument is evaluated before the function is called."
   ]
  },
  {
   "cell_type": "code",
   "execution_count": 0,
   "metadata": {
    "colab": {},
    "colab_type": "code",
    "id": "Q4lWXN4Lu6hl",
    "outputId": "e66fb717-ec22-4e5c-8714-753f7cbb9927"
   },
   "outputs": [
    {
     "name": "stdout",
     "output_type": "stream",
     "text": [
      "Spam Spam Spam Spam \n",
      "Spam Spam Spam Spam \n"
     ]
    }
   ],
   "source": [
    "printtwice(\"Spam \"^4)"
   ]
  },
  {
   "cell_type": "markdown",
   "metadata": {
    "colab_type": "text",
    "id": "w4C_LTAqu6ho"
   },
   "source": [
    "You can also use a variable as an argument."
   ]
  },
  {
   "cell_type": "code",
   "execution_count": 0,
   "metadata": {
    "colab": {},
    "colab_type": "code",
    "id": "Zu7hsYSuu6hp",
    "outputId": "cebdb76c-2966-455d-ce56-b44b40acde02"
   },
   "outputs": [
    {
     "name": "stdout",
     "output_type": "stream",
     "text": [
      "Eric, the half a bee.\n",
      "Eric, the half a bee.\n"
     ]
    }
   ],
   "source": [
    "michael = \"Eric, the half a bee.\"\n",
    "\n",
    "printtwice(michael)"
   ]
  },
  {
   "cell_type": "markdown",
   "metadata": {
    "colab_type": "text",
    "id": "L8JihLlBu6hs"
   },
   "source": [
    "**The name of the variable we pass as an argument (`michael`) has nothing to do with the name of the parameter (`bruce`).**\n",
    "\n",
    "When you call a function, the arguments in the function call are assigned to the parameters. It doesn’t matter what the value was called back home (in the caller); here in `printtwice`, we call everybody bruce ."
   ]
  },
  {
   "cell_type": "markdown",
   "metadata": {
    "colab_type": "text",
    "id": "wnGyYcDtu6ht"
   },
   "source": [
    "### Parameters and Variables Defined Inside a Function Are Local\n",
    "\n",
    "They only exist inside the function.  Outside the function, they are not known.  \n"
   ]
  },
  {
   "cell_type": "code",
   "execution_count": 0,
   "metadata": {
    "colab": {},
    "colab_type": "code",
    "id": "nOOakfOgu6hw",
    "outputId": "80de5319-eab6-45e5-bc41-3635edd9a05d"
   },
   "outputs": [
    {
     "data": {
      "text/plain": [
       "cattwice (generic function with 1 method)"
      ]
     },
     "execution_count": 20,
     "metadata": {
      "tags": []
     },
     "output_type": "execute_result"
    }
   ],
   "source": [
    "function cattwice(part1, part2)   # part1 and part2 are parameters\n",
    "    concat = part1 * part2        # concat is a variable defined inside a function\n",
    "    printtwice(concat)\n",
    "end"
   ]
  },
  {
   "cell_type": "code",
   "execution_count": 0,
   "metadata": {
    "colab": {},
    "colab_type": "code",
    "id": "V-Q0T64Yu6h3",
    "outputId": "5b56949a-e116-4a6a-bfe8-b591e1addea6"
   },
   "outputs": [
    {
     "name": "stdout",
     "output_type": "stream",
     "text": [
      "Bing tiddle tiddle bang.\n",
      "Bing tiddle tiddle bang.\n"
     ]
    }
   ],
   "source": [
    "line1 = \"Bing tiddle \"\n",
    "line2 = \"tiddle bang.\"\n",
    "cattwice(line1, line2)     # line1 and line2 are arguments"
   ]
  },
  {
   "cell_type": "code",
   "execution_count": 0,
   "metadata": {
    "colab": {},
    "colab_type": "code",
    "id": "r3xKKZ2Ru6h8",
    "outputId": "9e9aa760-a95d-4ce5-e360-a0d996b38193"
   },
   "outputs": [
    {
     "ename": "UndefVarError",
     "evalue": "UndefVarError: concat not defined",
     "output_type": "error",
     "traceback": [
      "UndefVarError: concat not defined",
      "",
      "Stacktrace:",
      " [1] top-level scope at In[22]:1"
     ]
    }
   ],
   "source": [
    "println(concat)"
   ]
  },
  {
   "cell_type": "code",
   "execution_count": 0,
   "metadata": {
    "colab": {},
    "colab_type": "code",
    "id": "QZKB0B_xu6h_",
    "outputId": "26d0f6ee-27d9-43d3-a021-7ce6843ef75d"
   },
   "outputs": [
    {
     "ename": "UndefVarError",
     "evalue": "UndefVarError: part1 not defined",
     "output_type": "error",
     "traceback": [
      "UndefVarError: part1 not defined",
      "",
      "Stacktrace:",
      " [1] top-level scope at In[24]:1"
     ]
    }
   ],
   "source": [
    "println(part1)"
   ]
  },
  {
   "cell_type": "markdown",
   "metadata": {
    "colab_type": "text",
    "id": "j7siL8wfu6iD"
   },
   "source": [
    "### Stack Diagrams\n",
    "\n",
    "To keep track of which variables can be used where, it is sometimes useful to draw a stack diagram. Like state diagrams,\n",
    "stack diagrams show the value of each variable, but they also show the function each variable belongs to. \n",
    "\n",
    "Each function is represented by a frame. A frame is a box with the name of a function beside it and the parameters and\n",
    "variables of the function inside it.\n",
    "                    \n",
    "The frames are arranged in a stack that indicates which function called which, and so on. In this example, `printtwice`\n",
    "was called by `cattwice`, and `cattwice` was called by `Main`, which is a special name for the topmost frame. When you\n",
    "create a variable outside of any function, it belongs to `Main`.\n",
    "\n",
    "Each parameter refers to the same value as its corresponding argument. So, `part1` has the same value as `line1`, `part2`\n",
    "has the same value as `line2`, and `bruce` has the same value as `concat`.\n",
    "\n",
    "If an error occurs during a function call, Julia prints the name of the function, the name of the function that called it, and\n",
    "the name of the function that called that, all the way back to `Main`.  For example, if you try to access `concat` from within `printtwice`, you get a UndefVarError and Julia provides a stacktrace.\n",
    "                                                        \n",
    "The stacktrace tells you what program file the error occurred in, and what line, and what functions were executing at the time. It also shows the line of code that caused the error.  The order of the functions in the stacktrace is the inverse of the order of the frames in the stack diagram. The function that is currently running is at the top.\n",
    "                                                        "
   ]
  },
  {
   "cell_type": "markdown",
   "metadata": {
    "colab_type": "text",
    "id": "0vZkSCRCu6iG"
   },
   "source": [
    "### Void Functions and Fruitful Functions\n",
    "\n",
    "Some of the functions we have used return results; for lack of a better name, I call them fruitful functions. Other functions, like `printtwice`, perform an action but don’t return a value (or return `nothing`). They are called void functions.\n"
   ]
  },
  {
   "cell_type": "code",
   "execution_count": 0,
   "metadata": {
    "colab": {},
    "colab_type": "code",
    "id": "3XI9yDqKu6iH",
    "outputId": "f58583ac-658f-4211-fb4a-339acc9c5379"
   },
   "outputs": [
    {
     "name": "stdout",
     "output_type": "stream",
     "text": [
      "Eric, the half a bee.\n",
      "Eric, the half a bee.\n"
     ]
    },
    {
     "data": {
      "text/plain": [
       "Nothing"
      ]
     },
     "execution_count": 25,
     "metadata": {
      "tags": []
     },
     "output_type": "execute_result"
    }
   ],
   "source": [
    "result = printtwice(michael)\n",
    "typeof(result)"
   ]
  },
  {
   "cell_type": "markdown",
   "metadata": {
    "colab_type": "text",
    "id": "yqQ41r_9u6iK"
   },
   "source": [
    "### Why Functions?\n",
    "\n",
    "It may not be clear why it is worth the trouble to divide a program into functions. There are several reasons:\n",
    "\n",
    "- Creating a new function gives you an opportunity to name a group of statements, which makes your program easier to read and debug.\n",
    "- Functions can make a program smaller by eliminating repetitive code. Later, if you make a change, you only have to make it in one place.\n",
    "- Dividing a long program into functions allows you to debug the parts one at a time and then assemble them into a working whole.\n",
    "- Well-designed functions are often useful for many programs. Once you write and debug one, you can reuse it.\n",
    "\n",
    "- In Julia, functions can improve performance a lot."
   ]
  },
  {
   "cell_type": "markdown",
   "metadata": {
    "colab_type": "text",
    "id": "w0R0nsb1u6iL"
   },
   "source": [
    "### Some Comments on Debugging\n",
    "\n",
    "One of the most important skills you will acquire is debugging. Although it can be frustrating, debugging is one of the most intellectually rich, challenging, and interesting parts of programming.\n",
    "\n",
    "In some ways debugging is like detective work. You are confronted with clues and you have to infer the processes and events that led to the results you see.\n",
    "\n",
    "Debugging is also like an experimental science. Once you have an idea about what is going wrong, you modify your program and try again. If your hypothesis was correct, you can predict the result of the modification, and you take a step closer to a working program. If your hypothesis was wrong, you have to come up with a new one. \n",
    "\n",
    "As Sherlock Holmes pointed out,\n",
    "\n",
    "\"When you have eliminated the impossible, whatever remains, however improbable, must be the truth.\"\n",
    "— A. Conan Doyle, *The Sign of Four*"
   ]
  },
  {
   "cell_type": "markdown",
   "metadata": {
    "colab_type": "text",
    "id": "mYirFrKpu6iM"
   },
   "source": [
    "### Exercise 3-1\n",
    "\n",
    "What happens if you call a function before it is defined?"
   ]
  },
  {
   "cell_type": "code",
   "execution_count": 0,
   "metadata": {
    "colab": {},
    "colab_type": "code",
    "id": "yb2496jJu6iM",
    "outputId": "98d7c51a-b22f-41a5-e5fe-61e5d387c4f6"
   },
   "outputs": [
    {
     "ename": "UndefVarError",
     "evalue": "UndefVarError: tryout not defined",
     "output_type": "error",
     "traceback": [
      "UndefVarError: tryout not defined",
      "",
      "Stacktrace:",
      " [1] top-level scope at In[27]:1"
     ]
    }
   ],
   "source": [
    "tryout()\n",
    "\n",
    "function tryout()\n",
    "    println(\"Tryout\")\n",
    "end"
   ]
  },
  {
   "cell_type": "code",
   "execution_count": 0,
   "metadata": {
    "colab": {},
    "colab_type": "code",
    "id": "szmru7NPu6iR",
    "outputId": "e6c881de-2a2a-48ea-b73e-57c1e5ffd930"
   },
   "outputs": [
    {
     "name": "stdout",
     "output_type": "stream",
     "text": [
      "Tryout\n"
     ]
    }
   ],
   "source": [
    "function mytryout()\n",
    "    tryout()        # this may be ok since the statements in the body is executed only when mytryout is called.\n",
    "end\n",
    "\n",
    "function tryout()\n",
    "    println(\"Tryout\")\n",
    "end\n",
    "\n",
    "mytryout()"
   ]
  },
  {
   "cell_type": "markdown",
   "metadata": {
    "colab_type": "text",
    "id": "M10m8L18u6iU"
   },
   "source": [
    "### Exercise 3-2\n",
    "\n",
    "Write a function named `rightjustify` that takes a string named `s` as a parameter and prints the string with enough leading spaces so that the last letter of the string is in column 70 of the display.\n",
    "\n",
    "Use string concatenation and repetition. Also, Julia provides a built-in function called `length` that returns the length of a string, so the value of `length(\"monty\")` is 5.\n",
    "\n",
    "```\n",
    "julia> rightjustify(\"monty\")\n",
    "```"
   ]
  },
  {
   "cell_type": "code",
   "execution_count": 0,
   "metadata": {
    "colab": {},
    "colab_type": "code",
    "id": "3pIPJk4du6iW",
    "outputId": "f5579843-0eb4-4215-8c3d-80a884fe4992"
   },
   "outputs": [
    {
     "name": "stdout",
     "output_type": "stream",
     "text": [
      "                                                                 monty\n"
     ]
    }
   ],
   "source": [
    "function rightjustify(s)\n",
    "  n = 70 - length(s)\n",
    "  println(\" \"^n * s)\n",
    "end\n",
    "\n",
    "rightjustify(\"monty\")"
   ]
  },
  {
   "cell_type": "markdown",
   "metadata": {
    "colab_type": "text",
    "id": "bN81S9e1u6iZ"
   },
   "source": [
    "### Exercise 3-3\n",
    "\n",
    "A function object is a value you can assign to a variable or pass as an argument. For example, `dotwice` is a function that\n",
    "takes a function object as an argument and calls it `twice`:\n",
    "\n",
    "```\n",
    "function dotwice(f)\n",
    "    f()\n",
    "    f()\n",
    "end\n",
    "```\n",
    "\n",
    "Here’s an example that uses dotwice to call a function named printspam twice.\n",
    "\n",
    "```\n",
    "function printspam()\n",
    "    println(\"spam\")\n",
    "end\n",
    "dotwice(printspam)\n",
    "```\n",
    "\n",
    "1. Type this example into a script and test it.\n",
    "2. Modify `dotwice` so that it takes two arguments, a function object and a value, and calls the function twice, passing the value as an argument.\n",
    "3. Copy the definition of `printtwice` from earlier in this chapter to your script.\n",
    "4. Use the modified version of `dotwice` to call `printtwice` twice, passing \"spam\" as an argument.\n",
    "5. Define a new function called `dofour` that takes a function object and a value and calls the function four times, passing the value as a parameter. There should be only two statements in the body of this function, not four."
   ]
  },
  {
   "cell_type": "code",
   "execution_count": 0,
   "metadata": {
    "colab": {},
    "colab_type": "code",
    "id": "PQWb6dKKu6ia",
    "outputId": "786aefa8-da9c-4743-9aa8-fae96d6cc630"
   },
   "outputs": [
    {
     "name": "stdout",
     "output_type": "stream",
     "text": [
      "spam\n",
      "spam\n"
     ]
    }
   ],
   "source": [
    "function dotwice(f)\n",
    "  f()\n",
    "  f()\n",
    "end\n",
    "\n",
    "function printspam()\n",
    "    println(\"spam\")\n",
    "end\n",
    "dotwice(printspam)"
   ]
  },
  {
   "cell_type": "code",
   "execution_count": 0,
   "metadata": {
    "colab": {},
    "colab_type": "code",
    "id": "mCq_wPwJu6ii",
    "outputId": "734ac233-f28e-4f7e-fdac-8168e37dfddc"
   },
   "outputs": [
    {
     "name": "stdout",
     "output_type": "stream",
     "text": [
      "Spam\n",
      "Spam\n",
      "Spam\n",
      "Spam\n"
     ]
    }
   ],
   "source": [
    "function dotwice(f, v)\n",
    "  f(v)\n",
    "  f(v)\n",
    "end\n",
    "\n",
    "function printtwice(bruce)\n",
    "    println(bruce)\n",
    "    println(bruce)\n",
    "end\n",
    "\n",
    "dotwice(printtwice,\"Spam\")"
   ]
  },
  {
   "cell_type": "code",
   "execution_count": 0,
   "metadata": {
    "colab": {},
    "colab_type": "code",
    "id": "dcDUI1wou6io",
    "outputId": "918f9b66-7897-4e2b-dac2-80ef92c200cf"
   },
   "outputs": [
    {
     "name": "stdout",
     "output_type": "stream",
     "text": [
      "Spam\n",
      "Spam\n",
      "Spam\n",
      "Spam\n",
      "Spam\n",
      "Spam\n",
      "Spam\n",
      "Spam\n"
     ]
    }
   ],
   "source": [
    "function dofour(f)\n",
    "  dotwice(f)\n",
    "  dotwice(f)\n",
    "end\n",
    "\n",
    "function dofour(f, v)   # Ha!  We define two different dofour's!\n",
    "  dotwice(f, v)\n",
    "  dotwice(f, v)\n",
    "end\n",
    "\n",
    "dofour(printtwice,\"Spam\")"
   ]
  },
  {
   "cell_type": "markdown",
   "metadata": {
    "colab_type": "text",
    "id": "Buoe6q2Zu6it"
   },
   "source": [
    "### Exercise 3-4\n",
    "\n",
    "Write a function `printgrid` that draws a grid like the following.  And then, write a function that draws a similar grid with four rows and four columns.\n",
    "\n",
    "TIP: The function `print` does not advance to the next line.\n",
    "\n",
    "```\n",
    "print(\"+ \")\n",
    "println(\"-\")\n",
    "```\n",
    "\n",
    "The output of these statements is \"+ -\" on the same line. The output from the next print statement would begin on the next line."
   ]
  },
  {
   "cell_type": "code",
   "execution_count": 0,
   "metadata": {
    "code_folding": [],
    "colab": {},
    "colab_type": "code",
    "id": "DSS95oyWu6iv",
    "outputId": "fb556caf-7aba-478c-869a-14519e9898b6"
   },
   "outputs": [
    {
     "name": "stdout",
     "output_type": "stream",
     "text": [
      "+ - - - - + - - - - +\n",
      "|         |         |\n",
      "|         |         |\n",
      "|         |         |\n",
      "|         |         |\n",
      "+ - - - - + - - - - +\n",
      "|         |         |\n",
      "|         |         |\n",
      "|         |         |\n",
      "|         |         |\n",
      "+ - - - - + - - - - +\n"
     ]
    }
   ],
   "source": [
    "#\n",
    "function printbeam()\n",
    "  print(\"+ - - - - \")\n",
    "end\n",
    "\n",
    "function printpost()\n",
    "  print(\"|         \")\n",
    "end\n",
    "\n",
    "function printbeams()\n",
    "  dotwice(printbeam)\n",
    "  println(\"+\")\n",
    "end\n",
    "\n",
    "function printposts()\n",
    "  dotwice(printpost)\n",
    "  println(\"|\")\n",
    "end\n",
    "\n",
    "function printrow()\n",
    "  printbeams()\n",
    "  dofour(printposts)\n",
    "end\n",
    "\n",
    "function printgrid()\n",
    "  dotwice(printrow)\n",
    "  printbeams()\n",
    "end\n",
    "\n",
    "printgrid()"
   ]
  },
  {
   "cell_type": "code",
   "execution_count": 0,
   "metadata": {
    "code_folding": [],
    "colab": {},
    "colab_type": "code",
    "id": "YUAXErBqu6i0",
    "outputId": "38781380-24e0-4b16-9727-7d7f1502882d"
   },
   "outputs": [
    {
     "name": "stdout",
     "output_type": "stream",
     "text": [
      "+ - - - - + - - - - + - - - - + - - - - + \n",
      "|         |         |         |         | \n",
      "|         |         |         |         | \n",
      "|         |         |         |         | \n",
      "|         |         |         |         | \n",
      "+ - - - - + - - - - + - - - - + - - - - + \n",
      "|         |         |         |         | \n",
      "|         |         |         |         | \n",
      "|         |         |         |         | \n",
      "|         |         |         |         | \n",
      "+ - - - - + - - - - + - - - - + - - - - + \n",
      "|         |         |         |         | \n",
      "|         |         |         |         | \n",
      "|         |         |         |         | \n",
      "|         |         |         |         | \n",
      "+ - - - - + - - - - + - - - - + - - - - + \n",
      "|         |         |         |         | \n",
      "|         |         |         |         | \n",
      "|         |         |         |         | \n",
      "|         |         |         |         | \n",
      "+ - - - - + - - - - + - - - - + - - - - + \n"
     ]
    }
   ],
   "source": [
    "#\n",
    "\n",
    "function onefourone(f, g, h)\n",
    "  f()\n",
    "  dofour(g)\n",
    "  h()\n",
    "end\n",
    "\n",
    "\n",
    "function printplus()\n",
    "  print(\"+ \")\n",
    "end\n",
    "\n",
    "function printdash()\n",
    "  print(\"- \")\n",
    "end\n",
    "\n",
    "function printbar()\n",
    "  print(\"| \")\n",
    "end\n",
    "\n",
    "function printspace()\n",
    "  print(\"  \")\n",
    "end\n",
    "\n",
    "function printend()\n",
    "  println()\n",
    "end\n",
    "\n",
    "function printnothing() end\n",
    "\n",
    "\n",
    "\n",
    "\n",
    "function print1beam()\n",
    "  onefourone(printnothing, printdash, printplus)\n",
    "end\n",
    "\n",
    "function print1post()\n",
    "  onefourone(printnothing, printspace, printbar)\n",
    "end\n",
    "\n",
    "\n",
    "\n",
    "function print4beams()\n",
    "  onefourone(printplus, print1beam, printend)\n",
    "end\n",
    "\n",
    "function print4posts()\n",
    "  onefourone(printbar, print1post, printend)\n",
    "end\n",
    "\n",
    "\n",
    "function printrow4()\n",
    "  onefourone(printnothing, print4posts, print4beams)\n",
    "end\n",
    "\n",
    "\n",
    "function printgrid4()\n",
    "  onefourone(print4beams, printrow4, printnothing)\n",
    "end\n",
    "\n",
    "printgrid4()"
   ]
  }
 ],
 "metadata": {
  "colab": {
   "collapsed_sections": [],
   "name": "Copy of MyThinkJulia-Ch03.ipynb",
   "provenance": [
    {
     "file_id": "1rEXpRKnSAHSpmoO5e4xS_RZ9qtVBlcaG",
     "timestamp": 1567977641757
    }
   ],
   "version": "0.3.2"
  },
  "kernelspec": {
   "display_name": "Julia 1.4.0",
   "language": "julia",
   "name": "julia-1.4"
  },
  "language_info": {
   "file_extension": ".jl",
   "mimetype": "application/julia",
   "name": "julia",
   "version": "1.4.0"
  }
 },
 "nbformat": 4,
 "nbformat_minor": 1
}
