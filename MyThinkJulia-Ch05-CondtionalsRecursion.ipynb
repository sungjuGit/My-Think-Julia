{
 "cells": [
  {
   "cell_type": "markdown",
   "metadata": {},
   "source": [
    "# Ch 5: Conditionals and Recursion"
   ]
  },
  {
   "cell_type": "markdown",
   "metadata": {},
   "source": [
    "The `if` statement executes different codes depending on the state of the program."
   ]
  },
  {
   "cell_type": "markdown",
   "metadata": {},
   "source": [
    "### Floor Division, Modulus, and Keyboard Input\n",
    "\n",
    "First, some miscellaneous topics to help us write codes.\n",
    "\n",
    "- The floor division operator, ${\\div}$ (\\div TAB), divides two numbers and rounds down to an integer.\n",
    "\n",
    "- The modulus operator, %, divides two numbers and returns the remainder.\n",
    "\n",
    "- A built-in function `readline` stops the program and waits for the user to type something.  When the user presses RETURN or ENTER, the program resumes and the function returns what the user typed as a *string*.\n"
   ]
  },
  {
   "cell_type": "code",
   "execution_count": 3,
   "metadata": {},
   "outputs": [
    {
     "data": {
      "text/plain": [
       "2.3333333333333335"
      ]
     },
     "execution_count": 3,
     "metadata": {},
     "output_type": "execute_result"
    }
   ],
   "source": [
    "minutes = 140\n",
    "minutes/60"
   ]
  },
  {
   "cell_type": "code",
   "execution_count": 4,
   "metadata": {},
   "outputs": [
    {
     "data": {
      "text/plain": [
       "2"
      ]
     },
     "execution_count": 4,
     "metadata": {},
     "output_type": "execute_result"
    }
   ],
   "source": [
    "minutes ÷ 60"
   ]
  },
  {
   "cell_type": "code",
   "execution_count": 5,
   "metadata": {},
   "outputs": [
    {
     "data": {
      "text/plain": [
       "20"
      ]
     },
     "execution_count": 5,
     "metadata": {},
     "output_type": "execute_result"
    }
   ],
   "source": [
    "minutes % 60"
   ]
  },
  {
   "cell_type": "code",
   "execution_count": 6,
   "metadata": {},
   "outputs": [
    {
     "name": "stdout",
     "output_type": "stream",
     "text": [
      "What is the speed of your car?  \n",
      "stdin> 60\n"
     ]
    },
    {
     "data": {
      "text/plain": [
       "60"
      ]
     },
     "execution_count": 6,
     "metadata": {},
     "output_type": "execute_result"
    }
   ],
   "source": [
    "println(\"What is the speed of your car?  \"); speed = parse(Int64, readline())"
   ]
  },
  {
   "cell_type": "markdown",
   "metadata": {},
   "source": [
    "### Boolean Expressions\n",
    "\n",
    "A boolean expression is an expression that is either *true* or *false*.  `true` and `false` are special values that belong to the type `Bool`;  they are not strings.  \n",
    "\n",
    "Julia provides several relational operators that results in boolean values:\n",
    "\n",
    "```\n",
    "x != y # x is not equal to y\n",
    "x ≠ y # (\\ne TAB)\n",
    "x > y # x is greater than y\n",
    "x < y # x is less than y\n",
    "x >= y # x is greater than or equal to y\n",
    "x ≥ y # (\\ge TAB)\n",
    "x <= y # x is less than or equal to y\n",
    "x ≤ y # (\\le TAB)\n",
    "```\n",
    "\n",
    "Julia also provides three logical operators: && (and), || (or), and ! (not).  \n",
    "\n",
    "&& has higher precendence than || (like multiplication has higher precedence than addition)\n",
    "\n",
    "To avoid ambiguity, it is usually a good practice to use parentheses to clarify the order of operation!!"
   ]
  },
  {
   "cell_type": "code",
   "execution_count": 7,
   "metadata": {},
   "outputs": [
    {
     "data": {
      "text/plain": [
       "Bool"
      ]
     },
     "execution_count": 7,
     "metadata": {},
     "output_type": "execute_result"
    }
   ],
   "source": [
    "typeof(true)"
   ]
  },
  {
   "cell_type": "code",
   "execution_count": 8,
   "metadata": {},
   "outputs": [
    {
     "data": {
      "text/plain": [
       "true"
      ]
     },
     "execution_count": 8,
     "metadata": {},
     "output_type": "execute_result"
    }
   ],
   "source": [
    "7 == 7"
   ]
  },
  {
   "cell_type": "code",
   "execution_count": 9,
   "metadata": {},
   "outputs": [
    {
     "data": {
      "text/plain": [
       "true"
      ]
     },
     "execution_count": 9,
     "metadata": {},
     "output_type": "execute_result"
    }
   ],
   "source": [
    "n = 15\n",
    "\n",
    "(n % 3) == 0 && (n % 5) == 0"
   ]
  },
  {
   "cell_type": "code",
   "execution_count": 10,
   "metadata": {},
   "outputs": [
    {
     "data": {
      "text/plain": [
       "false"
      ]
     },
     "execution_count": 10,
     "metadata": {},
     "output_type": "execute_result"
    }
   ],
   "source": [
    "m = 14\n",
    "(m % 5) == 0 || (m % 7) == 0 && (m % 3) == 0 "
   ]
  },
  {
   "cell_type": "markdown",
   "metadata": {},
   "source": [
    "### Conditional Execution\n",
    "\n",
    "`if` statements have the same structure as function definitions: a header followed by body terminated with the keyword `end`.  Statements like these are called *compound statements*.\n",
    "\n",
    "There can be two or more possibilities and the condition determines which one runs.  These alternatives are called branches.  \n",
    "\n",
    "If we have more than two branches, we can implement either *chained conditionals* with `elseif` or *nested conditionals* (not recommended as they are difficult to read).\n",
    "\n",
    "In chained conditionals, each condition is checked in order.  If one of them is true, the corresponding branch runs and the statement ends.  \n",
    "\n",
    "\n",
    "**Even if more than one condition is true, only the first true branch runs.**\n",
    "\n"
   ]
  },
  {
   "cell_type": "code",
   "execution_count": 11,
   "metadata": {},
   "outputs": [
    {
     "data": {
      "text/plain": [
       "fizzbuzz (generic function with 1 method)"
      ]
     },
     "execution_count": 11,
     "metadata": {},
     "output_type": "execute_result"
    }
   ],
   "source": [
    "function fizzbuzz(x)\n",
    "    \n",
    "    if (x % 3 == 0) && (x % 5 == 0)\n",
    "        println(\"Fizzbuzz\")\n",
    "    elseif (x % 3 == 0)\n",
    "        println(\"Fizz\")\n",
    "    elseif (x % 5 == 0)\n",
    "        println(\"Buzz\")\n",
    "    else  # If there is an else clause, it has to be at the end. But there doesn't have to be one.\n",
    "        println(x)\n",
    "    end\n",
    "    \n",
    "end"
   ]
  },
  {
   "cell_type": "code",
   "execution_count": 12,
   "metadata": {},
   "outputs": [
    {
     "name": "stdout",
     "output_type": "stream",
     "text": [
      "Fizzbuzz\n",
      "Fizz\n",
      "Buzz\n",
      "4\n"
     ]
    },
    {
     "data": {
      "text/plain": [
       "(nothing, nothing, nothing, nothing)"
      ]
     },
     "execution_count": 12,
     "metadata": {},
     "output_type": "execute_result"
    }
   ],
   "source": [
    "fizzbuzz(15), fizzbuzz(9), fizzbuzz(20), fizzbuzz(4)"
   ]
  },
  {
   "cell_type": "markdown",
   "metadata": {},
   "source": [
    "In Julia (and Python), you can format relational operators in ways more familiar to humans.  "
   ]
  },
  {
   "cell_type": "code",
   "execution_count": 2,
   "metadata": {},
   "outputs": [
    {
     "name": "stdout",
     "output_type": "stream",
     "text": [
      "x is a single digit number.\n"
     ]
    }
   ],
   "source": [
    "x = 9\n",
    "\n",
    "if -10 < x < 10    # in most other lanaguages, we have to use \"if x > -10 && x < 10\"\n",
    "    println(\"x is a single digit number.\")\n",
    "end\n"
   ]
  },
  {
   "cell_type": "markdown",
   "metadata": {},
   "source": [
    "### Recursion\n",
    "\n",
    "A function that calls itself is *recursive*.  It allows us to implement \"complex\" looping computations where for-loops or while-loops are difficult to use.\n",
    "\n",
    "But do be **careful** that the base case (the bottom of the stack) is well defined and properly exits such that we do not have *infinite recursion*."
   ]
  },
  {
   "cell_type": "code",
   "execution_count": 14,
   "metadata": {},
   "outputs": [
    {
     "data": {
      "text/plain": [
       "countdown (generic function with 1 method)"
      ]
     },
     "execution_count": 14,
     "metadata": {},
     "output_type": "execute_result"
    }
   ],
   "source": [
    "function countdown(n)\n",
    "    if n ≤ 0\n",
    "        println(\"Blastoff!\")\n",
    "    else\n",
    "        print(n, \" \")\n",
    "        countdown(n-1)\n",
    "    end\n",
    "end"
   ]
  },
  {
   "cell_type": "code",
   "execution_count": 15,
   "metadata": {},
   "outputs": [
    {
     "name": "stdout",
     "output_type": "stream",
     "text": [
      "3 2 1 Blastoff!\n"
     ]
    }
   ],
   "source": [
    "countdown(3)"
   ]
  },
  {
   "cell_type": "markdown",
   "metadata": {},
   "source": [
    "Here is how the recursive function `countdown` works.\n",
    "\n",
    "    The execution of countdown begins with n = 3.  \n",
    "    Since n is greater than 0, it outputs the value 3, and then calls itself \n",
    "    \n",
    "        The execution of countdown begins with n = 2. \n",
    "        Since n is greater than 0, it outputs the value 2, and then calls itself\n",
    "    \n",
    "            The execution of countdown begins with n = 1. \n",
    "            Since n is greater than 0, it outputs the value 1, and then calls itself\n",
    "        \n",
    "                The execution of countdown begins with n = 0. \n",
    "                Since n is not greater than 0, it outputs the word, \"Blastoff!\" and then returns.\n",
    "            \n",
    "                The countdown that got n = 1 returns.\n",
    "            \n",
    "            The countdown that got n = 2 returns.\n",
    "        \n",
    "        The countdown that got n = 3 returns.\n",
    "    \n",
    "    And then you’re back in Main."
   ]
  },
  {
   "cell_type": "markdown",
   "metadata": {},
   "source": [
    "As another example, we write a function that prints a string n times.\n",
    "\n",
    "This time, we do not have an `else` branch.  Instead, we use a `return` statement, which exits the function.  The remaining lines of the function doen't run and the flow of execustion immediately returns to the caller."
   ]
  },
  {
   "cell_type": "code",
   "execution_count": 16,
   "metadata": {},
   "outputs": [
    {
     "data": {
      "text/plain": [
       "printntimes (generic function with 1 method)"
      ]
     },
     "execution_count": 16,
     "metadata": {},
     "output_type": "execute_result"
    }
   ],
   "source": [
    "function printntimes(s, n)\n",
    "    if n ≤ 0\n",
    "        return\n",
    "    end\n",
    "    println(s)\n",
    "    printntimes(s, n-1)\n",
    "end"
   ]
  },
  {
   "cell_type": "code",
   "execution_count": 17,
   "metadata": {},
   "outputs": [
    {
     "name": "stdout",
     "output_type": "stream",
     "text": [
      "hello \n",
      "hello \n",
      "hello \n",
      "hello \n",
      "hello \n"
     ]
    }
   ],
   "source": [
    "printntimes(\"hello \", 5)"
   ]
  },
  {
   "cell_type": "code",
   "execution_count": 3,
   "metadata": {},
   "outputs": [
    {
     "data": {
      "text/plain": [
       "countdown2 (generic function with 1 method)"
      ]
     },
     "execution_count": 3,
     "metadata": {},
     "output_type": "execute_result"
    }
   ],
   "source": [
    "function countdown2(n)\n",
    "    \n",
    "    if n ≤ 0\n",
    "        println(\"Blastoff!\")\n",
    "        return\n",
    "    end\n",
    "    \n",
    "    print(n, \" \")\n",
    "    countdown2(n-1)\n",
    "\n",
    "end"
   ]
  },
  {
   "cell_type": "code",
   "execution_count": 4,
   "metadata": {},
   "outputs": [
    {
     "name": "stdout",
     "output_type": "stream",
     "text": [
      "5 4 3 2 1 Blastoff!\n"
     ]
    }
   ],
   "source": [
    "countdown2(5)"
   ]
  },
  {
   "cell_type": "markdown",
   "metadata": {},
   "source": [
    "### Exercise 5-1\n",
    "\n",
    "The function `time` returns the current Greenwich Mean Time in seconds since “the epoch”, which is an arbitrary time used as a reference point. On UNIX systems, the epoch is 1 January 1970.\n",
    "\n",
    "Write a script that reads the current time and converts it to a time of day in hours, minutes, and seconds, plus the number\n",
    "of days since the epoch.\n",
    "\n",
    "TIP: divrem() returns a pair of numbers, an integer quotient and a remainder."
   ]
  },
  {
   "cell_type": "code",
   "execution_count": 22,
   "metadata": {},
   "outputs": [
    {
     "data": {
      "text/plain": [
       "1.568145177147e9"
      ]
     },
     "execution_count": 22,
     "metadata": {},
     "output_type": "execute_result"
    }
   ],
   "source": [
    "time()"
   ]
  },
  {
   "cell_type": "code",
   "execution_count": 23,
   "metadata": {
    "scrolled": true
   },
   "outputs": [
    {
     "name": "stdout",
     "output_type": "stream",
     "text": [
      "search: \u001b[0m\u001b[1md\u001b[22m\u001b[0m\u001b[1mi\u001b[22m\u001b[0m\u001b[1mv\u001b[22m\u001b[0m\u001b[1mr\u001b[22m\u001b[0m\u001b[1me\u001b[22m\u001b[0m\u001b[1mm\u001b[22m\n",
      "\n"
     ]
    },
    {
     "data": {
      "text/latex": [
       "\\begin{verbatim}\n",
       "divrem(x, y)\n",
       "\\end{verbatim}\n",
       "The quotient and remainder from Euclidean division. Equivalent to \\texttt{(div(x,y), rem(x,y))} or \\texttt{(x÷y, x\\%y)}.\n",
       "\n",
       "\\section{Examples}\n",
       "\\begin{verbatim}\n",
       "julia> divrem(3,7)\n",
       "(0, 3)\n",
       "\n",
       "julia> divrem(7,3)\n",
       "(2, 1)\n",
       "\\end{verbatim}\n"
      ],
      "text/markdown": [
       "```\n",
       "divrem(x, y)\n",
       "```\n",
       "\n",
       "The quotient and remainder from Euclidean division. Equivalent to `(div(x,y), rem(x,y))` or `(x÷y, x%y)`.\n",
       "\n",
       "# Examples\n",
       "\n",
       "```jldoctest\n",
       "julia> divrem(3,7)\n",
       "(0, 3)\n",
       "\n",
       "julia> divrem(7,3)\n",
       "(2, 1)\n",
       "```\n"
      ],
      "text/plain": [
       "\u001b[36m  divrem(x, y)\u001b[39m\n",
       "\n",
       "  The quotient and remainder from Euclidean division. Equivalent to \u001b[36m(div(x,y),\n",
       "  rem(x,y))\u001b[39m or \u001b[36m(x÷y, x%y)\u001b[39m.\n",
       "\n",
       "\u001b[1m  Examples\u001b[22m\n",
       "\u001b[1m  ≡≡≡≡≡≡≡≡≡≡\u001b[22m\n",
       "\n",
       "\u001b[36m  julia> divrem(3,7)\u001b[39m\n",
       "\u001b[36m  (0, 3)\u001b[39m\n",
       "\u001b[36m  \u001b[39m\n",
       "\u001b[36m  julia> divrem(7,3)\u001b[39m\n",
       "\u001b[36m  (2, 1)\u001b[39m"
      ]
     },
     "execution_count": 23,
     "metadata": {},
     "output_type": "execute_result"
    }
   ],
   "source": [
    "?divrem"
   ]
  },
  {
   "cell_type": "code",
   "execution_count": 8,
   "metadata": {
    "code_folding": []
   },
   "outputs": [
    {
     "data": {
      "text/plain": [
       "convert_time (generic function with 1 method)"
      ]
     },
     "execution_count": 8,
     "metadata": {},
     "output_type": "execute_result"
    }
   ],
   "source": [
    "function convert_time(current_time)\n",
    "    minutes, seconds = divrem(current_time,60) \n",
    "    hours, minutes = divrem(minutes, 60)\n",
    "    days, hours = divrem(hours, 24)\n",
    "    println(\"Current time is \", days, \" days, \", hours, \" hours, \", minutes, \" minutes, \", seconds, \" seconds since the epoch\")\n",
    "end\n"
   ]
  },
  {
   "cell_type": "code",
   "execution_count": 9,
   "metadata": {
    "scrolled": true
   },
   "outputs": [
    {
     "name": "stdout",
     "output_type": "stream",
     "text": [
      "Current time is 18155.0 days, 16.0 hours, 12.0 minutes, 53.16300010681152 seconds since the epoch\n"
     ]
    }
   ],
   "source": [
    "convert_time(time())"
   ]
  },
  {
   "cell_type": "markdown",
   "metadata": {},
   "source": [
    "### Exercise 5-2\n",
    "\n",
    "Fermat’s Last Theorem says that there are no positive integers $a$, $b$, and $c$ such that\n",
    "\n",
    "$$\n",
    "{\n",
    "a^n + b^n = c^n\n",
    "}\n",
    "$$\n",
    "\n",
    "for any value of $n$ greater than 2.\n",
    "\n",
    "1. Write a function named `checkfermat` that takes four parameters— $a$, $b$, $c$ and $n$ —and checks to see if Fermat’s theorem holds. If ${a^n + b^n = c^n}$, the program should print, “Holy smokes, Fermat was wrong!” Otherwise the program should print, “Well, Fermat was right.”\n",
    "\n",
    "2. Write another function that prompts the user to input values for $a$, $b$, $c$ and $n$, converts them to integers, and uses `checkfermat` to check whether they violate Fermat’s theorem.\n"
   ]
  },
  {
   "cell_type": "code",
   "execution_count": 26,
   "metadata": {},
   "outputs": [
    {
     "data": {
      "text/plain": [
       "checkfermatuser (generic function with 1 method)"
      ]
     },
     "execution_count": 26,
     "metadata": {},
     "output_type": "execute_result"
    }
   ],
   "source": [
    "function checkfermat(a, b, c, n)\n",
    "    if a^n + b^n == c^n\n",
    "        println(\"Holy smokes, Fermat was wrong!\")\n",
    "    else\n",
    "        println(\"Well, Fermat was right.\")\n",
    "    end\n",
    "end\n",
    "\n",
    "\n",
    "function checkfermatuser()\n",
    "    println(\"One at a time, enter a, b, c, and n  \")\n",
    "    a = parse(Int, readline())\n",
    "    b = parse(Int, readline())\n",
    "    c = parse(Int, readline())\n",
    "    n = parse(Int, readline())\n",
    "    \n",
    "    if a^n + b^n == c^n\n",
    "        println(\"Holy smokes, Fermat was wrong!\")\n",
    "    else\n",
    "        println(\"Well, Fermat was right.\")\n",
    "    end\n",
    "end"
   ]
  },
  {
   "cell_type": "code",
   "execution_count": 27,
   "metadata": {},
   "outputs": [
    {
     "name": "stdout",
     "output_type": "stream",
     "text": [
      "Well, Fermat was right.\n"
     ]
    }
   ],
   "source": [
    "checkfermat(10, 20, 40, 3)"
   ]
  },
  {
   "cell_type": "code",
   "execution_count": 28,
   "metadata": {},
   "outputs": [
    {
     "name": "stdout",
     "output_type": "stream",
     "text": [
      "One at a time, enter a, b, c, and n  \n",
      "stdin> 10\n",
      "stdin> 20\n",
      "stdin> 30\n",
      "stdin> 4\n",
      "Well, Fermat was right.\n"
     ]
    }
   ],
   "source": [
    "checkfermatuser()"
   ]
  },
  {
   "cell_type": "code",
   "execution_count": 29,
   "metadata": {
    "code_folding": []
   },
   "outputs": [
    {
     "data": {
      "text/plain": [
       "checkfermatuser2 (generic function with 1 method)"
      ]
     },
     "execution_count": 29,
     "metadata": {},
     "output_type": "execute_result"
    }
   ],
   "source": [
    "function checkfermatuser2()\n",
    "    \n",
    "    println(\"Enter a b c and n  \")\n",
    "    input_in_string = split(readline(),\" \")\n",
    "    a, b, c, n = [parse(Int,x) for x in input_in_string]\n",
    "\n",
    "    println(\"a = $a, b = $b, c = $c, n = $n\")\n",
    "    if a^n + b^n == c^n\n",
    "        println(\"Holy smokes, Fermat was wrong!\")\n",
    "    else\n",
    "        println(\"Well, Fermat was right.\")\n",
    "    end\n",
    "    \n",
    "end"
   ]
  },
  {
   "cell_type": "code",
   "execution_count": 30,
   "metadata": {},
   "outputs": [
    {
     "name": "stdout",
     "output_type": "stream",
     "text": [
      "Enter a b c and n  \n",
      "stdin> 10 20 30 4\n",
      "a = 10, b = 20, c = 30, n = 4\n",
      "Well, Fermat was right.\n"
     ]
    }
   ],
   "source": [
    "checkfermatuser2()"
   ]
  },
  {
   "cell_type": "markdown",
   "metadata": {},
   "source": [
    "### Exercise 5-3\n",
    "\n",
    "If you are given three sticks, you may or may not be able to arrange them in a triangle. For example, if one of the sticks is 12 inches long and the other two are one inch long, you will not be able to get the short sticks to meet in the middle. \n",
    "\n",
    "For any three lengths, there is a simple test to see if it is possible to form a triangle:\n",
    "\n",
    "If any of the three lengths is greater than the sum of the other two, then you cannot form a triangle. Otherwise, you can. (If the sum of two lengths equals the third, they form what is called a “degenerate” triangle.)\n",
    "\n",
    "Write a function named `istriangle` that takes three integers as arguments, and that prints either “Yes” or “No”, depending on whether you can or cannot form a triangle from sticks with the given lengths."
   ]
  },
  {
   "cell_type": "code",
   "execution_count": 31,
   "metadata": {},
   "outputs": [
    {
     "data": {
      "text/plain": [
       "istriangle (generic function with 1 method)"
      ]
     },
     "execution_count": 31,
     "metadata": {},
     "output_type": "execute_result"
    }
   ],
   "source": [
    "function istriangle(a,b,c)\n",
    "    if a>b+c || b>a+c || c>a+b\n",
    "        println(\"No\")\n",
    "    else\n",
    "        println(\"Yes\")\n",
    "    end\n",
    "end"
   ]
  },
  {
   "cell_type": "code",
   "execution_count": 32,
   "metadata": {},
   "outputs": [
    {
     "name": "stdout",
     "output_type": "stream",
     "text": [
      "Yes\n"
     ]
    }
   ],
   "source": [
    "istriangle(3,4,5)"
   ]
  },
  {
   "cell_type": "markdown",
   "metadata": {},
   "source": [
    "### Exercise 5-4\n",
    "\n",
    "As an exercise, draw a stack diagram for `print`n called with `s = \"Hello\"` and $n$ = 2. \n",
    "\n",
    "Then write a recursive function called `do_n` that takes a function object, $f$, and a number, $n$, as arguments, and calls that function $f$ through recursion $n$ times.  Test this function by providing a function that prints \"hello \" one time as the first argument and $n = 5$."
   ]
  },
  {
   "cell_type": "code",
   "execution_count": 6,
   "metadata": {
    "code_folding": []
   },
   "outputs": [
    {
     "data": {
      "text/plain": [
       "printhello (generic function with 1 method)"
      ]
     },
     "execution_count": 6,
     "metadata": {},
     "output_type": "execute_result"
    }
   ],
   "source": [
    "function do_n(f, n)\n",
    "    if n ≤ 0\n",
    "        return\n",
    "    end\n",
    "    f()\n",
    "    do_n(f,n-1)\n",
    "end\n",
    "\n",
    "function printhello()\n",
    "    println(\"hello \")\n",
    "end"
   ]
  },
  {
   "cell_type": "code",
   "execution_count": 7,
   "metadata": {},
   "outputs": [
    {
     "name": "stdout",
     "output_type": "stream",
     "text": [
      "hello \n",
      "hello \n",
      "hello \n",
      "hello \n",
      "hello \n"
     ]
    }
   ],
   "source": [
    "do_n(printhello, 5)"
   ]
  },
  {
   "cell_type": "markdown",
   "metadata": {},
   "source": [
    "### Exercise 5-5\n",
    "\n",
    "What is the output of the following program? Draw a stack diagram that shows the state of the program when it prints the result.\n",
    "\n",
    "```\n",
    "function recurse(n, s)\n",
    "    if n == 0\n",
    "        println(s)\n",
    "    else\n",
    "        recurse(n-1, n+s)\n",
    "    end\n",
    "end\n",
    "\n",
    "recurse(3, 0)\n",
    "```\n",
    "\n",
    "1. What would happen if you called this function like this: recurse(-1, 0) ?\n",
    "2. Write a docstring that explains everything someone would need to know in order to use this function (and nothing else).\n"
   ]
  },
  {
   "cell_type": "code",
   "execution_count": 33,
   "metadata": {},
   "outputs": [
    {
     "name": "stdout",
     "output_type": "stream",
     "text": [
      "6\n"
     ]
    }
   ],
   "source": [
    "\"\"\"\n",
    "function recurse(n,s)\n",
    "\n",
    "n is an integer and s is an integer\n",
    "\"\"\"\n",
    "function recurse(n, s)\n",
    "    if n == 0\n",
    "        println(s)\n",
    "    else\n",
    "        recurse(n-1, n+s)\n",
    "    end\n",
    "end\n",
    "\n",
    "recurse(3, 0)"
   ]
  },
  {
   "cell_type": "code",
   "execution_count": 34,
   "metadata": {},
   "outputs": [
    {
     "ename": "StackOverflowError",
     "evalue": "StackOverflowError:",
     "output_type": "error",
     "traceback": [
      "StackOverflowError:",
      "",
      "Stacktrace:",
      " [1] recurse(::Int64, ::Int64) at .\\In[33]:10 (repeats 80000 times)"
     ]
    }
   ],
   "source": [
    "recurse(-1,0)"
   ]
  }
 ],
 "metadata": {
  "@webio": {
   "lastCommId": null,
   "lastKernelId": null
  },
  "kernelspec": {
   "display_name": "Julia 1.4.0",
   "language": "julia",
   "name": "julia-1.4"
  },
  "language_info": {
   "file_extension": ".jl",
   "mimetype": "application/julia",
   "name": "julia",
   "version": "1.4.0"
  }
 },
 "nbformat": 4,
 "nbformat_minor": 2
}
