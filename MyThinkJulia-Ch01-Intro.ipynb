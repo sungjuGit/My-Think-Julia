{
 "cells": [
  {
   "cell_type": "markdown",
   "metadata": {
    "colab_type": "text",
    "id": "KX8z9f9juEWA"
   },
   "source": [
    "# Ch 1: Introduction"
   ]
  },
  {
   "cell_type": "markdown",
   "metadata": {
    "colab_type": "text",
    "id": "qAfhsSMtuEWC"
   },
   "source": [
    "Problem solving means the process of formulating problems, thinking creatively about solutions, and expressing a solution clearly and accurately.\n",
    "\n",
    "Learning to write programs provides an excellent opportunity to develop and practice problem-solving skills.\n",
    "\n",
    "A program is a sequence of instructions that specifies how to perform a compuation.  The computation might be mathematical, symbolic (e.g., searching for and replacing text in a document) or graphical.\n",
    "\n",
    "Common basic instructions in a program are:\n",
    "\n",
    "- input\n",
    "- output\n",
    "- math\n",
    "- conditional execution\n",
    "- repetition"
   ]
  },
  {
   "cell_type": "markdown",
   "metadata": {
    "colab_type": "text",
    "id": "wr0riT1iuEWE"
   },
   "source": [
    "Programming language is an example of formal language.  Formal languages are designed by people for specific applications.  Other examples include mathematical expressions and chemical reaction equations.\n",
    "\n",
    "In contrast, natural languages are  languages that people speak.  They were not designed by people but evolved naturally.\n",
    "\n",
    "Formal languages have strict syntatic rules."
   ]
  },
  {
   "cell_type": "markdown",
   "metadata": {
    "colab_type": "text",
    "id": "Mv2HKnRCuEWF"
   },
   "source": [
    "(Aside: We can run Julia using the Julia REPL (Read-Eval-Print Loop), the Jupyter Notebook, or the command line interface in the case of Julia scripts.)"
   ]
  },
  {
   "cell_type": "code",
   "execution_count": 0,
   "metadata": {
    "colab": {},
    "colab_type": "code",
    "id": "qO9KYxZduEWH",
    "outputId": "df63d33a-12ea-4407-df49-0971a590aafc"
   },
   "outputs": [
    {
     "name": "stdout",
     "output_type": "stream",
     "text": [
      "Hello World\n"
     ]
    }
   ],
   "source": [
    "println(\"Hello World\")"
   ]
  },
  {
   "cell_type": "code",
   "execution_count": 0,
   "metadata": {
    "colab": {},
    "colab_type": "code",
    "id": "kSvymMh3uEWM",
    "outputId": "2541b0bd-8f0c-4b80-eb94-241c58a962b9"
   },
   "outputs": [
    {
     "ename": "LoadError",
     "evalue": "syntax: incomplete: invalid string syntax",
     "output_type": "error",
     "traceback": [
      "syntax: incomplete: invalid string syntax",
      ""
     ]
    }
   ],
   "source": [
    "println(\"Hello World)"
   ]
  },
  {
   "cell_type": "code",
   "execution_count": 0,
   "metadata": {
    "colab": {},
    "colab_type": "code",
    "id": "V4U35ZG6uEWP",
    "outputId": "f8a4df22-a6bd-446c-ac1f-4e43e4767a93"
   },
   "outputs": [
    {
     "data": {
      "text/plain": [
       "2"
      ]
     },
     "execution_count": 3,
     "metadata": {
      "tags": []
     },
     "output_type": "execute_result"
    }
   ],
   "source": [
    "+2"
   ]
  },
  {
   "cell_type": "code",
   "execution_count": 0,
   "metadata": {
    "colab": {},
    "colab_type": "code",
    "id": "AhxFYQfguEWT",
    "outputId": "10f6a200-bf23-4d25-b00e-3032dc88f225"
   },
   "outputs": [
    {
     "ename": "UndefVarError",
     "evalue": "UndefVarError: ++ not defined",
     "output_type": "error",
     "traceback": [
      "UndefVarError: ++ not defined",
      "",
      "Stacktrace:",
      " [1] top-level scope at In[4]:1"
     ]
    }
   ],
   "source": [
    "2 ++ 2"
   ]
  },
  {
   "cell_type": "code",
   "execution_count": 0,
   "metadata": {
    "colab": {},
    "colab_type": "code",
    "id": "4Mu7H0nDuEWW",
    "outputId": "803fdb90-016e-47ed-aed8-aa0669639873"
   },
   "outputs": [
    {
     "data": {
      "text/plain": [
       "2"
      ]
     },
     "execution_count": 5,
     "metadata": {
      "tags": []
     },
     "output_type": "execute_result"
    }
   ],
   "source": [
    "02"
   ]
  },
  {
   "cell_type": "code",
   "execution_count": 0,
   "metadata": {
    "colab": {},
    "colab_type": "code",
    "id": "EvdKqdXzuEWZ",
    "outputId": "190e67d4-c192-4de4-d88a-bb924972fafb"
   },
   "outputs": [
    {
     "ename": "LoadError",
     "evalue": "syntax: extra token \"3\" after end of expression",
     "output_type": "error",
     "traceback": [
      "syntax: extra token \"3\" after end of expression",
      ""
     ]
    }
   ],
   "source": [
    "2 3"
   ]
  },
  {
   "cell_type": "markdown",
   "metadata": {},
   "source": [
    "Don't use commas to separate place values in a number.  They create an object called a `tuple` instead."
   ]
  },
  {
   "cell_type": "code",
   "execution_count": 0,
   "metadata": {
    "colab": {},
    "colab_type": "code",
    "id": "W2sUTXOvuEWc",
    "outputId": "d305af2e-dd23-49ea-c7ea-f92f008130ef"
   },
   "outputs": [
    {
     "data": {
      "text/plain": [
       "(1, 0, 0)"
      ]
     },
     "execution_count": 7,
     "metadata": {
      "tags": []
     },
     "output_type": "execute_result"
    }
   ],
   "source": [
    "1,000,000"
   ]
  },
  {
   "cell_type": "markdown",
   "metadata": {
    "colab_type": "text",
    "id": "aPAbI5y_uEWf"
   },
   "source": [
    "### Syntactic rules \n",
    "\n",
    "Syntactic rules come in two flavors: tokens and structure.\n",
    "\n",
    "* Tokens: basic elements of the language, such as words, numbers, and chemical elements.\n",
    "* Structure: way tokens are combined\n",
    "\n",
    "The process of figuring out the structure is called parsing.\n"
   ]
  },
  {
   "cell_type": "markdown",
   "metadata": {
    "colab_type": "text",
    "id": "vmKAP6lSuEWg"
   },
   "source": [
    "As tokens, Julia uses \n",
    "\n",
    "- values: basic things a program works with, like a letter, a number and a sequence of numbers or letters.  Each value belong to a type, like an integer, floating-point number, and string.\n",
    "- operators: symbols that represent computations like addition and multiplication.\n",
    "- variables: names that refer to values.  \n",
    "- keywords: control the flow of program execution, declare types or functions, or serve other purposes.\n",
    "\n"
   ]
  },
  {
   "cell_type": "code",
   "execution_count": 0,
   "metadata": {
    "colab": {},
    "colab_type": "code",
    "id": "q9VGK-HguEWg",
    "outputId": "d91c9ff7-1722-4f4f-a8aa-d01be96d7919"
   },
   "outputs": [
    {
     "data": {
      "text/plain": [
       "Int64"
      ]
     },
     "execution_count": 8,
     "metadata": {
      "tags": []
     },
     "output_type": "execute_result"
    }
   ],
   "source": [
    "typeof(2)"
   ]
  },
  {
   "cell_type": "code",
   "execution_count": 0,
   "metadata": {
    "colab": {},
    "colab_type": "code",
    "id": "NW2mCRI3uEWl",
    "outputId": "27c84ef7-9da2-4718-f1b3-5fa275437d2a"
   },
   "outputs": [
    {
     "data": {
      "text/plain": [
       "String"
      ]
     },
     "execution_count": 9,
     "metadata": {
      "tags": []
     },
     "output_type": "execute_result"
    }
   ],
   "source": [
    "typeof(\"Hello World\")"
   ]
  },
  {
   "cell_type": "markdown",
   "metadata": {
    "colab_type": "text",
    "id": "JvHQFQNcuEWo"
   },
   "source": [
    "Julia has keywords reserved for different purposes.  Examples are\n",
    "\n",
    "```\n",
    "abstract \n",
    "type \n",
    "baremodule \n",
    "begin \n",
    "break \n",
    "catch\n",
    "const \n",
    "continue \n",
    "do \n",
    "else \n",
    "elseif\n",
    "end \n",
    "export \n",
    "finally \n",
    "for \n",
    "function\n",
    "global \n",
    "if \n",
    "import \n",
    "importall \n",
    "in\n",
    "let \n",
    "local \n",
    "macro \n",
    "module \n",
    "mutable \n",
    "struct\n",
    "primitive \n",
    "type \n",
    "quote \n",
    "return \n",
    "try \n",
    "using\n",
    "struct \n",
    "where \n",
    "while\n",
    "```"
   ]
  }
 ],
 "metadata": {
  "colab": {
   "collapsed_sections": [],
   "name": "Copy of MyThinkJulia-Ch01.ipynb",
   "provenance": [
    {
     "file_id": "1rSn9l1hK6FyniD5Yx37pX2KLQUxk8Q-Y",
     "timestamp": 1567977317012
    }
   ],
   "version": "0.3.2"
  },
  "kernelspec": {
   "display_name": "Julia 1.4.0",
   "language": "julia",
   "name": "julia-1.4"
  },
  "language_info": {
   "file_extension": ".jl",
   "mimetype": "application/julia",
   "name": "julia",
   "version": "1.4.0"
  }
 },
 "nbformat": 4,
 "nbformat_minor": 1
}
