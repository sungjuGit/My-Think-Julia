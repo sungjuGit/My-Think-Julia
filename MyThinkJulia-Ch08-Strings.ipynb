{
 "cells": [
  {
   "cell_type": "markdown",
   "metadata": {},
   "source": [
    "# Ch 8: Strings"
   ]
  },
  {
   "cell_type": "markdown",
   "metadata": {},
   "source": [
    "### Characters\n",
    "\n",
    "English language speakers are familiar with characters such as the letters of the alphabet (A, B, C, … ), numerals, and common punctuation. These characters are standardized and mapped to integer values between 0 and 127 by the ASCII standard (American Standard Code for Information Interchange).\n",
    "\n",
    "The Unicode standard assigns a unique number for every character on a world-wide scale."
   ]
  },
  {
   "cell_type": "markdown",
   "metadata": {},
   "source": [
    "A Char value represents a single character and is surrounded by single quotes:"
   ]
  },
  {
   "cell_type": "code",
   "execution_count": 4,
   "metadata": {},
   "outputs": [
    {
     "data": {
      "text/plain": [
       "'x': ASCII/Unicode U+0078 (category Ll: Letter, lowercase)"
      ]
     },
     "execution_count": 4,
     "metadata": {},
     "output_type": "execute_result"
    }
   ],
   "source": [
    "'x'"
   ]
  },
  {
   "cell_type": "code",
   "execution_count": 5,
   "metadata": {},
   "outputs": [
    {
     "data": {
      "text/plain": [
       "'🍌': Unicode U+01f34c (category So: Symbol, other)"
      ]
     },
     "execution_count": 5,
     "metadata": {},
     "output_type": "execute_result"
    }
   ],
   "source": [
    "'🍌'"
   ]
  },
  {
   "cell_type": "markdown",
   "metadata": {},
   "source": [
    "### A String is a Sequence\n",
    "\n",
    "A string is a sequence (an ordered collection) of characters.  We can access the characters one at a time with the bracket operator."
   ]
  },
  {
   "cell_type": "code",
   "execution_count": 6,
   "metadata": {},
   "outputs": [
    {
     "data": {
      "text/plain": [
       "'b': ASCII/Unicode U+0062 (category Ll: Letter, lowercase)"
      ]
     },
     "execution_count": 6,
     "metadata": {},
     "output_type": "execute_result"
    }
   ],
   "source": [
    "fruit = \"banana\"\n",
    "firstletter = fruit[1]"
   ]
  },
  {
   "cell_type": "code",
   "execution_count": 7,
   "metadata": {},
   "outputs": [
    {
     "data": {
      "text/plain": [
       "(6, 6)"
      ]
     },
     "execution_count": 7,
     "metadata": {},
     "output_type": "execute_result"
    }
   ],
   "source": [
    "length(fruit), sizeof(fruit)"
   ]
  },
  {
   "cell_type": "code",
   "execution_count": 8,
   "metadata": {},
   "outputs": [
    {
     "data": {
      "text/plain": [
       "'a': ASCII/Unicode U+0061 (category Ll: Letter, lowercase)"
      ]
     },
     "execution_count": 8,
     "metadata": {},
     "output_type": "execute_result"
    }
   ],
   "source": [
    "lastletter = fruit[end]"
   ]
  },
  {
   "cell_type": "markdown",
   "metadata": {},
   "source": [
    "The expression in brackets is called *index*.  In Julia, the first element of any integer-indexed object is found at index 1 and the last element at index `end`."
   ]
  },
  {
   "cell_type": "code",
   "execution_count": 9,
   "metadata": {},
   "outputs": [
    {
     "data": {
      "text/plain": [
       "('a', 'n')"
      ]
     },
     "execution_count": 9,
     "metadata": {},
     "output_type": "execute_result"
    }
   ],
   "source": [
    "i = 1\n",
    "fruit[i+1], fruit[end-1]"
   ]
  },
  {
   "cell_type": "markdown",
   "metadata": {},
   "source": [
    "The characters are encoded using the UTF-8 encoding, where not all characters are encoded in the same number of bytes (variable-width encoding).  For example, emojis are encoded in 4 bytes."
   ]
  },
  {
   "cell_type": "code",
   "execution_count": 10,
   "metadata": {},
   "outputs": [
    {
     "data": {
      "text/plain": [
       "4"
      ]
     },
     "execution_count": 10,
     "metadata": {},
     "output_type": "execute_result"
    }
   ],
   "source": [
    "sizeof('🍌')"
   ]
  },
  {
   "cell_type": "code",
   "execution_count": 11,
   "metadata": {},
   "outputs": [
    {
     "data": {
      "text/plain": [
       "\"🍌 🍎\""
      ]
     },
     "execution_count": 11,
     "metadata": {},
     "output_type": "execute_result"
    }
   ],
   "source": [
    "fruits = \"🍌 🍎\""
   ]
  },
  {
   "cell_type": "code",
   "execution_count": 12,
   "metadata": {},
   "outputs": [
    {
     "ename": "StringIndexError",
     "evalue": "StringIndexError(\"🍌 🍎\", 2)",
     "output_type": "error",
     "traceback": [
      "StringIndexError(\"🍌 🍎\", 2)",
      "",
      "Stacktrace:",
      " [1] string_index_err(::String, ::Int64) at .\\strings\\string.jl:12",
      " [2] getindex_continued(::String, ::Int64, ::UInt32) at .\\strings\\string.jl:217",
      " [3] getindex(::String, ::Int64) at .\\strings\\string.jl:210",
      " [4] top-level scope at In[12]:1"
     ]
    }
   ],
   "source": [
    "fruits[2]"
   ]
  },
  {
   "cell_type": "markdown",
   "metadata": {},
   "source": [
    "To find valid indices, we need to use `nextind`"
   ]
  },
  {
   "cell_type": "code",
   "execution_count": 13,
   "metadata": {},
   "outputs": [
    {
     "data": {
      "text/plain": [
       "5"
      ]
     },
     "execution_count": 13,
     "metadata": {},
     "output_type": "execute_result"
    }
   ],
   "source": [
    "nextind(fruits,1)"
   ]
  },
  {
   "cell_type": "code",
   "execution_count": 14,
   "metadata": {},
   "outputs": [
    {
     "data": {
      "text/plain": [
       "' ': ASCII/Unicode U+0020 (category Zs: Separator, space)"
      ]
     },
     "execution_count": 14,
     "metadata": {},
     "output_type": "execute_result"
    }
   ],
   "source": [
    "fruits[5]"
   ]
  },
  {
   "cell_type": "code",
   "execution_count": 15,
   "metadata": {},
   "outputs": [
    {
     "data": {
      "text/plain": [
       "6"
      ]
     },
     "execution_count": 15,
     "metadata": {},
     "output_type": "execute_result"
    }
   ],
   "source": [
    "nextind(fruits,5)"
   ]
  },
  {
   "cell_type": "code",
   "execution_count": 16,
   "metadata": {},
   "outputs": [
    {
     "data": {
      "text/plain": [
       "'🍎': Unicode U+01f34e (category So: Symbol, other)"
      ]
     },
     "execution_count": 16,
     "metadata": {},
     "output_type": "execute_result"
    }
   ],
   "source": [
    "fruits[6]"
   ]
  },
  {
   "cell_type": "markdown",
   "metadata": {},
   "source": [
    "### Traversal\n",
    "\n",
    "A lot of computations involve processing a string one character at a time. Often they start at the beginning, select each character in turn, do something to it, and continue until the end. This pattern of processing is called a traversal. One way to write a traversal is with a while loop:\n"
   ]
  },
  {
   "cell_type": "code",
   "execution_count": 17,
   "metadata": {},
   "outputs": [
    {
     "name": "stdout",
     "output_type": "stream",
     "text": [
      "🍌\n",
      " \n",
      "🍎\n"
     ]
    }
   ],
   "source": [
    "index = firstindex(fruits)\n",
    "while index <= sizeof(fruits)\n",
    "    letter = fruits[index]\n",
    "    println(letter)\n",
    "    index = nextind(fruits, index)\n",
    "end"
   ]
  },
  {
   "cell_type": "markdown",
   "metadata": {},
   "source": [
    "### Exercise 8-1\n",
    "\n",
    "Write a function that takes a string as an argument and displays the letters backward, one per line.\n",
    "\n",
    "Tip: `prevind(s,index)` gives the valid index of $s$ right before $index$."
   ]
  },
  {
   "cell_type": "code",
   "execution_count": 68,
   "metadata": {},
   "outputs": [
    {
     "data": {
      "text/plain": [
       "mybackward (generic function with 1 method)"
      ]
     },
     "execution_count": 68,
     "metadata": {},
     "output_type": "execute_result"
    }
   ],
   "source": [
    "function mybackward(s)\n",
    "    index = lastindex(s)\n",
    "    while index >= firstindex(s)\n",
    "        letter = s[index]\n",
    "        println(letter)\n",
    "        index = prevind(s, index)\n",
    "    end\n",
    "end"
   ]
  },
  {
   "cell_type": "code",
   "execution_count": 69,
   "metadata": {},
   "outputs": [
    {
     "name": "stdout",
     "output_type": "stream",
     "text": [
      "o\n",
      "l\n",
      "l\n",
      "e\n",
      "H\n"
     ]
    }
   ],
   "source": [
    "mybackward(\"Hello\")"
   ]
  },
  {
   "cell_type": "markdown",
   "metadata": {},
   "source": [
    "A more convenient way to write a traverse is with a `for` loop:"
   ]
  },
  {
   "cell_type": "code",
   "execution_count": 20,
   "metadata": {},
   "outputs": [
    {
     "name": "stdout",
     "output_type": "stream",
     "text": [
      "🍌\n",
      " \n",
      "🍎\n"
     ]
    }
   ],
   "source": [
    "for letter in fruits\n",
    "    println(letter)\n",
    "end"
   ]
  },
  {
   "cell_type": "markdown",
   "metadata": {},
   "source": [
    "The following example shows how to use concatenation (string multiplication) and a for loop to generate an abecedarian series (that is, in alphabetical order). In Robert McCloskey’s book Make Way for Ducklings, the names of the ducklings are Jack, Kack, Lack, Mack, Nack, Ouack, Pack, and Quack. This loop outputs these names in order:"
   ]
  },
  {
   "cell_type": "code",
   "execution_count": 21,
   "metadata": {},
   "outputs": [
    {
     "name": "stdout",
     "output_type": "stream",
     "text": [
      "Jack\n",
      "Kack\n",
      "Lack\n",
      "Mack\n",
      "Nack\n",
      "Oack\n",
      "Pack\n",
      "Qack\n"
     ]
    }
   ],
   "source": [
    "prefixes = \"JKLMNOPQ\"\n",
    "suffix = \"ack\"\n",
    "for letter in prefixes\n",
    "    println(letter * suffix)\n",
    "end"
   ]
  },
  {
   "cell_type": "markdown",
   "metadata": {},
   "source": [
    "Of course, that’s not quite right because “Ouack” and “Quack” are misspelled.\n",
    "\n",
    "### Exercise 8-2\n",
    "\n",
    "Modify the program to fix this error."
   ]
  },
  {
   "cell_type": "code",
   "execution_count": 22,
   "metadata": {},
   "outputs": [
    {
     "name": "stdout",
     "output_type": "stream",
     "text": [
      "Jack\n",
      "Kack\n",
      "Lack\n",
      "Mack\n",
      "Nack\n",
      "Ouack\n",
      "Pack\n",
      "Quack\n"
     ]
    }
   ],
   "source": [
    "prefixes = \"JKLMNOPQ\"\n",
    "suffix = \"ack\"\n",
    "for letter in prefixes\n",
    "    if letter == 'O' || letter == 'Q'\n",
    "        letter = letter * 'u'\n",
    "    end\n",
    "    println(letter * suffix)\n",
    "end"
   ]
  },
  {
   "cell_type": "markdown",
   "metadata": {},
   "source": [
    "### String Slices\n",
    "\n",
    "A segment of a string is called a slice. Selecting a slice is similar to selecting a character:"
   ]
  },
  {
   "cell_type": "code",
   "execution_count": 23,
   "metadata": {},
   "outputs": [
    {
     "data": {
      "text/plain": [
       "\"Julius\""
      ]
     },
     "execution_count": 23,
     "metadata": {},
     "output_type": "execute_result"
    }
   ],
   "source": [
    "str = \"Julius Caesar\";\n",
    "str[1:6]"
   ]
  },
  {
   "cell_type": "markdown",
   "metadata": {},
   "source": [
    "The operator `[n:m]` returns the part of the string from the $n$-th byte to the $m$-th byte. So the same caution is needed as for simple indexing."
   ]
  },
  {
   "cell_type": "markdown",
   "metadata": {},
   "source": [
    "If the first index is greater than the second, the result is an empty string, represented by two quotation marks:"
   ]
  },
  {
   "cell_type": "code",
   "execution_count": 24,
   "metadata": {},
   "outputs": [
    {
     "data": {
      "text/plain": [
       "\"\""
      ]
     },
     "execution_count": 24,
     "metadata": {},
     "output_type": "execute_result"
    }
   ],
   "source": [
    "str[8:7]"
   ]
  },
  {
   "cell_type": "markdown",
   "metadata": {},
   "source": [
    "### Exercise 8-3\n",
    "\n",
    "Continuing this example, what do you think str[:] means? Try it and see."
   ]
  },
  {
   "cell_type": "code",
   "execution_count": 25,
   "metadata": {},
   "outputs": [
    {
     "data": {
      "text/plain": [
       "\"Julius Caesar\""
      ]
     },
     "execution_count": 25,
     "metadata": {},
     "output_type": "execute_result"
    }
   ],
   "source": [
    "str[:]"
   ]
  },
  {
   "cell_type": "markdown",
   "metadata": {},
   "source": [
    "### Strings are Immutable\n",
    "\n",
    "It is tempting to use the [] operator on the left side of an assignment, with the intention of changing a character in a string.  But this gives an error as strings are immutable."
   ]
  },
  {
   "cell_type": "code",
   "execution_count": 26,
   "metadata": {},
   "outputs": [
    {
     "ename": "MethodError",
     "evalue": "MethodError: no method matching setindex!(::String, ::Char, ::Int64)",
     "output_type": "error",
     "traceback": [
      "MethodError: no method matching setindex!(::String, ::Char, ::Int64)",
      "",
      "Stacktrace:",
      " [1] top-level scope at In[26]:2"
     ]
    }
   ],
   "source": [
    "greeting = \"Hello, world!\"\n",
    "greeting[1] = 'J'"
   ]
  },
  {
   "cell_type": "markdown",
   "metadata": {},
   "source": [
    "The best you can do is create a new string that is a variation on the original:"
   ]
  },
  {
   "cell_type": "code",
   "execution_count": 27,
   "metadata": {},
   "outputs": [
    {
     "data": {
      "text/plain": [
       "\"Jello, world!\""
      ]
     },
     "execution_count": 27,
     "metadata": {},
     "output_type": "execute_result"
    }
   ],
   "source": [
    "greeting = \"J\" * greeting[2:end]"
   ]
  },
  {
   "cell_type": "markdown",
   "metadata": {},
   "source": [
    "Even though this variable happens to have the same name, it is a **new** variable and has no effect on the original variable (when used as an argument in a function call)."
   ]
  },
  {
   "cell_type": "markdown",
   "metadata": {},
   "source": [
    "### String Interpolation\n",
    "\n",
    "Constructing strings using concatenation can become a bit cumbersome. To reduce the need for these verbose calls to string or repeated multiplications, Julia allows string interpolation using $:"
   ]
  },
  {
   "cell_type": "code",
   "execution_count": 28,
   "metadata": {},
   "outputs": [
    {
     "data": {
      "text/plain": [
       "\"Hello, World!\""
      ]
     },
     "execution_count": 28,
     "metadata": {},
     "output_type": "execute_result"
    }
   ],
   "source": [
    "greet = \"Hello\"\n",
    "\n",
    "whom = \"World\"\n",
    "\n",
    "\"$greet, $(whom)!\""
   ]
  },
  {
   "cell_type": "markdown",
   "metadata": {},
   "source": [
    "This is more readable and convenient than string concatenation: greet * \", \" * whom * \"!\".\n",
    "\n",
    "The shortest complete expression after the $ is taken as the expression whose value is to be interpolated into the string. Thus, you can interpolate any expression into a string using parentheses:"
   ]
  },
  {
   "cell_type": "code",
   "execution_count": 29,
   "metadata": {},
   "outputs": [
    {
     "data": {
      "text/plain": [
       "\"1 + 2 = 3\""
      ]
     },
     "execution_count": 29,
     "metadata": {},
     "output_type": "execute_result"
    }
   ],
   "source": [
    "\"1 + 2 = $(1 + 2)\""
   ]
  },
  {
   "cell_type": "markdown",
   "metadata": {},
   "source": [
    "### Searching"
   ]
  },
  {
   "cell_type": "code",
   "execution_count": 30,
   "metadata": {},
   "outputs": [
    {
     "data": {
      "text/plain": [
       "find (generic function with 2 methods)"
      ]
     },
     "execution_count": 30,
     "metadata": {},
     "output_type": "execute_result"
    }
   ],
   "source": [
    "function find(word, letter)\n",
    "    index = firstindex(word)\n",
    "    while index <= sizeof(word)\n",
    "        if word[index] == letter\n",
    "            return index\n",
    "        end\n",
    "        index = nextind(word, index)\n",
    "    end\n",
    "    -1\n",
    "end"
   ]
  },
  {
   "cell_type": "code",
   "execution_count": 31,
   "metadata": {},
   "outputs": [
    {
     "data": {
      "text/plain": [
       "7"
      ]
     },
     "execution_count": 31,
     "metadata": {},
     "output_type": "execute_result"
    }
   ],
   "source": [
    "find(\"hello there\",'t')"
   ]
  },
  {
   "cell_type": "markdown",
   "metadata": {},
   "source": [
    "### Exercise 8-4\n",
    "\n",
    "Modify `find` so that it has a third parameter, the index in word where it should start looking."
   ]
  },
  {
   "cell_type": "code",
   "execution_count": 32,
   "metadata": {},
   "outputs": [
    {
     "data": {
      "text/plain": [
       "find (generic function with 2 methods)"
      ]
     },
     "execution_count": 32,
     "metadata": {},
     "output_type": "execute_result"
    }
   ],
   "source": [
    "function find(word, letter, startindex)\n",
    "    index = startindex\n",
    "    while index <= sizeof(word)\n",
    "        if word[index] == letter\n",
    "            return index\n",
    "        end\n",
    "        index = nextind(word, index)\n",
    "    end\n",
    "    -1\n",
    "end"
   ]
  },
  {
   "cell_type": "code",
   "execution_count": 33,
   "metadata": {},
   "outputs": [
    {
     "data": {
      "text/plain": [
       "7"
      ]
     },
     "execution_count": 33,
     "metadata": {},
     "output_type": "execute_result"
    }
   ],
   "source": [
    "find(\"hello there\",'t',5)"
   ]
  },
  {
   "cell_type": "code",
   "execution_count": 34,
   "metadata": {},
   "outputs": [
    {
     "data": {
      "text/plain": [
       "-1"
      ]
     },
     "execution_count": 34,
     "metadata": {},
     "output_type": "execute_result"
    }
   ],
   "source": [
    "find(\"hello there\",'t',8)"
   ]
  },
  {
   "cell_type": "code",
   "execution_count": 35,
   "metadata": {},
   "outputs": [
    {
     "data": {
      "text/plain": [
       "7"
      ]
     },
     "execution_count": 35,
     "metadata": {},
     "output_type": "execute_result"
    }
   ],
   "source": [
    "find(\"hello there\",'t',7)"
   ]
  },
  {
   "cell_type": "markdown",
   "metadata": {},
   "source": [
    "### Looping and Counting\n",
    "\n",
    "The following program counts the number of times the letter $a$ appears in a string:"
   ]
  },
  {
   "cell_type": "code",
   "execution_count": 49,
   "metadata": {},
   "outputs": [
    {
     "name": "stdout",
     "output_type": "stream",
     "text": [
      "3\n"
     ]
    }
   ],
   "source": [
    "word = \"banana\"\n",
    "counter = 0    # must initialize here before (and hence outside) the for-loop\n",
    "for letter in word\n",
    "    if letter == 'a'\n",
    "#        global counter = counter + 1  # global is optional for this case as counter is declared outside for-loop\n",
    "        counter = counter + 1\n",
    "    end\n",
    "    return counter  # this is optional as the value of the last expression evaluated is returned by default\n",
    "end\n",
    "println(counter)"
   ]
  },
  {
   "cell_type": "markdown",
   "metadata": {},
   "source": [
    "### Exercise 8-5\n",
    "\n",
    "Encapsulate this code in a function named `count`, and generalize it so that it accepts the string and the letter as arguments. \n",
    "\n",
    "Then rewrite the function so that instead of traversing the string, it uses the three-parameter version of `find` from the previous section."
   ]
  },
  {
   "cell_type": "code",
   "execution_count": 51,
   "metadata": {},
   "outputs": [
    {
     "data": {
      "text/plain": [
       "count (generic function with 1 method)"
      ]
     },
     "execution_count": 51,
     "metadata": {},
     "output_type": "execute_result"
    }
   ],
   "source": [
    "function count(string, letter)\n",
    "    counter = 0\n",
    "    for l in string\n",
    "        if l == letter\n",
    "            counter = counter + 1\n",
    "        end\n",
    "    end\n",
    "    return counter\n",
    "end"
   ]
  },
  {
   "cell_type": "code",
   "execution_count": 52,
   "metadata": {},
   "outputs": [
    {
     "data": {
      "text/plain": [
       "2"
      ]
     },
     "execution_count": 52,
     "metadata": {},
     "output_type": "execute_result"
    }
   ],
   "source": [
    "count(\"hello\",'l')"
   ]
  },
  {
   "cell_type": "code",
   "execution_count": 36,
   "metadata": {},
   "outputs": [
    {
     "data": {
      "text/plain": [
       "count (generic function with 1 method)"
      ]
     },
     "execution_count": 36,
     "metadata": {},
     "output_type": "execute_result"
    }
   ],
   "source": [
    "function count(string, letter)\n",
    "    \n",
    "    counter = 0\n",
    "    index = 1\n",
    "    \n",
    "    while true\n",
    "        index = find(string, letter, index)\n",
    "        if index != -1   # letter not in the string\n",
    "            index += 1\n",
    "            counter += 1\n",
    "        else\n",
    "            break\n",
    "        end\n",
    "    end\n",
    "    \n",
    "    return counter\n",
    "    \n",
    "end"
   ]
  },
  {
   "cell_type": "code",
   "execution_count": 37,
   "metadata": {},
   "outputs": [
    {
     "data": {
      "text/plain": [
       "2"
      ]
     },
     "execution_count": 37,
     "metadata": {},
     "output_type": "execute_result"
    }
   ],
   "source": [
    "count(\"hello\",'l')"
   ]
  },
  {
   "cell_type": "markdown",
   "metadata": {},
   "source": [
    "### String Library\n",
    "\n",
    "Julia provides functions that perform a variety of useful operations on strings."
   ]
  },
  {
   "cell_type": "code",
   "execution_count": 38,
   "metadata": {},
   "outputs": [
    {
     "data": {
      "text/plain": [
       "\"HELLO, WORLD!\""
      ]
     },
     "execution_count": 38,
     "metadata": {},
     "output_type": "execute_result"
    }
   ],
   "source": [
    "uppercase(\"Hello, World!\")"
   ]
  },
  {
   "cell_type": "code",
   "execution_count": 39,
   "metadata": {},
   "outputs": [
    {
     "data": {
      "text/plain": [
       "2:2"
      ]
     },
     "execution_count": 39,
     "metadata": {},
     "output_type": "execute_result"
    }
   ],
   "source": [
    "findfirst(\"a\", \"banana\")"
   ]
  },
  {
   "cell_type": "code",
   "execution_count": 40,
   "metadata": {},
   "outputs": [
    {
     "data": {
      "text/plain": [
       "3:4"
      ]
     },
     "execution_count": 40,
     "metadata": {},
     "output_type": "execute_result"
    }
   ],
   "source": [
    "findfirst(\"na\", \"banana\")"
   ]
  },
  {
   "cell_type": "markdown",
   "metadata": {},
   "source": [
    "By default, findfirst starts at the beginning of the string, but the function findnext takes a third argument, the index\n",
    "where it should start:"
   ]
  },
  {
   "cell_type": "code",
   "execution_count": 41,
   "metadata": {},
   "outputs": [
    {
     "data": {
      "text/plain": [
       "5:6"
      ]
     },
     "execution_count": 41,
     "metadata": {},
     "output_type": "execute_result"
    }
   ],
   "source": [
    "findnext(\"na\", \"banana\", 4)"
   ]
  },
  {
   "cell_type": "markdown",
   "metadata": {},
   "source": [
    "### The ∈ Operator\n",
    "\n",
    "The operator ∈ ( \\in TAB ) is a boolean operator that takes a character and a string and returns true if the first appears in the second:"
   ]
  },
  {
   "cell_type": "code",
   "execution_count": 42,
   "metadata": {},
   "outputs": [
    {
     "data": {
      "text/plain": [
       "inboth (generic function with 1 method)"
      ]
     },
     "execution_count": 42,
     "metadata": {},
     "output_type": "execute_result"
    }
   ],
   "source": [
    "function inboth(word1, word2)\n",
    "    for letter in word1\n",
    "        if letter ∈ word2\n",
    "            print(letter, \" \")\n",
    "        end\n",
    "    end\n",
    "end"
   ]
  },
  {
   "cell_type": "code",
   "execution_count": 43,
   "metadata": {},
   "outputs": [
    {
     "name": "stdout",
     "output_type": "stream",
     "text": [
      "a e s "
     ]
    }
   ],
   "source": [
    "inboth(\"apples\", \"oranges\")"
   ]
  },
  {
   "cell_type": "markdown",
   "metadata": {},
   "source": [
    "### String Comparison\n",
    "\n",
    "The relational operators work on strings:"
   ]
  },
  {
   "cell_type": "code",
   "execution_count": 44,
   "metadata": {},
   "outputs": [],
   "source": [
    "word = \"Pineapple\"\n",
    "if word == \"banana\"\n",
    "    println(\"All right, bananas.\")\n",
    "end"
   ]
  },
  {
   "cell_type": "code",
   "execution_count": 45,
   "metadata": {},
   "outputs": [
    {
     "name": "stdout",
     "output_type": "stream",
     "text": [
      "Your word, Pineapple, comes before banana.\n"
     ]
    }
   ],
   "source": [
    "if word < \"banana\"\n",
    "    println(\"Your word, $word, comes before banana.\")\n",
    "elseif word > \"banana\"\n",
    "    println(\"Your word, $word, comes after banana.\")\n",
    "else\n",
    "    println(\"All right, bananas.\")\n",
    "end"
   ]
  },
  {
   "cell_type": "markdown",
   "metadata": {},
   "source": [
    "Julia does not handle uppercase and lowercase letters the same way people do. All the uppercase letters come before all the\n",
    "lowercase letters.  To circumvent this, we may convert strings to a standard format, such as all lowercase, before performing the comparison."
   ]
  },
  {
   "cell_type": "code",
   "execution_count": 46,
   "metadata": {},
   "outputs": [
    {
     "name": "stdout",
     "output_type": "stream",
     "text": [
      "Your word, Pineapple, comes after banana.\n"
     ]
    }
   ],
   "source": [
    "if lowercase(word) < \"banana\"\n",
    "    println(\"Your word, $word, comes before banana.\")\n",
    "elseif lowercase(word) > \"banana\"\n",
    "    println(\"Your word, $word, comes after banana.\")\n",
    "else\n",
    "    println(\"All right, bananas.\")\n",
    "end"
   ]
  },
  {
   "cell_type": "markdown",
   "metadata": {},
   "source": [
    "### Debugging\n",
    "\n",
    "When you use indices to traverse the values in a sequence, it is tricky to get the beginning and end of the traversal right. Here is a function that is supposed to compare two words and return true if one of the words is the reverse of the other, but it contains two errors:"
   ]
  },
  {
   "cell_type": "code",
   "execution_count": 48,
   "metadata": {},
   "outputs": [
    {
     "data": {
      "text/plain": [
       "isreverse (generic function with 1 method)"
      ]
     },
     "execution_count": 48,
     "metadata": {},
     "output_type": "execute_result"
    }
   ],
   "source": [
    "function isreverse(word1, word2)\n",
    "    if length(word1) != length(word2)\n",
    "        return false\n",
    "    end\n",
    "    i = firstindex(word1)\n",
    "    j = lastindex(word2)\n",
    "    while j >= 0\n",
    "        j = prevind(word2, j)\n",
    "        if word1[i] != word2[j]\n",
    "            return false\n",
    "        end\n",
    "        i = nextind(word1, i)\n",
    "    end\n",
    "    true\n",
    "end"
   ]
  },
  {
   "cell_type": "markdown",
   "metadata": {},
   "source": [
    "If we test this function with the words \"pots\" and \"stop\", we expect the return value true , but we get false."
   ]
  },
  {
   "cell_type": "code",
   "execution_count": 49,
   "metadata": {},
   "outputs": [
    {
     "data": {
      "text/plain": [
       "false"
      ]
     },
     "execution_count": 49,
     "metadata": {},
     "output_type": "execute_result"
    }
   ],
   "source": [
    "isreverse(\"pots\", \"stop\")"
   ]
  },
  {
   "cell_type": "markdown",
   "metadata": {},
   "source": [
    "For debugging this kind of error, our first move is to print the values of the indices:"
   ]
  },
  {
   "cell_type": "code",
   "execution_count": 50,
   "metadata": {},
   "outputs": [
    {
     "data": {
      "text/plain": [
       "isreverse (generic function with 1 method)"
      ]
     },
     "execution_count": 50,
     "metadata": {},
     "output_type": "execute_result"
    }
   ],
   "source": [
    "function isreverse(word1, word2)\n",
    "    if length(word1) != length(word2)\n",
    "        return false\n",
    "    end\n",
    "    i = firstindex(word1)\n",
    "    j = lastindex(word2)\n",
    "    while j >= 0\n",
    "        j = prevind(word2, j)\n",
    "        @show i, j\n",
    "        if word1[i] != word2[j]\n",
    "            return false\n",
    "        end\n",
    "        i = nextind(word1, i)\n",
    "    end\n",
    "    true\n",
    "end"
   ]
  },
  {
   "cell_type": "code",
   "execution_count": 51,
   "metadata": {},
   "outputs": [
    {
     "name": "stdout",
     "output_type": "stream",
     "text": [
      "(i, j) = (1, 3)\n"
     ]
    },
    {
     "data": {
      "text/plain": [
       "false"
      ]
     },
     "execution_count": 51,
     "metadata": {},
     "output_type": "execute_result"
    }
   ],
   "source": [
    "isreverse(\"pots\", \"stop\")"
   ]
  },
  {
   "cell_type": "markdown",
   "metadata": {},
   "source": [
    "The first time through the loop, the value of $j$ is 3, which has to be 4. This can be fixed by moving `j = prevind(word2, j)` to the end of the while loop.\n",
    "\n",
    "If we fix that error and run the program again, we get:"
   ]
  },
  {
   "cell_type": "code",
   "execution_count": 52,
   "metadata": {},
   "outputs": [
    {
     "name": "stdout",
     "output_type": "stream",
     "text": [
      "(i, j) = (1, 4)\n",
      "(i, j) = (2, 3)\n",
      "(i, j) = (3, 2)\n",
      "(i, j) = (4, 1)\n",
      "(i, j) = (5, 0)\n"
     ]
    },
    {
     "ename": "BoundsError",
     "evalue": "BoundsError: attempt to access \"pots\"\n  at index [5]",
     "output_type": "error",
     "traceback": [
      "BoundsError: attempt to access \"pots\"\n  at index [5]",
      "",
      "Stacktrace:",
      " [1] checkbounds at .\\strings\\basic.jl:193 [inlined]",
      " [2] codeunit at .\\strings\\string.jl:89 [inlined]",
      " [3] getindex at .\\strings\\string.jl:207 [inlined]",
      " [4] isreverse(::String, ::String) at .\\In[52]:9",
      " [5] top-level scope at In[52]:17"
     ]
    }
   ],
   "source": [
    "function isreverse(word1, word2)\n",
    "    if length(word1) != length(word2)\n",
    "        return false\n",
    "    end\n",
    "    i = firstindex(word1)\n",
    "    j = lastindex(word2)\n",
    "    while j >= 0\n",
    "        @show i, j\n",
    "        if word1[i] != word2[j]\n",
    "            return false\n",
    "        end\n",
    "        i = nextind(word1, i)\n",
    "        j = prevind(word2, j)\n",
    "    end\n",
    "    true\n",
    "end\n",
    "\n",
    "isreverse(\"pots\", \"stop\")"
   ]
  },
  {
   "cell_type": "markdown",
   "metadata": {},
   "source": [
    "### Exercise 8-6\n",
    "\n",
    "Run the program on paper, changing the values of $i$ and $j$ during each iteration. Find and fix the second error in this function."
   ]
  },
  {
   "cell_type": "code",
   "execution_count": 54,
   "metadata": {},
   "outputs": [
    {
     "name": "stdout",
     "output_type": "stream",
     "text": [
      "(i, j) = (1, 4)\n",
      "(i, j) = (2, 3)\n",
      "(i, j) = (3, 2)\n",
      "(i, j) = (4, 1)\n"
     ]
    },
    {
     "data": {
      "text/plain": [
       "true"
      ]
     },
     "execution_count": 54,
     "metadata": {},
     "output_type": "execute_result"
    }
   ],
   "source": [
    "function isreverse(word1, word2)\n",
    "    \n",
    "    if length(word1) != length(word2)\n",
    "        return false\n",
    "    end\n",
    "    \n",
    "    i = firstindex(word1)\n",
    "    j = lastindex(word2)\n",
    "    \n",
    "    while j > 0\n",
    "        @show i, j\n",
    "        if word1[i] != word2[j]\n",
    "            return false\n",
    "        end\n",
    "        i = nextind(word1, i)\n",
    "        j = prevind(word2, j)\n",
    "    end\n",
    "    \n",
    "    return true  # just \"true\" would also work\n",
    "    \n",
    "end\n",
    "\n",
    "isreverse(\"pots\", \"stop\")"
   ]
  },
  {
   "cell_type": "markdown",
   "metadata": {},
   "source": [
    "### Exercise 8-8\n",
    "\n",
    "There is a built-in function called `count` that is similar to the function in Looping and Counting. Read the documentation of this function and use it to count the number of a’s in \"banana\"."
   ]
  },
  {
   "cell_type": "code",
   "execution_count": 55,
   "metadata": {},
   "outputs": [
    {
     "name": "stdout",
     "output_type": "stream",
     "text": [
      "search: \u001b[0m\u001b[1mc\u001b[22m\u001b[0m\u001b[1mo\u001b[22m\u001b[0m\u001b[1mu\u001b[22m\u001b[0m\u001b[1mn\u001b[22m\u001b[0m\u001b[1mt\u001b[22m \u001b[0m\u001b[1mc\u001b[22m\u001b[0m\u001b[1mo\u001b[22m\u001b[0m\u001b[1mu\u001b[22m\u001b[0m\u001b[1mn\u001b[22m\u001b[0m\u001b[1mt\u001b[22mlines \u001b[0m\u001b[1mc\u001b[22m\u001b[0m\u001b[1mo\u001b[22m\u001b[0m\u001b[1mu\u001b[22m\u001b[0m\u001b[1mn\u001b[22m\u001b[0m\u001b[1mt\u001b[22m_ones \u001b[0m\u001b[1mc\u001b[22m\u001b[0m\u001b[1mo\u001b[22m\u001b[0m\u001b[1mu\u001b[22m\u001b[0m\u001b[1mn\u001b[22m\u001b[0m\u001b[1mt\u001b[22m_zeros field\u001b[0m\u001b[1mc\u001b[22m\u001b[0m\u001b[1mo\u001b[22m\u001b[0m\u001b[1mu\u001b[22m\u001b[0m\u001b[1mn\u001b[22m\u001b[0m\u001b[1mt\u001b[22m \u001b[0m\u001b[1mc\u001b[22m\u001b[0m\u001b[1mo\u001b[22mde\u001b[0m\u001b[1mu\u001b[22m\u001b[0m\u001b[1mn\u001b[22mi\u001b[0m\u001b[1mt\u001b[22m \u001b[0m\u001b[1mc\u001b[22m\u001b[0m\u001b[1mo\u001b[22mde\u001b[0m\u001b[1mu\u001b[22m\u001b[0m\u001b[1mn\u001b[22mi\u001b[0m\u001b[1mt\u001b[22ms\n",
      "\n"
     ]
    },
    {
     "data": {
      "text/latex": [
       "No documentation found.\n",
       "\n",
       "\\texttt{count} is a \\texttt{Function}.\n",
       "\n",
       "\\begin{verbatim}\n",
       "# 1 method for generic function \"count\":\n",
       "[1] count(string, letter) in Main at In[36]:3\n",
       "\\end{verbatim}\n"
      ],
      "text/markdown": [
       "No documentation found.\n",
       "\n",
       "`count` is a `Function`.\n",
       "\n",
       "```\n",
       "# 1 method for generic function \"count\":\n",
       "[1] count(string, letter) in Main at In[36]:3\n",
       "```\n"
      ],
      "text/plain": [
       "  No documentation found.\n",
       "\n",
       "  \u001b[36mcount\u001b[39m is a \u001b[36mFunction\u001b[39m.\n",
       "\n",
       "\u001b[36m  # 1 method for generic function \"count\":\u001b[39m\n",
       "\u001b[36m  [1] count(string, letter) in Main at In[36]:3\u001b[39m"
      ]
     },
     "execution_count": 55,
     "metadata": {},
     "output_type": "execute_result"
    }
   ],
   "source": [
    "?count"
   ]
  },
  {
   "cell_type": "code",
   "execution_count": 56,
   "metadata": {},
   "outputs": [
    {
     "data": {
      "text/plain": [
       "3"
      ]
     },
     "execution_count": 56,
     "metadata": {},
     "output_type": "execute_result"
    }
   ],
   "source": [
    "count(\"banana\",'a')"
   ]
  },
  {
   "cell_type": "markdown",
   "metadata": {},
   "source": [
    "### Exercise 8-9\n",
    "\n",
    "A string slice can take a third index. The first specifies the start, the third the end and the second the “step size”; that is, the number of spaces between successive characters. A step size of 2 means every other character; 3 means every third, etc. \n"
   ]
  },
  {
   "cell_type": "code",
   "execution_count": 60,
   "metadata": {},
   "outputs": [
    {
     "data": {
      "text/plain": [
       "\"bnn\""
      ]
     },
     "execution_count": 60,
     "metadata": {},
     "output_type": "execute_result"
    }
   ],
   "source": [
    "fruit = \"banana\"; fruit[1:2:end]"
   ]
  },
  {
   "cell_type": "markdown",
   "metadata": {},
   "source": [
    "A step size of -1 goes through the word backwards, so the slice [end:-1:1] generates a reversed string. Use this idiom to write a one-line version of `ispalindrome` from Exercise 6-6."
   ]
  },
  {
   "cell_type": "code",
   "execution_count": 57,
   "metadata": {},
   "outputs": [
    {
     "data": {
      "text/plain": [
       "ispalindrome (generic function with 1 method)"
      ]
     },
     "execution_count": 57,
     "metadata": {},
     "output_type": "execute_result"
    }
   ],
   "source": [
    "function ispalindrome(word)\n",
    "    \n",
    "    word == word[end:-1:1]\n",
    "    \n",
    "end"
   ]
  },
  {
   "cell_type": "code",
   "execution_count": 58,
   "metadata": {},
   "outputs": [
    {
     "data": {
      "text/plain": [
       "true"
      ]
     },
     "execution_count": 58,
     "metadata": {},
     "output_type": "execute_result"
    }
   ],
   "source": [
    "ispalindrome(\"spops\")"
   ]
  },
  {
   "cell_type": "code",
   "execution_count": 59,
   "metadata": {},
   "outputs": [
    {
     "data": {
      "text/plain": [
       "false"
      ]
     },
     "execution_count": 59,
     "metadata": {},
     "output_type": "execute_result"
    }
   ],
   "source": [
    "ispalindrome(\"pops\")"
   ]
  },
  {
   "cell_type": "markdown",
   "metadata": {},
   "source": [
    "### Exercise 8-10\n",
    "\n",
    "The following functions are all intended to check whether a string contains any lowercase letters, but at least some of them are wrong. For each function, describe what the function actually does (assuming that the parameter is a string)."
   ]
  },
  {
   "cell_type": "code",
   "execution_count": 61,
   "metadata": {},
   "outputs": [
    {
     "data": {
      "text/plain": [
       "anylowercase5 (generic function with 1 method)"
      ]
     },
     "execution_count": 61,
     "metadata": {},
     "output_type": "execute_result"
    }
   ],
   "source": [
    "function anylowercase1(s)\n",
    "    for c in s\n",
    "        if islowercase(c)\n",
    "            return true\n",
    "        else\n",
    "            return false\n",
    "        end\n",
    "    end\n",
    "end\n",
    "\n",
    "\n",
    "function anylowercase2(s)\n",
    "    for c in s\n",
    "        if islowercase('c')\n",
    "            return \"true\"\n",
    "        else\n",
    "            return \"false\"\n",
    "        end\n",
    "    end\n",
    "end\n",
    "\n",
    "\n",
    "function anylowercase3(s)\n",
    "    for c in s\n",
    "        flag = islowercase(c)\n",
    "    end\n",
    "    flag\n",
    "end\n",
    "\n",
    "\n",
    "function anylowercase4(s)\n",
    "    flag = false\n",
    "    for c in s\n",
    "        flag = flag || islowercase(c)\n",
    "    end\n",
    "    flag\n",
    "end\n",
    "\n",
    "\n",
    "function anylowercase5(s)\n",
    "    for c in s\n",
    "        if !islowercase(c)\n",
    "            return false\n",
    "        end\n",
    "    end\n",
    "    true\n",
    "end"
   ]
  },
  {
   "cell_type": "code",
   "execution_count": 63,
   "metadata": {},
   "outputs": [
    {
     "data": {
      "text/plain": [
       "(false, \"true\", true, false)"
      ]
     },
     "execution_count": 63,
     "metadata": {},
     "output_type": "execute_result"
    }
   ],
   "source": [
    "anylowercase1(\"HELlO\"), anylowercase2(\"HELlO\"), anylowercase4(\"HELlO\"), anylowercase5(\"HELlO\")"
   ]
  },
  {
   "cell_type": "code",
   "execution_count": 64,
   "metadata": {},
   "outputs": [
    {
     "ename": "UndefVarError",
     "evalue": "UndefVarError: flag not defined",
     "output_type": "error",
     "traceback": [
      "UndefVarError: flag not defined",
      "",
      "Stacktrace:",
      " [1] anylowercase3(::String) at .\\In[61]:27",
      " [2] top-level scope at In[64]:1"
     ]
    }
   ],
   "source": [
    "anylowercase3(\"HELlO\")"
   ]
  },
  {
   "cell_type": "code",
   "execution_count": 66,
   "metadata": {},
   "outputs": [
    {
     "data": {
      "text/plain": [
       "anylowercase7 (generic function with 1 method)"
      ]
     },
     "execution_count": 66,
     "metadata": {},
     "output_type": "execute_result"
    }
   ],
   "source": [
    "function anylowercase7(s)\n",
    "    for c in s\n",
    "        if islowercase(c)\n",
    "            return true\n",
    "        end\n",
    "    end\n",
    "    false\n",
    "end"
   ]
  },
  {
   "cell_type": "code",
   "execution_count": 67,
   "metadata": {},
   "outputs": [
    {
     "data": {
      "text/plain": [
       "true"
      ]
     },
     "execution_count": 67,
     "metadata": {},
     "output_type": "execute_result"
    }
   ],
   "source": [
    "anylowercase7(\"HELlO\")"
   ]
  },
  {
   "cell_type": "markdown",
   "metadata": {},
   "source": [
    "### Exercise 8-11\n",
    "\n",
    "A Caesar cypher is a weak form of encryption that involves “rotating” each letter by a fixed number of places. To rotate a letter means to shift it through the alphabet, wrapping around to the beginning if necessary, so ’A’ rotated by 3 is ’D’ and ’Z’ rotated by 1 is ’A’. To rotate a word, rotate each letter by the same amount. For example, \"cheer\" rotated by 7 is \"jolly\" and \"melon\" rotated by -10 is \"cubed\" . In the movie 2001: A Space Odyssey, the ship computer is called HAL, which is IBM  rotated by -1. \n",
    "\n",
    "Write a function called `rotateword` that takes a string and an integer as parameters, and returns a new string  that contains the letters from the original string rotated by the given amount.\n",
    "\n",
    "TIPS: \n",
    "\n",
    "1) You might want to use the built-in function `Int`, which converts a character to a numeric code, and `Char`, which converts numeric codes to characters. Letters of the alphabet are encoded in alphabetical order, so for example:\n"
   ]
  },
  {
   "cell_type": "code",
   "execution_count": 92,
   "metadata": {},
   "outputs": [
    {
     "data": {
      "text/plain": [
       "2"
      ]
     },
     "execution_count": 92,
     "metadata": {},
     "output_type": "execute_result"
    }
   ],
   "source": [
    "Int('c') - Int('a')"
   ]
  },
  {
   "cell_type": "markdown",
   "metadata": {},
   "source": [
    "because c is the third letter of the alphabet. But beware: the numeric codes for uppercase letters are\n",
    "different."
   ]
  },
  {
   "cell_type": "code",
   "execution_count": 93,
   "metadata": {},
   "outputs": [
    {
     "data": {
      "text/plain": [
       "'a': ASCII/Unicode U+0061 (category Ll: Letter, lowercase)"
      ]
     },
     "execution_count": 93,
     "metadata": {},
     "output_type": "execute_result"
    }
   ],
   "source": [
    "Char(Int('A') + 32)"
   ]
  },
  {
   "cell_type": "markdown",
   "metadata": {},
   "source": [
    "2) To map indices of wrapped-around-arrays, which can go both positive and negative, one may want to use the modulus operators twice:  (nominal index % period + period) % period.\n",
    "\n",
    "Also, you may want to first shift the lower case letters and the upper case letters by different amounts (with respect to 'A' or 'a')."
   ]
  },
  {
   "cell_type": "code",
   "execution_count": 95,
   "metadata": {},
   "outputs": [
    {
     "data": {
      "text/plain": [
       "'Z': ASCII/Unicode U+005a (category Lu: Letter, uppercase)"
      ]
     },
     "execution_count": 95,
     "metadata": {},
     "output_type": "execute_result"
    }
   ],
   "source": [
    "r = -27\n",
    "Char( ( (Int('A')-Int('A')+r)%26 + 26 )%26 + Int('A') )"
   ]
  },
  {
   "cell_type": "code",
   "execution_count": 96,
   "metadata": {},
   "outputs": [
    {
     "data": {
      "text/plain": [
       "'z': ASCII/Unicode U+007a (category Ll: Letter, lowercase)"
      ]
     },
     "execution_count": 96,
     "metadata": {},
     "output_type": "execute_result"
    }
   ],
   "source": [
    "r = -27\n",
    "Char( ( (Int('a')-Int('a')+r)%26 + 26 )%26 + Int('a') )"
   ]
  },
  {
   "cell_type": "code",
   "execution_count": 100,
   "metadata": {},
   "outputs": [
    {
     "data": {
      "text/plain": [
       "rotateword (generic function with 1 method)"
      ]
     },
     "execution_count": 100,
     "metadata": {},
     "output_type": "execute_result"
    }
   ],
   "source": [
    "function rotateword(input_string, shift_amount)\n",
    "    \n",
    "    rotated_string = \"\"\n",
    "    \n",
    "    for c in input_string\n",
    "    \n",
    "        if islowercase(c)\n",
    "            offset = Int('a')\n",
    "        else\n",
    "            offset = Int('A')\n",
    "        end\n",
    "        \n",
    "        new_char = Char( ( (Int(c)-offset+shift_amount)%26 + 26 )%26 + offset)\n",
    "        \n",
    "        rotated_string = rotated_string * new_char\n",
    "        \n",
    "    end\n",
    "    \n",
    "    return rotated_string\n",
    "    \n",
    "end\n",
    "\n",
    "        \n",
    "            \n",
    "            "
   ]
  },
  {
   "cell_type": "code",
   "execution_count": 101,
   "metadata": {},
   "outputs": [
    {
     "data": {
      "text/plain": [
       "(\"HAL\", \"jolly\", \"cubed\")"
      ]
     },
     "execution_count": 101,
     "metadata": {},
     "output_type": "execute_result"
    }
   ],
   "source": [
    "rotateword(\"IBM\", -1), rotateword(\"cheer\",7), rotateword(\"melon\", -10)"
   ]
  },
  {
   "cell_type": "code",
   "execution_count": null,
   "metadata": {},
   "outputs": [],
   "source": []
  }
 ],
 "metadata": {
  "@webio": {
   "lastCommId": null,
   "lastKernelId": null
  },
  "kernelspec": {
   "display_name": "Julia 1.4.0",
   "language": "julia",
   "name": "julia-1.4"
  },
  "language_info": {
   "file_extension": ".jl",
   "mimetype": "application/julia",
   "name": "julia",
   "version": "1.4.0"
  }
 },
 "nbformat": 4,
 "nbformat_minor": 2
}
