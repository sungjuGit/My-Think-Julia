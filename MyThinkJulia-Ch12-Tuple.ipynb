{
 "cells": [
  {
   "cell_type": "markdown",
   "metadata": {},
   "source": [
    "# Ch 12: Tuples\n"
   ]
  },
  {
   "cell_type": "markdown",
   "metadata": {},
   "source": [
    "### Tuples Are Immutable\n",
    "\n",
    "A tuple is a sequence of values. The values can be of any type, and they are indexed by integers, so in that respect tuples are a lot like arrays. The important difference is that tuples are immutable and that each element can have its own type. \n",
    "\n",
    "Syntactically, a tuple is a comma-separated list of values:"
   ]
  },
  {
   "cell_type": "code",
   "execution_count": 1,
   "metadata": {},
   "outputs": [
    {
     "data": {
      "text/plain": [
       "('a', 'b', 'c', 'd', 'e')"
      ]
     },
     "execution_count": 1,
     "metadata": {},
     "output_type": "execute_result"
    }
   ],
   "source": [
    "t = 'a', 'b', 'c', 'd', 'e'"
   ]
  },
  {
   "cell_type": "markdown",
   "metadata": {},
   "source": [
    "Although it is not necessary, it is common to enclose tuples in parentheses (I would strongly recommend this practice):"
   ]
  },
  {
   "cell_type": "code",
   "execution_count": 2,
   "metadata": {},
   "outputs": [
    {
     "data": {
      "text/plain": [
       "('a', 'b', 'c', 'd', 'e')"
      ]
     },
     "execution_count": 2,
     "metadata": {},
     "output_type": "execute_result"
    }
   ],
   "source": [
    "t = ('a', 'b', 'c', 'd', 'e')"
   ]
  },
  {
   "cell_type": "markdown",
   "metadata": {},
   "source": [
    "To create a tuple with a single element, you have to include a final comma:"
   ]
  },
  {
   "cell_type": "code",
   "execution_count": 3,
   "metadata": {},
   "outputs": [
    {
     "data": {
      "text/plain": [
       "Tuple{Char}"
      ]
     },
     "execution_count": 3,
     "metadata": {},
     "output_type": "execute_result"
    }
   ],
   "source": [
    "t1 = ('a',)\n",
    "typeof(t1)"
   ]
  },
  {
   "cell_type": "markdown",
   "metadata": {},
   "source": [
    "A value in parentheses without comma is not a tuple:"
   ]
  },
  {
   "cell_type": "code",
   "execution_count": 4,
   "metadata": {},
   "outputs": [
    {
     "data": {
      "text/plain": [
       "'a': ASCII/Unicode U+0061 (category Ll: Letter, lowercase)"
      ]
     },
     "execution_count": 4,
     "metadata": {},
     "output_type": "execute_result"
    }
   ],
   "source": [
    "t2 = ('a')"
   ]
  },
  {
   "cell_type": "code",
   "execution_count": 5,
   "metadata": {},
   "outputs": [
    {
     "data": {
      "text/plain": [
       "Char"
      ]
     },
     "execution_count": 5,
     "metadata": {},
     "output_type": "execute_result"
    }
   ],
   "source": [
    "typeof(t2)"
   ]
  },
  {
   "cell_type": "markdown",
   "metadata": {},
   "source": [
    "Another way to create a tuple is the built-in function tuple. With no argument, it creates an empty tuple:"
   ]
  },
  {
   "cell_type": "code",
   "execution_count": 6,
   "metadata": {},
   "outputs": [
    {
     "data": {
      "text/plain": [
       "()"
      ]
     },
     "execution_count": 6,
     "metadata": {},
     "output_type": "execute_result"
    }
   ],
   "source": [
    "tuple()"
   ]
  },
  {
   "cell_type": "markdown",
   "metadata": {},
   "source": [
    "If multiple arguments are provided, the result is a tuple with the given arguments:"
   ]
  },
  {
   "cell_type": "code",
   "execution_count": 7,
   "metadata": {},
   "outputs": [
    {
     "data": {
      "text/plain": [
       "(1, 'a', π)"
      ]
     },
     "execution_count": 7,
     "metadata": {},
     "output_type": "execute_result"
    }
   ],
   "source": [
    "t3 = tuple(1, 'a', pi)"
   ]
  },
  {
   "cell_type": "markdown",
   "metadata": {},
   "source": [
    "Most array operators also work on tuples. The bracket operator indexes an element:"
   ]
  },
  {
   "cell_type": "code",
   "execution_count": 10,
   "metadata": {},
   "outputs": [
    {
     "data": {
      "text/plain": [
       "'a': ASCII/Unicode U+0061 (category Ll: Letter, lowercase)"
      ]
     },
     "execution_count": 10,
     "metadata": {},
     "output_type": "execute_result"
    }
   ],
   "source": [
    "t = ('a', 'b', 'c', 'd', 'e');\n",
    "t[1]"
   ]
  },
  {
   "cell_type": "markdown",
   "metadata": {},
   "source": [
    "And the slice operator selects a range of elements:"
   ]
  },
  {
   "cell_type": "code",
   "execution_count": 11,
   "metadata": {},
   "outputs": [
    {
     "data": {
      "text/plain": [
       "('b', 'c', 'd')"
      ]
     },
     "execution_count": 11,
     "metadata": {},
     "output_type": "execute_result"
    }
   ],
   "source": [
    "t[2:4]"
   ]
  },
  {
   "cell_type": "markdown",
   "metadata": {},
   "source": [
    "But if you try to modify one of the elements of the tuple, you get an error. Because tuples are immutable, you can’t modify the elements!"
   ]
  },
  {
   "cell_type": "code",
   "execution_count": 12,
   "metadata": {},
   "outputs": [
    {
     "ename": "MethodError",
     "evalue": "MethodError: no method matching setindex!(::NTuple{5,Char}, ::Char, ::Int64)",
     "output_type": "error",
     "traceback": [
      "MethodError: no method matching setindex!(::NTuple{5,Char}, ::Char, ::Int64)",
      "",
      "Stacktrace:",
      " [1] top-level scope at In[12]:1"
     ]
    }
   ],
   "source": [
    "t[1] = 'A'"
   ]
  },
  {
   "cell_type": "markdown",
   "metadata": {},
   "source": [
    "**The relational operators work with tuples and other sequences;** Julia starts by comparing the first element from each sequence. If they are equal, it goes on to the next elements, and so on, until it finds elements that differ. Subsequent elements are not considered (even if they are really big)."
   ]
  },
  {
   "cell_type": "code",
   "execution_count": 13,
   "metadata": {},
   "outputs": [
    {
     "data": {
      "text/plain": [
       "true"
      ]
     },
     "execution_count": 13,
     "metadata": {},
     "output_type": "execute_result"
    }
   ],
   "source": [
    "(0, 1, 2) < (0, 3, 4)"
   ]
  },
  {
   "cell_type": "code",
   "execution_count": 14,
   "metadata": {},
   "outputs": [
    {
     "data": {
      "text/plain": [
       "true"
      ]
     },
     "execution_count": 14,
     "metadata": {},
     "output_type": "execute_result"
    }
   ],
   "source": [
    "(0, 1, 2000000) < (0, 3, 4)"
   ]
  },
  {
   "cell_type": "markdown",
   "metadata": {},
   "source": [
    "### Tuple Assignment\n",
    "\n",
    "It is often useful to swap the values of two variables. With conventional assignments, you have to use a temporary variable. For example, to swap $a$ and $b$:"
   ]
  },
  {
   "cell_type": "code",
   "execution_count": 17,
   "metadata": {},
   "outputs": [
    {
     "data": {
      "text/plain": [
       "(2, 1)"
      ]
     },
     "execution_count": 17,
     "metadata": {},
     "output_type": "execute_result"
    }
   ],
   "source": [
    "a = 1\n",
    "b = 2\n",
    "temp = a\n",
    "a = b\n",
    "b = temp\n",
    "a, b"
   ]
  },
  {
   "cell_type": "markdown",
   "metadata": {},
   "source": [
    "This solution is cumbersome; tuple assignment is more elegant:"
   ]
  },
  {
   "cell_type": "code",
   "execution_count": 18,
   "metadata": {},
   "outputs": [
    {
     "data": {
      "text/plain": [
       "(1, 2)"
      ]
     },
     "execution_count": 18,
     "metadata": {},
     "output_type": "execute_result"
    }
   ],
   "source": [
    "a, b = b, a"
   ]
  },
  {
   "cell_type": "markdown",
   "metadata": {},
   "source": [
    "Each value is assigned to its respective variable. All the expressions on the right side are evaluated before any of the assignments."
   ]
  },
  {
   "cell_type": "markdown",
   "metadata": {},
   "source": [
    "**The number of variables on the left has to be fewer than the number of values on the right:**"
   ]
  },
  {
   "cell_type": "code",
   "execution_count": 22,
   "metadata": {},
   "outputs": [
    {
     "data": {
      "text/plain": [
       "(1, 2, 3)"
      ]
     },
     "execution_count": 22,
     "metadata": {},
     "output_type": "execute_result"
    }
   ],
   "source": [
    "(a, b) = (1, 2, 3)"
   ]
  },
  {
   "cell_type": "code",
   "execution_count": 23,
   "metadata": {},
   "outputs": [
    {
     "data": {
      "text/plain": [
       "1"
      ]
     },
     "execution_count": 23,
     "metadata": {},
     "output_type": "execute_result"
    }
   ],
   "source": [
    "a"
   ]
  },
  {
   "cell_type": "code",
   "execution_count": 24,
   "metadata": {},
   "outputs": [
    {
     "data": {
      "text/plain": [
       "2"
      ]
     },
     "execution_count": 24,
     "metadata": {},
     "output_type": "execute_result"
    }
   ],
   "source": [
    "b"
   ]
  },
  {
   "cell_type": "code",
   "execution_count": 20,
   "metadata": {},
   "outputs": [
    {
     "ename": "BoundsError",
     "evalue": "BoundsError: attempt to access (1, 2)\n  at index [3]",
     "output_type": "error",
     "traceback": [
      "BoundsError: attempt to access (1, 2)\n  at index [3]",
      "",
      "Stacktrace:",
      " [1] indexed_iterate(::Tuple{Int64,Int64}, ::Int64, ::Int64) at .\\tuple.jl:63",
      " [2] top-level scope at In[20]:1"
     ]
    }
   ],
   "source": [
    "a, b, c = 1, 2"
   ]
  },
  {
   "cell_type": "markdown",
   "metadata": {},
   "source": [
    "More generally, the right side can be any kind of sequence (string, array or tuple). For example, to split an email address into a user name and a domain, you could write:"
   ]
  },
  {
   "cell_type": "code",
   "execution_count": 25,
   "metadata": {},
   "outputs": [],
   "source": [
    "addr = \"julius.caesar@rome\"\n",
    "uname, domain = split(addr, '@');"
   ]
  },
  {
   "cell_type": "code",
   "execution_count": 26,
   "metadata": {},
   "outputs": [
    {
     "data": {
      "text/plain": [
       "(\"julius.caesar\", \"rome\")"
      ]
     },
     "execution_count": 26,
     "metadata": {},
     "output_type": "execute_result"
    }
   ],
   "source": [
    "uname, domain"
   ]
  },
  {
   "cell_type": "markdown",
   "metadata": {},
   "source": [
    "### Tuples as Return Values\n",
    "\n",
    "Strictly speaking, a function can only return one value, but if the value is a tuple, the effect is the same as returning multiple values. For example, if you want to divide two integers and compute the quotient and remainder, it is inefficient to compute `x ÷ y` and then `x % y`. It is better to compute them both at the same time.\n",
    "\n",
    "The built-in function divrem takes two arguments and returns a tuple of two values, the quotient and remainder. You can store the result as a tuple:\n"
   ]
  },
  {
   "cell_type": "code",
   "execution_count": 27,
   "metadata": {},
   "outputs": [
    {
     "data": {
      "text/plain": [
       "(2, 1)"
      ]
     },
     "execution_count": 27,
     "metadata": {},
     "output_type": "execute_result"
    }
   ],
   "source": [
    "t = divrem(7, 3)"
   ]
  },
  {
   "cell_type": "code",
   "execution_count": 29,
   "metadata": {},
   "outputs": [
    {
     "name": "stdout",
     "output_type": "stream",
     "text": [
      "q = 2\n",
      "r = 1\n"
     ]
    }
   ],
   "source": [
    "q, r = divrem(7, 3);\n",
    "@show q r;"
   ]
  },
  {
   "cell_type": "markdown",
   "metadata": {},
   "source": [
    "### Variable-length Argument Tuples\n",
    "\n",
    "Functions can take a variable number of arguments. A parameter name that ends with `...` **gathers arguments into a tuple**. For example, printall takes any number of arguments and prints them. The gather parameter can have any name you like, but `args` is conventional."
   ]
  },
  {
   "cell_type": "code",
   "execution_count": 30,
   "metadata": {},
   "outputs": [
    {
     "data": {
      "text/plain": [
       "printall (generic function with 1 method)"
      ]
     },
     "execution_count": 30,
     "metadata": {},
     "output_type": "execute_result"
    }
   ],
   "source": [
    "function printall(args...)\n",
    "    println(args)\n",
    "end"
   ]
  },
  {
   "cell_type": "code",
   "execution_count": 31,
   "metadata": {},
   "outputs": [
    {
     "name": "stdout",
     "output_type": "stream",
     "text": [
      "(1, 2.0, '3')\n"
     ]
    }
   ],
   "source": [
    "printall(1, 2.0, '3')"
   ]
  },
  {
   "cell_type": "markdown",
   "metadata": {},
   "source": [
    "The complement of gather is **scatter**. If you have a sequence of values and you want to pass it to a function as multiple\n",
    "arguments, you can use the ... operator. \n",
    "\n",
    "For example, `divrem` takes exactly two arguments; it doesn’t work with a tuple:"
   ]
  },
  {
   "cell_type": "code",
   "execution_count": 32,
   "metadata": {},
   "outputs": [
    {
     "ename": "MethodError",
     "evalue": "MethodError: no method matching divrem(::Tuple{Int64,Int64})\nClosest candidates are:\n  divrem(::T, !Matched::Base.MultiplicativeInverses.MultiplicativeInverse{T}) where T at multinverses.jl:152\n  divrem(::Any, !Matched::Any) at number.jl:105\n  divrem(!Matched::BigInt, !Matched::BigInt) at gmp.jl:500",
     "output_type": "error",
     "traceback": [
      "MethodError: no method matching divrem(::Tuple{Int64,Int64})\nClosest candidates are:\n  divrem(::T, !Matched::Base.MultiplicativeInverses.MultiplicativeInverse{T}) where T at multinverses.jl:152\n  divrem(::Any, !Matched::Any) at number.jl:105\n  divrem(!Matched::BigInt, !Matched::BigInt) at gmp.jl:500",
      "",
      "Stacktrace:",
      " [1] top-level scope at In[32]:2"
     ]
    }
   ],
   "source": [
    "t = (7, 3);\n",
    "divrem(t)"
   ]
  },
  {
   "cell_type": "code",
   "execution_count": 33,
   "metadata": {},
   "outputs": [
    {
     "data": {
      "text/plain": [
       "(2, 1)"
      ]
     },
     "execution_count": 33,
     "metadata": {},
     "output_type": "execute_result"
    }
   ],
   "source": [
    "divrem(t...)"
   ]
  },
  {
   "cell_type": "markdown",
   "metadata": {},
   "source": [
    "In the Julia world, gather is often called “slurp” and scatter “splat”."
   ]
  },
  {
   "cell_type": "markdown",
   "metadata": {},
   "source": [
    "### Exercise 12-1\n",
    "\n",
    "Many of the built-in functions use variable-length argument tuples. But sum does not.  Write a function called `sumall` that takes any number of arguments and returns their sum.\n"
   ]
  },
  {
   "cell_type": "code",
   "execution_count": 38,
   "metadata": {},
   "outputs": [
    {
     "data": {
      "text/plain": [
       "sumall (generic function with 1 method)"
      ]
     },
     "execution_count": 38,
     "metadata": {},
     "output_type": "execute_result"
    }
   ],
   "source": [
    "function sumall(args...)\n",
    "    total = 0\n",
    "    for arg in args\n",
    "        total += arg\n",
    "    end\n",
    "    return total\n",
    "end"
   ]
  },
  {
   "cell_type": "code",
   "execution_count": 39,
   "metadata": {},
   "outputs": [
    {
     "data": {
      "text/plain": [
       "10"
      ]
     },
     "execution_count": 39,
     "metadata": {},
     "output_type": "execute_result"
    }
   ],
   "source": [
    "sumall(1,2,3,4)"
   ]
  },
  {
   "cell_type": "markdown",
   "metadata": {},
   "source": [
    "### Arrays and Tuples\n",
    "\n",
    "`zip` is a built-in function that takes two or more sequences and returns a collection of tuples where each tuple contains one element from each sequence. The name of the function refers to a zipper, which joins and interleaves two rows of teeth."
   ]
  },
  {
   "cell_type": "code",
   "execution_count": 40,
   "metadata": {},
   "outputs": [
    {
     "data": {
      "text/plain": [
       "Base.Iterators.Zip{Tuple{String,Array{Int64,1}}}((\"abc\", [1, 2, 3]))"
      ]
     },
     "execution_count": 40,
     "metadata": {},
     "output_type": "execute_result"
    }
   ],
   "source": [
    "s = \"abc\";\n",
    "t = [1, 2, 3];\n",
    "zip(s, t)"
   ]
  },
  {
   "cell_type": "markdown",
   "metadata": {},
   "source": [
    "The result is a zip object that knows how to iterate through the pairs. The most common use of zip is in a for loop:"
   ]
  },
  {
   "cell_type": "code",
   "execution_count": 41,
   "metadata": {},
   "outputs": [
    {
     "name": "stdout",
     "output_type": "stream",
     "text": [
      "('a', 1)\n",
      "('b', 2)\n",
      "('c', 3)\n"
     ]
    }
   ],
   "source": [
    "for pair in zip(s, t)\n",
    "    println(pair)\n",
    "end"
   ]
  },
  {
   "cell_type": "markdown",
   "metadata": {},
   "source": [
    "A zip object is a kind of *iterator*, which is any object that iterates through a sequence. Iterators are similar to arrays in some ways, but unlike arrays, you can’t use an index to select an element from an iterator.  Iterators are lazy (only evaluates next elements when they have to)."
   ]
  },
  {
   "cell_type": "markdown",
   "metadata": {},
   "source": [
    "If you want to use array operators and functions, you can use a zip object to make an array:"
   ]
  },
  {
   "cell_type": "code",
   "execution_count": 42,
   "metadata": {},
   "outputs": [
    {
     "data": {
      "text/plain": [
       "3-element Array{Tuple{Char,Int64},1}:\n",
       " ('a', 1)\n",
       " ('b', 2)\n",
       " ('c', 3)"
      ]
     },
     "execution_count": 42,
     "metadata": {},
     "output_type": "execute_result"
    }
   ],
   "source": [
    "collect(zip(s, t))"
   ]
  },
  {
   "cell_type": "markdown",
   "metadata": {},
   "source": [
    "The result is an array of tuples; in this example, each tuple contains a character from the string and the corresponding element from the array."
   ]
  },
  {
   "cell_type": "markdown",
   "metadata": {},
   "source": [
    "If the sequences are not the same length, the result has the length of the shorter one."
   ]
  },
  {
   "cell_type": "code",
   "execution_count": 44,
   "metadata": {},
   "outputs": [
    {
     "data": {
      "text/plain": [
       "3-element Array{Tuple{Char,Char},1}:\n",
       " ('A', 'E')\n",
       " ('n', 'l')\n",
       " ('n', 'k')"
      ]
     },
     "execution_count": 44,
     "metadata": {},
     "output_type": "execute_result"
    }
   ],
   "source": [
    "collect(zip(\"Anne\", \"Elk\"))"
   ]
  },
  {
   "cell_type": "markdown",
   "metadata": {},
   "source": [
    "You can use tuple assignment in a for loop to traverse an array of tuples:"
   ]
  },
  {
   "cell_type": "code",
   "execution_count": 45,
   "metadata": {},
   "outputs": [
    {
     "name": "stdout",
     "output_type": "stream",
     "text": [
      "1 a\n",
      "2 b\n",
      "3 c\n"
     ]
    }
   ],
   "source": [
    "t = [('a', 1), ('b', 2), ('c', 3)];\n",
    "\n",
    "for (letter, number) in t    # the parentheses are mandatory!!\n",
    "    println(number, \" \", letter)\n",
    "end"
   ]
  },
  {
   "cell_type": "markdown",
   "metadata": {},
   "source": [
    "#### Traversing two or more sequences at the same time\n",
    "\n",
    "If you combine `zip`, `for` and tuple assignment, you get a useful idiom for traversing two (or more) sequences at the same\n",
    "time.  \n",
    "\n",
    "For example, `hasmatch` takes two sequences, `t1` and `t2`, and returns true if there is an index $i$ such that `t1[i] == t2[i]`:"
   ]
  },
  {
   "cell_type": "code",
   "execution_count": 46,
   "metadata": {},
   "outputs": [
    {
     "data": {
      "text/plain": [
       "hasmatch (generic function with 1 method)"
      ]
     },
     "execution_count": 46,
     "metadata": {},
     "output_type": "execute_result"
    }
   ],
   "source": [
    "function hasmatch(t1, t2)\n",
    "    for (x, y) in zip(t1, t2)\n",
    "        if x == y\n",
    "            return true\n",
    "        end\n",
    "    end\n",
    "    false\n",
    "end"
   ]
  },
  {
   "cell_type": "markdown",
   "metadata": {},
   "source": [
    "If you need to traverse the elements of a sequence and their indices, you can use the built-in function enumerate :"
   ]
  },
  {
   "cell_type": "code",
   "execution_count": 47,
   "metadata": {},
   "outputs": [
    {
     "name": "stdout",
     "output_type": "stream",
     "text": [
      "1 a\n",
      "2 b\n",
      "3 c\n"
     ]
    }
   ],
   "source": [
    "for (index, element) in enumerate(\"abc\")\n",
    "    println(index, \" \", element)\n",
    "end"
   ]
  },
  {
   "cell_type": "markdown",
   "metadata": {},
   "source": [
    "The result from enumerate is an enumerate object, which iterates a sequence of pairs; each pair contains an index (starting from 1) and an element from the given sequence."
   ]
  },
  {
   "cell_type": "markdown",
   "metadata": {},
   "source": [
    "### Dictionaries and Tuples\n",
    "\n",
    "Dictionaries can be used as iterators that iterate the key-value pairs. You can use it in a for loop like this:"
   ]
  },
  {
   "cell_type": "code",
   "execution_count": 48,
   "metadata": {},
   "outputs": [
    {
     "name": "stdout",
     "output_type": "stream",
     "text": [
      "a 1\n",
      "c 3\n",
      "b 2\n"
     ]
    }
   ],
   "source": [
    "d = Dict('a'=>1, 'b'=>2, 'c'=>3);\n",
    "\n",
    "for (key, value) in d\n",
    "    println(key, \" \", value)\n",
    "end"
   ]
  },
  {
   "cell_type": "code",
   "execution_count": 69,
   "metadata": {},
   "outputs": [
    {
     "data": {
      "text/plain": [
       "3-element Array{Pair{Char,Int64},1}:\n",
       " 'a' => 1\n",
       " 'c' => 3\n",
       " 'b' => 2"
      ]
     },
     "execution_count": 69,
     "metadata": {},
     "output_type": "execute_result"
    }
   ],
   "source": [
    "collect(d)\n"
   ]
  },
  {
   "cell_type": "markdown",
   "metadata": {},
   "source": [
    "Going in the other direction, you can use an array of tuples to initialize a new dictionary:"
   ]
  },
  {
   "cell_type": "code",
   "execution_count": 49,
   "metadata": {},
   "outputs": [
    {
     "data": {
      "text/plain": [
       "Dict{Char,Int64} with 3 entries:\n",
       "  'a' => 1\n",
       "  'c' => 3\n",
       "  'b' => 2"
      ]
     },
     "execution_count": 49,
     "metadata": {},
     "output_type": "execute_result"
    }
   ],
   "source": [
    "t = [('a', 1), ('c', 3), ('b', 2)];\n",
    "d = Dict(t)"
   ]
  },
  {
   "cell_type": "markdown",
   "metadata": {},
   "source": [
    "**Combining Dict with zip yields a concise way to create a dictionary:**"
   ]
  },
  {
   "cell_type": "code",
   "execution_count": 51,
   "metadata": {},
   "outputs": [
    {
     "data": {
      "text/plain": [
       "Dict{Char,Int64} with 3 entries:\n",
       "  'a' => 1\n",
       "  'c' => 3\n",
       "  'b' => 2"
      ]
     },
     "execution_count": 51,
     "metadata": {},
     "output_type": "execute_result"
    }
   ],
   "source": [
    "d = Dict(zip(\"abc\", 1:3))"
   ]
  },
  {
   "cell_type": "markdown",
   "metadata": {},
   "source": [
    "**It is common to use tuples as keys in dictionaries.**\n",
    "\n",
    "For example, a telephone directory might map from last-name, firstname pairs to telephone numbers."
   ]
  },
  {
   "cell_type": "code",
   "execution_count": 54,
   "metadata": {},
   "outputs": [
    {
     "data": {
      "text/plain": [
       "Dict{Any,Any} with 2 entries:\n",
       "  (\"Jay\", \"AA\") => 123456\n",
       "  (\"Kay\", \"BB\") => 456789"
      ]
     },
     "execution_count": 54,
     "metadata": {},
     "output_type": "execute_result"
    }
   ],
   "source": [
    "directory = Dict()\n",
    "\n",
    "last1 = \"Jay\"\n",
    "first1 = \"AA\"\n",
    "number1 = 123456\n",
    "\n",
    "last2 = \"Kay\"\n",
    "first2 = \"BB\"\n",
    "number2 = 456789\n",
    "\n",
    "\n",
    "directory[(last1, first1)] = number1;\n",
    "directory[(last2, first2)] = number2;\n",
    "\n",
    "directory"
   ]
  },
  {
   "cell_type": "code",
   "execution_count": 55,
   "metadata": {},
   "outputs": [
    {
     "name": "stdout",
     "output_type": "stream",
     "text": [
      "AA Jay 123456\n",
      "BB Kay 456789\n"
     ]
    }
   ],
   "source": [
    "for ((last, first), number) in directory\n",
    "    println(first, \" \", last, \" \", number)\n",
    "end"
   ]
  },
  {
   "cell_type": "markdown",
   "metadata": {},
   "source": [
    "### Sequences of Sequences\n",
    "\n",
    "We have focused on arrays of tuples, but almost all of the examples in this chapter also work with arrays of arrays, tuples of tuples, and tuples of arrays. To avoid enumerating the possible combinations, it is sometimes easier to talk about sequences of sequences.\n",
    "\n",
    "In many contexts, the different kinds of sequences (strings, arrays and tuples) can be used interchangeably. So how should you choose one over the others?\n",
    "\n",
    "To start with the obvious, strings are more limited than other sequences because the elements have to be characters. They are also immutable. If you need the ability to change the characters in a string (as opposed to creating a new string), you might want to use an array of characters instead. \n",
    "\n",
    "Arrays are more common than tuples, mostly because they are mutable. But there are a few cases where you might prefer tuples:\n",
    "\n",
    "* In some contexts, like a return statement, it is syntactically simpler to create a tuple than an array. \n",
    "\n",
    "* If you are passing a sequence as an argument to a function, using tuples reduces the potential for unexpected behavior due to aliasing.\n",
    "\n",
    "* For performance reasons. The compiler can specialize on the type.\n",
    "\n",
    "Because tuples are immutable, they don’t provide functions like `sort!` and `reverse!`, which modify existing arrays. But Julia provides the built-in function `sort`, which takes an array and returns a new array with the same elements in sorted order, and `reverse`, which takes any sequence and returns a sequence of the same type in reverse order."
   ]
  },
  {
   "cell_type": "markdown",
   "metadata": {},
   "source": [
    "### Debugging for Compound Data Structures\n",
    "\n",
    "Arrays, dictionaries and tuples are examples of data structures; in this lecture we are starting to see compound data structures, like arrays of tuples, or dictionaries that contain tuples as keys and arrays as values. Compound data structures are useful, but they are prone to what I call shape errors; that is, errors caused when a data structure has the wrong type, size, or structure. For example, if you are expecting an array with one integer and I give you a plain old integer (not in an array), it won’t work.\n",
    "\n",
    "Julia allows to attach a type to elements of a sequence. How this is done is detailed in Multiple Dispatch. Specifying the type\n",
    "eliminates a lot of shape errors."
   ]
  },
  {
   "cell_type": "markdown",
   "metadata": {},
   "source": [
    "### Exercise 12-2\n",
    "\n",
    "Write a function called `mostfrequent` that takes a string and prints the letters in decreasing order of frequency. Find text samples from several different languages and see how letter frequency varies between languages. Compare your results with the tables at https://en.wikipedia.org/wiki/Letter_frequencies.\n",
    "\n",
    "\n",
    "\n",
    "TIP: You may want to use `histogram` from the previous chpater to first build a dictionary for the frequency of letters.  Note that the letters are the keys and the frequencies are the values.\n",
    "\n",
    "As for sorting, one approach is to zip the values and keys (in that order) of the dictionary, collect the result to create an array of tuples, and then sort.  Note that sorting is done by the first elements (values in this approach) in `sort`.\n",
    "\n",
    "Another approach is to collect the dictionary and use `sort` with optional arguments so that it sorts by the second elements (values):\n",
    "\n",
    "```\n",
    "sort(v; alg::Algorithm=defalg(v), lt=isless, by=identity, rev::Bool=false, order::Ordering=Forward)\n",
    "```\n"
   ]
  },
  {
   "cell_type": "code",
   "execution_count": 403,
   "metadata": {},
   "outputs": [
    {
     "data": {
      "text/plain": [
       "mostfrequent (generic function with 1 method)"
      ]
     },
     "execution_count": 403,
     "metadata": {},
     "output_type": "execute_result"
    }
   ],
   "source": [
    "function histogram(s) \n",
    "    d = Dict()\n",
    "    for c in s\n",
    "        d[c] = get(d,c,0) + 1\n",
    "    end\n",
    "    d\n",
    "end\n",
    "\n",
    "function mostfrequent(s) \n",
    "    \n",
    "    d = histogram(s)\n",
    "    \n",
    "    collect_val_key = collect( zip(values(d),keys(d)) )\n",
    "\n",
    "    d_sorted = sort(collect_val_key, rev=true)\n",
    "    \n",
    "    \n",
    "    for (freq, letter) in d_sorted\n",
    "        println(\"$letter,  $freq\")\n",
    "    end\n",
    "    \n",
    "    \n",
    "end\n"
   ]
  },
  {
   "cell_type": "code",
   "execution_count": 404,
   "metadata": {},
   "outputs": [
    {
     "name": "stdout",
     "output_type": "stream",
     "text": [
      " ,  4\n",
      "e,  3\n",
      "o,  2\n",
      "m,  2\n",
      "l,  2\n",
      "i,  2\n",
      "y,  1\n",
      "s,  1\n",
      "n,  1\n",
      "g,  1\n",
      "a,  1\n",
      "H,  1\n",
      "D,  1\n"
     ]
    }
   ],
   "source": [
    "mostfrequent(\"Hello my name is Diego\")"
   ]
  },
  {
   "cell_type": "code",
   "execution_count": 405,
   "metadata": {},
   "outputs": [
    {
     "data": {
      "text/plain": [
       "mostfrequent2 (generic function with 1 method)"
      ]
     },
     "execution_count": 405,
     "metadata": {},
     "output_type": "execute_result"
    }
   ],
   "source": [
    "function mostfrequent2(s) \n",
    "    \n",
    "    d = histogram(s)\n",
    "\n",
    "    d_sorted = sort(collect(d), by=x->x[2], rev=true)\n",
    "    \n",
    "    for (letter, freq) in d_sorted\n",
    "        println(\"$letter,  $freq\")\n",
    "    end\n",
    "    \n",
    "    \n",
    "end"
   ]
  },
  {
   "cell_type": "code",
   "execution_count": 406,
   "metadata": {},
   "outputs": [
    {
     "name": "stdout",
     "output_type": "stream",
     "text": [
      " ,  4\n",
      "e,  3\n",
      "o,  2\n",
      "i,  2\n",
      "m,  2\n",
      "l,  2\n",
      "n,  1\n",
      "D,  1\n",
      "y,  1\n",
      "s,  1\n",
      "H,  1\n",
      "a,  1\n",
      "g,  1\n"
     ]
    }
   ],
   "source": [
    "mostfrequent2(\"Hello my name is Diego\")"
   ]
  },
  {
   "cell_type": "markdown",
   "metadata": {},
   "source": [
    "### Exercise 12-3\n",
    "\n",
    "More anagrams!\n",
    "\n",
    "1. Write a program that reads a word list from a file (see Reading Word Lists) and prints all the sets of words that are anagrams. Here is an example of what the output might look like:\n",
    "\n",
    "```\n",
    "[\"deltas\", \"desalt\", \"lasted\", \"salted\", \"slated\", \"staled\"]\n",
    "[\"retainers\", \"ternaries\"]\n",
    "[\"generating\", \"greatening\"]\n",
    "[\"resmelts\", \"smelters\", \"termless\"]\n",
    "```\n",
    "\n",
    "TIP: You might want to build a dictionary that maps from a collection of letters to an array of words that can be spelled with those letters.  Start by reviewing `build_words_dict`.\n",
    "\n",
    "The question is, how can you represent the collection of letters in a way that can be used as a key?\n",
    "\n",
    "Also, review Exercise 11-3 (`invertdictV2`).\n",
    "\n",
    "2. Modify the previous program so that it prints the longest array of anagrams first, followed by the second longest, and so on.\n",
    "\n",
    "\n",
    "3. In Scrabble a “bingo” is when you play all seven tiles in your rack, along with a letter on the board, to form an eight-letter word.  What collection of 8 letters forms the most possible bingos?"
   ]
  },
  {
   "cell_type": "code",
   "execution_count": 88,
   "metadata": {},
   "outputs": [
    {
     "data": {
      "text/plain": [
       "\"fghit\""
      ]
     },
     "execution_count": 88,
     "metadata": {},
     "output_type": "execute_result"
    }
   ],
   "source": [
    "sorted = join(sort(collect(\"fight\")))"
   ]
  },
  {
   "cell_type": "markdown",
   "metadata": {},
   "source": [
    "```\n",
    "filter(f, d::AbstractDict)\n",
    "Return a copy of d, removing elements for which f is false. The function f is passed key=>value pairs.\n",
    "\n",
    "Examples\n",
    "julia> d = Dict(1=>\"a\", 2=>\"b\")\n",
    "Dict{Int64,String} with 2 entries:\n",
    "  2 => \"b\"\n",
    "  1 => \"a\"\n",
    "\n",
    "julia> filter(p->isodd(p.first), d)\n",
    "Dict{Int64,String} with 1 entry:\n",
    "  1 => \"a\"\n",
    "\n",
    "```"
   ]
  },
  {
   "cell_type": "code",
   "execution_count": 415,
   "metadata": {},
   "outputs": [
    {
     "data": {
      "text/plain": [
       "build_anagram_dict (generic function with 1 method)"
      ]
     },
     "execution_count": 415,
     "metadata": {},
     "output_type": "execute_result"
    }
   ],
   "source": [
    "# function build_words_dict()\n",
    "    \n",
    "#     dict = Dict();\n",
    "    \n",
    "#     for word in eachline(\"words.txt\")\n",
    "#         dict[word] = \"\"\n",
    "#     end\n",
    "\n",
    "#     return dict\n",
    "    \n",
    "# end\n",
    "\n",
    "# words_dict = build_words_dict();\n",
    "\n",
    "\n",
    "# function invertdictV2(d)\n",
    "#     inverse = Dict()\n",
    "    \n",
    "#     for key in keys(d)\n",
    "              \n",
    "#         val = d[key]\n",
    "#         push!( get!(inverse,val,[]), key )\n",
    "        \n",
    "#     end\n",
    "    \n",
    "#     inverse\n",
    "    \n",
    "# end\n",
    "\n",
    "\n",
    "function build_anagram_dict()\n",
    "    \n",
    "    dict = Dict();\n",
    "    \n",
    "    for word in eachline(\"words.txt\")\n",
    "        \n",
    "        sorted = join(sort(collect(word)))\n",
    "        push!(get!(dict, sorted,[]), word)\n",
    "        \n",
    "    end\n",
    "    \n",
    "    # note that this dictionary contains ALL words \n",
    "    # (those words without anagrams will just have one-element arrays as the value)\n",
    "    \n",
    "    \n",
    "#     ana_dict = Dict()  # This is a rather clumsy implementation and creates a new dictionary\n",
    "#                        # We could delete key-value pairs (those with just one word) from dict\n",
    "    \n",
    "#     for (key,value) in dict\n",
    "#         if length(value) > 1\n",
    "#             ana_dict[key] = value\n",
    "#         end\n",
    "#     end\n",
    "\n",
    "#     return ana_dict\n",
    "    \n",
    "        \n",
    "    return filter( p -> length(p.second) > 1, dict )\n",
    "    \n",
    "end"
   ]
  },
  {
   "cell_type": "code",
   "execution_count": 416,
   "metadata": {},
   "outputs": [
    {
     "data": {
      "text/plain": [
       "Dict{Any,Any} with 10157 entries:\n",
       "  \"aelnprst\"   => Any[\"planters\", \"replants\"]\n",
       "  \"eeffginorr\" => Any[\"forefinger\", \"reoffering\"]\n",
       "  \"eeflstt\"    => Any[\"fettles\", \"leftest\"]\n",
       "  \"bhort\"      => Any[\"broth\", \"throb\"]\n",
       "  \"achm\"       => Any[\"cham\", \"mach\"]\n",
       "  \"aginrstw\"   => Any[\"ringtaws\", \"strawing\"]\n",
       "  \"aefl\"       => Any[\"alef\", \"feal\", \"flea\", \"leaf\"]\n",
       "  \"aefirs\"     => Any[\"ferias\", \"fraise\"]\n",
       "  \"bdilpsuu\"   => Any[\"buildups\", \"upbuilds\"]\n",
       "  \"acehss\"     => Any[\"cashes\", \"chases\", \"chasse\"]\n",
       "  \"dehoop\"     => Any[\"hooped\", \"poohed\"]\n",
       "  \"acegilr\"    => Any[\"glacier\", \"gracile\"]\n",
       "  \"aaceilln\"   => Any[\"alliance\", \"ancillae\", \"canaille\"]\n",
       "  \"mnor\"       => Any[\"morn\", \"norm\"]\n",
       "  \"entty\"      => Any[\"netty\", \"tenty\"]\n",
       "  \"adnors\"     => Any[\"adorns\", \"radons\"]\n",
       "  \"eelrsv\"     => Any[\"elvers\", \"levers\", \"revels\"]\n",
       "  \"aelprsty\"   => Any[\"peytrals\", \"plastery\", \"psaltery\"]\n",
       "  \"bginor\"     => Any[\"boring\", \"orbing\", \"robing\"]\n",
       "  \"deipst\"     => Any[\"spited\", \"stiped\"]\n",
       "  \"adnr\"       => Any[\"darn\", \"nard\", \"rand\"]\n",
       "  \"aemnorsu\"   => Any[\"enamours\", \"neuromas\"]\n",
       "  \"ehkoorsuw\"  => Any[\"housework\", \"workhouse\"]\n",
       "  \"efilrst\"    => Any[\"filters\", \"lifters\", \"stifler\", \"trifles\"]\n",
       "  \"ginors\"     => Any[\"girons\", \"grison\", \"groins\", \"rosing\", \"signor\"]\n",
       "  ⋮            => ⋮"
      ]
     },
     "execution_count": 416,
     "metadata": {},
     "output_type": "execute_result"
    }
   ],
   "source": [
    "anagram_dict = build_anagram_dict()"
   ]
  },
  {
   "cell_type": "code",
   "execution_count": 99,
   "metadata": {},
   "outputs": [
    {
     "data": {
      "text/plain": [
       "10157-element Array{Pair{Any,Any},1}:\n",
       "    \"aelrst\" => Any[\"alerts\", \"alters\", \"artels\", \"estral\", \"laster\", \"ratels\", \"salter\", \"slater\", \"staler\", \"stelar\", \"talers\"]\n",
       "     \"aeprs\" => Any[\"apers\", \"asper\", \"pares\", \"parse\", \"pears\", \"prase\", \"presa\", \"rapes\", \"reaps\", \"spare\", \"spear\"]           \n",
       "     \"aelst\" => Any[\"least\", \"setal\", \"slate\", \"stale\", \"steal\", \"stela\", \"taels\", \"tales\", \"teals\", \"tesla\"]                    \n",
       "    \"aceprs\" => Any[\"capers\", \"crapes\", \"escarp\", \"pacers\", \"parsec\", \"recaps\", \"scrape\", \"secpar\", \"spacer\"]                    \n",
       "    \"einrst\" => Any[\"estrin\", \"inerts\", \"insert\", \"inters\", \"niters\", \"nitres\", \"sinter\", \"triens\", \"trines\"]                    \n",
       "    \"aeprss\" => Any[\"aspers\", \"parses\", \"passer\", \"prases\", \"repass\", \"spares\", \"sparse\", \"spears\"]                              \n",
       "     \"aelrs\" => Any[\"arles\", \"earls\", \"lares\", \"laser\", \"lears\", \"rales\", \"reals\", \"seral\"]                                      \n",
       "     \"aelps\" => Any[\"lapse\", \"leaps\", \"pales\", \"peals\", \"pleas\", \"salep\", \"sepal\", \"spale\"]                                      \n",
       "      \"aest\" => Any[\"ates\", \"east\", \"eats\", \"etas\", \"sate\", \"seat\", \"seta\", \"teas\"]                                              \n",
       "     \"eiprs\" => Any[\"peris\", \"piers\", \"pries\", \"prise\", \"ripes\", \"speir\", \"spier\", \"spire\"]                                      \n",
       "   \"aeinrst\" => Any[\"anestri\", \"nastier\", \"ratines\", \"retains\", \"retinas\", \"retsina\", \"stainer\", \"stearin\"]                      \n",
       "    \"aelpst\" => Any[\"palest\", \"palets\", \"pastel\", \"petals\", \"plates\", \"pleats\", \"septal\", \"staple\"]                              \n",
       "     \"acers\" => Any[\"acers\", \"acres\", \"cares\", \"carse\", \"escar\", \"races\", \"scare\", \"serac\"]                                      \n",
       "             ⋮                                                                                                                   \n",
       " \"adefilnot\" => Any[\"deflation\", \"defoliant\"]                                                                                    \n",
       "   \"abeehns\" => Any[\"banshee\", \"shebean\"]                                                                                        \n",
       "      \"agin\" => Any[\"agin\", \"gain\"]                                                                                              \n",
       "   \"giilnor\" => Any[\"ligroin\", \"roiling\"]                                                                                        \n",
       "   \"cefinor\" => Any[\"coinfer\", \"conifer\"]                                                                                        \n",
       "  \"eeiklpst\" => Any[\"spikelet\", \"steplike\"]                                                                                      \n",
       "   \"bbginos\" => Any[\"gibbons\", \"sobbing\"]                                                                                        \n",
       "     \"abdir\" => Any[\"braid\", \"rabid\"]                                                                                            \n",
       "   \"ddeeops\" => Any[\"deposed\", \"seedpod\"]                                                                                        \n",
       "    \"abdelo\" => Any[\"albedo\", \"doable\"]                                                                                          \n",
       " \"aeilmnsst\" => Any[\"melanists\", \"smaltines\"]                                                                                    \n",
       "     \"deilv\" => Any[\"devil\", \"lived\"]                                                                                            "
      ]
     },
     "execution_count": 99,
     "metadata": {},
     "output_type": "execute_result"
    }
   ],
   "source": [
    "function build_sorted_anagram_dict()\n",
    "    \n",
    "    ana_dict = build_anagram_dict()\n",
    "    sorted_by_length =  sort(collect(ana_dict), by=x->length(x[2]), rev=true)\n",
    "    return sorted_by_length\n",
    "    \n",
    "end\n",
    "\n",
    "sorted_anagram_dict = build_sorted_anagram_dict()"
   ]
  },
  {
   "cell_type": "code",
   "execution_count": 103,
   "metadata": {},
   "outputs": [
    {
     "data": {
      "text/plain": [
       "7-element Array{Any,1}:\n",
       " \"angriest\"\n",
       " \"astringe\"\n",
       " \"ganister\"\n",
       " \"gantries\"\n",
       " \"granites\"\n",
       " \"ingrates\"\n",
       " \"rangiest\""
      ]
     },
     "execution_count": 103,
     "metadata": {},
     "output_type": "execute_result"
    }
   ],
   "source": [
    "# for (key,value) in sorted_anagram_dict\n",
    "#     if length(key) == 8\n",
    "#         println(value)\n",
    "#         break\n",
    "#     end\n",
    "# end\n",
    "\n",
    "[value for (key,value) in sorted_anagram_dict if length(key) == 8][1]\n"
   ]
  },
  {
   "cell_type": "markdown",
   "metadata": {},
   "source": [
    "### Exercise 12-4\n",
    "\n",
    "Two words form a “metathesis pair” if you can transform one into the other by swapping two letters; for example, “converse” and “conserve”. Write a program that finds all of the metathesis pairs in the dictionary. \n",
    "\n",
    "First, write a function `number_swapped` that takes an array of two words and checks how many letters are swapped.  And then write a program that builds up an array `metathesis_pairs`.\n",
    "\n",
    "TIP: Don’t test all pairs of words, and don’t test all possible swaps.\n",
    "\n",
    "You may use function `combinations(a,2)` from package `Combinatorics` to form all possible combinations of 2 elements from a sequence `a`.\n",
    "\n",
    "Credit: This exercise is inspired by an example at http://puzzlers.org."
   ]
  },
  {
   "cell_type": "markdown",
   "metadata": {},
   "source": [
    "What about taking the anagrams and find pairs that differ by only two letters?"
   ]
  },
  {
   "cell_type": "code",
   "execution_count": 417,
   "metadata": {},
   "outputs": [
    {
     "name": "stdout",
     "output_type": "stream",
     "text": [
      "\u001b[32m\u001b[1m Resolving\u001b[22m\u001b[39m package versions...\n",
      "\u001b[32m\u001b[1m  Updating\u001b[22m\u001b[39m `C:\\Users\\ST\\.julia\\environments\\v1.2\\Project.toml`\n",
      "\u001b[90m [no changes]\u001b[39m\n",
      "\u001b[32m\u001b[1m  Updating\u001b[22m\u001b[39m `C:\\Users\\ST\\.julia\\environments\\v1.2\\Manifest.toml`\n",
      "\u001b[90m [no changes]\u001b[39m\n"
     ]
    }
   ],
   "source": [
    "using Pkg\n",
    "Pkg.add(\"Combinatorics\")\n",
    "using Combinatorics"
   ]
  },
  {
   "cell_type": "code",
   "execution_count": 418,
   "metadata": {
    "scrolled": true
   },
   "outputs": [
    {
     "data": {
      "text/plain": [
       "28-element Array{Array{String,1},1}:\n",
       " [\"acers\", \"acres\"]\n",
       " [\"acers\", \"cares\"]\n",
       " [\"acers\", \"carse\"]\n",
       " [\"acers\", \"escar\"]\n",
       " [\"acers\", \"races\"]\n",
       " [\"acers\", \"scare\"]\n",
       " [\"acers\", \"serac\"]\n",
       " [\"acres\", \"cares\"]\n",
       " [\"acres\", \"carse\"]\n",
       " [\"acres\", \"escar\"]\n",
       " [\"acres\", \"races\"]\n",
       " [\"acres\", \"scare\"]\n",
       " [\"acres\", \"serac\"]\n",
       " ⋮                 \n",
       " [\"cares\", \"scare\"]\n",
       " [\"cares\", \"serac\"]\n",
       " [\"carse\", \"escar\"]\n",
       " [\"carse\", \"races\"]\n",
       " [\"carse\", \"scare\"]\n",
       " [\"carse\", \"serac\"]\n",
       " [\"escar\", \"races\"]\n",
       " [\"escar\", \"scare\"]\n",
       " [\"escar\", \"serac\"]\n",
       " [\"races\", \"scare\"]\n",
       " [\"races\", \"serac\"]\n",
       " [\"scare\", \"serac\"]"
      ]
     },
     "execution_count": 418,
     "metadata": {},
     "output_type": "execute_result"
    }
   ],
   "source": [
    "test_word_array = [\"acers\", \"acres\", \"cares\", \"carse\", \"escar\", \"races\", \"scare\", \"serac\"]  \n",
    "combopairs = combinations(test_word_array,2)\n",
    "collect( combopairs )"
   ]
  },
  {
   "cell_type": "code",
   "execution_count": 419,
   "metadata": {},
   "outputs": [
    {
     "data": {
      "text/plain": [
       "number_swapped (generic function with 1 method)"
      ]
     },
     "execution_count": 419,
     "metadata": {},
     "output_type": "execute_result"
    }
   ],
   "source": [
    "function number_swapped(wordarray)\n",
    "    count = 0\n",
    "    for (c1,c2) in zip(wordarray[1],wordarray[2])\n",
    "        if c1 != c2\n",
    "            count += 1\n",
    "        end\n",
    "    end\n",
    "    \n",
    "    return count\n",
    "end"
   ]
  },
  {
   "cell_type": "code",
   "execution_count": 420,
   "metadata": {},
   "outputs": [
    {
     "data": {
      "text/plain": [
       "3311-element Array{Any,1}:\n",
       " [\"alef\", \"flea\"]        \n",
       " [\"feal\", \"leaf\"]        \n",
       " [\"chases\", \"chasse\"]    \n",
       " [\"hooped\", \"poohed\"]    \n",
       " [\"morn\", \"norm\"]        \n",
       " [\"netty\", \"tenty\"]      \n",
       " [\"elvers\", \"levers\"]    \n",
       " [\"levers\", \"revels\"]    \n",
       " [\"plastery\", \"psaltery\"]\n",
       " [\"boring\", \"robing\"]    \n",
       " [\"orbing\", \"robing\"]    \n",
       " [\"spited\", \"stiped\"]    \n",
       " [\"darn\", \"nard\"]        \n",
       " ⋮                       \n",
       " [\"laps\", \"pals\"]        \n",
       " [\"pals\", \"salp\"]        \n",
       " [\"salp\", \"slap\"]        \n",
       " [\"devons\", \"dovens\"]    \n",
       " [\"nipa\", \"pina\"]        \n",
       " [\"pain\", \"pian\"]        \n",
       " [\"pian\", \"pina\"]        \n",
       " [\"indent\", \"intend\"]    \n",
       " [\"speers\", \"sprees\"]    \n",
       " [\"agin\", \"gain\"]        \n",
       " [\"coinfer\", \"conifer\"]  \n",
       " [\"lota\", \"tola\"]        "
      ]
     },
     "execution_count": 420,
     "metadata": {},
     "output_type": "execute_result"
    }
   ],
   "source": [
    "using Combinatorics\n",
    "\n",
    "metathesis_pairs = []\n",
    "\n",
    "for (key,value) in anagram_dict\n",
    "    for pair in combinations(value,2)\n",
    "        if number_swapped(pair) == 2\n",
    "            push!(metathesis_pairs, pair)\n",
    "        end\n",
    "    end \n",
    "    \n",
    "end\n",
    "\n",
    "metathesis_pairs"
   ]
  },
  {
   "cell_type": "markdown",
   "metadata": {},
   "source": [
    "## Exercise 12-5\n",
    "\n",
    "Here’s another Car Talk Puzzler (https://www.cartalk.com/puzzler/browse):\n",
    "\n",
    "\"What is the longest English word, that remains a valid English word, as you remove its letters one at a time?\n",
    "\n",
    "Now, letters can be removed from either end, or the middle, but you can’t rearrange any of the letters. Every time you drop a letter, you wind up with another English word. If you do that, you’re eventually going to wind up with one letter and that too is going to be an English word—one that’s found in the dictionary. I want to know what’s the longest word and how many letters  does it have? \n",
    "\n",
    "I’m going to give you a little modest example: Sprite. Ok? You start off with sprite, you take a letter off, one from the interior of the word, take the r away, and we’re left with the word spite, then we take the e off the end, we’re left with spit, we take the s off, we’re left with pit, it, and I.\"\n",
    "\n",
    "Write a program to find all words that can be reduced in this way, and then find the longest one.\n",
    "\n",
    "Write a new histrogram function to show the frequency of the reducible words of a given number of letters.\n",
    "\n",
    "\n",
    "TIP\n",
    "This exercise is a little more challenging than most, so here are some suggestions:\n",
    "\n",
    "1. You might want to write a function `children_words` that takes a word and computes an array of all the words that can be formed by removing one letter. These are the “children” of the word.\n",
    "\n",
    "2. Recursively, a word is reducible if *any* of its children are reducible. As a base case, you can consider the empty string reducible.  Write a recursive function `is_reducible` that takes a word as an argument and returns `true` if the word is reducible.  If a word is not in the word dictionary, then the function should return `false` (no need to check chidren words).  \n",
    "\n",
    "3. Our word list, words.txt, doesn’t contain single letter words. So you might want to add “I”, “a”, and the empty string.\n",
    "\n",
    "4. To improve the performance of your program, you might want to memoize the words that are known to be reducible."
   ]
  },
  {
   "cell_type": "code",
   "execution_count": 252,
   "metadata": {},
   "outputs": [],
   "source": [
    "function build_words_dict()\n",
    "    \n",
    "    dict = Dict();\n",
    "    \n",
    "    for word in eachline(\"words.txt\")\n",
    "        dict[word] = \"\"\n",
    "    end\n",
    "\n",
    "    return dict\n",
    "    \n",
    "end\n",
    "\n",
    "words_dict = build_words_dict();\n",
    "\n",
    "words_dict[\"i\"] = \"\";\n",
    "words_dict[\"a\"] = \"\";\n",
    "words_dict[\"\"] = \"\";"
   ]
  },
  {
   "cell_type": "code",
   "execution_count": 253,
   "metadata": {},
   "outputs": [
    {
     "data": {
      "text/plain": [
       "children_words (generic function with 1 method)"
      ]
     },
     "execution_count": 253,
     "metadata": {},
     "output_type": "execute_result"
    }
   ],
   "source": [
    "function children_words(word)\n",
    "    \n",
    "    children = []\n",
    "    c_array = collect(word)\n",
    "    for i in eachindex(c_array)\n",
    "        temp = c_array[:]\n",
    "        push!(children, join(deleteat!(temp,i)))\n",
    "    end\n",
    "    \n",
    "    return children\n",
    "end\n",
    "       "
   ]
  },
  {
   "cell_type": "code",
   "execution_count": 254,
   "metadata": {},
   "outputs": [
    {
     "data": {
      "text/plain": [
       "4-element Array{Any,1}:\n",
       " \"est\"\n",
       " \"tst\"\n",
       " \"tet\"\n",
       " \"tes\""
      ]
     },
     "execution_count": 254,
     "metadata": {},
     "output_type": "execute_result"
    }
   ],
   "source": [
    "children_words(\"test\")"
   ]
  },
  {
   "cell_type": "code",
   "execution_count": 386,
   "metadata": {},
   "outputs": [
    {
     "data": {
      "text/plain": [
       "2-element Array{Any,1}:\n",
       " \"t\"\n",
       " \"i\""
      ]
     },
     "execution_count": 386,
     "metadata": {},
     "output_type": "execute_result"
    }
   ],
   "source": [
    "children_words(\"it\")"
   ]
  },
  {
   "cell_type": "code",
   "execution_count": 387,
   "metadata": {},
   "outputs": [
    {
     "data": {
      "text/plain": [
       "1-element Array{Any,1}:\n",
       " \"\""
      ]
     },
     "execution_count": 387,
     "metadata": {},
     "output_type": "execute_result"
    }
   ],
   "source": [
    "children_words(\"i\")"
   ]
  },
  {
   "cell_type": "code",
   "execution_count": 255,
   "metadata": {},
   "outputs": [
    {
     "data": {
      "text/plain": [
       "is_reducible (generic function with 1 method)"
      ]
     },
     "execution_count": 255,
     "metadata": {},
     "output_type": "execute_result"
    }
   ],
   "source": [
    "function is_reducible(word)\n",
    "    \n",
    "    #@show word\n",
    "    \n",
    "    if (word == \"\")\n",
    "        return true\n",
    "    end\n",
    "    \n",
    "    if word ∉ keys(words_dict)\n",
    "        return false\n",
    "    end\n",
    "       \n",
    "    flag = false\n",
    "    for w in children_words(word)\n",
    "            @show w,word\n",
    "            flag = is_reducible(w) || flag\n",
    "    end\n",
    "    \n",
    "    return flag\n",
    "\n",
    "end   \n",
    "    "
   ]
  },
  {
   "cell_type": "code",
   "execution_count": 394,
   "metadata": {},
   "outputs": [
    {
     "data": {
      "text/plain": [
       "6-element Array{Any,1}:\n",
       " \"prite\"\n",
       " \"srite\"\n",
       " \"spite\"\n",
       " \"sprte\"\n",
       " \"sprie\"\n",
       " \"sprit\""
      ]
     },
     "execution_count": 394,
     "metadata": {},
     "output_type": "execute_result"
    }
   ],
   "source": [
    "children_words(\"sprite\")"
   ]
  },
  {
   "cell_type": "code",
   "execution_count": 395,
   "metadata": {
    "scrolled": true
   },
   "outputs": [
    {
     "name": "stdout",
     "output_type": "stream",
     "text": [
      "(w, word) = (\"prite\", \"sprite\")\n",
      "(w, word) = (\"srite\", \"sprite\")\n",
      "(w, word) = (\"spite\", \"sprite\")\n",
      "(w, word) = (\"pite\", \"spite\")\n",
      "(w, word) = (\"site\", \"spite\")\n",
      "(w, word) = (\"ite\", \"site\")\n",
      "(w, word) = (\"ste\", \"site\")\n",
      "(w, word) = (\"sie\", \"site\")\n",
      "(w, word) = (\"sit\", \"site\")\n",
      "(w, word) = (\"it\", \"sit\")\n",
      "(w, word) = (\"t\", \"it\")\n",
      "(w, word) = (\"i\", \"it\")\n",
      "(w, word) = (\"\", \"i\")\n",
      "(w, word) = (\"st\", \"sit\")\n",
      "(w, word) = (\"si\", \"sit\")\n",
      "(w, word) = (\"i\", \"si\")\n",
      "(w, word) = (\"\", \"i\")\n",
      "(w, word) = (\"s\", \"si\")\n",
      "(w, word) = (\"spte\", \"spite\")\n",
      "(w, word) = (\"spie\", \"spite\")\n",
      "(w, word) = (\"spit\", \"spite\")\n",
      "(w, word) = (\"pit\", \"spit\")\n",
      "(w, word) = (\"it\", \"pit\")\n",
      "(w, word) = (\"t\", \"it\")\n",
      "(w, word) = (\"i\", \"it\")\n",
      "(w, word) = (\"\", \"i\")\n",
      "(w, word) = (\"pt\", \"pit\")\n",
      "(w, word) = (\"pi\", \"pit\")\n",
      "(w, word) = (\"i\", \"pi\")\n",
      "(w, word) = (\"\", \"i\")\n",
      "(w, word) = (\"p\", \"pi\")\n",
      "(w, word) = (\"sit\", \"spit\")\n",
      "(w, word) = (\"it\", \"sit\")\n",
      "(w, word) = (\"t\", \"it\")\n",
      "(w, word) = (\"i\", \"it\")\n",
      "(w, word) = (\"\", \"i\")\n",
      "(w, word) = (\"st\", \"sit\")\n",
      "(w, word) = (\"si\", \"sit\")\n",
      "(w, word) = (\"i\", \"si\")\n",
      "(w, word) = (\"\", \"i\")\n",
      "(w, word) = (\"s\", \"si\")\n",
      "(w, word) = (\"spt\", \"spit\")\n",
      "(w, word) = (\"spi\", \"spit\")\n",
      "(w, word) = (\"sprte\", \"sprite\")\n",
      "(w, word) = (\"sprie\", \"sprite\")\n",
      "(w, word) = (\"sprit\", \"sprite\")\n",
      "(w, word) = (\"prit\", \"sprit\")\n",
      "(w, word) = (\"srit\", \"sprit\")\n",
      "(w, word) = (\"spit\", \"sprit\")\n",
      "(w, word) = (\"pit\", \"spit\")\n",
      "(w, word) = (\"it\", \"pit\")\n",
      "(w, word) = (\"t\", \"it\")\n",
      "(w, word) = (\"i\", \"it\")\n",
      "(w, word) = (\"\", \"i\")\n",
      "(w, word) = (\"pt\", \"pit\")\n",
      "(w, word) = (\"pi\", \"pit\")\n",
      "(w, word) = (\"i\", \"pi\")\n",
      "(w, word) = (\"\", \"i\")\n",
      "(w, word) = (\"p\", \"pi\")\n",
      "(w, word) = (\"sit\", \"spit\")\n",
      "(w, word) = (\"it\", \"sit\")\n",
      "(w, word) = (\"t\", \"it\")\n",
      "(w, word) = (\"i\", \"it\")\n",
      "(w, word) = (\"\", \"i\")\n",
      "(w, word) = (\"st\", \"sit\")\n",
      "(w, word) = (\"si\", \"sit\")\n",
      "(w, word) = (\"i\", \"si\")\n",
      "(w, word) = (\"\", \"i\")\n",
      "(w, word) = (\"s\", \"si\")\n",
      "(w, word) = (\"spt\", \"spit\")\n",
      "(w, word) = (\"spi\", \"spit\")\n",
      "(w, word) = (\"sprt\", \"sprit\")\n",
      "(w, word) = (\"spri\", \"sprit\")\n"
     ]
    },
    {
     "data": {
      "text/plain": [
       "true"
      ]
     },
     "execution_count": 395,
     "metadata": {},
     "output_type": "execute_result"
    }
   ],
   "source": [
    "is_reducible(\"sprite\")"
   ]
  },
  {
   "cell_type": "code",
   "execution_count": 396,
   "metadata": {},
   "outputs": [
    {
     "data": {
      "text/plain": [
       "is_reducible2 (generic function with 1 method)"
      ]
     },
     "execution_count": 396,
     "metadata": {},
     "output_type": "execute_result"
    }
   ],
   "source": [
    "function is_reducible2(word)\n",
    "    \n",
    "    #@show word\n",
    "    \n",
    "    if (word == \"\")\n",
    "        return true\n",
    "    end\n",
    "    \n",
    "    if word ∉ keys(words_dict)\n",
    "        return false\n",
    "    end\n",
    "       \n",
    "    for w in children_words(word)\n",
    "        #@show w,word\n",
    "        if is_reducible2(w)\n",
    "            #@show w\n",
    "            return true\n",
    "        end\n",
    "    end\n",
    "    \n",
    "    return false\n",
    "\n",
    "end  "
   ]
  },
  {
   "cell_type": "code",
   "execution_count": 399,
   "metadata": {},
   "outputs": [
    {
     "data": {
      "text/plain": [
       "true"
      ]
     },
     "execution_count": 399,
     "metadata": {},
     "output_type": "execute_result"
    }
   ],
   "source": [
    "is_reducible2(\"it\")"
   ]
  },
  {
   "cell_type": "code",
   "execution_count": 400,
   "metadata": {},
   "outputs": [
    {
     "data": {
      "text/plain": [
       "true"
      ]
     },
     "execution_count": 400,
     "metadata": {},
     "output_type": "execute_result"
    }
   ],
   "source": [
    "is_reducible2(\"i\")"
   ]
  },
  {
   "cell_type": "code",
   "execution_count": 401,
   "metadata": {},
   "outputs": [
    {
     "data": {
      "text/plain": [
       "6-element Array{Any,1}:\n",
       " \"prite\"\n",
       " \"srite\"\n",
       " \"spite\"\n",
       " \"sprte\"\n",
       " \"sprie\"\n",
       " \"sprit\""
      ]
     },
     "execution_count": 401,
     "metadata": {},
     "output_type": "execute_result"
    }
   ],
   "source": [
    "children_words(\"sprite\")"
   ]
  },
  {
   "cell_type": "code",
   "execution_count": 402,
   "metadata": {
    "scrolled": true
   },
   "outputs": [
    {
     "data": {
      "text/plain": [
       "true"
      ]
     },
     "execution_count": 402,
     "metadata": {},
     "output_type": "execute_result"
    }
   ],
   "source": [
    "is_reducible2(\"sprite\")"
   ]
  },
  {
   "cell_type": "code",
   "execution_count": 422,
   "metadata": {},
   "outputs": [
    {
     "name": "stdout",
     "output_type": "stream",
     "text": [
      "  1.829366 seconds (12.79 M allocations: 686.689 MiB, 11.22% gc time)\n"
     ]
    },
    {
     "data": {
      "text/plain": [
       "9770-element Array{Any,1}:\n",
       " \"pintoes\" \n",
       " \"hicks\"   \n",
       " \"grated\"  \n",
       " \"gay\"     \n",
       " \"pails\"   \n",
       " \"tapirs\"  \n",
       " \"twists\"  \n",
       " \"salting\" \n",
       " \"rafted\"  \n",
       " \"maleate\" \n",
       " \"smackers\"\n",
       " \"sear\"    \n",
       " \"team\"    \n",
       " ⋮         \n",
       " \"scanty\"  \n",
       " \"prizes\"  \n",
       " \"akin\"    \n",
       " \"witted\"  \n",
       " \"painting\"\n",
       " \"wain\"    \n",
       " \"fauns\"   \n",
       " \"leans\"   \n",
       " \"lap\"     \n",
       " \"stacker\" \n",
       " \"tantras\" \n",
       " \"pleaser\" "
      ]
     },
     "execution_count": 422,
     "metadata": {},
     "output_type": "execute_result"
    }
   ],
   "source": [
    "function reducible()\n",
    "    \n",
    "    reducible_array = []\n",
    "    \n",
    "    for word in keys(words_dict)\n",
    "        if is_reducible2(word)\n",
    "            push!(reducible_array,word)\n",
    "        end\n",
    "    end\n",
    "\n",
    "    return reducible_array\n",
    "end\n",
    "\n",
    "@time reducible_array_wo_memo = reducible()"
   ]
  },
  {
   "cell_type": "code",
   "execution_count": 427,
   "metadata": {},
   "outputs": [
    {
     "name": "stdout",
     "output_type": "stream",
     "text": [
      "  1.571879 seconds (12.79 M allocations: 686.508 MiB, 11.67% gc time)\n"
     ]
    },
    {
     "name": "stderr",
     "output_type": "stream",
     "text": [
      "WARNING: redefining constant known_memo\n"
     ]
    },
    {
     "data": {
      "text/plain": [
       "9770-element Array{Any,1}:\n",
       " \"pintoes\" \n",
       " \"hicks\"   \n",
       " \"grated\"  \n",
       " \"gay\"     \n",
       " \"pails\"   \n",
       " \"tapirs\"  \n",
       " \"twists\"  \n",
       " \"salting\" \n",
       " \"rafted\"  \n",
       " \"maleate\" \n",
       " \"smackers\"\n",
       " \"sear\"    \n",
       " \"team\"    \n",
       " ⋮         \n",
       " \"scanty\"  \n",
       " \"prizes\"  \n",
       " \"akin\"    \n",
       " \"witted\"  \n",
       " \"painting\"\n",
       " \"wain\"    \n",
       " \"fauns\"   \n",
       " \"leans\"   \n",
       " \"lap\"     \n",
       " \"stacker\" \n",
       " \"tantras\" \n",
       " \"pleaser\" "
      ]
     },
     "execution_count": 427,
     "metadata": {},
     "output_type": "execute_result"
    }
   ],
   "source": [
    "const known_memo = Dict()\n",
    "\n",
    "function is_reducible_memo(word)\n",
    "    \n",
    "    #@show word\n",
    "    global known_memo\n",
    "    \n",
    "    if (word == \"\")\n",
    "        return true\n",
    "    end\n",
    "    \n",
    "    if word ∈ keys(known_memo)\n",
    "        return true\n",
    "    end\n",
    "\n",
    "    \n",
    "    if word ∉ keys(words_dict)\n",
    "        return false\n",
    "    end\n",
    "\n",
    "      \n",
    "    for w in children_words(word)\n",
    "          \n",
    "        if is_reducible_memo(w)\n",
    "            known_memo[word] = \"\"\n",
    "            return true\n",
    "        end\n",
    "        \n",
    "    end\n",
    "\n",
    "    return false\n",
    "    \n",
    "end \n",
    "\n",
    "\n",
    "\n",
    "function reducible_memo()\n",
    "    \n",
    "    reducible_array = []\n",
    "    \n",
    "    for word in keys(words_dict)\n",
    "        \n",
    "        if is_reducible_memo(word)\n",
    "            push!(reducible_array,word)\n",
    "        end\n",
    "    end\n",
    "\n",
    "    return reducible_array\n",
    "end\n",
    "\n",
    "@time reducible_array = reducible()"
   ]
  },
  {
   "cell_type": "code",
   "execution_count": 365,
   "metadata": {},
   "outputs": [
    {
     "data": {
      "text/plain": [
       "\"complecting\""
      ]
     },
     "execution_count": 365,
     "metadata": {},
     "output_type": "execute_result"
    }
   ],
   "source": [
    "# longest=\"\"\n",
    "# for word in reducible_array\n",
    "#     if length(word) > length(longest)\n",
    "#         longest = word\n",
    "#     end\n",
    "# end\n",
    "\n",
    "# println(\"$longest , $(length(longest))\")\n",
    "\n",
    "sort(reducible_array, by = x->length(x), rev=true)[1]"
   ]
  },
  {
   "cell_type": "code",
   "execution_count": 366,
   "metadata": {},
   "outputs": [
    {
     "data": {
      "text/plain": [
       "\"\""
      ]
     },
     "execution_count": 366,
     "metadata": {},
     "output_type": "execute_result"
    }
   ],
   "source": [
    "sort(reducible_array, by = x->length(x), rev=false)[1]"
   ]
  },
  {
   "cell_type": "code",
   "execution_count": 367,
   "metadata": {},
   "outputs": [
    {
     "data": {
      "text/plain": [
       "histogram_array (generic function with 1 method)"
      ]
     },
     "execution_count": 367,
     "metadata": {},
     "output_type": "execute_result"
    }
   ],
   "source": [
    "function histogram_array(items) \n",
    "    d = Dict()\n",
    "    for item in items\n",
    "        c = length(item)\n",
    "        d[c] = get(d,c,0) + 1\n",
    "    end\n",
    "    d\n",
    "end"
   ]
  },
  {
   "cell_type": "code",
   "execution_count": 368,
   "metadata": {},
   "outputs": [
    {
     "data": {
      "text/plain": [
       "Dict{Any,Any} with 12 entries:\n",
       "  2  => 36\n",
       "  11 => 1\n",
       "  7  => 1885\n",
       "  9  => 171\n",
       "  0  => 1\n",
       "  10 => 7\n",
       "  8  => 837\n",
       "  6  => 2666\n",
       "  4  => 1329\n",
       "  3  => 332\n",
       "  5  => 2503\n",
       "  1  => 2"
      ]
     },
     "execution_count": 368,
     "metadata": {},
     "output_type": "execute_result"
    }
   ],
   "source": [
    "histogram_array(reducible_array)"
   ]
  },
  {
   "cell_type": "code",
   "execution_count": 359,
   "metadata": {},
   "outputs": [
    {
     "data": {
      "text/plain": [
       "12-element Array{Pair{Any,Any},1}:\n",
       "  0 => 1   \n",
       "  1 => 2   \n",
       "  2 => 36  \n",
       "  3 => 332 \n",
       "  4 => 1329\n",
       "  5 => 2503\n",
       "  6 => 2666\n",
       "  7 => 1885\n",
       "  8 => 837 \n",
       "  9 => 171 \n",
       " 10 => 7   \n",
       " 11 => 1   "
      ]
     },
     "execution_count": 359,
     "metadata": {},
     "output_type": "execute_result"
    }
   ],
   "source": [
    "sort(collect(histogram_array(reducible_array)))"
   ]
  },
  {
   "cell_type": "code",
   "execution_count": null,
   "metadata": {},
   "outputs": [],
   "source": []
  }
 ],
 "metadata": {
  "kernelspec": {
   "display_name": "Julia 1.2.0",
   "language": "julia",
   "name": "julia-1.2"
  },
  "language_info": {
   "file_extension": ".jl",
   "mimetype": "application/julia",
   "name": "julia",
   "version": "1.2.0"
  }
 },
 "nbformat": 4,
 "nbformat_minor": 2
}
