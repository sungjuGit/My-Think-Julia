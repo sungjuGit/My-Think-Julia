{
 "cells": [
  {
   "cell_type": "markdown",
   "metadata": {},
   "source": [
    "# Ch 6: Fruitful Functions"
   ]
  },
  {
   "cell_type": "markdown",
   "metadata": {},
   "source": [
    "### Return Values\n",
    "\n",
    "A fruitful function generates a return value, which we usually assign to a variable or use as part of an expression.\n",
    "\n",
    "The value returned by a function is the value of the last expression evaluated, which by default is the last expression in the body of the function definition."
   ]
  },
  {
   "cell_type": "code",
   "execution_count": 1,
   "metadata": {},
   "outputs": [
    {
     "data": {
      "text/plain": [
       "area1 (generic function with 1 method)"
      ]
     },
     "execution_count": 1,
     "metadata": {},
     "output_type": "execute_result"
    }
   ],
   "source": [
    "function area1(radius)\n",
    "    π * radius^2\n",
    "end"
   ]
  },
  {
   "cell_type": "markdown",
   "metadata": {},
   "source": [
    "But it is sometimes useful to use `return` statements to control the flow of execution."
   ]
  },
  {
   "cell_type": "code",
   "execution_count": 2,
   "metadata": {},
   "outputs": [
    {
     "data": {
      "text/plain": [
       "area (generic function with 1 method)"
      ]
     },
     "execution_count": 2,
     "metadata": {},
     "output_type": "execute_result"
    }
   ],
   "source": [
    "function area(radius)\n",
    "    a = π * radius^2\n",
    "    return a\n",
    "end"
   ]
  },
  {
   "cell_type": "markdown",
   "metadata": {},
   "source": [
    "  The `return` statement means: \"Return immediately from this function and use the following expression as a return value.\n",
    "  \n",
    "  Sometimes it is useful to have multiple`return` statements.  For exmple, one in each branch of a conditional."
   ]
  },
  {
   "cell_type": "code",
   "execution_count": 3,
   "metadata": {},
   "outputs": [
    {
     "data": {
      "text/plain": [
       "absvalue (generic function with 1 method)"
      ]
     },
     "execution_count": 3,
     "metadata": {},
     "output_type": "execute_result"
    }
   ],
   "source": [
    "function absvalue(x)\n",
    "    if x < 0\n",
    "        return -x\n",
    "    else\n",
    "        return x\n",
    "    end\n",
    "end"
   ]
  },
  {
   "cell_type": "markdown",
   "metadata": {},
   "source": [
    "Since these return statements are in an alternative conditional, only one runs.  As soon as a `return` statement runs, the function terminates without executing any subsequent statements (called dead code).  \n",
    "\n",
    "In fruitful functions, you should ensure that every possible path in the program hits a return statement.  For example, the above function is incorrect because, if x happens to be 0, the function ends without hitting a return statement."
   ]
  },
  {
   "cell_type": "markdown",
   "metadata": {},
   "source": [
    "### Boolean Functions\n",
    "\n",
    "A fruitful function can return a boolean value.  It is common to give boolean functions names that sound like yes/no questions."
   ]
  },
  {
   "cell_type": "code",
   "execution_count": 4,
   "metadata": {},
   "outputs": [
    {
     "data": {
      "text/plain": [
       "isdivisible (generic function with 1 method)"
      ]
     },
     "execution_count": 4,
     "metadata": {},
     "output_type": "execute_result"
    }
   ],
   "source": [
    "function isdivisible(x,y)\n",
    "    if x % y == 0\n",
    "        return true\n",
    "    else\n",
    "        return false\n",
    "    end\n",
    "end"
   ]
  },
  {
   "cell_type": "markdown",
   "metadata": {},
   "source": [
    "### Incremental Development\n",
    "\n",
    "When you start out, you should add only a line or two of code at a time. As you gain more experience, you might find yourself writing and debugging bigger chunks. Either way, incremental development can save you a lot of debugging time. The key aspects of the process are:\n",
    "\n",
    "1. Start with a working program and make small incremental changes. At any point, if there is an error, you should have a good idea where it is.\n",
    "2. Use variables to hold intermediate values so you can display and check them.\n",
    "3. Once the program is working, you might want to remove some of the scaffolding or consolidate multiple statements into compound expressions, but only if it does not make the program difficult to read."
   ]
  },
  {
   "cell_type": "markdown",
   "metadata": {},
   "source": [
    "### More Recursion\n",
    "\n",
    "Recursive functions are particulary useful for evaluating recursively defined mathematical functions.\n",
    "\n",
    "One example is the factorial function:\n",
    "\n",
    "\n",
    "\\begin{equation}\n",
    "n! = \n",
    "\\left\\{\n",
    "\t\\begin{array}{ll}\n",
    "\t\t1  & \\mbox{if } n = 0 \\\\\n",
    "\t\tn(n-1)! & \\mbox{if } n > 0\n",
    "\t\\end{array}\n",
    "\\right.\n",
    "\\end{equation}\n",
    "\n",
    "This definition says that the factorial of 0 is 1, and the factorial of any other value, $n$, is multiplied by the factorial of\n",
    "$n$-1. So 3! is 3 times 2!, which is 2 times 1!, which is 1 times 0!. Putting it all together, 3! equals 3 times 2 times 1 times 1, which is 6.\n",
    "\n",
    "We will first show a verion of the function with scaffolding, which is a code put in to help develop and debug a program but is not part of the final product.  And then the final version.\n"
   ]
  },
  {
   "cell_type": "code",
   "execution_count": 5,
   "metadata": {},
   "outputs": [
    {
     "data": {
      "text/plain": [
       "fact (generic function with 1 method)"
      ]
     },
     "execution_count": 5,
     "metadata": {},
     "output_type": "execute_result"
    }
   ],
   "source": [
    "function fact(n)\n",
    "    space = \" \" ^ (4 * n)\n",
    "    println(space, \"factorial \", n, \" called\")\n",
    "    \n",
    "    if n == 0\n",
    "        println(space, \"returning 1\")\n",
    "        return 1\n",
    "    else\n",
    "        result = n * fact(n-1)\n",
    "        println(space, \"returning \", result)\n",
    "        return result\n",
    "    end\n",
    "end"
   ]
  },
  {
   "cell_type": "code",
   "execution_count": 6,
   "metadata": {},
   "outputs": [
    {
     "name": "stdout",
     "output_type": "stream",
     "text": [
      "                factorial 4 called\n",
      "            factorial 3 called\n",
      "        factorial 2 called\n",
      "    factorial 1 called\n",
      "factorial 0 called\n",
      "returning 1\n",
      "    returning 1\n",
      "        returning 2\n",
      "            returning 6\n",
      "                returning 24\n"
     ]
    },
    {
     "data": {
      "text/plain": [
       "24"
      ]
     },
     "execution_count": 6,
     "metadata": {},
     "output_type": "execute_result"
    }
   ],
   "source": [
    "fact(4)"
   ]
  },
  {
   "cell_type": "code",
   "execution_count": 7,
   "metadata": {},
   "outputs": [
    {
     "data": {
      "text/plain": [
       "fact (generic function with 1 method)"
      ]
     },
     "execution_count": 7,
     "metadata": {},
     "output_type": "execute_result"
    }
   ],
   "source": [
    "function fact(n)\n",
    "    if n == 0\n",
    "        return 1\n",
    "    else\n",
    "        result = n * fact(n-1)\n",
    "        return result\n",
    "    end\n",
    "end"
   ]
  },
  {
   "cell_type": "markdown",
   "metadata": {},
   "source": [
    "### Checking Types\n",
    "\n",
    "What happens when we call `fact` with 1.5 as an argument?"
   ]
  },
  {
   "cell_type": "code",
   "execution_count": 8,
   "metadata": {},
   "outputs": [
    {
     "ename": "StackOverflowError",
     "evalue": "StackOverflowError:",
     "output_type": "error",
     "traceback": [
      "StackOverflowError:",
      "",
      "Stacktrace:",
      " [1] fact(::Float64) at .\\In[7]:5 (repeats 43496 times)",
      " [2] top-level scope at In[8]:1"
     ]
    }
   ],
   "source": [
    "fact(1.5)"
   ]
  },
  {
   "cell_type": "markdown",
   "metadata": {},
   "source": [
    "The condition n == 0 is never reached and we suffered from an infinite recursion.\n",
    "\n",
    "We can either generalize the factorial function to work with floating point numbers (Gamma function) or make the function check the type of its argument before executing the rest of the body."
   ]
  },
  {
   "cell_type": "code",
   "execution_count": 9,
   "metadata": {},
   "outputs": [
    {
     "data": {
      "text/plain": [
       "fact (generic function with 1 method)"
      ]
     },
     "execution_count": 9,
     "metadata": {},
     "output_type": "execute_result"
    }
   ],
   "source": [
    "function fact(n)\n",
    "    \n",
    "    if !(n isa Int64)\n",
    "        error(\"Factorial is only defined for non-negative integers.\")\n",
    "    elseif n < 0\n",
    "        error(\"Factorial is not defined for negative integers.\")\n",
    "    elseif n == 0\n",
    "        return 1\n",
    "    else\n",
    "        result = n * fact(n-1)\n",
    "        return result\n",
    "    end\n",
    "    \n",
    "end"
   ]
  },
  {
   "cell_type": "markdown",
   "metadata": {},
   "source": [
    "The first two conditionals act as guardians, protecting the code from values that might cause an error."
   ]
  },
  {
   "cell_type": "code",
   "execution_count": 10,
   "metadata": {},
   "outputs": [
    {
     "ename": "ErrorException",
     "evalue": "Factorial is not defined for negative integers.",
     "output_type": "error",
     "traceback": [
      "Factorial is not defined for negative integers.",
      "",
      "Stacktrace:",
      " [1] error(::String) at .\\error.jl:33",
      " [2] fact(::Int64) at .\\In[9]:6",
      " [3] top-level scope at In[10]:1"
     ]
    }
   ],
   "source": [
    "fact(-1)"
   ]
  },
  {
   "cell_type": "code",
   "execution_count": 11,
   "metadata": {},
   "outputs": [
    {
     "ename": "ErrorException",
     "evalue": "Factorial is only defined for non-negative integers.",
     "output_type": "error",
     "traceback": [
      "Factorial is only defined for non-negative integers.",
      "",
      "Stacktrace:",
      " [1] error(::String) at .\\error.jl:33",
      " [2] fact(::Float64) at .\\In[9]:4",
      " [3] top-level scope at In[11]:1"
     ]
    }
   ],
   "source": [
    "fact(1.5)"
   ]
  },
  {
   "cell_type": "markdown",
   "metadata": {},
   "source": [
    "### Another Example of Fruitful Recursive Functions\n",
    "\n",
    "After factorial, the most common example of a recursively defined mathematical function is fibonacci, which has the\n",
    "following definition (see https://en.wikipedia.org/wiki/Fibonacci_number):\n",
    "\n",
    "\\begin{equation}\n",
    "fib(n) = \n",
    "\\left\\{\n",
    "\t\\begin{array}{ll}\n",
    "\t\t0  & \\mbox{if } n = 0 \\\\\n",
    "        1  & \\mbox{if } n = 1 \\\\\n",
    "\t\tfib(n-1) + fib(n-2) & \\mbox{if } n > 1\n",
    "\t\\end{array}\n",
    "\\right.\n",
    "\\end{equation}"
   ]
  },
  {
   "cell_type": "code",
   "execution_count": 12,
   "metadata": {},
   "outputs": [
    {
     "data": {
      "text/plain": [
       "fib (generic function with 1 method)"
      ]
     },
     "execution_count": 12,
     "metadata": {},
     "output_type": "execute_result"
    }
   ],
   "source": [
    "function fib(n)\n",
    "    if n == 0\n",
    "        return 0\n",
    "    elseif n == 1\n",
    "        return 1\n",
    "    else\n",
    "        return fib(n-1) + fib(n-2)\n",
    "    end\n",
    "end"
   ]
  },
  {
   "cell_type": "code",
   "execution_count": 13,
   "metadata": {},
   "outputs": [
    {
     "data": {
      "text/plain": [
       "(1, 1, 2, 3, 5)"
      ]
     },
     "execution_count": 13,
     "metadata": {},
     "output_type": "execute_result"
    }
   ],
   "source": [
    "fib(1), fib(2), fib(3), fib(4), fib(5)"
   ]
  },
  {
   "cell_type": "markdown",
   "metadata": {},
   "source": [
    "Here is a non-recursive version for your reference."
   ]
  },
  {
   "cell_type": "code",
   "execution_count": 14,
   "metadata": {},
   "outputs": [
    {
     "data": {
      "text/plain": [
       "fibVnorecur (generic function with 1 method)"
      ]
     },
     "execution_count": 14,
     "metadata": {},
     "output_type": "execute_result"
    }
   ],
   "source": [
    "function fibVnorecur(n)\n",
    "    t1 = 0\n",
    "    t2 = 1\n",
    "    count = 1\n",
    "    \n",
    "    if n == 0\n",
    "        return 0\n",
    "    end\n",
    "      \n",
    "    while count <= n\n",
    "        t3 = t1 + t2\n",
    "        t1 = t2\n",
    "        t2 = t3\n",
    "        count += 1\n",
    "    end\n",
    "    \n",
    "    return t1\n",
    "\n",
    "end\n"
   ]
  },
  {
   "cell_type": "code",
   "execution_count": 15,
   "metadata": {},
   "outputs": [
    {
     "name": "stdout",
     "output_type": "stream",
     "text": [
      "0, 0\n",
      "1, 1\n",
      "1, 1\n",
      "2, 2\n",
      "3, 3\n",
      "5, 5\n",
      "8, 8\n",
      "13, 13\n",
      "21, 21\n",
      "34, 34\n",
      "55, 55\n"
     ]
    }
   ],
   "source": [
    "for n = 0:10\n",
    "    println(fibVnorecur(n),\", \",fib(n))\n",
    "end"
   ]
  },
  {
   "cell_type": "markdown",
   "metadata": {},
   "source": [
    "### Exercise 6-4\n",
    "\n",
    "Draw a stack diagram for the following program. What does the program print?\n",
    "\n",
    "```\n",
    "function b(z)\n",
    "    prod = a(z, z)\n",
    "    println(z, \" \", prod)\n",
    "    prod\n",
    "end\n",
    "\n",
    "\n",
    "function a(x, y)\n",
    "    x = x + 1\n",
    "    x * y\n",
    "end\n",
    "\n",
    "\n",
    "function c(x, y, z)\n",
    "    total = x + y + z\n",
    "    square = b(total)^2\n",
    "    square\n",
    "end\n",
    "\n",
    "x = 1\n",
    "y = x + 1\n",
    "\n",
    "println(c(x, y+3, x+y))\n",
    "```"
   ]
  },
  {
   "cell_type": "code",
   "execution_count": 16,
   "metadata": {
    "code_folding": []
   },
   "outputs": [
    {
     "name": "stdout",
     "output_type": "stream",
     "text": [
      "9 90\n",
      "8100\n"
     ]
    }
   ],
   "source": [
    "#\n",
    "function b(z)\n",
    "    prod = a(z, z)\n",
    "    println(z, \" \", prod)\n",
    "    prod\n",
    "end\n",
    "\n",
    "\n",
    "function a(x, y)\n",
    "    x = x + 1\n",
    "    x * y\n",
    "end\n",
    "\n",
    "\n",
    "function c(x, y, z)\n",
    "    total = x + y + z\n",
    "    square = b(total)^2\n",
    "    square\n",
    "end\n",
    "\n",
    "x = 1\n",
    "y = x + 1\n",
    "\n",
    "println(c(x, y+3, x+y))"
   ]
  },
  {
   "cell_type": "markdown",
   "metadata": {},
   "source": [
    "### Exercise 6-5\n",
    "\n",
    "The Ackermann function, A(m,n), is defined:\n",
    "\n",
    "\\begin{equation}\n",
    "A(m,n) = \n",
    "\\left\\{\n",
    "\t\\begin{array}{ll}\n",
    "\t\tn+1  & \\mbox{if } m = 0 \\\\\n",
    "        A(m−1, 1)  & \\mbox{if } m > 0 \\mbox{  and  } n = 0\\\\\n",
    "\t\tA(m−1,A(m,n−1)) & \\mbox{if } m > 0 \\mbox{  and  } n > 0\n",
    "\t\\end{array}\n",
    "\\right.\n",
    "\\end{equation}\n",
    "\n",
    "\n",
    "See https://en.wikipedia.org/wiki/Ackermann_function. Write a function named ack that evaluates the Ackermann function. Use your function to evaluate ack(3, 4), which should be 125. What happens for larger values of $m$ and $n$ ?"
   ]
  },
  {
   "cell_type": "code",
   "execution_count": 17,
   "metadata": {},
   "outputs": [
    {
     "data": {
      "text/plain": [
       "ack (generic function with 1 method)"
      ]
     },
     "execution_count": 17,
     "metadata": {},
     "output_type": "execute_result"
    }
   ],
   "source": [
    "function ack(m,n)\n",
    "    \n",
    "    if m == 0\n",
    "      #  @show m,n\n",
    "        return n+1\n",
    "    elseif m > 0 && n == 0\n",
    "      #  @show m,n\n",
    "        return ack(m-1,1)\n",
    "    elseif m > 0 && n > 0\n",
    "        return ack(m-1,ack(m,n-1))\n",
    "    end\n",
    "    \n",
    "end"
   ]
  },
  {
   "cell_type": "code",
   "execution_count": 18,
   "metadata": {},
   "outputs": [
    {
     "data": {
      "text/plain": [
       "125"
      ]
     },
     "execution_count": 18,
     "metadata": {},
     "output_type": "execute_result"
    }
   ],
   "source": [
    "ack(3,4)"
   ]
  },
  {
   "cell_type": "code",
   "execution_count": 19,
   "metadata": {},
   "outputs": [
    {
     "ename": "StackOverflowError",
     "evalue": "StackOverflowError:",
     "output_type": "error",
     "traceback": [
      "StackOverflowError:",
      "",
      "Stacktrace:",
      " [1] ack(::Int64, ::Int64) at .\\In[17]:8",
      " [2] ack(::Int64, ::Int64) at .\\In[17]:10 (repeats 32620 times)",
      " [3] ack(::Int64, ::Int64) at .\\In[17]:8",
      " [4] top-level scope at In[19]:1"
     ]
    }
   ],
   "source": [
    "ack(5,0)"
   ]
  },
  {
   "cell_type": "code",
   "execution_count": 20,
   "metadata": {},
   "outputs": [
    {
     "ename": "StackOverflowError",
     "evalue": "StackOverflowError:",
     "output_type": "error",
     "traceback": [
      "StackOverflowError:",
      "",
      "Stacktrace:",
      " [1] ack(::Int64, ::Int64) at .\\In[17]:8",
      " [2] ack(::Int64, ::Int64) at .\\In[17]:10 (repeats 32621 times)",
      " [3] top-level scope at In[20]:1"
     ]
    }
   ],
   "source": [
    "ack(4,1)"
   ]
  },
  {
   "cell_type": "markdown",
   "metadata": {},
   "source": [
    "### Exercise 6-6\n",
    "\n",
    "A palindrome is a word that is spelled the same backward and forward, like “noon” and “redivider”. Recursively, a word is a palindrome if the first and last letters are the same and the middle is a palindrome. The following are functions that take a string argument and return the first, last, and middle letters:\n",
    "\n",
    "```\n",
    "function first(word)\n",
    "    first = firstindex(word)\n",
    "    word[first]\n",
    "end\n",
    "\n",
    "function last(word)\n",
    "    last = lastindex(word)\n",
    "    word[last]\n",
    "end\n",
    "\n",
    "function middle(word)\n",
    "    first = firstindex(word)\n",
    "    last = lastindex(word)\n",
    "    word[nextind(word, first) : prevind(word, last)]\n",
    "end\n",
    "```\n",
    "\n",
    "We’ll see how they work in Strings.\n",
    "\n",
    "1. Test these functions out. What happens if you call `middle` with a string with two letters? One letter? What about the empty string, which is written \"\" and contains no letters?\n",
    "\n",
    "2. Write a function called `ispalindrome` that takes a string argument and returns true if it is a palindrome and false otherwise. Remember that you can use the built-in function `length` to check the length of a string.\n"
   ]
  },
  {
   "cell_type": "code",
   "execution_count": 21,
   "metadata": {},
   "outputs": [
    {
     "data": {
      "text/plain": [
       "middle (generic function with 1 method)"
      ]
     },
     "execution_count": 21,
     "metadata": {},
     "output_type": "execute_result"
    }
   ],
   "source": [
    "function first(word)\n",
    "    first = firstindex(word)\n",
    "    word[first]\n",
    "end\n",
    "\n",
    "function last(word)\n",
    "    last = lastindex(word)\n",
    "    word[last]\n",
    "end\n",
    "\n",
    "function middle(word)\n",
    "    first = firstindex(word)\n",
    "    last = lastindex(word)\n",
    "    word[nextind(word, first) : prevind(word, last)]\n",
    "end"
   ]
  },
  {
   "cell_type": "code",
   "execution_count": 22,
   "metadata": {},
   "outputs": [
    {
     "data": {
      "text/plain": [
       "'H': ASCII/Unicode U+0048 (category Lu: Letter, uppercase)"
      ]
     },
     "execution_count": 22,
     "metadata": {},
     "output_type": "execute_result"
    }
   ],
   "source": [
    "first(\"Hello\")"
   ]
  },
  {
   "cell_type": "code",
   "execution_count": 23,
   "metadata": {},
   "outputs": [
    {
     "data": {
      "text/plain": [
       "'o': ASCII/Unicode U+006f (category Ll: Letter, lowercase)"
      ]
     },
     "execution_count": 23,
     "metadata": {},
     "output_type": "execute_result"
    }
   ],
   "source": [
    "last(\"Hello\")"
   ]
  },
  {
   "cell_type": "code",
   "execution_count": 24,
   "metadata": {},
   "outputs": [
    {
     "data": {
      "text/plain": [
       "\"ell\""
      ]
     },
     "execution_count": 24,
     "metadata": {},
     "output_type": "execute_result"
    }
   ],
   "source": [
    "middle(\"Hello\")"
   ]
  },
  {
   "cell_type": "code",
   "execution_count": 25,
   "metadata": {},
   "outputs": [
    {
     "data": {
      "text/plain": [
       "\"\""
      ]
     },
     "execution_count": 25,
     "metadata": {},
     "output_type": "execute_result"
    }
   ],
   "source": [
    "middle(\"Hi\")"
   ]
  },
  {
   "cell_type": "code",
   "execution_count": 26,
   "metadata": {},
   "outputs": [
    {
     "data": {
      "text/plain": [
       "\"\""
      ]
     },
     "execution_count": 26,
     "metadata": {},
     "output_type": "execute_result"
    }
   ],
   "source": [
    "middle(\"H\")"
   ]
  },
  {
   "cell_type": "code",
   "execution_count": 27,
   "metadata": {},
   "outputs": [
    {
     "ename": "BoundsError",
     "evalue": "BoundsError: attempt to access \"\"\n  at index [1]",
     "output_type": "error",
     "traceback": [
      "BoundsError: attempt to access \"\"\n  at index [1]",
      "",
      "Stacktrace:",
      " [1] _nextind_str at .\\strings\\string.jl:140 [inlined]",
      " [2] nextind at .\\strings\\string.jl:134 [inlined]",
      " [3] middle(::String) at .\\In[21]:14",
      " [4] top-level scope at In[27]:1"
     ]
    }
   ],
   "source": [
    "middle(\"\")"
   ]
  },
  {
   "cell_type": "code",
   "execution_count": 28,
   "metadata": {},
   "outputs": [
    {
     "ename": "BoundsError",
     "evalue": "BoundsError: attempt to access \"\"\n  at index [1]",
     "output_type": "error",
     "traceback": [
      "BoundsError: attempt to access \"\"\n  at index [1]",
      "",
      "Stacktrace:",
      " [1] checkbounds at .\\strings\\basic.jl:193 [inlined]",
      " [2] codeunit at .\\strings\\string.jl:89 [inlined]",
      " [3] getindex at .\\strings\\string.jl:207 [inlined]",
      " [4] first(::String) at .\\In[21]:3",
      " [5] top-level scope at In[28]:1"
     ]
    }
   ],
   "source": [
    "first(\"\")"
   ]
  },
  {
   "cell_type": "code",
   "execution_count": 29,
   "metadata": {
    "code_folding": []
   },
   "outputs": [
    {
     "data": {
      "text/plain": [
       "ispalindrome (generic function with 1 method)"
      ]
     },
     "execution_count": 29,
     "metadata": {},
     "output_type": "execute_result"
    }
   ],
   "source": [
    "function ispalindrome(word)\n",
    "    \n",
    "    if length(word) == 0\n",
    "        return true\n",
    "    end\n",
    "        \n",
    "    if lowercase(first(word)) == lowercase(last(word))\n",
    "        ispalindrome(middle(word))\n",
    "    else\n",
    "        return false\n",
    "    end\n",
    "\n",
    "end"
   ]
  },
  {
   "cell_type": "code",
   "execution_count": 30,
   "metadata": {},
   "outputs": [
    {
     "data": {
      "text/plain": [
       "true"
      ]
     },
     "execution_count": 30,
     "metadata": {},
     "output_type": "execute_result"
    }
   ],
   "source": [
    "ispalindrome(\"Helleh\")"
   ]
  },
  {
   "cell_type": "code",
   "execution_count": 31,
   "metadata": {},
   "outputs": [
    {
     "data": {
      "text/plain": [
       "true"
      ]
     },
     "execution_count": 31,
     "metadata": {},
     "output_type": "execute_result"
    }
   ],
   "source": [
    "ispalindrome(\"redivider\")"
   ]
  },
  {
   "cell_type": "code",
   "execution_count": 32,
   "metadata": {},
   "outputs": [
    {
     "data": {
      "text/plain": [
       "true"
      ]
     },
     "execution_count": 32,
     "metadata": {},
     "output_type": "execute_result"
    }
   ],
   "source": [
    "ispalindrome(\"noon\")"
   ]
  },
  {
   "cell_type": "code",
   "execution_count": 33,
   "metadata": {},
   "outputs": [
    {
     "data": {
      "text/plain": [
       "false"
      ]
     },
     "execution_count": 33,
     "metadata": {},
     "output_type": "execute_result"
    }
   ],
   "source": [
    "ispalindrome(\"tHis\")"
   ]
  },
  {
   "cell_type": "markdown",
   "metadata": {},
   "source": [
    "### Exercise 6-7\n",
    "\n",
    "A number, $a$, is a power of $b$ if it is divisible by $b$ and $a/b$ is a power of $b$. Write a function called `ispower` that takes parameters $a$ and $b$ and returns true if $a$ is a power of $b$.\n",
    "\n",
    "TIP: You have to think about the base case!  Also, think carefully about what should happen if $b$ = 1 or -1.\n",
    "\n",
    "Check whether your function works properly when a and/or b are negative."
   ]
  },
  {
   "cell_type": "code",
   "execution_count": 34,
   "metadata": {},
   "outputs": [
    {
     "data": {
      "text/plain": [
       "ispower (generic function with 1 method)"
      ]
     },
     "execution_count": 34,
     "metadata": {},
     "output_type": "execute_result"
    }
   ],
   "source": [
    "function ispower(a, b)\n",
    "   \n",
    "    if a == 1\n",
    "        return true\n",
    "    end\n",
    "    \n",
    "    if b == 1 || ( b == -1 && a != -1) # guardians\n",
    "        return false\n",
    "    end\n",
    "    \n",
    "    if a % b == 0  \n",
    "        ispower(a/b, b)\n",
    "    else\n",
    "        return false\n",
    "    end\n",
    "    \n",
    "end"
   ]
  },
  {
   "cell_type": "code",
   "execution_count": 35,
   "metadata": {},
   "outputs": [
    {
     "data": {
      "text/plain": [
       "(true, false, false, true)"
      ]
     },
     "execution_count": 35,
     "metadata": {},
     "output_type": "execute_result"
    }
   ],
   "source": [
    "ispower(27,3), ispower(-27,3), ispower(27,-3), ispower(-27,-3)"
   ]
  },
  {
   "cell_type": "code",
   "execution_count": 36,
   "metadata": {},
   "outputs": [
    {
     "data": {
      "text/plain": [
       "(true, false, true, false)"
      ]
     },
     "execution_count": 36,
     "metadata": {},
     "output_type": "execute_result"
    }
   ],
   "source": [
    "ispower(16,2), ispower(-16,2), ispower(16,-2), ispower(-16,-2)"
   ]
  },
  {
   "cell_type": "code",
   "execution_count": 37,
   "metadata": {},
   "outputs": [
    {
     "data": {
      "text/plain": [
       "(false, false)"
      ]
     },
     "execution_count": 37,
     "metadata": {},
     "output_type": "execute_result"
    }
   ],
   "source": [
    "ispower(27,1), ispower(27,-1)"
   ]
  },
  {
   "cell_type": "code",
   "execution_count": 38,
   "metadata": {},
   "outputs": [
    {
     "data": {
      "text/plain": [
       "(true, true, false, true)"
      ]
     },
     "execution_count": 38,
     "metadata": {},
     "output_type": "execute_result"
    }
   ],
   "source": [
    "ispower(1,1), ispower(1,-1), ispower(-1,1), ispower(-1,-1)"
   ]
  },
  {
   "cell_type": "code",
   "execution_count": 39,
   "metadata": {},
   "outputs": [
    {
     "data": {
      "text/plain": [
       "false"
      ]
     },
     "execution_count": 39,
     "metadata": {},
     "output_type": "execute_result"
    }
   ],
   "source": [
    "ispower(35,6)"
   ]
  },
  {
   "cell_type": "markdown",
   "metadata": {},
   "source": [
    "### Exercise 6-8\n",
    "\n",
    "The greatest common divisor (GCD) of two numbers is the largest number that divides both of them with no remainder. One way to find the GCD of two numbers is based on the observation that if $r$ is the remainder when $a$ is divided by $b$, then $gcd(a, b) = gcd(b, r)$. As a base case, we can use $gcd(a, 0) = a$. \n",
    "\n",
    "Write a function called `gcd` that takes parameters $a$ and $b$ and returns their greatest common divisor.\n",
    "\n",
    "Credit: This exercise is based on an example from Abelson and Sussman’s Structure and Interpretation of Computer\n",
    "Programs."
   ]
  },
  {
   "cell_type": "code",
   "execution_count": 40,
   "metadata": {},
   "outputs": [
    {
     "data": {
      "text/plain": [
       "gcd (generic function with 1 method)"
      ]
     },
     "execution_count": 40,
     "metadata": {},
     "output_type": "execute_result"
    }
   ],
   "source": [
    "function gcd(a,b)\n",
    "    \n",
    "    if a < 0 || b < 0\n",
    "        error(\"Both a and b should be non negative integers.\")\n",
    "    end\n",
    "    \n",
    "    if b == 0\n",
    "        return a\n",
    "    end\n",
    "    \n",
    "    gcd(b,a%b)\n",
    "    \n",
    "end"
   ]
  },
  {
   "cell_type": "code",
   "execution_count": 41,
   "metadata": {},
   "outputs": [
    {
     "data": {
      "text/plain": [
       "(2, 4, 126, 1)"
      ]
     },
     "execution_count": 41,
     "metadata": {},
     "output_type": "execute_result"
    }
   ],
   "source": [
    "gcd(10,2), gcd(2^2,2^2), gcd(2^3*3^2*7, 2*3^3*7^2), gcd(5^2, 7)"
   ]
  },
  {
   "cell_type": "code",
   "execution_count": 42,
   "metadata": {},
   "outputs": [
    {
     "data": {
      "text/plain": [
       "(1, 1, 10)"
      ]
     },
     "execution_count": 42,
     "metadata": {},
     "output_type": "execute_result"
    }
   ],
   "source": [
    "gcd(2,1), gcd(10,1),gcd(10,0)"
   ]
  },
  {
   "cell_type": "code",
   "execution_count": null,
   "metadata": {},
   "outputs": [],
   "source": []
  }
 ],
 "metadata": {
  "@webio": {
   "lastCommId": null,
   "lastKernelId": null
  },
  "kernelspec": {
   "display_name": "Julia 1.4.0",
   "language": "julia",
   "name": "julia-1.4"
  },
  "language_info": {
   "file_extension": ".jl",
   "mimetype": "application/julia",
   "name": "julia",
   "version": "1.4.0"
  }
 },
 "nbformat": 4,
 "nbformat_minor": 2
}
