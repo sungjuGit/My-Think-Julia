{
 "cells": [
  {
   "cell_type": "markdown",
   "metadata": {
    "colab_type": "text",
    "id": "7KZsYFODu8rG"
   },
   "source": [
    "# Ch 4: Case Study - Interface Design"
   ]
  },
  {
   "cell_type": "markdown",
   "metadata": {
    "colab_type": "text",
    "id": "iRM5Hz0qu8rK"
   },
   "source": [
    "This chapter presents a case study that demonstrates a process for designing functions that work together.  We will use *Turtle Graphics*, which is a way to create programmatic drawings.  Since *Turtle Graphics* is not part of Julia, we are going to use a Python module called `turtle`.  \n",
    "\n",
    "A module is a file that contains a collection of related functions.  Packages contain one or more such modules to provide additional functionalities to our program.  Packages for Julia can be found in https://juliaobserver.com\n",
    "\n",
    "Packages can be installed in the REPL by entering the Pkg mode by pressing the key ] and then entering \n",
    "\n",
    "`add \"package name\"`\n",
    "\n"
   ]
  },
  {
   "cell_type": "code",
   "execution_count": 1,
   "metadata": {
    "colab": {},
    "colab_type": "code",
    "id": "jmAmOhdwu8rP",
    "outputId": "bb7e6aca-4ecb-4568-eddf-93c4d154faa7"
   },
   "outputs": [
    {
     "name": "stdout",
     "output_type": "stream",
     "text": [
      "\u001b[32m\u001b[1m  Updating\u001b[22m\u001b[39m registry at `C:\\Users\\eddyj\\.julia\\registries\\General`\n",
      "\u001b[32m\u001b[1m  Updating\u001b[22m\u001b[39m git-repo `https://github.com/JuliaRegistries/General.git`\n",
      "\u001b[?25l\u001b[2K\u001b[?25h\u001b[32m\u001b[1m Resolving\u001b[22m\u001b[39m package versions...\n",
      "\u001b[32m\u001b[1m  Updating\u001b[22m\u001b[39m `C:\\Users\\eddyj\\.julia\\environments\\v1.2\\Project.toml`\n",
      "\u001b[90m [no changes]\u001b[39m\n",
      "\u001b[32m\u001b[1m  Updating\u001b[22m\u001b[39m `C:\\Users\\eddyj\\.julia\\environments\\v1.2\\Manifest.toml`\n",
      "\u001b[90m [no changes]\u001b[39m\n"
     ]
    },
    {
     "name": "stderr",
     "output_type": "stream",
     "text": [
      "┌ Info: Precompiling PyCall [438e738f-606a-5dbb-bf0a-cddfbfd45ab0]\n",
      "└ @ Base loading.jl:1242\n"
     ]
    }
   ],
   "source": [
    "using Pkg            \n",
    "# this module allows us to manage modules and packages in Julia\n",
    "\n",
    "Pkg.add(\"PyCall\")    \n",
    "# to call Python functions within Julia, we import a package called PyCall\n",
    "\n",
    "using PyCall"
   ]
  },
  {
   "cell_type": "code",
   "execution_count": 2,
   "metadata": {
    "colab": {},
    "colab_type": "code",
    "id": "RjeukeUnu8rf",
    "outputId": "e513765d-f11d-45f5-fab3-6b57e1e4d7ae"
   },
   "outputs": [
    {
     "data": {
      "text/plain": [
       "PyObject <module 'turtle' from 'C:\\\\Python37\\\\lib\\\\turtle.py'>"
      ]
     },
     "execution_count": 2,
     "metadata": {},
     "output_type": "execute_result"
    }
   ],
   "source": [
    "jturtle = pyimport(\"turtle\")"
   ]
  },
  {
   "cell_type": "code",
   "execution_count": 3,
   "metadata": {
    "colab": {},
    "colab_type": "code",
    "id": "eUfxYfl3u8ro",
    "outputId": "d8085181-9523-420e-e827-25f87d530141"
   },
   "outputs": [
    {
     "data": {
      "text/plain": [
       "PyObject <turtle.Turtle object at 0x00000000219F4188>"
      ]
     },
     "execution_count": 3,
     "metadata": {},
     "output_type": "execute_result"
    }
   ],
   "source": [
    "my_t = jturtle.Turtle()"
   ]
  },
  {
   "cell_type": "markdown",
   "metadata": {
    "colab_type": "text",
    "id": "APh0-lVJu8sD"
   },
   "source": [
    "Let's write a code to have a turtle draw a square."
   ]
  },
  {
   "cell_type": "code",
   "execution_count": null,
   "metadata": {
    "colab": {},
    "colab_type": "code",
    "id": "SVFG_oxYu8sH"
   },
   "outputs": [],
   "source": [
    "my_t.reset()\n",
    "my_t.speed(1)\n",
    "\n",
    "for i in 1:4\n",
    "    my_t.forward(100)\n",
    "    my_t.left(90)\n",
    "end"
   ]
  },
  {
   "cell_type": "markdown",
   "metadata": {
    "colab_type": "text",
    "id": "h6Ivq63su8sS"
   },
   "source": [
    "### Encapsulation\n",
    "\n",
    "Wrapping a piece of code up in a function is called encapsulation.  This allows us to reuse the code, which is more concise than copying and pasting the body again and again."
   ]
  },
  {
   "cell_type": "markdown",
   "metadata": {
    "colab_type": "text",
    "id": "0B2OiM-xu8sV"
   },
   "source": [
    "First, let's define a function that takes an instance of Turtle as an argument and draws a square."
   ]
  },
  {
   "cell_type": "code",
   "execution_count": 6,
   "metadata": {
    "colab": {},
    "colab_type": "code",
    "id": "UAYxfvBzu8sY",
    "outputId": "17e845ac-186a-42c8-8de3-12170c19f8ff"
   },
   "outputs": [
    {
     "data": {
      "text/plain": [
       "square (generic function with 1 method)"
      ]
     },
     "execution_count": 6,
     "metadata": {},
     "output_type": "execute_result"
    }
   ],
   "source": [
    "function square(t)\n",
    "    for i in 1:4\n",
    "        t.forward(100)\n",
    "        t.left(90)\n",
    "    end\n",
    "end"
   ]
  },
  {
   "cell_type": "code",
   "execution_count": 7,
   "metadata": {
    "colab": {},
    "colab_type": "code",
    "id": "P3dDkRYMu8sm"
   },
   "outputs": [],
   "source": [
    "my_t.reset()\n",
    "my_t.speed(1)\n",
    "square(my_t)"
   ]
  },
  {
   "cell_type": "markdown",
   "metadata": {
    "colab_type": "text",
    "id": "GnqY6jXLu8sw"
   },
   "source": [
    "### Generalization\n",
    "\n",
    "Next, we add an argument (arguments) to a function.  This is called generalization because it makes the function more general."
   ]
  },
  {
   "cell_type": "code",
   "execution_count": 8,
   "metadata": {
    "colab": {},
    "colab_type": "code",
    "id": "ajBIcZ42u8s0",
    "outputId": "e079174e-c6b5-4da3-9141-f9282846c5cf"
   },
   "outputs": [
    {
     "data": {
      "text/plain": [
       "square (generic function with 2 methods)"
      ]
     },
     "execution_count": 8,
     "metadata": {},
     "output_type": "execute_result"
    }
   ],
   "source": [
    "function square(t, len)\n",
    "    for i in 1:4\n",
    "        t.forward(len)\n",
    "        t.left(90)\n",
    "    end\n",
    "end"
   ]
  },
  {
   "cell_type": "code",
   "execution_count": 9,
   "metadata": {
    "colab": {},
    "colab_type": "code",
    "id": "VeyYodGwu8tC"
   },
   "outputs": [],
   "source": [
    "my_t.reset()\n",
    "my_t.speed(1)\n",
    "square(my_t,50)"
   ]
  },
  {
   "cell_type": "markdown",
   "metadata": {
    "colab_type": "text",
    "id": "5zi5uZ5Ru8tU"
   },
   "source": [
    "We can do another generalization where we define a function `polygon` that can draw a polygon with a given number of sides."
   ]
  },
  {
   "cell_type": "code",
   "execution_count": 10,
   "metadata": {
    "colab": {},
    "colab_type": "code",
    "id": "eGzAWMnfu8tZ",
    "outputId": "f4cc1998-eadb-4dfd-abb3-c132564f39a4"
   },
   "outputs": [
    {
     "data": {
      "text/plain": [
       "polygon (generic function with 1 method)"
      ]
     },
     "execution_count": 10,
     "metadata": {},
     "output_type": "execute_result"
    }
   ],
   "source": [
    "function polygon(t, n, len)\n",
    "    angle = 360 / n\n",
    "    for i in 1:n\n",
    "        t.forward(len)\n",
    "        t.left(angle)\n",
    "    end\n",
    "end"
   ]
  },
  {
   "cell_type": "code",
   "execution_count": 11,
   "metadata": {
    "colab": {},
    "colab_type": "code",
    "id": "v1zcz-Ouu8tk"
   },
   "outputs": [],
   "source": [
    "my_t.reset()\n",
    "my_t.speed(1)\n",
    "polygon(my_t,6,50)"
   ]
  },
  {
   "cell_type": "markdown",
   "metadata": {
    "colab_type": "text",
    "id": "akfd1Igzu8tz"
   },
   "source": [
    "### Interface Design\n",
    "\n",
    "The next step is to write a function circle that takes a radius as one of the arguments.  One simple solution is to use `polygon` with a big value of $n$, like 50."
   ]
  },
  {
   "cell_type": "code",
   "execution_count": 12,
   "metadata": {
    "colab": {},
    "colab_type": "code",
    "id": "1qPJ0q5Au8t3",
    "outputId": "660b7565-26a2-40e0-d1ff-745eb8c34473"
   },
   "outputs": [
    {
     "data": {
      "text/plain": [
       "circle (generic function with 1 method)"
      ]
     },
     "execution_count": 12,
     "metadata": {},
     "output_type": "execute_result"
    }
   ],
   "source": [
    "function circle(t, r)\n",
    "    \n",
    "    circumference = 2 * π * r\n",
    "    n = 50\n",
    "    len = circumference / n\n",
    "    \n",
    "    polygon(t, n, len)\n",
    "    \n",
    "end"
   ]
  },
  {
   "cell_type": "code",
   "execution_count": 13,
   "metadata": {
    "colab": {},
    "colab_type": "code",
    "id": "pcyNnoJHu8uL"
   },
   "outputs": [],
   "source": [
    "my_t.reset()\n",
    "my_t.speed(1)\n",
    "circle(my_t,50)"
   ]
  },
  {
   "cell_type": "markdown",
   "metadata": {
    "colab_type": "text",
    "id": "AccfCen5u8uq"
   },
   "source": [
    "One limitation of this solution is that $n$ is an arbitrary constant.  If the radius is small, we may end up wasting time drawing very small segments.  In contrast, if the radius is very big, then the line segments may be too long.\n",
    "\n",
    "We might choose to add $n$ as an additional argument of `polygon`.  But this would be inconvenient and the interface would be less clean.  $n$ simply pertains to the details of how the circle will be rendered.\n",
    "\n",
    "The interface of a function is a summary of how it is used:  \n",
    "\n",
    "- What are the arguments?\n",
    "- What does the function do?\n",
    "- What is the return valye?\n"
   ]
  },
  {
   "cell_type": "markdown",
   "metadata": {
    "colab_type": "text",
    "id": "On5pEBobxBYy"
   },
   "source": [
    "Here is one potential solution where an appropriate value of $n$ is chosen inside the function depending on the circumference."
   ]
  },
  {
   "cell_type": "code",
   "execution_count": 14,
   "metadata": {
    "colab": {},
    "colab_type": "code",
    "id": "1ARNdzDmu8ut",
    "outputId": "b750da88-4b6c-44db-fcb9-f876f3384c86"
   },
   "outputs": [
    {
     "data": {
      "text/plain": [
       "circle (generic function with 1 method)"
      ]
     },
     "execution_count": 14,
     "metadata": {},
     "output_type": "execute_result"
    }
   ],
   "source": [
    "function circle(t, r)\n",
    "    circumference = 2 * π * r\n",
    "    \n",
    "    n = trunc(circumference / 3) + 3  \n",
    "    # the legnth of segment is approximately 3.  \n",
    "    # Adding 3 guarantees that there will be at least 3 sides\n",
    "    \n",
    "    len = circumference / n\n",
    "    polygon(t, n, len)\n",
    "end"
   ]
  },
  {
   "cell_type": "code",
   "execution_count": 15,
   "metadata": {
    "colab": {},
    "colab_type": "code",
    "id": "5ogDIWvdu8u7"
   },
   "outputs": [],
   "source": [
    "my_t.reset()\n",
    "my_t.speed(1)\n",
    "circle(my_t,50)"
   ]
  },
  {
   "cell_type": "markdown",
   "metadata": {
    "colab_type": "text",
    "id": "OoF6jxytu8vA"
   },
   "source": [
    "### Refactoring\n",
    "\n",
    "What if we now want a function to draw an arc?  For `circle`, we were able to re-use `polygon`.  But an arc is not a polygon.\n",
    "\n",
    "One approach is to start with a copy of `polygon` and modify it in to write a function called `arc`."
   ]
  },
  {
   "cell_type": "code",
   "execution_count": 16,
   "metadata": {
    "colab": {},
    "colab_type": "code",
    "id": "zPqrapuPu8vF",
    "outputId": "f2127324-110a-4e5f-f653-76c72b63440e"
   },
   "outputs": [
    {
     "data": {
      "text/plain": [
       "arc (generic function with 1 method)"
      ]
     },
     "execution_count": 16,
     "metadata": {},
     "output_type": "execute_result"
    }
   ],
   "source": [
    "function arc(t, r, angle)\n",
    "    \n",
    "    arc_len = 2 * π * r * angle / 360\n",
    "    \n",
    "    n = trunc(arc_len / 3) + 1\n",
    "    \n",
    "    step_len = arc_len / n\n",
    "    step_angle = angle / n\n",
    "    \n",
    "    for i in 1:n\n",
    "        t.forward(step_len)\n",
    "        t.left(step_angle)\n",
    "    \n",
    "    end\n",
    "    \n",
    "end"
   ]
  },
  {
   "cell_type": "markdown",
   "metadata": {
    "colab_type": "text",
    "id": "oCuXf4kcu8vQ"
   },
   "source": [
    "The second half of the function looks like `polygon` but we can't re-use it without changing its interface (that is, adding a third argument *angle*).  Also, `polygon` would not be a right name any more."
   ]
  },
  {
   "cell_type": "markdown",
   "metadata": {
    "colab_type": "text",
    "id": "GwzLadZXu8vT"
   },
   "source": [
    "Let's now take a different route and define a more general function `polyline`.  We then rewrite `polygon`, `circle`, and `arc` using this new function.  \n",
    "\n",
    "This process of rearranging a program to improve interfaces and facilitates code re-use is called **refactoring**."
   ]
  },
  {
   "cell_type": "code",
   "execution_count": 17,
   "metadata": {
    "colab": {},
    "colab_type": "code",
    "id": "K1Y9NJiVu8vV",
    "outputId": "d5c4ab50-d47e-44a1-cd58-594d39e225d1"
   },
   "outputs": [
    {
     "data": {
      "text/plain": [
       "polyline"
      ]
     },
     "execution_count": 17,
     "metadata": {},
     "output_type": "execute_result"
    }
   ],
   "source": [
    "\"\"\"\n",
    "polyline(t, n, len, angle)\n",
    "This is a docstring.\n",
    "Draws n line segments with the given length and\n",
    "angle (in degrees) between them. t is a turtle.\n",
    "\"\"\"\n",
    "function polyline(t, n, len, angle)\n",
    "    for i in 1:n\n",
    "        t.forward(len)\n",
    "        t.left(angle)\n",
    "    end\n",
    "end"
   ]
  },
  {
   "cell_type": "code",
   "execution_count": 18,
   "metadata": {
    "colab": {},
    "colab_type": "code",
    "id": "mPjbM4k3u8vg",
    "outputId": "2a55c055-c889-407b-cde3-3b7d5fd6dee7"
   },
   "outputs": [
    {
     "data": {
      "text/plain": [
       "circle (generic function with 1 method)"
      ]
     },
     "execution_count": 18,
     "metadata": {},
     "output_type": "execute_result"
    }
   ],
   "source": [
    "function polygon(t, n, len)\n",
    "    angle = 360 / n\n",
    "    polyline(t, n, len, angle)\n",
    "end\n",
    "\n",
    "function arc(t, r, angle)\n",
    "    arc_len = 2 * π * r * angle / 360\n",
    "    n = trunc(arc_len / 3) + 1\n",
    "    step_len = arc_len / n\n",
    "    step_angle = angle / n\n",
    "    polyline(t, n, step_len, step_angle)\n",
    "end\n",
    "\n",
    "function circle(t, r)\n",
    "    arc(t, r, 360)\n",
    "end"
   ]
  },
  {
   "cell_type": "code",
   "execution_count": 19,
   "metadata": {
    "colab": {},
    "colab_type": "code",
    "id": "PNy6gtv9u8v9"
   },
   "outputs": [],
   "source": [
    "my_t.reset()\n",
    "my_t.speed(1)\n",
    "polygon(my_t, 4, 100)\n",
    "circle(my_t,50)\n",
    "arc(my_t,100,150)"
   ]
  },
  {
   "cell_type": "markdown",
   "metadata": {
    "colab_type": "text",
    "id": "GG8N89Wau8wU"
   },
   "source": [
    "### A Development Plan\n",
    "\n",
    "A development plan is a process for writing programs. The process we used in this case study is “encapsulation and generalization”. The steps of this process are:\n",
    "\n",
    "1. Start by writing a small program with no function definitions.\n",
    "2. Once you get the program working, identify a coherent piece of it, encapsulate that piece in a function and give it a name.\n",
    "3. Generalize the function definition by adding appropriate parameters.\n",
    "4. Repeat steps 1–3 until you have a set of working functions. Copy and paste working code to avoid retyping (and redebugging).\n",
    "5. Look for opportunities to improve the program by refactoring. For example, if you have similar code in several places, consider factoring it into an appropriately general function.\n",
    "\n",
    "This process has some drawbacks—we will see alternatives later—but it can be useful if you don’t know ahead of time how to divide the program into functions. This approach lets you design as you go along."
   ]
  },
  {
   "cell_type": "markdown",
   "metadata": {
    "colab_type": "text",
    "id": "cmaPQBPlu8wX"
   },
   "source": [
    "### Some Comments on Debugging\n",
    "\n",
    "An interface is like a contract between a function and a caller. The caller agrees to provide certain parameters and the function agrees to do certain work.\n",
    "\n",
    "For example, `polyline` requires four arguments: $t$ has to be a turtle; $n$ has to be an integer; $len$ should be a positive number; and $angle$ has to be a number, which is understood to be in degrees.\n",
    "\n",
    "These requirements are called preconditions because they are supposed to be true before the function starts executing.\n",
    "\n",
    "Conversely, conditions at the end of the function are postconditions. Postconditions include the intended effect of the function (like drawing line segments) and any side effects (like moving the turtle or making other changes).\n",
    "\n",
    "Preconditions are the responsibility of the caller. If the caller violates a (properly documented!) precondition and the function doesn’t work correctly, the bug is in the caller, not the function.\n",
    "\n",
    "If the preconditions are satisfied and the postconditions are not, the bug is in the function. If your pre- and postconditions are clear, they can help with debugging.\n"
   ]
  },
  {
   "cell_type": "markdown",
   "metadata": {
    "colab_type": "text",
    "id": "LoFhygsYu8wb"
   },
   "source": [
    "### Exercise 4-8\n",
    "\n",
    "The version of `arc` above is not very accurate because the linear approximation of the circle is always outside the true circle. As a result, the turtle ends up a few pixels away from the correct destination. The  solution below shows a way to reduce this error. Read the code and see if it makes sense to you. If you draw a diagram, you might see how it works."
   ]
  },
  {
   "cell_type": "code",
   "execution_count": 20,
   "metadata": {
    "colab": {},
    "colab_type": "code",
    "id": "B5igX5lsu8wd",
    "outputId": "5fee00be-4119-40e2-977d-fdd0fcc445ee"
   },
   "outputs": [
    {
     "data": {
      "text/plain": [
       "arc"
      ]
     },
     "execution_count": 20,
     "metadata": {},
     "output_type": "execute_result"
    }
   ],
   "source": [
    "\"\"\"\n",
    "arc(t, r, angle)\n",
    "Draws an arc with the given radius and angle:\n",
    "t: turtle\n",
    "r: radius\n",
    "angle: angle subtended by the arc, in degrees\n",
    "\"\"\"\n",
    "function arc(t, r, angle)\n",
    "\n",
    "    arc_len = 2 * π * r * abs(angle) / 360\n",
    "    n = trunc(arc_len / 4) + 3\n",
    "    step_len = arc_len / n\n",
    "    step_angle = angle / n\n",
    "\n",
    "    # making a slight left turn before starting reduces\n",
    "    # the error caused by the linear approximation of the arc\n",
    "    \n",
    "    t.left(step_angle/2)\n",
    "    polyline(t, n, step_len, step_angle)\n",
    "    t.right(step_angle/2)\n",
    "    \n",
    "end"
   ]
  },
  {
   "cell_type": "markdown",
   "metadata": {
    "colab_type": "text",
    "id": "DUfYMBjsu8wq"
   },
   "source": [
    "### Exercise 4-9\n",
    "\n",
    "Write an appropriate set of functions (`petal`, and `flower`) that can draw turtle flowers.  `petal` will draw a single petal.  `flow` calls `petal` multiple times (like, $360/n$ times).\n",
    "\n",
    "TIP: In `petal`, after the turtle finishes drawing the first arc, make it turn such that it is pointing the  correct direction to start the second arc.  When placed in a loop, these steps will make the turtle point the starting direction after it finishes drawing two arcs (that is, one petal).\n"
   ]
  },
  {
   "cell_type": "code",
   "execution_count": 21,
   "metadata": {
    "code_folding": [],
    "colab": {},
    "colab_type": "code",
    "id": "Gvy6JZczu8wu",
    "outputId": "64d08a41-ac85-44f7-9335-c187e8ee4007"
   },
   "outputs": [
    {
     "data": {
      "text/plain": [
       "flower (generic function with 1 method)"
      ]
     },
     "execution_count": 21,
     "metadata": {},
     "output_type": "execute_result"
    }
   ],
   "source": [
    "#\n",
    "function petal(t, r, angle)\n",
    "  for i in 1:2\n",
    "    arc(t, r, angle)\n",
    "    t.left(180-angle)\n",
    "  end\n",
    "end \n",
    "\n",
    "function flower(t, n, r, angle)\n",
    "  for i in 1:n\n",
    "    petal(t, r, angle)\n",
    "    t.left(360/n)\n",
    "  end\n",
    "end"
   ]
  },
  {
   "cell_type": "code",
   "execution_count": 22,
   "metadata": {
    "colab": {},
    "colab_type": "code",
    "id": "W-08oJjPu8w8"
   },
   "outputs": [],
   "source": [
    "my_t.reset()\n",
    "my_t.speed(1)\n",
    "\n",
    "flower(my_t, 7, 100, 100)"
   ]
  },
  {
   "cell_type": "markdown",
   "metadata": {
    "colab_type": "text",
    "id": "tcJqzAr_u8xF"
   },
   "source": [
    "### Exercise 4-10\n",
    "\n",
    "Write an appropriately  set of functions that can draw shapes as in Turtle pies.  One suggestion is to define a function `isosceles` that draws an isosceles and a function that draws multiple isosceles next to one another function `polypie` to form a Turtle pie.  Optionally, a final function `drawpie` draws a polypie and then move the turtle outside the pie.\n",
    "\n",
    "TIP: In writing a code for the first function, make sure you turn your turtle such that it is pointing the right direction after it finishes drawing an isosceles."
   ]
  },
  {
   "cell_type": "code",
   "execution_count": 23,
   "metadata": {
    "colab": {},
    "colab_type": "code",
    "id": "5ZdOi2IMu8xJ",
    "outputId": "634ed45a-af48-41ff-d986-abbee92f74ae"
   },
   "outputs": [
    {
     "data": {
      "text/plain": [
       "drawpie (generic function with 1 method)"
      ]
     },
     "execution_count": 23,
     "metadata": {},
     "output_type": "execute_result"
    }
   ],
   "source": [
    "#\n",
    "function isosceles(t, r, angle)\n",
    "  y = r * sin(angle/2 * π / 180)\n",
    "  t.right(angle/2)\n",
    "  t.forward(r)\n",
    "  t.left(90+angle/2)\n",
    "  t.forward(2*y)\n",
    "  t.left(90+angle/2)\n",
    "  t.forward(r)\n",
    "  t.left(180-angle/2)\n",
    "end\n",
    "\n",
    "function polypie(t, n, r)\n",
    "  angle = 360 / n\n",
    "  for i in 1:n\n",
    "    isosceles(t, r, angle)\n",
    "    t.left(angle)\n",
    "  end\n",
    "end\n",
    "\n",
    "function drawpie(t, n, r)\n",
    "  polypie(t, n, r)\n",
    "  t.penup()\n",
    "  t.forward(r*2 + 10)\n",
    "  t.pendown()\n",
    "end"
   ]
  },
  {
   "cell_type": "code",
   "execution_count": 30,
   "metadata": {
    "colab": {},
    "colab_type": "code",
    "id": "HD5uxh0gu8xV"
   },
   "outputs": [],
   "source": [
    "my_t.reset()\n",
    "my_t.speed(5)\n",
    "drawpie(my_t, 5, 100)"
   ]
  },
  {
   "cell_type": "markdown",
   "metadata": {
    "colab_type": "text",
    "id": "b759qv1Qu8xf"
   },
   "source": [
    "### Exercise 4-12\n",
    "\n",
    "Read about spirals at https://en.wikipedia.org/wiki/Spiral; then write a program that draws an Archimedan spiral as in Archimedan spiral: \n",
    "\n",
    "\n",
    "${r = a + b{\\theta}}$\n",
    "\n",
    "\n",
    "Try something like\n",
    "\n",
    "```\n",
    "spiral(my_t, 750, 3, 0.1, 0.001)\n",
    "```"
   ]
  },
  {
   "cell_type": "code",
   "execution_count": 28,
   "metadata": {
    "colab": {},
    "colab_type": "code",
    "id": "RsqwFYJOu8xi",
    "outputId": "0f3e66ef-7592-49cb-85a4-a66f60b774e1"
   },
   "outputs": [
    {
     "data": {
      "text/plain": [
       "spiral (generic function with 1 method)"
      ]
     },
     "execution_count": 28,
     "metadata": {},
     "output_type": "execute_result"
    }
   ],
   "source": [
    "function spiral(t, n, len, a, b)\n",
    "  theta = 0.0\n",
    "  for i in 1:n\n",
    "    t.forward(len)\n",
    "    dtheta = 1 / (a + b * theta)\n",
    "    t.left(dtheta)\n",
    "    theta += dtheta\n",
    "   # println(dtheta,\"  \", theta)\n",
    "  end\n",
    "end"
   ]
  },
  {
   "cell_type": "code",
   "execution_count": 33,
   "metadata": {
    "colab": {},
    "colab_type": "code",
    "id": "beKJKKzvu8xw"
   },
   "outputs": [],
   "source": [
    "my_t.reset()\n",
    "my_t.speed(10)\n",
    "spiral(my_t, 750, 3, 0.1, 0.001)"
   ]
  }
 ],
 "metadata": {
  "@webio": {
   "lastCommId": null,
   "lastKernelId": null
  },
  "colab": {
   "name": "Copy of MyThinkJulia-Ch04.ipynb",
   "provenance": [
    {
     "file_id": "1rNpBOxqySIys1tP88xvk4sSHjlDDT_1X",
     "timestamp": 1567979692577
    }
   ],
   "version": "0.3.2"
  },
  "kernelspec": {
   "display_name": "Julia 1.2.0",
   "language": "julia",
   "name": "julia-1.2"
  },
  "language_info": {
   "file_extension": ".jl",
   "mimetype": "application/julia",
   "name": "julia",
   "version": "1.2.0"
  }
 },
 "nbformat": 4,
 "nbformat_minor": 1
}
