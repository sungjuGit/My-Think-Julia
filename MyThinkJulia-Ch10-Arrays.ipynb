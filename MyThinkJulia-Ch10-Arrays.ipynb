{
 "cells": [
  {
   "cell_type": "markdown",
   "metadata": {},
   "source": [
    "# Ch10: Arrays"
   ]
  },
  {
   "cell_type": "markdown",
   "metadata": {},
   "source": [
    "### An Array is a Sequence\n",
    "\n",
    "An array is a sequence of values, called elements or items.  In a string, the values are characters.  In an array, they can be any type.\n",
    "\n",
    "There are several ways to create a new array.  The simplest is to enclose the elements in square brackets (`[ ]`).  \n",
    "\n",
    "An array that contains no element is called an empty array.\n",
    "\n",
    "And we can assign array values to variables."
   ]
  },
  {
   "cell_type": "code",
   "execution_count": 1,
   "metadata": {},
   "outputs": [
    {
     "name": "stdout",
     "output_type": "stream",
     "text": [
      "[\"Cheddar\", \"Edam\", \"Gouda\"] [42, 123] Any[]"
     ]
    }
   ],
   "source": [
    "[10, 20, 30, 40]\n",
    "[ \"hi\", 2.0, 5, [10, 20] ]    # an array within another array is called nested\n",
    "\n",
    "\n",
    "cheeses = [\"Cheddar\", \"Edam\", \"Gouda\"]\n",
    "numbers = [42, 123]\n",
    "empty = []\n",
    "\n",
    "print(cheeses, \" \", numbers, \" \", empty)\n"
   ]
  },
  {
   "cell_type": "code",
   "execution_count": 2,
   "metadata": {},
   "outputs": [
    {
     "data": {
      "text/plain": [
       "(Array{String,1}, Array{Int64,1}, Array{Any,1})"
      ]
     },
     "execution_count": 2,
     "metadata": {},
     "output_type": "execute_result"
    }
   ],
   "source": [
    "typeof(cheeses), typeof(numbers), typeof(empty)"
   ]
  },
  {
   "cell_type": "markdown",
   "metadata": {},
   "source": [
    "### Accessing Elements and Array Slices\n",
    "\n",
    "We can access elements using indices through the bracket operator.  \n",
    "\n",
    "- Any integer expression can be used as an index.  \n",
    "- If you try to read or write an element that does not exist, you get a BoundsError.\n",
    "- The keyword end points to the last index of the array.\n",
    "\n",
    "The `∈` operator also works."
   ]
  },
  {
   "cell_type": "code",
   "execution_count": 3,
   "metadata": {},
   "outputs": [
    {
     "data": {
      "text/plain": [
       "\"Cheddar\""
      ]
     },
     "execution_count": 3,
     "metadata": {},
     "output_type": "execute_result"
    }
   ],
   "source": [
    "cheeses[1]"
   ]
  },
  {
   "cell_type": "code",
   "execution_count": 4,
   "metadata": {},
   "outputs": [
    {
     "data": {
      "text/plain": [
       "true"
      ]
     },
     "execution_count": 4,
     "metadata": {},
     "output_type": "execute_result"
    }
   ],
   "source": [
    "\"Edam\" ∈ cheeses"
   ]
  },
  {
   "cell_type": "code",
   "execution_count": 5,
   "metadata": {},
   "outputs": [
    {
     "name": "stdout",
     "output_type": "stream",
     "text": [
      "['a', 'b', 'c']\n",
      "['c', 'd', 'e', 'f']\n"
     ]
    }
   ],
   "source": [
    "t = ['a', 'b', 'c', 'd', 'e', 'f'];\n",
    "\n",
    "println(t[1:3])\n",
    "println(t[3:end])"
   ]
  },
  {
   "cell_type": "code",
   "execution_count": 6,
   "metadata": {},
   "outputs": [
    {
     "name": "stdout",
     "output_type": "stream",
     "text": [
      "['a', 'x', 'y', 'd', 'e', 'f']"
     ]
    }
   ],
   "source": [
    "t[2:3] = ['x', 'y']  # updates multiple elements\n",
    "print(t)"
   ]
  },
  {
   "cell_type": "markdown",
   "metadata": {},
   "source": [
    "The slice operator `[:]` makes a copy of the whole array.  This is useful when you need to perform operations that modify an array but want to keep the original."
   ]
  },
  {
   "cell_type": "code",
   "execution_count": 7,
   "metadata": {},
   "outputs": [
    {
     "name": "stdout",
     "output_type": "stream",
     "text": [
      "t_copy:  ['a', 'x', 'y', 'd', 'e', 'z']\n",
      "t:       ['a', 'x', 'y', 'd', 'e', 'f']\n"
     ]
    }
   ],
   "source": [
    "t_copy = t[:]\n",
    "t_copy[6] = 'z'\n",
    "\n",
    "println(\"t_copy:  \", t_copy)\n",
    "println(\"t:       \", t)"
   ]
  },
  {
   "cell_type": "markdown",
   "metadata": {},
   "source": [
    "Although an array can contain other arrays, each of the nested arrays still counts as a single element."
   ]
  },
  {
   "cell_type": "code",
   "execution_count": 8,
   "metadata": {},
   "outputs": [
    {
     "data": {
      "text/plain": [
       "4"
      ]
     },
     "execution_count": 8,
     "metadata": {},
     "output_type": "execute_result"
    }
   ],
   "source": [
    "length( [\"spam\", 1, [\"Brie\", \"Roquefort\", \"Camembert\"], [1, 2, 3]] )"
   ]
  },
  {
   "cell_type": "markdown",
   "metadata": {},
   "source": [
    "### Traversing an Array\n",
    "\n",
    "The most common way to traverse the elements of an array is with a `for` loop."
   ]
  },
  {
   "cell_type": "code",
   "execution_count": 9,
   "metadata": {},
   "outputs": [
    {
     "name": "stdout",
     "output_type": "stream",
     "text": [
      "Cheddar\n",
      "Edam\n",
      "Gouda\n"
     ]
    }
   ],
   "source": [
    "for cheese in cheeses\n",
    "    println(cheese)\n",
    "end"
   ]
  },
  {
   "cell_type": "code",
   "execution_count": 10,
   "metadata": {},
   "outputs": [],
   "source": [
    "for x in []\n",
    "    println(\"This never executes.\")\n",
    "end"
   ]
  },
  {
   "cell_type": "markdown",
   "metadata": {},
   "source": [
    "This works well if you only need to read the elements of the array. If you want to write or update the elements, you\n",
    "need the indices. A common way to do that is to use the built-in function `eachindex`."
   ]
  },
  {
   "cell_type": "code",
   "execution_count": 11,
   "metadata": {},
   "outputs": [],
   "source": [
    "for i in eachindex(numbers)\n",
    "    numbers[i] = numbers[i] + 2\n",
    "end"
   ]
  },
  {
   "cell_type": "markdown",
   "metadata": {},
   "source": [
    "###   Objects and Aliases\n",
    "\n",
    "To better appreciate the concept of mutability, we first need to understand the concept of an object and its reference.  \n",
    "\n",
    "An object is something a variable can refer to.  Let's think of it as a location in the computer memory.  An object has a value.  (Until now, we used \"object\" and \"value\" as if they were interchangabe, but now we need to be more rigorous.) \n",
    "\n",
    "\n",
    "Two or more variables can refer to the same object.  An object with more than one reference has more than one name, so we say that the object is aliased."
   ]
  },
  {
   "cell_type": "markdown",
   "metadata": {},
   "source": [
    "We can create a new variable that refers to the same object as another variable using a simple assignment statement.\n",
    "\n",
    "In the following example, `a` refers to an object and you assign `b = a`.  Then both variables refer to the same object.  In other words, `a` and `b` are aliases for the same object (array)."
   ]
  },
  {
   "cell_type": "code",
   "execution_count": 12,
   "metadata": {},
   "outputs": [
    {
     "data": {
      "text/plain": [
       "true"
      ]
     },
     "execution_count": 12,
     "metadata": {},
     "output_type": "execute_result"
    }
   ],
   "source": [
    "a = [1, 2, 3]\n",
    "b = a\n",
    "\n",
    "b === a"
   ]
  },
  {
   "cell_type": "markdown",
   "metadata": {},
   "source": [
    "### Mutable and Immutable Objects"
   ]
  },
  {
   "cell_type": "markdown",
   "metadata": {},
   "source": [
    "#### Immutable Objects \n",
    "\n",
    "Immutable objects cannot be changed.  And hence the name.  Examples are strings and numbers.  In the following examples, Julia created only one string or number object.   `a` and `b` refer to the same object (string) and  `c` and `d` refer to the same object (number).  That is, the string has two aliases and the number has two aliases."
   ]
  },
  {
   "cell_type": "code",
   "execution_count": 13,
   "metadata": {},
   "outputs": [
    {
     "data": {
      "text/plain": [
       "true"
      ]
     },
     "execution_count": 13,
     "metadata": {},
     "output_type": "execute_result"
    }
   ],
   "source": [
    "a = \"banana\"\n",
    "b = \"banana\"\n",
    "a === b"
   ]
  },
  {
   "cell_type": "code",
   "execution_count": 14,
   "metadata": {},
   "outputs": [
    {
     "data": {
      "text/plain": [
       "true"
      ]
     },
     "execution_count": 14,
     "metadata": {},
     "output_type": "execute_result"
    }
   ],
   "source": [
    "c = 1\n",
    "d = 1\n",
    "c === d"
   ]
  },
  {
   "cell_type": "markdown",
   "metadata": {},
   "source": [
    "If we do some operation on these immutable objects, like addition and concatenation, Julia simply creates new objects that have those different values.  \n",
    "\n",
    "The original immutable objects are still there in the computer memory.  However, if we reassign the variables with these new objects (with the new values), we  lose the references to the original objects.  \n",
    "\n",
    "(Julia do so-called garbage collection to free up the \"orphaned\" memory locations)."
   ]
  },
  {
   "cell_type": "code",
   "execution_count": 15,
   "metadata": {},
   "outputs": [
    {
     "name": "stdout",
     "output_type": "stream",
     "text": [
      "2 , 1 , false"
     ]
    }
   ],
   "source": [
    "a = 1\n",
    "b = 1  # we crete an alias `b` so we can keep the reference to the original object (number 1)\n",
    "a = a + 1  # now, `a` references a new object (number 2)\n",
    "print(\"$a , $b , $(a === b)\")"
   ]
  },
  {
   "cell_type": "markdown",
   "metadata": {},
   "source": [
    "#### Mutable Objects\n",
    "\n",
    "Mutable objects can be changed.  **Arrays are mutable.**  That is, we can add or delete elements and we can update individual elements of arrays.\n",
    "\n",
    "(But as we shall see later, if we reassign an existing array variable, Julia creates a new  array that happens to have the same variable name.)"
   ]
  },
  {
   "cell_type": "code",
   "execution_count": 16,
   "metadata": {},
   "outputs": [
    {
     "name": "stdout",
     "output_type": "stream",
     "text": [
      "[42, 5]"
     ]
    }
   ],
   "source": [
    "numbers = [42, 123]\n",
    "numbers[2] = 5\n",
    "print(numbers)"
   ]
  },
  {
   "cell_type": "markdown",
   "metadata": {},
   "source": [
    "Another characteristic of mutable objects.  In the following example, even though `n` and `m` contain the same elements (and hence, equivalent, ==), they point to two different objects.  They are not identical."
   ]
  },
  {
   "cell_type": "code",
   "execution_count": 78,
   "metadata": {},
   "outputs": [
    {
     "data": {
      "text/plain": [
       "(false, true)"
      ]
     },
     "execution_count": 78,
     "metadata": {},
     "output_type": "execute_result"
    }
   ],
   "source": [
    "n = [1, 2, 3] \n",
    "m = [1, 2, 3]\n",
    "n === m, n == m"
   ]
  },
  {
   "cell_type": "markdown",
   "metadata": {},
   "source": [
    "This makes sense because these are mutable objects and we don't know what their values will be later in the program.  They happen to have the same initial values.  We should really create two different objects."
   ]
  },
  {
   "cell_type": "markdown",
   "metadata": {},
   "source": [
    "**If the aliased object is mutable, changes made with one alias affect the other.**"
   ]
  },
  {
   "cell_type": "code",
   "execution_count": 18,
   "metadata": {},
   "outputs": [
    {
     "name": "stdout",
     "output_type": "stream",
     "text": [
      "[42, 2, 3]"
     ]
    }
   ],
   "source": [
    "a = [1, 2, 3]\n",
    "b = a\n",
    "b[1] = 42\n",
    "\n",
    "print(a)"
   ]
  },
  {
   "cell_type": "markdown",
   "metadata": {},
   "source": [
    "  \n",
    "**Make copies of mutable objects to avoid aliasing:**  Although the above behavior can be useful, it is error-prone.  If you want to use a function like sort! that modifies an array (a mutable object) passed to it as the argument but also need to keep the original array as well, then you can make a copy using a slicing operation with `[:]`."
   ]
  },
  {
   "cell_type": "markdown",
   "metadata": {},
   "source": [
    "**A new assignment statement for the existing array creates a new array rather than updating that existing array.**"
   ]
  },
  {
   "cell_type": "code",
   "execution_count": 19,
   "metadata": {},
   "outputs": [
    {
     "data": {
      "text/plain": [
       "(true, true, false)"
      ]
     },
     "execution_count": 19,
     "metadata": {},
     "output_type": "execute_result"
    }
   ],
   "source": [
    "tt = [1, 2, 3]\n",
    "\n",
    "# First, let's create an alias\n",
    "ty = tt\n",
    "result1 = (ty === tt)  # check to make sure they reference the same object\n",
    "\n",
    "# and then update some of the elements.\n",
    "tt[2:3] = [4,5]\n",
    "result2 = (ty === tt)  #  `tt` and `ty` still reference the same object, which has been modified\n",
    "\n",
    "\n",
    "# But, if we make a new assignment statement for tt, a new array that happens to have the same name `tt` is created.\n",
    "# `tt` and `ty` no longer reference the same objects.\n",
    "tt = [1, 4, 5]\n",
    "result3 = (ty === tt)\n",
    "\n",
    "\n",
    "result1, result2, result3"
   ]
  },
  {
   "cell_type": "markdown",
   "metadata": {},
   "source": [
    "### Array Arguments\n",
    "\n",
    "Let's apply what we just learned about mutable objects to function calls.\n",
    "\n",
    "If we call a function with an argument, Julia first executes an assignment operation `parameter = argument`.  That is, the parameter becomes an alias for the object referenced by the argument.\n",
    "\n",
    "So, when you pass an array as an argment to a function, then the parameter of the function becomes an alias of the array.  \n",
    "\n",
    "Since these are aliases for a mutable object (array), if the function modifies the parameter, then the array (that is, the argument) also changes.  The caller sees the change.\n",
    "\n",
    "Let's first examine the function `replace3rd`:"
   ]
  },
  {
   "cell_type": "code",
   "execution_count": 20,
   "metadata": {},
   "outputs": [
    {
     "name": "stdout",
     "output_type": "stream",
     "text": [
      "['a', 'b', 'r']"
     ]
    }
   ],
   "source": [
    "function replace3rd!(t)\n",
    "    t[3] = 'r'\n",
    "end\n",
    "\n",
    "letters = ['a', 'b', 'c']\n",
    "replace3rd!(letters)   # The parameter `t` and the variable `letters` are aliases for the same object!\n",
    "print(letters)         # if `t` is modified then so does `letters`"
   ]
  },
  {
   "cell_type": "code",
   "execution_count": 21,
   "metadata": {},
   "outputs": [
    {
     "name": "stdout",
     "output_type": "stream",
     "text": [
      "['a', 'e', 'f']"
     ]
    }
   ],
   "source": [
    "function myreplace(t)\n",
    "    t[2:end] = ['e', 'f']\n",
    "end\n",
    "\n",
    "letters = ['a', 'b', 'c']\n",
    "\n",
    "myreplace(letters)\n",
    "print(letters)"
   ]
  },
  {
   "cell_type": "markdown",
   "metadata": {},
   "source": [
    "When we call `myreplace`, the parameter `t` and the variable `letters` become aliases for the same mutable object (`['a', 'b', 'c']`).  The assignment statement replaces the second to the last elements with new ones. Since `letters` also references this same object, it is also changed."
   ]
  },
  {
   "cell_type": "markdown",
   "metadata": {},
   "source": [
    "The next function `removefirst` works differently:"
   ]
  },
  {
   "cell_type": "code",
   "execution_count": 22,
   "metadata": {},
   "outputs": [
    {
     "name": "stdout",
     "output_type": "stream",
     "text": [
      "['a', 'b', 'c']\n",
      "['b', 'c']"
     ]
    }
   ],
   "source": [
    "function removefirst(t)\n",
    "    t = t[2:end]  # this assignment statement creates a new array that happens to have the same name `t`!  \n",
    "end\n",
    "\n",
    "letters = ['a', 'b', 'c']\n",
    "\n",
    "letters2 = removefirst(letters);\n",
    "\n",
    "println(letters)  # letters, which was the argument in the function call, remains unchanged\n",
    "print(letters2) # here is the new array called letters2\n"
   ]
  },
  {
   "cell_type": "markdown",
   "metadata": {},
   "source": [
    "At the beginning of `removefirst`, `t` and `letters` refer to the same array, like before.  The slice operator creates a new array and the assignment statement makes `t` refer to this new array.  But that doesn’t affect the caller. At the end, `t` refers to the new array and `letters` still refers to the original, unmodified array."
   ]
  },
  {
   "cell_type": "markdown",
   "metadata": {},
   "source": [
    "As one last set of examples, let's compare `push!`, which modifies an array by adding an element to the end of the array, and `vcat`, which creates a new array from concatenating two arrays."
   ]
  },
  {
   "cell_type": "code",
   "execution_count": 23,
   "metadata": {},
   "outputs": [
    {
     "name": "stdout",
     "output_type": "stream",
     "text": [
      "[1, 2, 3]\n",
      "[1, 2, 3]\n",
      "true\n",
      "[1, 2, 3]\n",
      "[1, 2, 3, 4]\n",
      "false\n"
     ]
    }
   ],
   "source": [
    "t1 = [1, 2];\n",
    "t2 = push!(t1, 3);\n",
    "println(t1)  # t1 is modified and t2 is an alias for t1\n",
    "println(t2)\n",
    "println(t1 === t2)\n",
    "\n",
    "t3 = vcat(t1, [4]); # t1 is not modified and a new object (array) t3 is created.\n",
    "println(t1)\n",
    "println(t3)\n",
    "println(t1 === t3)\n"
   ]
  },
  {
   "cell_type": "markdown",
   "metadata": {},
   "source": [
    "### Array Library\n",
    "\n",
    "Note that, as a style convention in Julia, ! is appended to names of functions that modify arrays passed as their arguments (as opposed to create new ones).\n",
    "\n",
    "* `push!` adds a new element to the end of an array\n",
    "\n",
    "* `pushfirst!` inserts an element at the beginningof the array.\n",
    "\n",
    "* `insert!` inserts an element at a given index.\n",
    "\n",
    "* `append!` add the elements of the second array to the end of the first.  **The second argument should be an array!**\n",
    "\n",
    "\n",
    "\n",
    "* `pop!` deletes and returns the last element\n",
    "\n",
    "* `popfirst!` deletes and returns the first element\n",
    "\n",
    "* `splice!` delete an element of the given index and return its value\n",
    "\n",
    "*  `deleteat!` removes an element without returing its value\n",
    "\n",
    "\n",
    "* `sort!` arranges the elements of the array from low to high\n",
    "\n",
    "* `sort`, in contrast, returns a new copy of the array with elements in order)\n",
    "\n"
   ]
  },
  {
   "cell_type": "code",
   "execution_count": 24,
   "metadata": {},
   "outputs": [
    {
     "name": "stdout",
     "output_type": "stream",
     "text": [
      "['a', 'b', 'c', 'd']"
     ]
    }
   ],
   "source": [
    "t = ['a', 'b', 'c'];\n",
    "push!(t, 'd');\n",
    "print(t)"
   ]
  },
  {
   "cell_type": "code",
   "execution_count": 25,
   "metadata": {},
   "outputs": [
    {
     "name": "stdout",
     "output_type": "stream",
     "text": [
      "['z', 'a', 'b', 'c']"
     ]
    }
   ],
   "source": [
    "t = ['a', 'b', 'c'];\n",
    "pushfirst!(t, 'z');\n",
    "print(t)"
   ]
  },
  {
   "cell_type": "code",
   "execution_count": 26,
   "metadata": {},
   "outputs": [
    {
     "name": "stdout",
     "output_type": "stream",
     "text": [
      "['a', 'x', 'b', 'c']"
     ]
    }
   ],
   "source": [
    "t = ['a', 'b', 'c'];\n",
    "insert!(t, 2, 'x')\n",
    "print(t)"
   ]
  },
  {
   "cell_type": "code",
   "execution_count": 27,
   "metadata": {},
   "outputs": [
    {
     "name": "stdout",
     "output_type": "stream",
     "text": [
      "['a', 'b', 'c', 'd', 'e']\n",
      "['d', 'e']"
     ]
    }
   ],
   "source": [
    "t1 = ['a', 'b', 'c'];\n",
    "t2 = ['d', 'e'];\n",
    "append!(t1, t2);  #t2 is an array.  It remains unchanged.\n",
    "println(t1)\n",
    "print(t2)"
   ]
  },
  {
   "cell_type": "code",
   "execution_count": 28,
   "metadata": {},
   "outputs": [
    {
     "data": {
      "text/plain": [
       "'c': ASCII/Unicode U+0063 (category Ll: Letter, lowercase)"
      ]
     },
     "execution_count": 28,
     "metadata": {},
     "output_type": "execute_result"
    }
   ],
   "source": [
    "t = ['a', 'b', 'c'];\n",
    "pop!(t)"
   ]
  },
  {
   "cell_type": "code",
   "execution_count": 29,
   "metadata": {},
   "outputs": [
    {
     "name": "stdout",
     "output_type": "stream",
     "text": [
      "['a', 'b']"
     ]
    }
   ],
   "source": [
    "print(t)"
   ]
  },
  {
   "cell_type": "code",
   "execution_count": 30,
   "metadata": {},
   "outputs": [
    {
     "data": {
      "text/plain": [
       "'a': ASCII/Unicode U+0061 (category Ll: Letter, lowercase)"
      ]
     },
     "execution_count": 30,
     "metadata": {},
     "output_type": "execute_result"
    }
   ],
   "source": [
    "t = ['a', 'b', 'c'];\n",
    "popfirst!(t)"
   ]
  },
  {
   "cell_type": "code",
   "execution_count": 31,
   "metadata": {},
   "outputs": [
    {
     "name": "stdout",
     "output_type": "stream",
     "text": [
      "['b', 'c']"
     ]
    }
   ],
   "source": [
    "print(t)"
   ]
  },
  {
   "cell_type": "code",
   "execution_count": 32,
   "metadata": {},
   "outputs": [
    {
     "data": {
      "text/plain": [
       "'b': ASCII/Unicode U+0062 (category Ll: Letter, lowercase)"
      ]
     },
     "execution_count": 32,
     "metadata": {},
     "output_type": "execute_result"
    }
   ],
   "source": [
    "t = ['a', 'b', 'c'];\n",
    "splice!(t, 2)"
   ]
  },
  {
   "cell_type": "code",
   "execution_count": 33,
   "metadata": {},
   "outputs": [
    {
     "name": "stdout",
     "output_type": "stream",
     "text": [
      "['a', 'c']"
     ]
    }
   ],
   "source": [
    "print(t)"
   ]
  },
  {
   "cell_type": "code",
   "execution_count": 34,
   "metadata": {},
   "outputs": [
    {
     "data": {
      "text/plain": [
       "2-element Array{Char,1}:\n",
       " 'a'\n",
       " 'c'"
      ]
     },
     "execution_count": 34,
     "metadata": {},
     "output_type": "execute_result"
    }
   ],
   "source": [
    "t = ['a', 'b', 'c'];\n",
    "deleteat!(t, 2)"
   ]
  },
  {
   "cell_type": "code",
   "execution_count": 35,
   "metadata": {},
   "outputs": [
    {
     "name": "stdout",
     "output_type": "stream",
     "text": [
      "['a', 'b', 'c', 'd', 'e']"
     ]
    }
   ],
   "source": [
    "t = ['d', 'c', 'e', 'b', 'a'];\n",
    "sort!(t);\n",
    "print(t)"
   ]
  },
  {
   "cell_type": "code",
   "execution_count": 36,
   "metadata": {},
   "outputs": [
    {
     "name": "stdout",
     "output_type": "stream",
     "text": [
      "['d', 'c', 'e', 'b', 'a']\n",
      "['a', 'b', 'c', 'd', 'e']"
     ]
    }
   ],
   "source": [
    "t1 = ['d', 'c', 'e', 'b', 'a'];\n",
    "t2 = sort(t1);  # t1 is unchanged.  a new array t2 is created.\n",
    "println(t1)\n",
    "print(t2)"
   ]
  },
  {
   "cell_type": "markdown",
   "metadata": {},
   "source": [
    "### Accumulator, Reduce, Map, and Filter"
   ]
  },
  {
   "cell_type": "markdown",
   "metadata": {},
   "source": [
    "To add up all the numbers in an array, you can use a loop like this:"
   ]
  },
  {
   "cell_type": "code",
   "execution_count": 37,
   "metadata": {},
   "outputs": [
    {
     "data": {
      "text/plain": [
       "addall (generic function with 1 method)"
      ]
     },
     "execution_count": 37,
     "metadata": {},
     "output_type": "execute_result"
    }
   ],
   "source": [
    "function addall(t)\n",
    "    total = 0\n",
    "    for x in t\n",
    "        total += x  # augmented assignment statement\n",
    "    end\n",
    "    total\n",
    "end"
   ]
  },
  {
   "cell_type": "markdown",
   "metadata": {},
   "source": [
    "**Accumulator**: As the loop runs, total accumulates the sum of the elements; a variable used this way is sometimes called an\n",
    "accumulator.  Julia offers a built-in function `sum` that works like `addall`."
   ]
  },
  {
   "cell_type": "code",
   "execution_count": 38,
   "metadata": {},
   "outputs": [
    {
     "data": {
      "text/plain": [
       "(10, 10)"
      ]
     },
     "execution_count": 38,
     "metadata": {},
     "output_type": "execute_result"
    }
   ],
   "source": [
    "t = [1, 2, 3, 4]\n",
    "addall(t), sum(t)"
   ]
  },
  {
   "cell_type": "markdown",
   "metadata": {},
   "source": [
    "**Reduce Operation**: An operation like the above that combines a sequence of elements into a single value is sometimes called a reduce operation."
   ]
  },
  {
   "cell_type": "markdown",
   "metadata": {},
   "source": [
    "Often you want to traverse one array while building another. For example, the following function takes an array of strings\n",
    "and returns a new array that contains capitalized strings:"
   ]
  },
  {
   "cell_type": "code",
   "execution_count": 39,
   "metadata": {},
   "outputs": [
    {
     "data": {
      "text/plain": [
       "capitalizeall (generic function with 1 method)"
      ]
     },
     "execution_count": 39,
     "metadata": {},
     "output_type": "execute_result"
    }
   ],
   "source": [
    "function capitalizeall(t)\n",
    "    res = []\n",
    "    for s in t\n",
    "        push!(res, uppercase(s))\n",
    "    end\n",
    "    res\n",
    "end"
   ]
  },
  {
   "cell_type": "markdown",
   "metadata": {},
   "source": [
    "**Map**: An operation like `capitalizeall` is sometimes called a map because it “maps” a function (in this case uppercase ) onto each of the elements in a sequence."
   ]
  },
  {
   "cell_type": "markdown",
   "metadata": {},
   "source": [
    "Another common operation is to select some of the elements from an array and return a subarray. \n",
    "\n",
    "For example, the following function takes an array of strings and returns an array that contains only the uppercase strings:"
   ]
  },
  {
   "cell_type": "code",
   "execution_count": 40,
   "metadata": {},
   "outputs": [
    {
     "data": {
      "text/plain": [
       "onlyupper (generic function with 1 method)"
      ]
     },
     "execution_count": 40,
     "metadata": {},
     "output_type": "execute_result"
    }
   ],
   "source": [
    "function onlyupper(t)\n",
    "    res = []        # initialize to an empty array\n",
    "    for s in t\n",
    "        if s == uppercase(s)\n",
    "            push!(res, s)\n",
    "        end\n",
    "    end\n",
    "    res\n",
    "end"
   ]
  },
  {
   "cell_type": "markdown",
   "metadata": {},
   "source": [
    "**Filter**: An operation like `onlyupper` is called a filter because it selects some of the elements and filters out the others"
   ]
  },
  {
   "cell_type": "markdown",
   "metadata": {},
   "source": [
    "### Dot Syntax\n",
    "\n",
    "For every binary operator like `^`, there is a corresponding dot operator `.^` that is automatically defined to perform `^`\n",
    "element-by-element on arrays."
   ]
  },
  {
   "cell_type": "code",
   "execution_count": 41,
   "metadata": {},
   "outputs": [
    {
     "name": "stdout",
     "output_type": "stream",
     "text": [
      "[1, 8, 27]"
     ]
    }
   ],
   "source": [
    "print([1, 2, 3] .^ 3)"
   ]
  },
  {
   "cell_type": "markdown",
   "metadata": {},
   "source": [
    "Any Julia function `f` can be applied elementwise to any array with the dot syntax. \n",
    "\n",
    "For example to capitalize an array of strings, we don’t need an explicit loop:"
   ]
  },
  {
   "cell_type": "code",
   "execution_count": 42,
   "metadata": {},
   "outputs": [
    {
     "name": "stdout",
     "output_type": "stream",
     "text": [
      "[\"ABC\", \"DEF\", \"GHI\"]"
     ]
    }
   ],
   "source": [
    "t = uppercase.([\"abc\", \"def\", \"ghi\"]);\n",
    "print(t)"
   ]
  },
  {
   "cell_type": "markdown",
   "metadata": {},
   "source": [
    "This is an elegant way to create a map. The function capitalizeall can be implemented by a one-liner:"
   ]
  },
  {
   "cell_type": "code",
   "execution_count": 43,
   "metadata": {},
   "outputs": [
    {
     "data": {
      "text/plain": [
       "capitalizeall (generic function with 1 method)"
      ]
     },
     "execution_count": 43,
     "metadata": {},
     "output_type": "execute_result"
    }
   ],
   "source": [
    "function capitalizeall(t)\n",
    "    uppercase.(t)\n",
    "end"
   ]
  },
  {
   "cell_type": "markdown",
   "metadata": {},
   "source": [
    "\n",
    "### Arrays and Strings\n",
    "A string is a sequence of characters and an array is a sequence of values, but an array of characters is not the same as a string. To convert from a string to an array of characters, you can use the function `collect`, which breaks a string or another sequence into individual elements:"
   ]
  },
  {
   "cell_type": "code",
   "execution_count": 44,
   "metadata": {},
   "outputs": [
    {
     "name": "stdout",
     "output_type": "stream",
     "text": [
      "['s', 'p', 'a', 'm']"
     ]
    }
   ],
   "source": [
    "t = collect(\"spam\");\n",
    "print(t)"
   ]
  },
  {
   "cell_type": "markdown",
   "metadata": {},
   "source": [
    "If you want to break a string into words, you can use the `split` function:"
   ]
  },
  {
   "cell_type": "code",
   "execution_count": 45,
   "metadata": {},
   "outputs": [
    {
     "name": "stdout",
     "output_type": "stream",
     "text": [
      "SubString{String}[\"pining\", \"for\", \"the\", \"fjords\"]"
     ]
    }
   ],
   "source": [
    "t = split(\"pining for the fjords\");\n",
    "print(t)"
   ]
  },
  {
   "cell_type": "markdown",
   "metadata": {},
   "source": [
    "An optional argument called a delimiter specifies which characters to use as word boundaries.  The default delimter is the space.  The following example uses a hyphen as a delimiter:"
   ]
  },
  {
   "cell_type": "code",
   "execution_count": 46,
   "metadata": {},
   "outputs": [
    {
     "name": "stdout",
     "output_type": "stream",
     "text": [
      "SubString{String}[\"spam\", \"spam\", \"spam\"]"
     ]
    }
   ],
   "source": [
    "t = split(\"spam-spam-spam\", '-');\n",
    "print(t)"
   ]
  },
  {
   "cell_type": "markdown",
   "metadata": {},
   "source": [
    "`join` is the inverse of split . It takes an array of strings and concatenates the elements:"
   ]
  },
  {
   "cell_type": "code",
   "execution_count": 47,
   "metadata": {},
   "outputs": [
    {
     "data": {
      "text/plain": [
       "\"pining for the fjords\""
      ]
     },
     "execution_count": 47,
     "metadata": {},
     "output_type": "execute_result"
    }
   ],
   "source": [
    "t = [\"pining\", \"for\", \"the\", \"fjords\"];\n",
    "s = join(t, ' ')  # a space character is used as the delimiter.  Omit the second argument to join strings without spaces."
   ]
  },
  {
   "cell_type": "markdown",
   "metadata": {},
   "source": [
    "### Exercise 10-1\n",
    "\n",
    "Write a function called `nestedsum` that takes an array of arrays of integers and adds up the elements from all of the nested arrays."
   ]
  },
  {
   "cell_type": "code",
   "execution_count": 48,
   "metadata": {},
   "outputs": [
    {
     "data": {
      "text/plain": [
       "nestedsum (generic function with 1 method)"
      ]
     },
     "execution_count": 48,
     "metadata": {},
     "output_type": "execute_result"
    }
   ],
   "source": [
    "# function nestedsum(t)\n",
    "#   sum(sum.(t))\n",
    "# end\n",
    "\n",
    "function nestedsum(t)\n",
    "  total = 0\n",
    "  for nested in t\n",
    "    total += sum(nested)\n",
    "  end\n",
    "  total\n",
    "end"
   ]
  },
  {
   "cell_type": "code",
   "execution_count": 49,
   "metadata": {},
   "outputs": [
    {
     "data": {
      "text/plain": [
       "21"
      ]
     },
     "execution_count": 49,
     "metadata": {},
     "output_type": "execute_result"
    }
   ],
   "source": [
    "t = [[1, 2], [3], [4, 5, 6]];\n",
    "nestedsum(t)"
   ]
  },
  {
   "cell_type": "markdown",
   "metadata": {},
   "source": [
    "### Exercise 10-2\n",
    "\n",
    "Write a function called `cumulsum` that takes an array of numbers and returns the cumulative sum; that is, a new array where the th element is the sum of the first elements from the original array."
   ]
  },
  {
   "cell_type": "code",
   "execution_count": 122,
   "metadata": {},
   "outputs": [
    {
     "data": {
      "text/plain": [
       "cumulsum (generic function with 1 method)"
      ]
     },
     "execution_count": 122,
     "metadata": {},
     "output_type": "execute_result"
    }
   ],
   "source": [
    "function cumulsum(t)\n",
    "  total = 0\n",
    "  res = []\n",
    "  for x in t\n",
    "    total += x\n",
    "    push!(res, total)\n",
    "  end\n",
    "  res\n",
    "end"
   ]
  },
  {
   "cell_type": "code",
   "execution_count": 51,
   "metadata": {},
   "outputs": [
    {
     "name": "stdout",
     "output_type": "stream",
     "text": [
      "Any[1, 3, 6]"
     ]
    }
   ],
   "source": [
    "t = [1, 2, 3];\n",
    "print(cumulsum(t))"
   ]
  },
  {
   "cell_type": "markdown",
   "metadata": {},
   "source": [
    "### Exercise 10-3\n",
    "\n",
    "Write a function called `interior` that takes an array and returns a new array that contains all but the first and last elements."
   ]
  },
  {
   "cell_type": "code",
   "execution_count": 52,
   "metadata": {},
   "outputs": [
    {
     "data": {
      "text/plain": [
       "interior (generic function with 1 method)"
      ]
     },
     "execution_count": 52,
     "metadata": {},
     "output_type": "execute_result"
    }
   ],
   "source": [
    "function interior(t)\n",
    "  t[2:end-1]\n",
    "end"
   ]
  },
  {
   "cell_type": "code",
   "execution_count": 53,
   "metadata": {},
   "outputs": [
    {
     "name": "stdout",
     "output_type": "stream",
     "text": [
      "[2, 3]"
     ]
    }
   ],
   "source": [
    "t = [1, 2, 3, 4];\n",
    "print(interior(t))"
   ]
  },
  {
   "cell_type": "markdown",
   "metadata": {},
   "source": [
    "### Exercise 10-4\n",
    "\n",
    "Write a function called `interior!` that takes an array, modifies it by removing the first and last elements, and returns nothing."
   ]
  },
  {
   "cell_type": "code",
   "execution_count": 54,
   "metadata": {},
   "outputs": [
    {
     "data": {
      "text/plain": [
       "interior! (generic function with 1 method)"
      ]
     },
     "execution_count": 54,
     "metadata": {},
     "output_type": "execute_result"
    }
   ],
   "source": [
    "function interior!(t)\n",
    "  popfirst!(t)\n",
    "  pop!(t)\n",
    "  nothing\n",
    "end"
   ]
  },
  {
   "cell_type": "code",
   "execution_count": 55,
   "metadata": {},
   "outputs": [
    {
     "name": "stdout",
     "output_type": "stream",
     "text": [
      "[2, 3]"
     ]
    }
   ],
   "source": [
    "t = [1, 2, 3, 4];\n",
    "interior!(t)\n",
    "print(t)"
   ]
  },
  {
   "cell_type": "markdown",
   "metadata": {},
   "source": [
    "### Exercise 10-5\n",
    "\n",
    "Write a function called `issort` that takes an array as a parameter and returns true if the array is sorted in ascending order and false otherwise."
   ]
  },
  {
   "cell_type": "code",
   "execution_count": 56,
   "metadata": {},
   "outputs": [
    {
     "data": {
      "text/plain": [
       "issort (generic function with 1 method)"
      ]
     },
     "execution_count": 56,
     "metadata": {},
     "output_type": "execute_result"
    }
   ],
   "source": [
    "function issort(t)\n",
    "  t == sort(t)  # do they have the same values (elements) although not necessarily reference the identical object.\n",
    "end"
   ]
  },
  {
   "cell_type": "code",
   "execution_count": 57,
   "metadata": {},
   "outputs": [
    {
     "data": {
      "text/plain": [
       "(true, false)"
      ]
     },
     "execution_count": 57,
     "metadata": {},
     "output_type": "execute_result"
    }
   ],
   "source": [
    "issort([1, 2, 2]), issort(['b', 'a'])"
   ]
  },
  {
   "cell_type": "markdown",
   "metadata": {},
   "source": [
    "### Exercise 10-6\n",
    "\n",
    "Two words are anagrams if you can rearrange the letters from one to spell the other. Write a function called `isanagram` that takes two strings and returns true if they are anagrams.\n",
    "\n",
    "TIP: You may want to first write a function that converts a string into an array of all lower case letters and no space character."
   ]
  },
  {
   "cell_type": "code",
   "execution_count": 58,
   "metadata": {},
   "outputs": [
    {
     "data": {
      "text/plain": [
       "isanagram (generic function with 1 method)"
      ]
     },
     "execution_count": 58,
     "metadata": {},
     "output_type": "execute_result"
    }
   ],
   "source": [
    "# function isanagram(str1,str2)\n",
    "#     sort(collect(str1)) == sort(collect(str2))\n",
    "# end\n",
    "\n",
    "# Ok, there was a bug in the above implementation as it does not account for spaces and case sensitivity. \n",
    "# That was discovered through (New York Times example)\n",
    "\n",
    "function str_to_arr(str)\n",
    "    \n",
    "#   res=[]\n",
    "#    \n",
    "#     for c in str\n",
    "#         if c != ' '\n",
    "#             push!(res,lowercase(c))\n",
    "#         end\n",
    "#     end\n",
    "#    res\n",
    "    \n",
    "    # fancier implementation using array comprehension\n",
    "    \n",
    "    [ lowercase(item) for item in str if item !=' ' ]\n",
    "    \n",
    "     \n",
    "end\n",
    "\n",
    "        \n",
    "function isanagram(str1,str2)\n",
    "    \n",
    "    sort(str_to_arr(str1)) == sort(str_to_arr(str2))\n",
    "end\n",
    "\n"
   ]
  },
  {
   "cell_type": "code",
   "execution_count": 59,
   "metadata": {},
   "outputs": [
    {
     "data": {
      "text/plain": [
       "true"
      ]
     },
     "execution_count": 59,
     "metadata": {},
     "output_type": "execute_result"
    }
   ],
   "source": [
    "isanagram(\"rail safety\",\"fairy tales\") "
   ]
  },
  {
   "cell_type": "code",
   "execution_count": 60,
   "metadata": {},
   "outputs": [
    {
     "data": {
      "text/plain": [
       "true"
      ]
     },
     "execution_count": 60,
     "metadata": {},
     "output_type": "execute_result"
    }
   ],
   "source": [
    "isanagram(\"New York Times\",\"monkeys write\")"
   ]
  },
  {
   "cell_type": "code",
   "execution_count": 61,
   "metadata": {},
   "outputs": [
    {
     "data": {
      "text/plain": [
       "true"
      ]
     },
     "execution_count": 61,
     "metadata": {},
     "output_type": "execute_result"
    }
   ],
   "source": [
    "isanagram(\"angered\",\"enraged\")"
   ]
  },
  {
   "cell_type": "markdown",
   "metadata": {},
   "source": [
    "### Exercise 10-7\n",
    "\n",
    "Write a function called `hasduplicates` that takes an array and returns true if there is any element that appears more than once. It should not modify the original array."
   ]
  },
  {
   "cell_type": "code",
   "execution_count": 62,
   "metadata": {},
   "outputs": [
    {
     "data": {
      "text/plain": [
       "hasduplicates (generic function with 1 method)"
      ]
     },
     "execution_count": 62,
     "metadata": {},
     "output_type": "execute_result"
    }
   ],
   "source": [
    "function hasduplicates(arr)\n",
    "    \n",
    "    for index in eachindex(arr[1:end-1])\n",
    "        \n",
    "        if arr[index] ∈ arr[index+1:end]\n",
    "             return true\n",
    "        end\n",
    "        \n",
    "    end\n",
    "    \n",
    "    return false\n",
    "    \n",
    "end\n"
   ]
  },
  {
   "cell_type": "code",
   "execution_count": 63,
   "metadata": {},
   "outputs": [
    {
     "data": {
      "text/plain": [
       "false"
      ]
     },
     "execution_count": 63,
     "metadata": {},
     "output_type": "execute_result"
    }
   ],
   "source": [
    "hasduplicates([1,2,3,4,5,6,7,8,9,10])"
   ]
  },
  {
   "cell_type": "code",
   "execution_count": 64,
   "metadata": {},
   "outputs": [
    {
     "data": {
      "text/plain": [
       "true"
      ]
     },
     "execution_count": 64,
     "metadata": {},
     "output_type": "execute_result"
    }
   ],
   "source": [
    "hasduplicates([1,2,3,4,5,6,7,8,9,1])"
   ]
  },
  {
   "cell_type": "markdown",
   "metadata": {},
   "source": [
    "## Exercise 10-8\n",
    "\n",
    "This exercise pertains to the so-called Birthday Paradox, which you can read about at https://en.wikipedia.org/wiki/Birthday_paradox.\n",
    "\n",
    "If there are 23 students in your class, what are the chances that two (or more) of you have the same birthday? You can estimate this probability by generating random samples of 23 birthdays and checking for matches. \n",
    "\n",
    "TIP: You can generate random birthdays with rand(1:365).  Create an array of 23 randomly chosen birthdays and use `hasduplicates` to see if there are duplicate birthdays.  Repeat this process for many times (like 10,000 trials?) and count true trials to compute the probability."
   ]
  },
  {
   "cell_type": "code",
   "execution_count": 65,
   "metadata": {},
   "outputs": [
    {
     "data": {
      "text/plain": [
       "0.5012"
      ]
     },
     "execution_count": 65,
     "metadata": {},
     "output_type": "execute_result"
    }
   ],
   "source": [
    "count = 0\n",
    "maxcount = 10000\n",
    "\n",
    "for case in 1:maxcount\n",
    "    \n",
    "    birthdays=[]\n",
    "    for i = 1:23\n",
    "        push!(birthdays,rand(1:365))\n",
    "    end\n",
    "    \n",
    "    if hasduplicates(birthdays)\n",
    "        count += 1\n",
    "    end\n",
    "end\n",
    "\n",
    "count/maxcount\n",
    "    "
   ]
  },
  {
   "cell_type": "markdown",
   "metadata": {},
   "source": [
    "## Exercise 10-9\n",
    "\n",
    "Write a function that reads the file words.txt and builds an array with one element per word. Write two versions of this function, one using push! and the other using the idiom t = [t..., x] . Which one takes longer to run? Why?"
   ]
  },
  {
   "cell_type": "code",
   "execution_count": 91,
   "metadata": {},
   "outputs": [
    {
     "data": {
      "text/plain": [
       "word_array_builder_idiom (generic function with 1 method)"
      ]
     },
     "execution_count": 91,
     "metadata": {},
     "output_type": "execute_result"
    }
   ],
   "source": [
    "function word_array_builder_push()\n",
    "    \n",
    "    word_array = []\n",
    "    \n",
    "    for word in eachline(\"words.txt\")\n",
    "        push!(word_array,word)\n",
    "    end\n",
    "\n",
    "    return word_array\n",
    "    \n",
    "end\n",
    "\n",
    "function word_array_builder_idiom()\n",
    "    \n",
    "    word_array = []\n",
    "    \n",
    "    for word in eachline(\"words.txt\")\n",
    "        word_array = [word_array...,word]\n",
    "    end\n",
    "    \n",
    "    return word_array\n",
    "\n",
    "end"
   ]
  },
  {
   "cell_type": "code",
   "execution_count": 68,
   "metadata": {},
   "outputs": [
    {
     "name": "stdout",
     "output_type": "stream",
     "text": [
      " 55.533887 seconds (718.92 k allocations: 96.535 GiB, 8.43% gc time)\n"
     ]
    },
    {
     "data": {
      "text/plain": [
       "113809-element Array{String,1}:\n",
       " \"aa\"        \n",
       " \"aah\"       \n",
       " \"aahed\"     \n",
       " \"aahing\"    \n",
       " \"aahs\"      \n",
       " \"aal\"       \n",
       " \"aalii\"     \n",
       " \"aaliis\"    \n",
       " \"aals\"      \n",
       " \"aardvark\"  \n",
       " \"aardvarks\" \n",
       " \"aardwolf\"  \n",
       " \"aardwolves\"\n",
       " ⋮           \n",
       " \"zymes\"     \n",
       " \"zymogen\"   \n",
       " \"zymogene\"  \n",
       " \"zymogenes\" \n",
       " \"zymogens\"  \n",
       " \"zymologies\"\n",
       " \"zymology\"  \n",
       " \"zymoses\"   \n",
       " \"zymosis\"   \n",
       " \"zymotic\"   \n",
       " \"zymurgies\" \n",
       " \"zymurgy\"   "
      ]
     },
     "execution_count": 68,
     "metadata": {},
     "output_type": "execute_result"
    }
   ],
   "source": [
    "@time word_array_builder_idiom()"
   ]
  },
  {
   "cell_type": "code",
   "execution_count": 92,
   "metadata": {},
   "outputs": [
    {
     "name": "stdout",
     "output_type": "stream",
     "text": [
      "  0.023449 seconds (232.96 k allocations: 7.458 MiB)\n"
     ]
    },
    {
     "data": {
      "text/plain": [
       "113809-element Array{Any,1}:\n",
       " \"aa\"        \n",
       " \"aah\"       \n",
       " \"aahed\"     \n",
       " \"aahing\"    \n",
       " \"aahs\"      \n",
       " \"aal\"       \n",
       " \"aalii\"     \n",
       " \"aaliis\"    \n",
       " \"aals\"      \n",
       " \"aardvark\"  \n",
       " \"aardvarks\" \n",
       " \"aardwolf\"  \n",
       " \"aardwolves\"\n",
       " ⋮           \n",
       " \"zymes\"     \n",
       " \"zymogen\"   \n",
       " \"zymogene\"  \n",
       " \"zymogenes\" \n",
       " \"zymogens\"  \n",
       " \"zymologies\"\n",
       " \"zymology\"  \n",
       " \"zymoses\"   \n",
       " \"zymosis\"   \n",
       " \"zymotic\"   \n",
       " \"zymurgies\" \n",
       " \"zymurgy\"   "
      ]
     },
     "execution_count": 92,
     "metadata": {},
     "output_type": "execute_result"
    }
   ],
   "source": [
    "@time mywords = word_array_builder_push()"
   ]
  },
  {
   "cell_type": "markdown",
   "metadata": {},
   "source": [
    "### Exercise 10-10\n",
    "\n",
    "To check whether a word is in the word array, you could use the ∈ operator, but it would be slow because it searches through the words in order. Because the words are in alphabetical order, we can speed things up with a bisection search (also known as binary search), which is similar to what you do when you look a word up in the dictionary. You start in the middle and check to see whether the word you are looking for comes before the word in the middle of the array. If so, you search the first half of  the array the same way. Otherwise you search the second half. Either way, you cut the remaining search space in half. If the word array has 113,809 words, it will take about 17 steps to find the word or conclude that it’s not there.\n",
    "\n",
    "Write a function called `inbisect` that takes a sorted array and a target value and returns true if the word is in the array and false if it’s not.\n",
    "\n",
    "TIP: Maybe it is time to practice recursion?"
   ]
  },
  {
   "cell_type": "code",
   "execution_count": 93,
   "metadata": {},
   "outputs": [
    {
     "data": {
      "text/plain": [
       "inbisect (generic function with 1 method)"
      ]
     },
     "execution_count": 93,
     "metadata": {},
     "output_type": "execute_result"
    }
   ],
   "source": [
    "function inbisect(sorted_array, target)\n",
    "    \n",
    "    #@show sorted_array\n",
    "    a_len = length(sorted_array)\n",
    "    \n",
    "    if a_len < 2 \n",
    "        return sorted_array[1] == target\n",
    "    end\n",
    "\n",
    "    halfind = a_len ÷ 2\n",
    "    half = sorted_array[halfind]\n",
    "    \n",
    "    #@show a_len, halfind, half\n",
    "    if half < target\n",
    "        inbisect(sorted_array[(halfind+1):end],target)\n",
    "    else\n",
    "        inbisect(sorted_array[1:(halfind)],target)\n",
    "    end\n",
    "    \n",
    "end\n",
    "        "
   ]
  },
  {
   "cell_type": "code",
   "execution_count": 96,
   "metadata": {},
   "outputs": [
    {
     "data": {
      "text/plain": [
       "true"
      ]
     },
     "execution_count": 96,
     "metadata": {},
     "output_type": "execute_result"
    }
   ],
   "source": [
    "ar = [\"a\",\"b\",\"c\",\"d\",\"e\"]\n",
    "inbisect(ar,\"a\")"
   ]
  },
  {
   "cell_type": "code",
   "execution_count": 97,
   "metadata": {},
   "outputs": [
    {
     "data": {
      "text/plain": [
       "true"
      ]
     },
     "execution_count": 97,
     "metadata": {},
     "output_type": "execute_result"
    }
   ],
   "source": [
    "ar = [\"a\",\"b\",\"c\",\"d\",\"e\"]\n",
    "inbisect(ar,\"e\")"
   ]
  },
  {
   "cell_type": "code",
   "execution_count": 98,
   "metadata": {},
   "outputs": [
    {
     "data": {
      "text/plain": [
       "false"
      ]
     },
     "execution_count": 98,
     "metadata": {},
     "output_type": "execute_result"
    }
   ],
   "source": [
    "ar = [\"a\",\"b\",\"c\",\"d\",\"e\"]\n",
    "inbisect(ar,\"bc\")"
   ]
  },
  {
   "cell_type": "code",
   "execution_count": 99,
   "metadata": {},
   "outputs": [
    {
     "data": {
      "text/plain": [
       "false"
      ]
     },
     "execution_count": 99,
     "metadata": {},
     "output_type": "execute_result"
    }
   ],
   "source": [
    "ar = [\"a\",\"b\",\"c\",\"d\",\"e\"]\n",
    "inbisect(ar,\"cd\")"
   ]
  },
  {
   "cell_type": "code",
   "execution_count": 100,
   "metadata": {},
   "outputs": [
    {
     "data": {
      "text/plain": [
       "false"
      ]
     },
     "execution_count": 100,
     "metadata": {},
     "output_type": "execute_result"
    }
   ],
   "source": [
    "br = [\"ab\",\"bc\",\"cd\",\"de\",\"ef\",\"fg\"]\n",
    "inbisect(br,\"cc\")"
   ]
  },
  {
   "cell_type": "code",
   "execution_count": 101,
   "metadata": {},
   "outputs": [
    {
     "data": {
      "text/plain": [
       "false"
      ]
     },
     "execution_count": 101,
     "metadata": {},
     "output_type": "execute_result"
    }
   ],
   "source": [
    "br = [\"ab\",\"bc\",\"cd\",\"de\",\"ef\",\"fg\"]\n",
    "inbisect(br,\"dd\")"
   ]
  },
  {
   "cell_type": "code",
   "execution_count": 102,
   "metadata": {},
   "outputs": [
    {
     "data": {
      "text/plain": [
       "true"
      ]
     },
     "execution_count": 102,
     "metadata": {},
     "output_type": "execute_result"
    }
   ],
   "source": [
    "inbisect(mywords,\"zebra\")"
   ]
  },
  {
   "cell_type": "code",
   "execution_count": 103,
   "metadata": {},
   "outputs": [
    {
     "data": {
      "text/plain": [
       "true"
      ]
     },
     "execution_count": 103,
     "metadata": {},
     "output_type": "execute_result"
    }
   ],
   "source": [
    "inbisect(mywords,\"hello\")"
   ]
  },
  {
   "cell_type": "markdown",
   "metadata": {},
   "source": [
    "### Exercise 10-11\n",
    "\n",
    "Two words are a “reverse pair” if each is the reverse of the other. Write a program `reversepairs` that finds all the reverse pairs in the word array.  Use `inbisect`."
   ]
  },
  {
   "cell_type": "code",
   "execution_count": 104,
   "metadata": {},
   "outputs": [
    {
     "data": {
      "text/plain": [
       "reversepairs (generic function with 1 method)"
      ]
     },
     "execution_count": 104,
     "metadata": {},
     "output_type": "execute_result"
    }
   ],
   "source": [
    "function reversepairs(wordarray)\n",
    "    \n",
    "    for word in wordarray\n",
    "        \n",
    "        reverse_word = word[end:-1:1]\n",
    "        if inbisect(wordarray, reverse_word)\n",
    "            println(word, reverse_word)\n",
    "        end\n",
    "        \n",
    "    end\n",
    "        \n",
    "end"
   ]
  },
  {
   "cell_type": "code",
   "execution_count": 105,
   "metadata": {},
   "outputs": [
    {
     "name": "stdout",
     "output_type": "stream",
     "text": [
      "aaaa\n",
      "abaaba\n",
      "abuttuba\n",
      "adda\n",
      "adossoda\n",
      "agaaga\n",
      "agarraga\n",
      "agassaga\n",
      "agenessenega\n",
      "ahha\n",
      "ahaaha\n",
      "aiderredia\n",
      "airtsstria\n",
      "ajarraja\n",
      "alaala\n",
      "aliffila\n",
      "alulaalula\n",
      "amma\n",
      "amaama\n",
      "amennema\n",
      "amissima\n",
      "anna\n",
      "anaana\n",
      "angerregna\n",
      "animallamina\n",
      "animessemina\n",
      "annaanna\n",
      "anonnona\n",
      "anteetna\n",
      "areera\n",
      "aressera\n",
      "arillira\n",
      "arrissirra\n",
      "arummura\n",
      "atta\n",
      "ateeta\n",
      "atesseta\n",
      "auksskua\n",
      "avaava\n",
      "aviddiva\n",
      "avoova\n",
      "awaawa\n",
      "ayya\n",
      "baddab\n",
      "baggab\n",
      "ballab\n",
      "balsslab\n",
      "bannab\n",
      "barddrab\n",
      "bassab\n",
      "battab\n",
      "batsstab\n",
      "beddeb\n",
      "benneb\n",
      "bibbib\n",
      "biddib\n",
      "biggib\n",
      "binnib\n",
      "binssnib\n",
      "birddrib\n",
      "bissib\n",
      "bobbob\n",
      "boggob\n",
      "boobboob\n",
      "bossob\n",
      "botsstob\n",
      "bowsswob\n",
      "braddarb\n",
      "braggarb\n",
      "bubbub\n",
      "buddub\n",
      "bunnub\n",
      "bunssnub\n",
      "burrub\n",
      "burddrub\n",
      "burggrub\n",
      "bussub\n",
      "buttub\n",
      "butsstub\n",
      "cammac\n",
      "cappac\n",
      "caresserac\n",
      "civiccivic\n",
      "coddoc\n",
      "crammarc\n",
      "cudduc\n",
      "daad\n",
      "dabbad\n",
      "daddad\n",
      "daggad\n",
      "dahhad\n",
      "dahsshad\n",
      "dammad\n",
      "dappad\n",
      "darbbrad\n",
      "darttrad\n",
      "dawwad\n",
      "debbed\n",
      "debuttubed\n",
      "decallaced\n",
      "dedalladed\n",
      "deeddeed\n",
      "deemmeed\n",
      "deeppeed\n",
      "deepsspeed\n",
      "deerreed\n",
      "deesseed\n",
      "deferrefed\n",
      "degamiimaged\n",
      "deifieddeified\n",
      "deifierreified\n",
      "deillied\n",
      "dekeeked\n",
      "dekeddeked\n",
      "delled\n",
      "deleddeled\n",
      "delffled\n",
      "deliverreviled\n",
      "delssled\n",
      "demittimed\n",
      "denierreined\n",
      "deniesseined\n",
      "denimmined\n",
      "denneddenned\n",
      "denssned\n",
      "depottoped\n",
      "depotsstoped\n",
      "derattared\n",
      "deratsstared\n",
      "desserttressed\n",
      "dessertsstressed\n",
      "devassaved\n",
      "devillived\n",
      "dewwed\n",
      "dewanssnawed\n",
      "deweddewed\n",
      "dexessexed\n",
      "diallaid\n",
      "dialerrelaid\n",
      "diaperrepaid\n",
      "dibbid\n",
      "diddid\n",
      "diggid\n",
      "dimmid\n",
      "dinarranid\n",
      "diolssloid\n",
      "dirtsstrid\n",
      "divaavid\n",
      "dood\n",
      "doccod\n",
      "doggod\n",
      "dommod\n",
      "donnod\n",
      "doommood\n",
      "doorrood\n",
      "dorrod\n",
      "dorminnimrod\n",
      "dorpprod\n",
      "dossod\n",
      "dottod\n",
      "drabbard\n",
      "drailliard\n",
      "drawward\n",
      "drawerreward\n",
      "drawssward\n",
      "drayyard\n",
      "dribbird\n",
      "drubburd\n",
      "duallaud\n",
      "dubbud\n",
      "duccud\n",
      "ducsscud\n",
      "duddud\n",
      "duelleud\n",
      "duooud\n",
      "duppud\n",
      "dupsspud\n",
      "eattae\n",
      "edileelide\n",
      "edittide\n",
      "eellee\n",
      "ehhe\n",
      "ekeeke\n",
      "ekeddeke\n",
      "elideedile\n",
      "elidessedile\n",
      "emme\n",
      "emeeme\n",
      "emesseme\n",
      "emirrime\n",
      "emittime\n",
      "emitsstime\n",
      "enollone\n",
      "erre\n",
      "eraare\n",
      "ereere\n",
      "ergoogre\n",
      "erossore\n",
      "ervillivre\n",
      "etaate\n",
      "etassate\n",
      "etnaante\n",
      "eveeve\n",
      "evenneve\n",
      "evillive\n",
      "evilerrelive\n",
      "eweewe\n",
      "eyeeye\n",
      "ferref\n",
      "filaalif\n",
      "firesserif\n",
      "fleddelf\n",
      "floggolf\n",
      "flowwolf\n",
      "foolloof\n",
      "gabbag\n",
      "gaddag\n",
      "gaggag\n",
      "gallag\n",
      "galsslag\n",
      "gammag\n",
      "gannag\n",
      "garrag\n",
      "garbbrag\n",
      "gassag\n",
      "gattag\n",
      "gatsstag\n",
      "gelleg\n",
      "gelderredleg\n",
      "getteg\n",
      "gibbig\n",
      "giddig\n",
      "giggig\n",
      "gippig\n",
      "girttrig\n",
      "gnarrang\n",
      "gnattang\n",
      "gnatsstang\n",
      "gnawsswang\n",
      "gnussung\n",
      "gobbog\n",
      "goddog\n",
      "golfflog\n",
      "gottog\n",
      "grubburg\n",
      "gullug\n",
      "gulpplug\n",
      "gulsslug\n",
      "gummug\n",
      "gumssmug\n",
      "gunssnug\n",
      "guttug\n",
      "haah\n",
      "habussubah\n",
      "haddah\n",
      "hahhah\n",
      "hahsshah\n",
      "halalahhalalah\n",
      "halesselah\n",
      "hallahhallah\n",
      "happah\n",
      "hayyah\n",
      "heeh\n",
      "heyyeh\n",
      "hooh\n",
      "hooppooh\n",
      "hoppoh\n",
      "huhhuh\n",
      "imageddegami\n",
      "issi\n",
      "itti\n",
      "jarraj\n",
      "kaiakkaiak\n",
      "kayyak\n",
      "kayakkayak\n",
      "keekkeek\n",
      "keelleek\n",
      "keelssleek\n",
      "keeppeek\n",
      "keetssteek\n",
      "kipsspik\n",
      "knapsspank\n",
      "knarrank\n",
      "knitsstink\n",
      "kookkook\n",
      "labbal\n",
      "laceddecal\n",
      "ladeddedal\n",
      "laggal\n",
      "lagerregal\n",
      "laiddial\n",
      "lairrial\n",
      "laminaanimal\n",
      "lappal\n",
      "laresseral\n",
      "larummural\n",
      "lassal\n",
      "lauddual\n",
      "leddel\n",
      "leeeel\n",
      "leekkeel\n",
      "leerreel\n",
      "leesseel\n",
      "leetssteel\n",
      "leggel\n",
      "leperrepel\n",
      "leudduel\n",
      "levellevel\n",
      "leverrevel\n",
      "levinssnivel\n",
      "liarrail\n",
      "liarddrail\n",
      "lieddeil\n",
      "linnil\n",
      "lionnoil\n",
      "liraaril\n",
      "littil\n",
      "liveevil\n",
      "liveddevil\n",
      "livreervil\n",
      "loboobol\n",
      "loneenol\n",
      "looffool\n",
      "loommool\n",
      "loonssnool\n",
      "looppool\n",
      "loopsspool\n",
      "loottool\n",
      "looterretool\n",
      "lootsstool\n",
      "loppol\n",
      "lotossotol\n",
      "luggul\n",
      "maam\n",
      "maccam\n",
      "macsscam\n",
      "maddam\n",
      "madammadam\n",
      "maesseam\n",
      "maggam\n",
      "mappam\n",
      "marram\n",
      "marccram\n",
      "marcsscram\n",
      "marrammarram\n",
      "marttram\n",
      "mattam\n",
      "mawsswam\n",
      "mayyam\n",
      "meem\n",
      "meeddeem\n",
      "meetteem\n",
      "memmem\n",
      "meterretem\n",
      "mhoohm\n",
      "middim\n",
      "milsslim\n",
      "mimmim\n",
      "mineddenim\n",
      "minimminim\n",
      "mirrim\n",
      "missim\n",
      "moddom\n",
      "mommom\n",
      "monnom\n",
      "mooddoom\n",
      "moolloom\n",
      "moorroom\n",
      "moottoom\n",
      "mottom\n",
      "muggum\n",
      "mummum\n",
      "muraarum\n",
      "murallarum\n",
      "muresserum\n",
      "mussum\n",
      "mutsstum\n",
      "naan\n",
      "nabban\n",
      "naggan\n",
      "namerreman\n",
      "nappan\n",
      "napsspan\n",
      "nebben\n",
      "neeppeen\n",
      "nemaamen\n",
      "netten\n",
      "neveeven\n",
      "nevesseven\n",
      "newwen\n",
      "nibbin\n",
      "nillin\n",
      "nimroddormin\n",
      "nippin\n",
      "nipsspin\n",
      "nittin\n",
      "noon\n",
      "noddon\n",
      "noillion\n",
      "nolossolon\n",
      "nommon\n",
      "nonaanon\n",
      "noonnoon\n",
      "nosson\n",
      "notton\n",
      "notesseton\n",
      "nowwon\n",
      "nuun\n",
      "nubbun\n",
      "nunnun\n",
      "nussun\n",
      "nuttun\n",
      "nutsstun\n",
      "oattao\n",
      "obollobo\n",
      "oddo\n",
      "ogreergo\n",
      "ohho\n",
      "ohmmho\n",
      "ohooho\n",
      "onno\n",
      "oohsshoo\n",
      "oottoo\n",
      "osso\n",
      "ottootto\n",
      "oudduo\n",
      "ovaavo\n",
      "owwo\n",
      "paccap\n",
      "pacerrecap\n",
      "paddap\n",
      "pahhap\n",
      "pallap\n",
      "palsslap\n",
      "pammap\n",
      "pannap\n",
      "panssnap\n",
      "pappap\n",
      "parrap\n",
      "parttrap\n",
      "partsstrap\n",
      "passap\n",
      "pattap\n",
      "pawwap\n",
      "pawsswap\n",
      "payyap\n",
      "peeddeep\n",
      "peekkeep\n",
      "peelssleep\n",
      "peenneep\n",
      "peeppeep\n",
      "peesseep\n",
      "peppep\n",
      "perrep\n",
      "petsstep\n",
      "piggip\n",
      "pinnip\n",
      "pinssnip\n",
      "pippip\n",
      "pissip\n",
      "pittip\n",
      "pluggulp\n",
      "pohhop\n",
      "pollop\n",
      "polsslop\n",
      "poohhoop\n",
      "poolloop\n",
      "poolssloop\n",
      "poonssnoop\n",
      "pooppoop\n",
      "poppop\n",
      "porttrop\n",
      "portsstrop\n",
      "pottop\n",
      "potsstop\n",
      "powwop\n",
      "powsswop\n",
      "prattarp\n",
      "proddorp\n",
      "puddup\n",
      "puppup\n",
      "pupilsslipup\n",
      "purissirup\n",
      "pussup\n",
      "puttup\n",
      "radarradar\n",
      "raggar\n",
      "ragaagar\n",
      "railliar\n",
      "rajjar\n",
      "rajaajar\n",
      "rammar\n",
      "ranggnar\n",
      "raniddinar\n",
      "rankknar\n",
      "rappar\n",
      "rapsspar\n",
      "rattar\n",
      "ratsstar\n",
      "rawwar\n",
      "rayyar\n",
      "reer\n",
      "rebussuber\n",
      "rebuttuber\n",
      "recappacer\n",
      "recapsspacer\n",
      "redderredder\n",
      "redesseder\n",
      "rediaaider\n",
      "redipsspider\n",
      "redleggelder\n",
      "redrawwarder\n",
      "redrawerrewarder\n",
      "reeddeer\n",
      "reelleer\n",
      "reesseer\n",
      "reffer\n",
      "refeddefer\n",
      "referrefer\n",
      "reflettelfer\n",
      "reflowwolfer\n",
      "regallager\n",
      "regnaanger\n",
      "reifieddeifier\n",
      "reifierreifier\n",
      "reineddenier\n",
      "reknittinker\n",
      "reknitsstinker\n",
      "relaiddialer\n",
      "relittiler\n",
      "reliveeviler\n",
      "remannamer\n",
      "remeetteemer\n",
      "remittimer\n",
      "rennettenner\n",
      "repper\n",
      "repaiddiaper\n",
      "repaperrepaper\n",
      "repelleper\n",
      "repinssniper\n",
      "resser\n",
      "retemmeter\n",
      "retoollooter\n",
      "revellever\n",
      "revileddeliver\n",
      "reviverreviver\n",
      "rewarddrawer\n",
      "rewarderredrawer\n",
      "riallair\n",
      "rimmir\n",
      "rimeemir\n",
      "roddor\n",
      "rooddoor\n",
      "roommoor\n",
      "rottor\n",
      "rotatorrotator\n",
      "rotorrotor\n",
      "rubbur\n",
      "sabbas\n",
      "saggas\n",
      "sagaagas\n",
      "sagassagas\n",
      "sallas\n",
      "salletsstellas\n",
      "sappas\n",
      "sapsspas\n",
      "sattas\n",
      "sateetas\n",
      "saveddevas\n",
      "sawwas\n",
      "scammacs\n",
      "scaresseracs\n",
      "scrammarcs\n",
      "scudducs\n",
      "seammaes\n",
      "secretterces\n",
      "sederredes\n",
      "sedileelides\n",
      "seeddees\n",
      "seeksskees\n",
      "seellees\n",
      "seeppees\n",
      "seerrees\n",
      "seessees\n",
      "seineddenies\n",
      "selahhales\n",
      "selahsshales\n",
      "sellesselles\n",
      "semeemes\n",
      "sememessememes\n",
      "semessemes\n",
      "seminaanimes\n",
      "senegaagenes\n",
      "serres\n",
      "seraares\n",
      "seraccares\n",
      "seracsscares\n",
      "serallares\n",
      "seresseres\n",
      "seriffires\n",
      "serummures\n",
      "setaates\n",
      "setonnotes\n",
      "sevenneves\n",
      "sexeddexes\n",
      "sexessexes\n",
      "shaddahs\n",
      "shahhahs\n",
      "shahsshahs\n",
      "shalesselahs\n",
      "shoooohs\n",
      "siis\n",
      "sibbis\n",
      "simmis\n",
      "simaamis\n",
      "sippis\n",
      "sirraarris\n",
      "sirssris\n",
      "siruppuris\n",
      "sissis\n",
      "sittis\n",
      "sixxis\n",
      "skeesseeks\n",
      "skeetssteeks\n",
      "skipsspiks\n",
      "skuaauks\n",
      "slabbals\n",
      "slaggals\n",
      "slappals\n",
      "sleddels\n",
      "sleekkeels\n",
      "sleeppeels\n",
      "sleepsspeels\n",
      "sleetssteels\n",
      "slimmils\n",
      "slipuppupils\n",
      "slittils\n",
      "sloiddiols\n",
      "slooppools\n",
      "sloopsspools\n",
      "sloppols\n",
      "slugguls\n",
      "smarttrams\n",
      "smuggums\n",
      "smutsstums\n",
      "snappans\n",
      "snapsspans\n",
      "snawwans\n",
      "snaweddewans\n",
      "snawsswans\n",
      "sneddens\n",
      "snibbins\n",
      "snippins\n",
      "sniperrepins\n",
      "snipsspins\n",
      "snittins\n",
      "snivellevins\n",
      "snoolloons\n",
      "snooppoons\n",
      "snoopsspoons\n",
      "snoottoons\n",
      "snottons\n",
      "snowwons\n",
      "snubbuns\n",
      "snugguns\n",
      "soos\n",
      "sobbos\n",
      "soddos\n",
      "sodaados\n",
      "solonnolos\n",
      "solossolos\n",
      "sonnos\n",
      "soreeros\n",
      "sossos\n",
      "sotollotos\n",
      "sowwos\n",
      "spacerrecaps\n",
      "spannaps\n",
      "spankknaps\n",
      "spanssnaps\n",
      "sparraps\n",
      "spassaps\n",
      "spattaps\n",
      "spayyaps\n",
      "speeddeeps\n",
      "speelssleeps\n",
      "spiderredips\n",
      "spikkips\n",
      "spiksskips\n",
      "spinnips\n",
      "spinssnips\n",
      "spirttrips\n",
      "spirtsstrips\n",
      "spittips\n",
      "spoolloops\n",
      "spoolssloops\n",
      "spoonssnoops\n",
      "sportsstrops\n",
      "spottops\n",
      "spotsstops\n",
      "sprattarps\n",
      "spritsstirps\n",
      "spuddups\n",
      "srissirs\n",
      "stabbats\n",
      "staggats\n",
      "stanggnats\n",
      "starrats\n",
      "staredderats\n",
      "stawwats\n",
      "steekkeets\n",
      "steeksskeets\n",
      "steelleets\n",
      "steelssleets\n",
      "stellassallets\n",
      "steppets\n",
      "stetsstets\n",
      "stewwets\n",
      "stimeemits\n",
      "stinkknits\n",
      "stinkerreknits\n",
      "stirpssprits\n",
      "stobbots\n",
      "stoolloots\n",
      "stoppots\n",
      "stopeddepots\n",
      "stopsspots\n",
      "stowwots\n",
      "stowsswots\n",
      "strapparts\n",
      "strawwarts\n",
      "stresseddesserts\n",
      "striaairts\n",
      "striddirts\n",
      "stripsspirts\n",
      "stropports\n",
      "stropssports\n",
      "strowworts\n",
      "strutssturts\n",
      "stubbuts\n",
      "stummuts\n",
      "stumssmuts\n",
      "stunnuts\n",
      "sturtsstruts\n",
      "subbus\n",
      "subahhabus\n",
      "suberrebus\n",
      "summus\n",
      "sunnus\n",
      "sunggnus\n",
      "suppus\n",
      "swammaws\n",
      "swanggnaws\n",
      "swanssnaws\n",
      "swappaws\n",
      "swarddraws\n",
      "swattaws\n",
      "swayyaws\n",
      "swobbows\n",
      "swoppows\n",
      "swottows\n",
      "swotsstows\n",
      "taat\n",
      "tabbat\n",
      "taeeat\n",
      "taggat\n",
      "tammat\n",
      "tanggnat\n",
      "taooat\n",
      "tappat\n",
      "tapsspat\n",
      "tarrat\n",
      "taredderat\n",
      "tarpprat\n",
      "tarpssprat\n",
      "tassat\n",
      "tattat\n",
      "tavvat\n",
      "tawwat\n",
      "tawsswat\n",
      "teemmeet\n",
      "teemerremeet\n",
      "tegget\n",
      "telferreflet\n",
      "tennet\n",
      "tenettenet\n",
      "tennerrennet\n",
      "tercessecret\n",
      "terretterret\n",
      "tewwet\n",
      "tiit\n",
      "tideedit\n",
      "tillit\n",
      "tilerrelit\n",
      "tilsslit\n",
      "timeemit\n",
      "timeddemit\n",
      "timerremit\n",
      "tinnit\n",
      "tinkerreknit\n",
      "tinssnit\n",
      "tippit\n",
      "tipsspit\n",
      "tissit\n",
      "tittit\n",
      "toddot\n",
      "toggot\n",
      "tommot\n",
      "tonnot\n",
      "tonssnot\n",
      "toooot\n",
      "toolloot\n",
      "toommoot\n",
      "toonssnoot\n",
      "toottoot\n",
      "toppot\n",
      "topeddepot\n",
      "topsspot\n",
      "torrot\n",
      "torttrot\n",
      "tottot\n",
      "towwot\n",
      "towsswot\n",
      "traddart\n",
      "trammart\n",
      "tramssmart\n",
      "trappart\n",
      "tresseddessert\n",
      "triggirt\n",
      "tripsspirt\n",
      "tropport\n",
      "trottort\n",
      "trowwort\n",
      "tubbut\n",
      "tubaabut\n",
      "tubeddebut\n",
      "tuberrebut\n",
      "tuggut\n",
      "tunnut\n",
      "tupput\n",
      "tuttut\n",
      "unnu\n",
      "vattav\n",
      "vavvav\n",
      "waddaw\n",
      "wanssnaw\n",
      "wappaw\n",
      "warraw\n",
      "warddraw\n",
      "warderredraw\n",
      "wartsstraw\n",
      "wassaw\n",
      "wattaw\n",
      "watsstaw\n",
      "wawwaw\n",
      "wayyaw\n",
      "weddew\n",
      "wennew\n",
      "wettew\n",
      "wetsstew\n",
      "woow\n",
      "wolfflow\n",
      "wolferreflow\n",
      "wonnow\n",
      "wonssnow\n",
      "woppow\n",
      "worttrow\n",
      "wortsstrow\n",
      "wossow\n",
      "wottow\n",
      "wotsstow\n",
      "wowwow\n",
      "xissix\n",
      "yaay\n",
      "yahhay\n",
      "yakkay\n",
      "yammay\n",
      "yappay\n",
      "yapsspay\n",
      "yarray\n",
      "yarddray\n",
      "yawway\n",
      "yawssway\n",
      "yayyay\n",
      "yehhey\n"
     ]
    }
   ],
   "source": [
    "reversepairs(mywords)"
   ]
  },
  {
   "cell_type": "markdown",
   "metadata": {},
   "source": [
    "### Exercise 10-12\n",
    "\n",
    "Two words “interlock” if taking alternating letters from each forms a new word. For example, “shoe” and “cold” interlock to form “schooled”.\n",
    "\n",
    "\n",
    "Credit: This exercise is inspired by an example at http://puzzlers.org.\n",
    "\n",
    "1. Write a program that finds all pairs of words that interlock.\n",
    "\n",
    "TIP: Don’t enumerate all pairs and see whether they work!  That is, don't do the following as it will take forever to run.\n",
    "\n",
    "```\n",
    "for word1 in mywords\n",
    "    \n",
    "    for word2 in mywords\n",
    "\n",
    "...\n",
    "\n",
    "```\n",
    "\n",
    "2. Can you find any words that are three-way interlocked; that is, every third letter forms a word, starting from the first,second or third?"
   ]
  },
  {
   "cell_type": "code",
   "execution_count": 108,
   "metadata": {},
   "outputs": [
    {
     "data": {
      "text/plain": [
       "652"
      ]
     },
     "execution_count": 108,
     "metadata": {},
     "output_type": "execute_result"
    }
   ],
   "source": [
    "list_2_interlock = []\n",
    "\n",
    "for word in mywords\n",
    "    \n",
    "    if length(word) % 2 == 0\n",
    "            \n",
    "        index = 1\n",
    "        word1 = []\n",
    "        word2 = []\n",
    "        \n",
    "        while index < length(word)\n",
    "            push!(word1,word[index])\n",
    "            push!(word2,word[index+1])\n",
    "            index += 2\n",
    "        end\n",
    "            \n",
    "        if inbisect(mywords,join(word1)) && inbisect(mywords,join(word2))\n",
    "            push!(list_2_interlock,word)\n",
    "        end\n",
    "        \n",
    "    end\n",
    "    \n",
    "end\n",
    "\n",
    "\n",
    "length(list_2_interlock)\n",
    "            \n",
    "            \n",
    "                \n",
    "                "
   ]
  },
  {
   "cell_type": "code",
   "execution_count": 109,
   "metadata": {},
   "outputs": [
    {
     "data": {
      "text/plain": [
       "\"bourne\""
      ]
     },
     "execution_count": 109,
     "metadata": {},
     "output_type": "execute_result"
    }
   ],
   "source": [
    "list_2_interlock[100]"
   ]
  },
  {
   "cell_type": "code",
   "execution_count": 113,
   "metadata": {},
   "outputs": [
    {
     "data": {
      "text/plain": [
       "348"
      ]
     },
     "execution_count": 113,
     "metadata": {},
     "output_type": "execute_result"
    }
   ],
   "source": [
    "list_3_interlock = []\n",
    "\n",
    "for word in mywords\n",
    "    \n",
    "    if length(word) % 3 == 0\n",
    "            \n",
    "        index = 1\n",
    "        word1 = []\n",
    "        word2 = []\n",
    "        word3 = []\n",
    "        \n",
    "        while index < length(word)\n",
    "            push!(word1,word[index])\n",
    "            push!(word2,word[index+1])\n",
    "            push!(word3,word[index+2])\n",
    "            index += 3\n",
    "        end\n",
    "            \n",
    "        if inbisect(mywords,join(word1)) && inbisect(mywords,join(word2)) && inbisect(mywords,join(word3))\n",
    "            push!(list_3_interlock,word)\n",
    "        end\n",
    "        \n",
    "    end\n",
    "    \n",
    "end\n",
    "\n",
    "\n",
    "length(list_3_interlock)"
   ]
  },
  {
   "cell_type": "code",
   "execution_count": 118,
   "metadata": {},
   "outputs": [
    {
     "data": {
      "text/plain": [
       "\"manana\""
      ]
     },
     "execution_count": 118,
     "metadata": {},
     "output_type": "execute_result"
    }
   ],
   "source": [
    "list_3_interlock[200]"
   ]
  },
  {
   "cell_type": "code",
   "execution_count": 120,
   "metadata": {},
   "outputs": [
    {
     "data": {
      "text/plain": [
       "true"
      ]
     },
     "execution_count": 120,
     "metadata": {},
     "output_type": "execute_result"
    }
   ],
   "source": [
    "inbisect(mywords,\"na\")"
   ]
  }
 ],
 "metadata": {
  "@webio": {
   "lastCommId": null,
   "lastKernelId": null
  },
  "kernelspec": {
   "display_name": "Julia 1.2.0",
   "language": "julia",
   "name": "julia-1.2"
  },
  "language_info": {
   "file_extension": ".jl",
   "mimetype": "application/julia",
   "name": "julia",
   "version": "1.2.0"
  }
 },
 "nbformat": 4,
 "nbformat_minor": 2
}
