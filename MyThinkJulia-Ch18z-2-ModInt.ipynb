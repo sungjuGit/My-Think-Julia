{
 "cells": [
  {
   "cell_type": "markdown",
   "metadata": {},
   "source": [
    "# ModInt: a simple modular integer type"
   ]
  },
  {
   "cell_type": "code",
   "execution_count": 1,
   "metadata": {},
   "outputs": [],
   "source": [
    "struct ModInt{n} <: Integer\n",
    "    k::Int\n",
    "\n",
    "    # Constructor definition...\n",
    "    # note the left side looks like the call it defines\n",
    "    ModInt{n}(k::Int) where {n} = new(mod(k,n))\n",
    "end"
   ]
  },
  {
   "cell_type": "code",
   "execution_count": 2,
   "metadata": {},
   "outputs": [
    {
     "data": {
      "text/plain": [
       "ModInt{13}(3)"
      ]
     },
     "execution_count": 2,
     "metadata": {},
     "output_type": "execute_result"
    }
   ],
   "source": [
    "a = ModInt{13}(1238279873492834)"
   ]
  },
  {
   "cell_type": "code",
   "execution_count": 3,
   "metadata": {},
   "outputs": [
    {
     "data": {
      "text/plain": [
       "ModInt{13}(12)"
      ]
     },
     "execution_count": 3,
     "metadata": {},
     "output_type": "execute_result"
    }
   ],
   "source": [
    "b = ModInt{13}(9872349827349827)"
   ]
  },
  {
   "cell_type": "code",
   "execution_count": 4,
   "metadata": {},
   "outputs": [
    {
     "ename": "ErrorException",
     "evalue": "promotion of types ModInt{13} and ModInt{13} failed to change any arguments",
     "output_type": "error",
     "traceback": [
      "promotion of types ModInt{13} and ModInt{13} failed to change any arguments",
      "",
      "Stacktrace:",
      " [1] error(::String, ::String, ::String) at .\\error.jl:42",
      " [2] sametype_error(::Tuple{ModInt{13},ModInt{13}}) at .\\promotion.jl:306",
      " [3] not_sametype(::Tuple{ModInt{13},ModInt{13}}, ::Tuple{ModInt{13},ModInt{13}}) at .\\promotion.jl:300",
      " [4] +(::ModInt{13}, ::ModInt{13}) at .\\int.jl:859",
      " [5] top-level scope at In[4]:1"
     ]
    }
   ],
   "source": [
    "a + b"
   ]
  },
  {
   "cell_type": "markdown",
   "metadata": {},
   "source": [
    "To extend standard functions we need to import them."
   ]
  },
  {
   "cell_type": "code",
   "execution_count": 5,
   "metadata": {},
   "outputs": [],
   "source": [
    "import Base: +"
   ]
  },
  {
   "cell_type": "code",
   "execution_count": 6,
   "metadata": {},
   "outputs": [
    {
     "data": {
      "text/plain": [
       "+ (generic function with 167 methods)"
      ]
     },
     "execution_count": 6,
     "metadata": {},
     "output_type": "execute_result"
    }
   ],
   "source": [
    "+(a::ModInt{n}, b::ModInt{n}) where {n} = ModInt{n}(a.k + b.k)"
   ]
  },
  {
   "cell_type": "code",
   "execution_count": 7,
   "metadata": {},
   "outputs": [
    {
     "data": {
      "text/plain": [
       "ModInt{13}(2)"
      ]
     },
     "execution_count": 7,
     "metadata": {},
     "output_type": "execute_result"
    }
   ],
   "source": [
    "a + b"
   ]
  },
  {
   "cell_type": "code",
   "execution_count": 8,
   "metadata": {},
   "outputs": [
    {
     "data": {
      "text/plain": [
       "- (generic function with 176 methods)"
      ]
     },
     "execution_count": 8,
     "metadata": {},
     "output_type": "execute_result"
    }
   ],
   "source": [
    "import Base: *, -\n",
    "\n",
    "*(a::ModInt{n}, b::ModInt{n}) where{n} = ModInt{n}(a.k * b.k)\n",
    "-(a::ModInt{n}, b::ModInt{n}) where {n} = ModInt{n}(a.k - b.k)\n",
    "-(a::ModInt{n}) where {n} = ModInt{n}(-a.k)"
   ]
  },
  {
   "cell_type": "code",
   "execution_count": 9,
   "metadata": {},
   "outputs": [
    {
     "data": {
      "text/plain": [
       "ModInt{13}(10)"
      ]
     },
     "execution_count": 9,
     "metadata": {},
     "output_type": "execute_result"
    }
   ],
   "source": [
    "a * b"
   ]
  },
  {
   "cell_type": "code",
   "execution_count": 10,
   "metadata": {},
   "outputs": [
    {
     "data": {
      "text/plain": [
       "ModInt{13}(4)"
      ]
     },
     "execution_count": 10,
     "metadata": {},
     "output_type": "execute_result"
    }
   ],
   "source": [
    "a - b"
   ]
  },
  {
   "cell_type": "code",
   "execution_count": 11,
   "metadata": {},
   "outputs": [
    {
     "data": {
      "text/plain": [
       "ModInt{13}(1)"
      ]
     },
     "execution_count": 11,
     "metadata": {},
     "output_type": "execute_result"
    }
   ],
   "source": [
    "-b"
   ]
  },
  {
   "cell_type": "code",
   "execution_count": 12,
   "metadata": {},
   "outputs": [],
   "source": [
    "Base.show(io::IO, a::ModInt{n}) where {n} =\n",
    "    get(io, :compact, false) ? show(io, a.k) : print(io, \"$(a.k) mod $n\")"
   ]
  },
  {
   "cell_type": "code",
   "execution_count": 13,
   "metadata": {},
   "outputs": [
    {
     "data": {
      "text/plain": [
       "3 mod 13"
      ]
     },
     "execution_count": 13,
     "metadata": {},
     "output_type": "execute_result"
    }
   ],
   "source": [
    "a"
   ]
  },
  {
   "cell_type": "code",
   "execution_count": 14,
   "metadata": {},
   "outputs": [
    {
     "data": {
      "text/plain": [
       "12 mod 13"
      ]
     },
     "execution_count": 14,
     "metadata": {},
     "output_type": "execute_result"
    }
   ],
   "source": [
    "b"
   ]
  },
  {
   "cell_type": "code",
   "execution_count": 15,
   "metadata": {},
   "outputs": [
    {
     "ename": "ErrorException",
     "evalue": "promotion of types ModInt{13} and Int64 failed to change any arguments",
     "output_type": "error",
     "traceback": [
      "promotion of types ModInt{13} and Int64 failed to change any arguments",
      "",
      "Stacktrace:",
      " [1] error(::String, ::String, ::String) at .\\error.jl:42",
      " [2] sametype_error(::Tuple{ModInt{13},Int64}) at .\\promotion.jl:306",
      " [3] not_sametype(::Tuple{ModInt{13},Int64}, ::Tuple{ModInt{13},Int64}) at .\\promotion.jl:300",
      " [4] +(::ModInt{13}, ::Int64) at .\\int.jl:859",
      " [5] top-level scope at In[15]:1"
     ]
    }
   ],
   "source": [
    "a + 1"
   ]
  },
  {
   "cell_type": "code",
   "execution_count": 16,
   "metadata": {},
   "outputs": [],
   "source": [
    "Base.promote_rule(::Type{ModInt{n}}, ::Type{Int}) where {n} = ModInt{n}"
   ]
  },
  {
   "cell_type": "code",
   "execution_count": 17,
   "metadata": {},
   "outputs": [],
   "source": [
    "Base.convert(::Type{ModInt{n}}, x::Int) where {n} = ModInt{n}(x)"
   ]
  },
  {
   "cell_type": "code",
   "execution_count": 18,
   "metadata": {},
   "outputs": [
    {
     "data": {
      "text/plain": [
       "4 mod 13"
      ]
     },
     "execution_count": 18,
     "metadata": {},
     "output_type": "execute_result"
    }
   ],
   "source": [
    "a + 1"
   ]
  },
  {
   "cell_type": "code",
   "execution_count": 19,
   "metadata": {},
   "outputs": [
    {
     "data": {
      "text/plain": [
       "4 mod 13"
      ]
     },
     "execution_count": 19,
     "metadata": {},
     "output_type": "execute_result"
    }
   ],
   "source": [
    "1 + a"
   ]
  },
  {
   "cell_type": "code",
   "execution_count": 20,
   "metadata": {},
   "outputs": [
    {
     "data": {
      "text/plain": [
       "5×5 Array{ModInt{13},2}:\n",
       " 3   7  4  1  9\n",
       " 6  11  8  1  4\n",
       " 9   1  6  9  5\n",
       " 0   5  2  5  3\n",
       " 6   0  7  3  9"
      ]
     },
     "execution_count": 20,
     "metadata": {},
     "output_type": "execute_result"
    }
   ],
   "source": [
    "A = map(ModInt{13}, rand(1:100, 5, 5))"
   ]
  },
  {
   "cell_type": "code",
   "execution_count": 21,
   "metadata": {},
   "outputs": [
    {
     "data": {
      "text/plain": [
       "5×5 Array{ModInt{13},2}:\n",
       " 10  3   7   7   2\n",
       "  8  9   0   1   4\n",
       "  6  7   0   1   3\n",
       "  5  3   5   3   1\n",
       " 11  9  12  12  10"
      ]
     },
     "execution_count": 21,
     "metadata": {},
     "output_type": "execute_result"
    }
   ],
   "source": [
    "A^100000000"
   ]
  },
  {
   "cell_type": "code",
   "execution_count": 22,
   "metadata": {},
   "outputs": [
    {
     "data": {
      "text/plain": [
       "5×5 Array{ModInt{13},2}:\n",
       "  6  5   0   0  3\n",
       "  2  4  12   1  7\n",
       " 11  0  12   1  5\n",
       "  9  5   9   5  1\n",
       "  8  4  10  10  6"
      ]
     },
     "execution_count": 22,
     "metadata": {},
     "output_type": "execute_result"
    }
   ],
   "source": [
    "2A^100 .- 1"
   ]
  },
  {
   "cell_type": "markdown",
   "metadata": {},
   "source": [
    "### Summary\n",
    "\n",
    "Here is all the code that defines the `ModInt` type:\n",
    "```jl\n",
    "struct ModInt{n} <: Integer\n",
    "    k::Int\n",
    "\n",
    "    # Constructor definition...\n",
    "    # note the left side looks like the call it defines\n",
    "    ModInt{n}(k::Int) where {n} = new(mod(k,n))\n",
    "end\n",
    "\n",
    "import Base: +, *, -\n",
    "\n",
    "+(a::ModInt{n}, b::ModInt{n}) where {n} = ModInt{n}(a.k + b.k)\n",
    "*(a::ModInt{n}, b::ModInt{n}) where{n} = ModInt{n}(a.k * b.k)\n",
    "-(a::ModInt{n}, b::ModInt{n}) where {n} = ModInt{n}(a.k - b.k)\n",
    "-(a::ModInt{n}) where {n} = ModInt{n}(-a.k)\n",
    "\n",
    "Base.show(io::IO, a::ModInt{n}) where {n} =\n",
    "    get(io, :compact, false) ? show(io, a.k) : print(io, \"$(a.k) mod $n\")\n",
    "\n",
    "Base.promote_rule(::Type{ModInt{n}}, ::Type{Int}) where {n} = ModInt{n}\n",
    "Base.convert(::Type{ModInt{n}}, x::Int) where {n} = ModInt{n}(x)\n",
    "```"
   ]
  },
  {
   "cell_type": "markdown",
   "metadata": {},
   "source": [
    "### Exercise\n",
    "\n",
    "Add two methods that allows operations between modular integers with different modulus using the rule that they should combine in the modulus that is the `lcm` (least common multiple) of the moduli of the arguments.\n",
    "\n",
    "**Hint:** try something, see what fails, define something to make that work."
   ]
  },
  {
   "cell_type": "code",
   "execution_count": 29,
   "metadata": {},
   "outputs": [
    {
     "data": {
      "text/plain": [
       "9 mod 12"
      ]
     },
     "execution_count": 29,
     "metadata": {},
     "output_type": "execute_result"
    }
   ],
   "source": [
    "x = ModInt{12}(9)"
   ]
  },
  {
   "cell_type": "code",
   "execution_count": 30,
   "metadata": {},
   "outputs": [
    {
     "data": {
      "text/plain": [
       "13 mod 15"
      ]
     },
     "execution_count": 30,
     "metadata": {},
     "output_type": "execute_result"
    }
   ],
   "source": [
    "y = ModInt{15}(13)"
   ]
  },
  {
   "cell_type": "code",
   "execution_count": 25,
   "metadata": {},
   "outputs": [],
   "source": []
  },
  {
   "cell_type": "code",
   "execution_count": 35,
   "metadata": {},
   "outputs": [
    {
     "data": {
      "text/plain": [
       "* (generic function with 359 methods)"
      ]
     },
     "execution_count": 35,
     "metadata": {},
     "output_type": "execute_result"
    }
   ],
   "source": [
    "# two method definitions here...\n",
    "\n",
    "+(a::ModInt{n}, b::ModInt{m}) where {n,m} = (l = lcm(n,m); ModInt{l}(a.k+b.k))\n",
    "*(a::ModInt{n}, b::ModInt{m}) where{n,m} = (l = lcm(n,m);ModInt{l}(a.k * b.k))"
   ]
  },
  {
   "cell_type": "code",
   "execution_count": 37,
   "metadata": {},
   "outputs": [],
   "source": [
    "@assert x + y == ModInt{60}(22)"
   ]
  },
  {
   "cell_type": "code",
   "execution_count": 38,
   "metadata": {},
   "outputs": [],
   "source": [
    "@assert x * y == ModInt{60}(57)"
   ]
  }
 ],
 "metadata": {
  "kernelspec": {
   "display_name": "Julia 1.4.0",
   "language": "julia",
   "name": "julia-1.4"
  },
  "language": "Julia",
  "language_info": {
   "file_extension": ".jl",
   "mimetype": "application/julia",
   "name": "julia",
   "version": "1.4.0"
  }
 },
 "nbformat": 4,
 "nbformat_minor": 1
}
