{
 "cells": [
  {
   "cell_type": "markdown",
   "metadata": {},
   "source": [
    "# Ch 9: Case Study: Word Play"
   ]
  },
  {
   "cell_type": "markdown",
   "metadata": {},
   "source": [
    "### Reading Word Lists\n",
    "\n",
    "We will perform the second case study, which involves solving word puzzles by searching for words that have certain properties. For example, we’ll find the longest palindromes in English and search for words whose letters appear in alphabetical order.\n",
    "\n",
    "We will use one of the word lists collected and contributed to the public domain by Grady Ward as part of the Moby lexicon project (see https://wikipedia.org/wiki/Moby_Project). It is a list of 113809 official crosswords; that is, words that are considered valid in crossword puzzles and other word games. In the Moby collection, the filename is 113809of.fic; you can download a copy, with the simpler name words.txt, from https://github.com/BenLauwens/ThinkJulia.jl/blob/master/data/words.txt."
   ]
  },
  {
   "cell_type": "code",
   "execution_count": 1,
   "metadata": {},
   "outputs": [
    {
     "data": {
      "text/plain": [
       "IOStream(<file words.txt>)"
      ]
     },
     "execution_count": 1,
     "metadata": {},
     "output_type": "execute_result"
    }
   ],
   "source": [
    "fin = open(\"words.txt\")    # fin is a file stream"
   ]
  },
  {
   "cell_type": "code",
   "execution_count": 2,
   "metadata": {},
   "outputs": [
    {
     "data": {
      "text/plain": [
       "\"aa\""
      ]
     },
     "execution_count": 2,
     "metadata": {},
     "output_type": "execute_result"
    }
   ],
   "source": [
    "readline(fin)"
   ]
  },
  {
   "cell_type": "code",
   "execution_count": 3,
   "metadata": {},
   "outputs": [
    {
     "data": {
      "text/plain": [
       "\"aah\""
      ]
     },
     "execution_count": 3,
     "metadata": {},
     "output_type": "execute_result"
    }
   ],
   "source": [
    "readline(fin)     # readline remembers which line we are at"
   ]
  },
  {
   "cell_type": "code",
   "execution_count": 4,
   "metadata": {},
   "outputs": [],
   "source": [
    "close(fin)"
   ]
  },
  {
   "cell_type": "markdown",
   "metadata": {},
   "source": [
    "### Exercise 9-1\n",
    "\n",
    "Write a program that reads words.txt and prints only the words with more than 20 characters (not counting whitespace)."
   ]
  },
  {
   "cell_type": "code",
   "execution_count": 5,
   "metadata": {},
   "outputs": [
    {
     "name": "stdout",
     "output_type": "stream",
     "text": [
      "counterdemonstrations\n",
      "hyperaggressivenesses\n",
      "microminiaturizations\n"
     ]
    }
   ],
   "source": [
    "for word in eachline(\"words.txt\")\n",
    "    \n",
    "    #word_wo_space = filter(x -> !isspace(x), word)\n",
    "    word_wo_space = [ c for c in word if !isspace(c) ]\n",
    "    if length(word_wo_space) > 20\n",
    "        println(word)\n",
    "    end\n",
    "    \n",
    "end\n"
   ]
  },
  {
   "cell_type": "markdown",
   "metadata": {},
   "source": [
    "### Exercise 9-2\n",
    "\n",
    "In 1939 Ernest Vincent Wright published a 50,000-word novel called Gadsby that does not contain the letter e. Since e is the most common letter in English, that’s not easy to do. In fact, it is difficult to construct a solitary thought without using that most common symbol. It is slow going at first, but with caution and hours of training you can gradually gain facility.\n",
    "\n",
    "Write a function called `hasno_e` that returns true if the given word doesn’t have the letter e in it. Modify your program from the previous section to print only the words that have no e and compute the percentage of the words in the list that have no e."
   ]
  },
  {
   "cell_type": "code",
   "execution_count": 5,
   "metadata": {},
   "outputs": [
    {
     "data": {
      "text/plain": [
       "hasno_e (generic function with 1 method)"
      ]
     },
     "execution_count": 5,
     "metadata": {},
     "output_type": "execute_result"
    }
   ],
   "source": [
    "function hasno_e(word)\n",
    "    for letter in word\n",
    "        if letter == 'e'\n",
    "            return false\n",
    "        end\n",
    "    end\n",
    "    true\n",
    "end"
   ]
  },
  {
   "cell_type": "code",
   "execution_count": 6,
   "metadata": {},
   "outputs": [
    {
     "data": {
      "text/plain": [
       "(113809, 37641, 33.07383423103621)"
      ]
     },
     "execution_count": 6,
     "metadata": {},
     "output_type": "execute_result"
    }
   ],
   "source": [
    "count_all = 0\n",
    "count_no_e = 0\n",
    "\n",
    "for word in eachline(\"words.txt\")\n",
    "\n",
    "    count_all += 1\n",
    "    if hasno_e(word)\n",
    "        count_no_e += 1\n",
    "#        println(word)\n",
    "    end\n",
    "    \n",
    "end\n",
    "\n",
    "\n",
    "count_all, count_no_e, count_no_e / count_all * 100"
   ]
  },
  {
   "cell_type": "markdown",
   "metadata": {},
   "source": [
    "### Exercise 9-3\n",
    "\n",
    "Write a function named `avoids` that takes a word and a string of forbidden letters, and that returns true if the word doesn’t use any of the forbidden letters. Modify your program to prompt the user to enter a string of forbidden letters and then print  the number of words that don’t contain any of them. \n",
    "\n",
    "You can write a concise program using the ∉ ( \\notin TAB ) operator.\n",
    "\n",
    "Can you find a combination of 5 forbidden letters that excludes the smallest number of words?"
   ]
  },
  {
   "cell_type": "code",
   "execution_count": 7,
   "metadata": {},
   "outputs": [
    {
     "data": {
      "text/plain": [
       "avoids (generic function with 1 method)"
      ]
     },
     "execution_count": 7,
     "metadata": {},
     "output_type": "execute_result"
    }
   ],
   "source": [
    "function avoids(word, forbidden)\n",
    "    for letter in word\n",
    "        if letter ∈ forbidden\n",
    "            return false\n",
    "        end\n",
    "    end\n",
    "    true\n",
    "end"
   ]
  },
  {
   "cell_type": "code",
   "execution_count": 15,
   "metadata": {},
   "outputs": [
    {
     "name": "stdout",
     "output_type": "stream",
     "text": [
      "Input a string of forbidden letters: \n",
      "stdin> xyz\n"
     ]
    },
    {
     "data": {
      "text/plain": [
       "95196"
      ]
     },
     "execution_count": 15,
     "metadata": {},
     "output_type": "execute_result"
    }
   ],
   "source": [
    "println(\"Input a string of forbidden letters: \")\n",
    "\n",
    "forbidden_input = readline()\n",
    "count = 0\n",
    "\n",
    "for word in eachline(\"words.txt\")\n",
    "\n",
    "    if avoids(word, forbidden_input)\n",
    "        count += 1\n",
    "    end\n",
    "    \n",
    "end\n",
    "\n",
    "count"
   ]
  },
  {
   "cell_type": "markdown",
   "metadata": {},
   "source": [
    "Now, to try out all possible combinations of 5 characters, we will use a Julia package called `Combinatorics`."
   ]
  },
  {
   "cell_type": "code",
   "execution_count": 9,
   "metadata": {},
   "outputs": [
    {
     "name": "stdout",
     "output_type": "stream",
     "text": [
      "\u001b[32m\u001b[1m  Updating\u001b[22m\u001b[39m registry at `C:\\Users\\ST\\.julia\\registries\\General`\n",
      "\u001b[32m\u001b[1m  Updating\u001b[22m\u001b[39m git-repo `https://github.com/JuliaRegistries/General.git`\n",
      "\u001b[?25l\u001b[2K\u001b[?25h\u001b[32m\u001b[1m Resolving\u001b[22m\u001b[39m package versions...\n",
      "\u001b[32m\u001b[1m  Updating\u001b[22m\u001b[39m `C:\\Users\\ST\\.julia\\environments\\v1.2\\Project.toml`\n",
      "\u001b[90m [no changes]\u001b[39m\n",
      "\u001b[32m\u001b[1m  Updating\u001b[22m\u001b[39m `C:\\Users\\ST\\.julia\\environments\\v1.2\\Manifest.toml`\n",
      "\u001b[90m [no changes]\u001b[39m\n"
     ]
    }
   ],
   "source": [
    "using Pkg\n",
    "Pkg.add(\"Combinatorics\")\n",
    "using Combinatorics"
   ]
  },
  {
   "cell_type": "code",
   "execution_count": 10,
   "metadata": {},
   "outputs": [
    {
     "name": "stdout",
     "output_type": "stream",
     "text": [
      "search: \u001b[0m\u001b[1mc\u001b[22m\u001b[0m\u001b[1mo\u001b[22m\u001b[0m\u001b[1mm\u001b[22m\u001b[0m\u001b[1mb\u001b[22m\u001b[0m\u001b[1mi\u001b[22m\u001b[0m\u001b[1mn\u001b[22m\u001b[0m\u001b[1ma\u001b[22m\u001b[0m\u001b[1mt\u001b[22m\u001b[0m\u001b[1mi\u001b[22m\u001b[0m\u001b[1mo\u001b[22m\u001b[0m\u001b[1mn\u001b[22m\u001b[0m\u001b[1ms\u001b[22m multiset_\u001b[0m\u001b[1mc\u001b[22m\u001b[0m\u001b[1mo\u001b[22m\u001b[0m\u001b[1mm\u001b[22m\u001b[0m\u001b[1mb\u001b[22m\u001b[0m\u001b[1mi\u001b[22m\u001b[0m\u001b[1mn\u001b[22m\u001b[0m\u001b[1ma\u001b[22m\u001b[0m\u001b[1mt\u001b[22m\u001b[0m\u001b[1mi\u001b[22m\u001b[0m\u001b[1mo\u001b[22m\u001b[0m\u001b[1mn\u001b[22m\u001b[0m\u001b[1ms\u001b[22m \u001b[0m\u001b[1mC\u001b[22m\u001b[0m\u001b[1mo\u001b[22molLexCo\u001b[0m\u001b[1mm\u001b[22m\u001b[0m\u001b[1mb\u001b[22m\u001b[0m\u001b[1mi\u001b[22m\u001b[0m\u001b[1mn\u001b[22m\u001b[0m\u001b[1ma\u001b[22m\u001b[0m\u001b[1mt\u001b[22m\u001b[0m\u001b[1mi\u001b[22m\u001b[0m\u001b[1mo\u001b[22m\u001b[0m\u001b[1mn\u001b[22m\u001b[0m\u001b[1ms\u001b[22m\n",
      "\n"
     ]
    },
    {
     "data": {
      "text/latex": [
       "\\begin{verbatim}\n",
       "combinations(a, n)\n",
       "\\end{verbatim}\n",
       "Generate all combinations of \\texttt{n} elements from an indexable object \\texttt{a}. Because the number of combinations can be very large, this function returns an iterator object. Use \\texttt{collect(combinations(a, n))} to get an array of all combinations.\n",
       "\n",
       "\\rule{\\textwidth}{1pt}\n",
       "\\begin{verbatim}\n",
       "combinations(a)\n",
       "\\end{verbatim}\n",
       "Generate combinations of the elements of \\texttt{a} of all orders. Chaining of order iterators is eager, but the sequence at each order is lazy.\n",
       "\n"
      ],
      "text/markdown": [
       "```\n",
       "combinations(a, n)\n",
       "```\n",
       "\n",
       "Generate all combinations of `n` elements from an indexable object `a`. Because the number of combinations can be very large, this function returns an iterator object. Use `collect(combinations(a, n))` to get an array of all combinations.\n",
       "\n",
       "---\n",
       "\n",
       "```\n",
       "combinations(a)\n",
       "```\n",
       "\n",
       "Generate combinations of the elements of `a` of all orders. Chaining of order iterators is eager, but the sequence at each order is lazy.\n"
      ],
      "text/plain": [
       "\u001b[36m  combinations(a, n)\u001b[39m\n",
       "\n",
       "  Generate all combinations of \u001b[36mn\u001b[39m elements from an indexable object \u001b[36ma\u001b[39m. Because\n",
       "  the number of combinations can be very large, this function returns an\n",
       "  iterator object. Use \u001b[36mcollect(combinations(a, n))\u001b[39m to get an array of all\n",
       "  combinations.\n",
       "\n",
       "  ────────────────────────────────────────────────────────────────────────────\n",
       "\n",
       "\u001b[36m  combinations(a)\u001b[39m\n",
       "\n",
       "  Generate combinations of the elements of \u001b[36ma\u001b[39m of all orders. Chaining of order\n",
       "  iterators is eager, but the sequence at each order is lazy."
      ]
     },
     "execution_count": 10,
     "metadata": {},
     "output_type": "execute_result"
    }
   ],
   "source": [
    "?combinations"
   ]
  },
  {
   "cell_type": "code",
   "execution_count": 119,
   "metadata": {},
   "outputs": [
    {
     "data": {
      "text/plain": [
       "Combinatorics.Combinations{Array{Char,1}}(['a', 'b', 'c', 'd'], 3)"
      ]
     },
     "execution_count": 119,
     "metadata": {},
     "output_type": "execute_result"
    }
   ],
   "source": [
    "letters = ['a', 'b', 'c','d']\n",
    "combinations(letters,3)"
   ]
  },
  {
   "cell_type": "markdown",
   "metadata": {},
   "source": [
    "Whenever you expect to get an array or sequence of some items and yet you do not, try `collect`."
   ]
  },
  {
   "cell_type": "code",
   "execution_count": 120,
   "metadata": {},
   "outputs": [
    {
     "data": {
      "text/plain": [
       "4-element Array{Array{Char,1},1}:\n",
       " ['a', 'b', 'c']\n",
       " ['a', 'b', 'd']\n",
       " ['a', 'c', 'd']\n",
       " ['b', 'c', 'd']"
      ]
     },
     "execution_count": 120,
     "metadata": {},
     "output_type": "execute_result"
    }
   ],
   "source": [
    "collect(combinations(letters,3))"
   ]
  },
  {
   "cell_type": "code",
   "execution_count": 36,
   "metadata": {},
   "outputs": [
    {
     "name": "stdout",
     "output_type": "stream",
     "text": [
      "abc\n",
      "String\n",
      "abd\n",
      "String\n",
      "acd\n",
      "String\n",
      "bcd\n",
      "String\n"
     ]
    }
   ],
   "source": [
    "for combo in collect(combinations(letters,3))\n",
    "    println(join(combo))\n",
    "    println(typeof(join(combo)))\n",
    "end\n",
    "    "
   ]
  },
  {
   "cell_type": "code",
   "execution_count": 12,
   "metadata": {},
   "outputs": [
    {
     "data": {
      "text/plain": [
       "(5597, \"aei\")"
      ]
     },
     "execution_count": 12,
     "metadata": {},
     "output_type": "execute_result"
    }
   ],
   "source": [
    "# This is going to run several hours if we pick 5 characters!\n",
    "# so, let's do 3 characters C(26,3) = 2,600; C(26,5) = 65,780\n",
    "\n",
    "alphabets = ['a','b','c','d','e','f','g','h','i','j','k','l','m','n','o','p','q','r','s','t','u','v','w','x','y','z']\n",
    "\n",
    "\n",
    "fewest_exclusion = 113809  # worst case\n",
    "forbidden_wfe =\"\"\n",
    "\n",
    "for combo in collect(combinations(alphabets,3))\n",
    "    \n",
    "    forbidden_input = join(combo)\n",
    "    \n",
    "    count = 0\n",
    "    for word in eachline(\"words.txt\")\n",
    "        \n",
    "        if avoids(word, forbidden_input)\n",
    "            count += 1\n",
    "        end\n",
    "    end\n",
    "    \n",
    "    if count < fewest_exclusion\n",
    "        fewest_exclusion = count\n",
    "        forbidden_wfe = forbidden_input\n",
    "    end\n",
    "    \n",
    "end\n",
    "\n",
    "fewest_exclusion, forbidden_wfe\n",
    "\n"
   ]
  },
  {
   "cell_type": "markdown",
   "metadata": {},
   "source": [
    "### Exercise 9-4\n",
    "\n",
    "Write a function named `usesonly` that takes a word and a string of letters, and that returns true if the word contains only letters in the list. Can you make a sentence using only the letters acefhlo ? Other than \"Hoe alfalfa?\""
   ]
  },
  {
   "cell_type": "code",
   "execution_count": 16,
   "metadata": {},
   "outputs": [
    {
     "data": {
      "text/plain": [
       "usesonly (generic function with 1 method)"
      ]
     },
     "execution_count": 16,
     "metadata": {},
     "output_type": "execute_result"
    }
   ],
   "source": [
    "function usesonly(word, available)\n",
    "    for letter in word\n",
    "        if letter ∉ available\n",
    "            return false\n",
    "        end\n",
    "    end\n",
    "    true\n",
    "end"
   ]
  },
  {
   "cell_type": "code",
   "execution_count": 18,
   "metadata": {},
   "outputs": [
    {
     "name": "stdout",
     "output_type": "stream",
     "text": [
      "aa\n",
      "aah\n",
      "aal\n",
      "ace\n",
      "ache\n",
      "achoo\n",
      "ae\n",
      "aff\n",
      "ah\n",
      "aha\n",
      "ahchoo\n",
      "ala\n",
      "alae\n",
      "alcohol\n",
      "ale\n",
      "alec\n",
      "alee\n",
      "alef\n",
      "alfa\n",
      "alfalfa\n",
      "all\n",
      "allele\n",
      "allheal\n",
      "aloe\n",
      "aloha\n",
      "aloof\n",
      "cacao\n",
      "cache\n",
      "caeca\n",
      "caecal\n",
      "cafe\n",
      "caleche\n",
      "calf\n",
      "call\n",
      "calla\n",
      "ceca\n",
      "cecal\n",
      "cee\n",
      "cell\n",
      "cella\n",
      "cellae\n",
      "cello\n",
      "chafe\n",
      "chaff\n",
      "chalah\n",
      "chaleh\n",
      "challah\n",
      "chef\n",
      "chela\n",
      "chelae\n",
      "cholla\n",
      "clach\n",
      "clef\n",
      "cloaca\n",
      "cloacae\n",
      "cloacal\n",
      "cloche\n",
      "coach\n",
      "coal\n",
      "coala\n",
      "coalhole\n",
      "coca\n",
      "coccal\n",
      "cochlea\n",
      "cochleae\n",
      "coco\n",
      "cocoa\n",
      "coff\n",
      "coffee\n",
      "coffle\n",
      "coho\n",
      "col\n",
      "cola\n",
      "cole\n",
      "coo\n",
      "cooch\n",
      "cooee\n",
      "coof\n",
      "cool\n",
      "each\n",
      "eche\n",
      "echo\n",
      "ecole\n",
      "eel\n",
      "ef\n",
      "eff\n",
      "efface\n",
      "eh\n",
      "el\n",
      "elf\n",
      "ell\n",
      "fa\n",
      "face\n",
      "faecal\n",
      "fall\n",
      "fallal\n",
      "falloff\n",
      "feal\n",
      "fecal\n",
      "fee\n",
      "feel\n",
      "fell\n",
      "fella\n",
      "fellah\n",
      "felloe\n",
      "feoff\n",
      "feoffee\n",
      "flea\n",
      "fleche\n",
      "flee\n",
      "fleece\n",
      "fleech\n",
      "floc\n",
      "floe\n",
      "foal\n",
      "focal\n",
      "foe\n",
      "foh\n",
      "fool\n",
      "ha\n",
      "haaf\n",
      "hae\n",
      "hah\n",
      "halala\n",
      "halalah\n",
      "hale\n",
      "half\n",
      "hall\n",
      "hallah\n",
      "hallel\n",
      "hallo\n",
      "halloa\n",
      "halloo\n",
      "halo\n",
      "haole\n",
      "he\n",
      "heal\n",
      "heel\n",
      "hell\n",
      "hellhole\n",
      "hello\n",
      "ho\n",
      "hoe\n",
      "hole\n",
      "holla\n",
      "hollo\n",
      "holloa\n",
      "holloo\n",
      "hooch\n",
      "hoof\n",
      "la\n",
      "lac\n",
      "lace\n",
      "lall\n",
      "lea\n",
      "leach\n",
      "leaf\n",
      "leal\n",
      "lech\n",
      "lee\n",
      "leech\n",
      "lo\n",
      "loach\n",
      "loaf\n",
      "loca\n",
      "local\n",
      "locale\n",
      "loch\n",
      "loco\n",
      "locofoco\n",
      "loll\n",
      "loo\n",
      "loof\n",
      "loofa\n",
      "loofah\n",
      "oaf\n",
      "oca\n",
      "oe\n",
      "of\n",
      "off\n",
      "offal\n",
      "oh\n",
      "oho\n",
      "ole\n",
      "olea\n",
      "oleo\n",
      "olla\n",
      "ooh\n"
     ]
    }
   ],
   "source": [
    "available = \"acefhlo\"\n",
    "\n",
    "for word in eachline(\"words.txt\")\n",
    "\n",
    "    if usesonly(word,available)\n",
    "        println(word)\n",
    "    end\n",
    "    \n",
    "end"
   ]
  },
  {
   "cell_type": "markdown",
   "metadata": {},
   "source": [
    "### Exercise 9-5\n",
    "\n",
    "Write a function named `usesall` that takes a word and a string of required letters, and that returns true if the word uses all the required letters at least once. How many words are there that use all the vowels aeiou ? How about aeiouy ?"
   ]
  },
  {
   "cell_type": "code",
   "execution_count": 19,
   "metadata": {},
   "outputs": [
    {
     "data": {
      "text/plain": [
       "usesall (generic function with 1 method)"
      ]
     },
     "execution_count": 19,
     "metadata": {},
     "output_type": "execute_result"
    }
   ],
   "source": [
    "function usesall(word, required)\n",
    "    for letter in required\n",
    "        if letter ∉ word\n",
    "            return false\n",
    "        end\n",
    "    end\n",
    "    true\n",
    "end"
   ]
  },
  {
   "cell_type": "markdown",
   "metadata": {},
   "source": [
    "If you were really thinking like a computer scientist, you would have recognized that usesall was an instance of a\n",
    "previously solved problem, and you would have written:"
   ]
  },
  {
   "cell_type": "code",
   "execution_count": 20,
   "metadata": {},
   "outputs": [
    {
     "data": {
      "text/plain": [
       "usesall (generic function with 1 method)"
      ]
     },
     "execution_count": 20,
     "metadata": {},
     "output_type": "execute_result"
    }
   ],
   "source": [
    "function usesall(word, required)\n",
    "    usesonly(required, word)\n",
    "end"
   ]
  },
  {
   "cell_type": "markdown",
   "metadata": {},
   "source": [
    "This is an example of a program development plan called **reduction** to a previously solved problem, which means that you\n",
    "recognize the problem you are working on as an instance of a solved problem and apply an existing solution."
   ]
  },
  {
   "cell_type": "markdown",
   "metadata": {},
   "source": [
    "### Exercise 9-6\n",
    "\n",
    "Write a function called isabecedarian that returns true if the letters in a word appear in alphabetical order (double letters are ok). How many abecedarian words are there?"
   ]
  },
  {
   "cell_type": "code",
   "execution_count": 21,
   "metadata": {},
   "outputs": [
    {
     "data": {
      "text/plain": [
       "isabecedarian (generic function with 1 method)"
      ]
     },
     "execution_count": 21,
     "metadata": {},
     "output_type": "execute_result"
    }
   ],
   "source": [
    "# using for loop\n",
    "\n",
    "function isabecedarian(word)\n",
    "    \n",
    "    i = firstindex(word)\n",
    "    previous = word[i]\n",
    "    j = nextind(word, i)\n",
    "    \n",
    "    for c in word[j:end]\n",
    "        if c < previous\n",
    "            return false\n",
    "        end\n",
    "        previous = c\n",
    "    end\n",
    "    \n",
    "    true\n",
    "    \n",
    "end"
   ]
  },
  {
   "cell_type": "code",
   "execution_count": 22,
   "metadata": {},
   "outputs": [
    {
     "data": {
      "text/plain": [
       "isabecedarian (generic function with 1 method)"
      ]
     },
     "execution_count": 22,
     "metadata": {},
     "output_type": "execute_result"
    }
   ],
   "source": [
    "# using while loop\n",
    "\n",
    "function isabecedarian(word)\n",
    "    \n",
    "    i = firstindex(word)\n",
    "    j = nextind(word, i)\n",
    "        \n",
    "    while j <= sizeof(word)\n",
    "        if word[j] < word[i]\n",
    "            return false\n",
    "        end\n",
    "        i = j\n",
    "        j = nextind(word, i)\n",
    "    end\n",
    "    \n",
    "    true\n",
    "    \n",
    "end"
   ]
  },
  {
   "cell_type": "markdown",
   "metadata": {},
   "source": [
    "The loop starts at ```i=1``` and ```j=nextind(word, 1)``` and ends when ```j>sizeof(word)```. Each time through the loop, it compares the $i$-th character (which you can think of as the current character) to the $j$ th character (which you can think of as the next). If the next character is less than (alphabetically before) the current one, then we have discovered a break in the abecedarian trend, and we return false. If we get to the end of the loop without finding a fault, then the word passes the test. To convince yourself that the loop ends correctly, consider an example like \"flossy\" .\n"
   ]
  },
  {
   "cell_type": "code",
   "execution_count": 25,
   "metadata": {},
   "outputs": [
    {
     "data": {
      "text/plain": [
       "true"
      ]
     },
     "execution_count": 25,
     "metadata": {},
     "output_type": "execute_result"
    }
   ],
   "source": [
    "isabecedarian(\"flossy\")"
   ]
  },
  {
   "cell_type": "code",
   "execution_count": 75,
   "metadata": {},
   "outputs": [
    {
     "data": {
      "text/plain": [
       "isabecedarian (generic function with 1 method)"
      ]
     },
     "execution_count": 75,
     "metadata": {},
     "output_type": "execute_result"
    }
   ],
   "source": [
    "# using recursion\n",
    "\n",
    "function isabecedarian(word)\n",
    "    \n",
    "    println(\"Running with $word\")\n",
    "    \n",
    "    if length(word) <= 1\n",
    "        return true\n",
    "    end\n",
    "    \n",
    "    i = firstindex(word)\n",
    "    j = nextind(word, i)\n",
    "    \n",
    "    if word[i] > word[j]\n",
    "        return false\n",
    "    end\n",
    "    \n",
    "    isabecedarian(word[j:end])\n",
    "    \n",
    "end"
   ]
  },
  {
   "cell_type": "code",
   "execution_count": 77,
   "metadata": {},
   "outputs": [
    {
     "name": "stdout",
     "output_type": "stream",
     "text": [
      "Running with flossy\n",
      "Running with lossy\n",
      "Running with ossy\n",
      "Running with ssy\n",
      "Running with sy\n",
      "Running with y"
     ]
    },
    {
     "data": {
      "text/plain": [
       "true"
      ]
     },
     "execution_count": 77,
     "metadata": {},
     "output_type": "execute_result"
    },
    {
     "name": "stdout",
     "output_type": "stream",
     "text": [
      "\n"
     ]
    }
   ],
   "source": [
    "isabecedarian(\"flossy\")"
   ]
  },
  {
   "cell_type": "markdown",
   "metadata": {},
   "source": [
    "### Further Examples\n",
    "\n",
    "Here is a version of `ispalindrome` that uses two indices; one starts at the beginning and goes up; the other starts at the\n",
    "end and goes down."
   ]
  },
  {
   "cell_type": "code",
   "execution_count": 27,
   "metadata": {},
   "outputs": [
    {
     "data": {
      "text/plain": [
       "ispalindrome (generic function with 1 method)"
      ]
     },
     "execution_count": 27,
     "metadata": {},
     "output_type": "execute_result"
    }
   ],
   "source": [
    "function ispalindrome(word)\n",
    "    \n",
    "    i = firstindex(word)\n",
    "    j = lastindex(word)\n",
    "    \n",
    "    while i<j\n",
    "        if word[i] != word[j]\n",
    "            return false\n",
    "        end  \n",
    "        i = nextind(word, i)\n",
    "        j = prevind(word, j)\n",
    "    end\n",
    "    \n",
    "    true\n",
    "\n",
    "end"
   ]
  },
  {
   "cell_type": "markdown",
   "metadata": {},
   "source": [
    "Or we could reduce to a previously solved problem (`isreverse`) to implement `ispalindrome`:"
   ]
  },
  {
   "cell_type": "code",
   "execution_count": 29,
   "metadata": {},
   "outputs": [
    {
     "data": {
      "text/plain": [
       "ispalindrome (generic function with 1 method)"
      ]
     },
     "execution_count": 29,
     "metadata": {},
     "output_type": "execute_result"
    }
   ],
   "source": [
    "function ispalindrome(word)\n",
    "    isreverse(word, word)\n",
    "end"
   ]
  },
  {
   "cell_type": "markdown",
   "metadata": {},
   "source": [
    "Well, speaking of reduction, let's see if we can rewrite `isreverse`:"
   ]
  },
  {
   "cell_type": "code",
   "execution_count": 32,
   "metadata": {},
   "outputs": [
    {
     "data": {
      "text/plain": [
       "isreverse (generic function with 1 method)"
      ]
     },
     "execution_count": 32,
     "metadata": {},
     "output_type": "execute_result"
    }
   ],
   "source": [
    "function isreverse(word1,word2)\n",
    "    \n",
    "    word1 == word2[end:-1:1]\n",
    "        \n",
    "end"
   ]
  },
  {
   "cell_type": "code",
   "execution_count": 33,
   "metadata": {},
   "outputs": [
    {
     "data": {
      "text/plain": [
       "true"
      ]
     },
     "execution_count": 33,
     "metadata": {},
     "output_type": "execute_result"
    }
   ],
   "source": [
    "isreverse(\"pots\",\"stop\")"
   ]
  },
  {
   "cell_type": "markdown",
   "metadata": {},
   "source": [
    "### Debugging\n",
    "\n",
    "Testing programs is hard. The functions in this chapter are relatively easy to test because you can check the results by hand. Even so, it is somewhere between difficult and impossible to choose a set of words that test for all possible errors.  You should test long words, short words, and very short words, like the empty string. The empty string is an example of a special case, which is one of the non-obvious cases where errors often lurk. \n",
    "\n",
    "In general, testing can help you find bugs, but it is not easy to generate a good set of test cases, and even if you do, you can’t be sure your program is correct. According to a legendary computer scientist: \n",
    "\n",
    "**\"Program testing can be used to show the presence of bugs, but never to show their absence!\"**\n",
    "\n",
    "— Edsger W. Dijkstra"
   ]
  },
  {
   "cell_type": "markdown",
   "metadata": {},
   "source": [
    "### Exercise 9-7\n",
    "\n",
    "This exercise is based on a Puzzler that was broadcast on the radio program Car Talk\n",
    "(https://www.cartalk.com/puzzler/browse):\n",
    "\n",
    "\"Give me a word with three consecutive double letters. I’ll give you a couple of words that almost qualify, but don’t. For example, the word committee, c-o-m-m-i-t-t-e-e. It would be great except for the i that sneaks in there. Or Mississippi: M-i-s-s-i-s-s-i-p-p-i. If you could take out those i’s it would work. But there is a word that has three consecutive pairs of letters and to the best of my knowledge this may be the only word. Of course there are probably 500 more but I can only think of one. What is the word? Write a program to find it.\"\n",
    "\n",
    "TIPs: \n",
    "\n",
    "- First write a function `is_three_consec_double` and then scan words.txt using that function.  \n",
    "- You may want to consider cases like \"abbbccdde\", \"aabbbccdde\", and \"aaabbccd\" and so on in testing the function."
   ]
  },
  {
   "cell_type": "code",
   "execution_count": 147,
   "metadata": {},
   "outputs": [
    {
     "data": {
      "text/plain": [
       "mycheck_next4 (generic function with 1 method)"
      ]
     },
     "execution_count": 147,
     "metadata": {},
     "output_type": "execute_result"
    }
   ],
   "source": [
    "function is_three_consec_double(word)\n",
    "    \n",
    "    if length(word) < 6\n",
    "        return false\n",
    "    end\n",
    "    \n",
    "    i = firstindex(word)\n",
    "    j = nextind(word,i)\n",
    "    \n",
    "    while j <= lastindex(word) - 4\n",
    "\n",
    "# refactored the following\n",
    "#\n",
    "#         if (word[i] == word[j])\n",
    "            \n",
    "#             k = nextind(word, j)\n",
    "#             l = nextind(word, k)\n",
    "            \n",
    "#             if word[k] == word[l]\n",
    "                \n",
    "#                 m = nextind(word, l)\n",
    "#                 n = nextind(word, m)\n",
    "            \n",
    "#                 if word[m] == word[n]\n",
    "#                     return true\n",
    "#                 end\n",
    "\n",
    "#             end\n",
    "        \n",
    "#         end\n",
    "        \n",
    "        if (word[i] == word[j]) && mycheck_next4(word,j)\n",
    "            return true\n",
    "        end\n",
    "        \n",
    "        i = nextind(word, i)\n",
    "        j = nextind(word, j)\n",
    "                \n",
    "    end\n",
    "\n",
    "    return false\n",
    "    \n",
    "end\n",
    "\n",
    "\n",
    "function mycheck_next4(word,j)\n",
    "\n",
    "    word[nextind(word, j,1)] == word[nextind(word, j,2)] && word[nextind(word, j,3)] == word[nextind(word,j,4)]\n",
    "    \n",
    "end\n",
    "    \n"
   ]
  },
  {
   "cell_type": "code",
   "execution_count": 148,
   "metadata": {},
   "outputs": [
    {
     "data": {
      "text/plain": [
       "(false, true)"
      ]
     },
     "execution_count": 148,
     "metadata": {},
     "output_type": "execute_result"
    }
   ],
   "source": [
    "is_three_consec_double(\"Mississippi\"), is_three_consec_double(\"Mssssppi\")"
   ]
  },
  {
   "cell_type": "code",
   "execution_count": 149,
   "metadata": {},
   "outputs": [
    {
     "data": {
      "text/plain": [
       "(true, true, true)"
      ]
     },
     "execution_count": 149,
     "metadata": {},
     "output_type": "execute_result"
    }
   ],
   "source": [
    "is_three_consec_double(\"abbbccdde\"),is_three_consec_double(\"aabbbccdde\"),is_three_consec_double(\"aaabbccde\")"
   ]
  },
  {
   "cell_type": "code",
   "execution_count": 151,
   "metadata": {},
   "outputs": [
    {
     "data": {
      "text/plain": [
       "(false, true)"
      ]
     },
     "execution_count": 151,
     "metadata": {},
     "output_type": "execute_result"
    }
   ],
   "source": [
    "is_three_consec_double(\"aaabbbccde\"),is_three_consec_double(\"aaabbbccdde\")"
   ]
  },
  {
   "cell_type": "code",
   "execution_count": 152,
   "metadata": {},
   "outputs": [
    {
     "name": "stdout",
     "output_type": "stream",
     "text": [
      "bookkeeper\n",
      "bookkeepers\n",
      "bookkeeping\n",
      "bookkeepings\n"
     ]
    }
   ],
   "source": [
    "for word in eachline(\"words.txt\")\n",
    "\n",
    "    if is_three_consec_double(word)\n",
    "        println(word)\n",
    "    end\n",
    "    \n",
    "end\n"
   ]
  },
  {
   "cell_type": "markdown",
   "metadata": {},
   "source": [
    "Let's see if we can rewrite the function `is_three_consec_double` using for-loop."
   ]
  },
  {
   "cell_type": "code",
   "execution_count": 153,
   "metadata": {},
   "outputs": [
    {
     "data": {
      "text/plain": [
       "is_three_consec_double_vfor (generic function with 1 method)"
      ]
     },
     "execution_count": 153,
     "metadata": {},
     "output_type": "execute_result"
    }
   ],
   "source": [
    "# function is_three_consec_double_vfor(word)\n",
    "    \n",
    "#     if length(word) < 6\n",
    "#         return false\n",
    "#     end\n",
    "    \n",
    "#     i = firstindex(word)\n",
    "#     j = nextind(word,i)\n",
    "#     k = nextind(word,j)\n",
    "#     l = nextind(word,k)\n",
    "#     m = nextind(word,l)\n",
    "#     n = nextind(word,m)\n",
    "        \n",
    "#     prev = word[i]\n",
    "#     next1 = word[k]\n",
    "#     next2 = word[l]\n",
    "#     next3 = word[m]\n",
    "#     next4 = word[n]\n",
    "    \n",
    "    \n",
    "#     for c in word[j:end-4]  # j is in the index, so we'd better not change it inside the loop?\n",
    "        \n",
    "#         if c == prev && next1 == next2 && next3 == next4\n",
    "#             return true\n",
    "#         else\n",
    "#             prev = c\n",
    "#             next1 = next2\n",
    "#             next2 = next3\n",
    "#             next4 = ??\n",
    "#\n",
    "#\n",
    "#   Hmm, this is getting cumbersome to handle.  I need to carry and track index (or indices) inside the for loop\n",
    "\n",
    "\n",
    "\n",
    "# Let's assume all the characters are simple alphabets\n",
    "\n",
    "function is_three_consec_double_vfor(word)\n",
    "    \n",
    "    if length(word) < 6\n",
    "        return false\n",
    "    end\n",
    "    \n",
    "        \n",
    "    for i in 1:lastindex(word)-5\n",
    "        \n",
    "        if word[i] == word[i+1] && word[i+2] == word[i+3] && word[i+4] == word[i+5]\n",
    "            return true\n",
    "        end\n",
    "        \n",
    "    end\n",
    "    \n",
    "    return false\n",
    "    \n",
    "end\n",
    "\n"
   ]
  },
  {
   "cell_type": "code",
   "execution_count": 154,
   "metadata": {},
   "outputs": [
    {
     "data": {
      "text/plain": [
       "(false, true)"
      ]
     },
     "execution_count": 154,
     "metadata": {},
     "output_type": "execute_result"
    }
   ],
   "source": [
    "is_three_consec_double(\"Mississippi\"), is_three_consec_double(\"Mssssppi\")"
   ]
  },
  {
   "cell_type": "code",
   "execution_count": 155,
   "metadata": {},
   "outputs": [
    {
     "data": {
      "text/plain": [
       "(true, true, true)"
      ]
     },
     "execution_count": 155,
     "metadata": {},
     "output_type": "execute_result"
    }
   ],
   "source": [
    "is_three_consec_double(\"abbbccdde\"),is_three_consec_double(\"aabbbccdde\"),is_three_consec_double(\"aaabbccde\")"
   ]
  },
  {
   "cell_type": "code",
   "execution_count": 156,
   "metadata": {},
   "outputs": [
    {
     "data": {
      "text/plain": [
       "(false, true)"
      ]
     },
     "execution_count": 156,
     "metadata": {},
     "output_type": "execute_result"
    }
   ],
   "source": [
    "is_three_consec_double(\"aaabbbccde\"),is_three_consec_double(\"aaabbbccdde\")"
   ]
  },
  {
   "cell_type": "code",
   "execution_count": 157,
   "metadata": {},
   "outputs": [
    {
     "name": "stdout",
     "output_type": "stream",
     "text": [
      "bookkeeper\n",
      "bookkeepers\n",
      "bookkeeping\n",
      "bookkeepings\n"
     ]
    }
   ],
   "source": [
    "for word in eachline(\"words.txt\")\n",
    "\n",
    "    if is_three_consec_double_vfor(word)\n",
    "        println(word)\n",
    "    end\n",
    "    \n",
    "end\n"
   ]
  },
  {
   "cell_type": "markdown",
   "metadata": {},
   "source": [
    "### Exercise 9-8\n",
    "\n",
    "\n",
    "I was driving on the highway the other day and I happened to notice my odometer. Like most odometers, it shows six digits, in whole miles only. So, if my car had 300000 miles, for example, I’d see 3-0-0-0-0-0.\n",
    "\n",
    "Now, what I saw that day was very interesting. I noticed that the last 4 digits were palindromic; that is, they read the same forward as backward. For example, 5-4-4-5 is a palindrome, so my odometer could have read 3-1-5-4-4-5.\n",
    "\n",
    "One mile later, the last 5 numbers were palindromic. For example, it could have read 3-6-5-4-5-6.\n",
    "\n",
    "One mile after that, the middle 4 out of 6 numbers were palindromic. And you ready for this? One mile later, all 6 were palindromic!\n",
    "\n",
    "The question is, what was on the odometer when I first looked?\n",
    "\n",
    "Write a Julia program that tests all the six-digit numbers and prints any numbers that satisfy these requirements.\n",
    "\n",
    "TIP: For this and next exercise, you may find function `lpad` useful.  Also, function `string (n::Int)` that converts an integer number into a string."
   ]
  },
  {
   "cell_type": "code",
   "execution_count": 6,
   "metadata": {},
   "outputs": [
    {
     "name": "stdout",
     "output_type": "stream",
     "text": [
      "search: \u001b[0m\u001b[1ml\u001b[22m\u001b[0m\u001b[1mp\u001b[22m\u001b[0m\u001b[1ma\u001b[22m\u001b[0m\u001b[1md\u001b[22m c\u001b[0m\u001b[1ml\u001b[22mi\u001b[0m\u001b[1mp\u001b[22mbo\u001b[0m\u001b[1ma\u001b[22mr\u001b[0m\u001b[1md\u001b[22m re\u001b[0m\u001b[1ml\u001b[22m\u001b[0m\u001b[1mp\u001b[22m\u001b[0m\u001b[1ma\u001b[22mth rea\u001b[0m\u001b[1ml\u001b[22m\u001b[0m\u001b[1mp\u001b[22m\u001b[0m\u001b[1ma\u001b[22mth sp\u001b[0m\u001b[1ml\u001b[22mit\u001b[0m\u001b[1mp\u001b[22m\u001b[0m\u001b[1ma\u001b[22mth \u001b[0m\u001b[1mL\u001b[22mOAD_\u001b[0m\u001b[1mP\u001b[22m\u001b[0m\u001b[1mA\u001b[22mTH\n",
      "\n"
     ]
    },
    {
     "data": {
      "text/latex": [
       "\\begin{verbatim}\n",
       "lpad(s, n::Integer, p::Union{AbstractChar,AbstractString}=' ') -> String\n",
       "\\end{verbatim}\n",
       "Stringify \\texttt{s} and pad the resulting string on the left with \\texttt{p} to make it \\texttt{n} characters (code points) long. If \\texttt{s} is already \\texttt{n} characters long, an equal string is returned. Pad with spaces by default.\n",
       "\n",
       "\\section{Examples}\n",
       "\\begin{verbatim}\n",
       "julia> lpad(\"March\", 10)\n",
       "\"     March\"\n",
       "\\end{verbatim}\n"
      ],
      "text/markdown": [
       "```\n",
       "lpad(s, n::Integer, p::Union{AbstractChar,AbstractString}=' ') -> String\n",
       "```\n",
       "\n",
       "Stringify `s` and pad the resulting string on the left with `p` to make it `n` characters (code points) long. If `s` is already `n` characters long, an equal string is returned. Pad with spaces by default.\n",
       "\n",
       "# Examples\n",
       "\n",
       "```jldoctest\n",
       "julia> lpad(\"March\", 10)\n",
       "\"     March\"\n",
       "```\n"
      ],
      "text/plain": [
       "\u001b[36m  lpad(s, n::Integer, p::Union{AbstractChar,AbstractString}=' ') -> String\u001b[39m\n",
       "\n",
       "  Stringify \u001b[36ms\u001b[39m and pad the resulting string on the left with \u001b[36mp\u001b[39m to make it \u001b[36mn\u001b[39m\n",
       "  characters (code points) long. If \u001b[36ms\u001b[39m is already \u001b[36mn\u001b[39m characters long, an equal\n",
       "  string is returned. Pad with spaces by default.\n",
       "\n",
       "\u001b[1m  Examples\u001b[22m\n",
       "\u001b[1m  ≡≡≡≡≡≡≡≡≡≡\u001b[22m\n",
       "\n",
       "\u001b[36m  julia> lpad(\"March\", 10)\u001b[39m\n",
       "\u001b[36m  \"     March\"\u001b[39m"
      ]
     },
     "execution_count": 6,
     "metadata": {},
     "output_type": "execute_result"
    }
   ],
   "source": [
    "?lpad"
   ]
  },
  {
   "cell_type": "code",
   "execution_count": 134,
   "metadata": {},
   "outputs": [
    {
     "name": "stdout",
     "output_type": "stream",
     "text": [
      "198888\n",
      "199999\n"
     ]
    }
   ],
   "source": [
    "for i = 0:999999\n",
    "    \n",
    "    ic = lpad(string(i), 6,'0')\n",
    "    \n",
    "    if ispalindrome(ic[3:6])\n",
    "        ic_p1 = lpad(string(i+1), 6,'0')\n",
    "        if ispalindrome(ic_p1[2:6])\n",
    "            ic_p2 = lpad(string(i+2), 6,'0')\n",
    "            if ispalindrome(ic_p2[2:5])\n",
    "                ic_p3 = lpad(string(i+3), 6,'0')\n",
    "                    if ispalindrome(ic_p3)\n",
    "                        println(ic)\n",
    "                    end\n",
    "            end\n",
    "        end\n",
    "    end\n",
    "    \n",
    "end\n",
    "\n",
    "                "
   ]
  },
  {
   "cell_type": "markdown",
   "metadata": {},
   "source": [
    "I am seeing a lot of lpad(string...) repeated.  Let's refactor the above code!"
   ]
  },
  {
   "cell_type": "code",
   "execution_count": 159,
   "metadata": {},
   "outputs": [
    {
     "name": "stdout",
     "output_type": "stream",
     "text": [
      "198888\n",
      "199999\n"
     ]
    }
   ],
   "source": [
    "function to0padstr(number, digits=6)    # we set 6 as the default value (taken if not supplied) for digits\n",
    "    \n",
    "    lpad(string(number), digits,'0')\n",
    "    \n",
    "end\n",
    "\n",
    "\n",
    "for i = 0:999999\n",
    "        \n",
    "    if ispalindrome(to0padstr(i)[3:6]) && ispalindrome(to0padstr(i+1)[2:6]) && \n",
    "        ispalindrome(to0padstr(i+2)[2:5]) && ispalindrome(to0padstr(i+3))\n",
    "        \n",
    "        println(i)\n",
    "    \n",
    "    end\n",
    "    \n",
    "end"
   ]
  },
  {
   "cell_type": "markdown",
   "metadata": {},
   "source": [
    "## Exercise 9-9\n",
    "\n",
    "“Recently I had a visit with my mom and we realized that the two digits that make up my age when reversed resulted in her age. For example, if she’s 73, I’m 37. We wondered how often this has happened over the years but we got sidetracked with other  topics and we never came up with an answer.\n",
    "\n",
    "When I got home I figured out that the digits of our ages have been reversible six times so far. I also figured out that if we’re lucky it would happen again in a few years, and if we’re really lucky it would happen one more time after that. In other words, it would have happened 8 times over all. So the question is, what were (and would be) my ages when these happened (and would happen)?\"\n",
    "\n",
    "Write a Julia program that searches for solutions to this Puzzler.\n",
    "\n",
    "TIP: One way to go about is do a loop over the possible range of his mother's age (maybe 14 ~ 40?) when she gave birth to him.  Let's call the corresponding variable `mom_preg_age`."
   ]
  },
  {
   "cell_type": "code",
   "execution_count": 139,
   "metadata": {},
   "outputs": [
    {
     "name": "stdout",
     "output_type": "stream",
     "text": [
      "my ages:  Any[2, 13, 24, 35, 46, 57, 68, 79]\n",
      "mom's ages:  Any[20, 31, 42, 53, 64, 75, 86, 97]\n"
     ]
    }
   ],
   "source": [
    "my_age_array = []\n",
    "mom_age_array = []\n",
    "\n",
    "for mom_preg_age = 15:40\n",
    "    \n",
    "    count = 0\n",
    "    \n",
    "    for mom_age = mom_preg_age:100\n",
    "       \n",
    "        my_age = mom_age - mom_preg_age\n",
    "        if isreverse(lpad(mom_age, 2, '0'),lpad(my_age, 2, '0'))\n",
    "            count += 1\n",
    "            push!(my_age_array,my_age)\n",
    "            push!(mom_age_array,mom_age)\n",
    "        end\n",
    "    \n",
    "    end\n",
    "    \n",
    "    if count == 8\n",
    "        println(\"my ages:  \", my_age_array)\n",
    "        println(\"mom's ages:  \", mom_age_array)\n",
    "    end\n",
    "        \n",
    "end\n",
    "\n"
   ]
  },
  {
   "cell_type": "code",
   "execution_count": null,
   "metadata": {},
   "outputs": [],
   "source": []
  }
 ],
 "metadata": {
  "@webio": {
   "lastCommId": null,
   "lastKernelId": null
  },
  "kernelspec": {
   "display_name": "Julia 1.2.0",
   "language": "julia",
   "name": "julia-1.2"
  },
  "language_info": {
   "file_extension": ".jl",
   "mimetype": "application/julia",
   "name": "julia",
   "version": "1.2.0"
  }
 },
 "nbformat": 4,
 "nbformat_minor": 2
}
