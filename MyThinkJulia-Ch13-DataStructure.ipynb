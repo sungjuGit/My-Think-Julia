{
 "cells": [
  {
   "cell_type": "markdown",
   "metadata": {},
   "source": [
    "# Ch 13: Case Study: Data Structure Selection"
   ]
  },
  {
   "cell_type": "markdown",
   "metadata": {},
   "source": [
    "### Word Frequency Analysis\n"
   ]
  },
  {
   "cell_type": "markdown",
   "metadata": {},
   "source": [
    "\n",
    "### Exercise 13-1\n",
    "\n",
    "Write a program that reads a file, breaks each line into words, strips whitespace and punctuation from the words, and converts them to lowercase. And also build a histogram for the words.\n",
    "\n",
    "TIP: The function `isletter` tests whether a character is alphabetic.\n",
    "\n",
    "\n"
   ]
  },
  {
   "cell_type": "code",
   "execution_count": 9,
   "metadata": {},
   "outputs": [
    {
     "data": {
      "text/plain": [
       "processline (generic function with 1 method)"
      ]
     },
     "execution_count": 9,
     "metadata": {},
     "output_type": "execute_result"
    }
   ],
   "source": [
    "function processfile(filename)\n",
    "    hist = Dict()\n",
    "    for line in eachline(filename)\n",
    "        processline(line, hist)\n",
    "    end\n",
    "    hist\n",
    "end\n",
    "\n",
    "function processline(line, hist)\n",
    "    line = replace(line, '-' => ' ')\n",
    "    for word in split(line)\n",
    "#        word = string(filter(isletter, [word...])...)  # scatters... instead of using collect\n",
    "        word = filter(isletter, word)  # scatters... instead of using collect\n",
    "        word = lowercase(word)\n",
    "        hist[word] = get!(hist, word, 0) + 1\n",
    "    end\n",
    "end"
   ]
  },
  {
   "cell_type": "code",
   "execution_count": 10,
   "metadata": {},
   "outputs": [
    {
     "data": {
      "text/plain": [
       "7-element Array{Any,1}:\n",
       " \"\"\n",
       " \"Your\"\n",
       " \"command\"\n",
       " \"Yes\"\n",
       " \"My\"\n",
       " \"Dear\"\n",
       " \"\""
      ]
     },
     "execution_count": 10,
     "metadata": {},
     "output_type": "execute_result"
    }
   ],
   "source": [
    "test_line = \"*** Your command?--Yes.  My Dear; ***\"\n",
    "words = []\n",
    "\n",
    "test_line = replace(test_line, '-' => ' ')\n",
    "for word in split(test_line)\n",
    "    push!(words,filter(isletter, word))\n",
    "    #word = string(filter(isletter, [word...])...)  # do we really need this for more complicated lines?\n",
    "end\n",
    "\n",
    "words"
   ]
  },
  {
   "cell_type": "code",
   "execution_count": 11,
   "metadata": {},
   "outputs": [
    {
     "data": {
      "text/plain": [
       "Dict{Any,Any} with 7421 entries:\n",
       "  \"prejudices\"      => 1\n",
       "  \"practise\"        => 3\n",
       "  \"adviser\"         => 1\n",
       "  \"forbade\"         => 1\n",
       "  \"offend\"          => 3\n",
       "  \"quicksighted\"    => 1\n",
       "  \"contemplate\"     => 1\n",
       "  \"enjoy\"           => 9\n",
       "  \"diffuse\"         => 1\n",
       "  \"unreserved\"      => 1\n",
       "  \"transplantation\" => 1\n",
       "  \"fight\"           => 1\n",
       "  \"dulness\"         => 3\n",
       "  \"everywhere\"      => 3\n",
       "  \"exult\"           => 1\n",
       "  \"indelicacy\"      => 1\n",
       "  \"inattentive\"     => 1\n",
       "  \"helping\"         => 1\n",
       "  \"whose\"           => 39\n",
       "  \"sleepless\"       => 1\n",
       "  \"hurried\"         => 8\n",
       "  \"gout\"            => 1\n",
       "  \"henry\"           => 21\n",
       "  \"drawers\"         => 1\n",
       "  \"incommoded\"      => 2\n",
       "  ⋮                 => ⋮"
      ]
     },
     "execution_count": 11,
     "metadata": {},
     "output_type": "execute_result"
    }
   ],
   "source": [
    "hist = processfile(\"emma.txt\")"
   ]
  },
  {
   "cell_type": "markdown",
   "metadata": {},
   "source": [
    "`processfile` loops through the lines of the file, passing them one at a time to `processline`. The histogram `hist` is being\n",
    "used as an accumulator.\n",
    "\n",
    "`processline` uses the function `replace` to replace hyphens with spaces before using split to break the line into an array of strings. It traverses the array of words and uses `filter`, `isletter` and `lowercase` to remove punctuation and convert to lower case. (It is a shorthand to say that strings are “converted”; remember that strings are immutable, so a\n",
    "function like lowercase return new strings.)\n",
    "\n",
    "Finally, `processline` updates the histogram by creating a new item or incrementing an existing one."
   ]
  },
  {
   "cell_type": "markdown",
   "metadata": {},
   "source": [
    "### Exercise 13-2\n",
    "\n",
    "Go to Project Gutenberg (https://gutenberg.org) and download your favorite out-of-copyright book in plain text format. Modify your program from the previous exercise to read the book you downloaded, skip over the header information at the beginning of the file, and process the rest of the words as before. \n",
    "\n",
    "For convenience, we will use *Emma* by Jane Austen for our exercises.\n",
    "\n",
    "\n",
    "Then modify the program to count the total number of words in the book, and the number of times each word is used. Print the number of different words used in the book. Compare different books by different authors, written in different eras. Which author uses the most extensive vocabulary?"
   ]
  },
  {
   "cell_type": "code",
   "execution_count": 12,
   "metadata": {},
   "outputs": [
    {
     "data": {
      "text/plain": [
       "differentwords (generic function with 1 method)"
      ]
     },
     "execution_count": 12,
     "metadata": {},
     "output_type": "execute_result"
    }
   ],
   "source": [
    "function totalwords(hist)\n",
    "    sum(values(hist))\n",
    "end\n",
    "\n",
    "function differentwords(hist)\n",
    "    length(hist)\n",
    "end"
   ]
  },
  {
   "cell_type": "code",
   "execution_count": 13,
   "metadata": {},
   "outputs": [
    {
     "name": "stdout",
     "output_type": "stream",
     "text": [
      "Total number of words: 164120\n"
     ]
    }
   ],
   "source": [
    "println(\"Total number of words: \", totalwords(hist))"
   ]
  },
  {
   "cell_type": "code",
   "execution_count": 14,
   "metadata": {},
   "outputs": [
    {
     "name": "stdout",
     "output_type": "stream",
     "text": [
      "Number of different words: 7421\n"
     ]
    }
   ],
   "source": [
    "println(\"Number of different words: \", differentwords(hist))"
   ]
  },
  {
   "cell_type": "markdown",
   "metadata": {},
   "source": [
    "### Exercise 13-3\n",
    "\n",
    "Modify the program from the previous exercise to print the 20 most frequently used words in the book."
   ]
  },
  {
   "cell_type": "code",
   "execution_count": 18,
   "metadata": {},
   "outputs": [
    {
     "data": {
      "text/plain": [
       "mostcommonV1 (generic function with 1 method)"
      ]
     },
     "execution_count": 18,
     "metadata": {},
     "output_type": "execute_result"
    }
   ],
   "source": [
    "function mostcommonV1(hist)\n",
    "    t = []\n",
    "    for (key, value) in hist\n",
    "        push!(t, (value, key))\n",
    "    end\n",
    "    #reverse(sort(t))\n",
    "    sort(t, rev=true)\n",
    "end"
   ]
  },
  {
   "cell_type": "code",
   "execution_count": 19,
   "metadata": {},
   "outputs": [
    {
     "name": "stdout",
     "output_type": "stream",
     "text": [
      "The most common words are:\n",
      "the\t5380\n",
      "to\t5322\n",
      "and\t4965\n",
      "of\t4412\n",
      "i\t3191\n",
      "a\t3188\n",
      "it\t2544\n",
      "her\t2483\n",
      "was\t2401\n",
      "she\t2365\n"
     ]
    }
   ],
   "source": [
    "t = mostcommonV1(hist)\n",
    "println(\"The most common words are:\")\n",
    "for (freq, word) in t[1:10]\n",
    "    println(word, \"\\t\", freq)\n",
    "end"
   ]
  },
  {
   "cell_type": "code",
   "execution_count": 20,
   "metadata": {},
   "outputs": [
    {
     "name": "stdout",
     "output_type": "stream",
     "text": [
      "The most common words are:\n",
      "the\t5380\n",
      "to\t5322\n",
      "and\t4965\n",
      "of\t4412\n",
      "i\t3191\n",
      "a\t3188\n",
      "it\t2544\n",
      "her\t2483\n",
      "was\t2401\n",
      "she\t2365\n"
     ]
    }
   ],
   "source": [
    "function mostcommon(hist)\n",
    "    sorted = sort(collect(hist), by=x->x[2], rev=true)\n",
    "end\n",
    "\n",
    "t2 = mostcommon(hist)\n",
    "println(\"The most common words are:\")\n",
    "for (word,freq) in t2[1:10]\n",
    "    println(word, \"\\t\", freq)\n",
    "end"
   ]
  },
  {
   "cell_type": "markdown",
   "metadata": {},
   "source": [
    "#### Optional Parameters\n",
    "\n",
    "We have seen built-in functions that take optional arguments. It is possible to write programmer-defined functions with\n",
    "optional arguments, too. For example, here is a function that prints the most common words in a histogram:"
   ]
  },
  {
   "cell_type": "code",
   "execution_count": 21,
   "metadata": {},
   "outputs": [
    {
     "data": {
      "text/plain": [
       "printmostcommon (generic function with 2 methods)"
      ]
     },
     "execution_count": 21,
     "metadata": {},
     "output_type": "execute_result"
    }
   ],
   "source": [
    "function printmostcommon(hist, num=10)\n",
    "    t = mostcommon(hist)\n",
    "    println(\"The most common words are: \")\n",
    "    for (freq, word) in t[1:num]\n",
    "        println(word, \"\\t\", freq)\n",
    "    end\n",
    "end"
   ]
  },
  {
   "cell_type": "markdown",
   "metadata": {},
   "source": [
    "The first parameter is required; the second is optional. The default value of num is 10.  \n",
    "\n",
    "If you only provide one argument:\n",
    "\n",
    "```\n",
    "printmostcommon(hist)\n",
    "```\n",
    "\n",
    "`num` gets the default value. If you provide two arguments:\n",
    "\n",
    "```\n",
    "printmostcommon(hist, 20)\n",
    "```\n",
    "\n",
    "`num` gets the value of the argument instead. In other words, the optional argument overrides the default value. \n",
    "\n",
    "If a function has both required and optional parameters, all the required parameters have to come first, followed by the optional ones."
   ]
  },
  {
   "cell_type": "code",
   "execution_count": 22,
   "metadata": {},
   "outputs": [
    {
     "name": "stdout",
     "output_type": "stream",
     "text": [
      "The most common words are: \n",
      "5380\tthe\n",
      "5322\tto\n",
      "4965\tand\n",
      "4412\tof\n",
      "3191\ti\n",
      "3188\ta\n",
      "2544\tit\n",
      "2483\ther\n",
      "2401\twas\n",
      "2365\tshe\n",
      "2246\tin\n",
      "2172\tnot\n",
      "2069\tyou\n",
      "1995\tbe\n",
      "1815\tthat\n",
      "1813\the\n",
      "1626\thad\n",
      "1448\tas\n",
      "1446\tbut\n",
      "1373\tfor\n"
     ]
    }
   ],
   "source": [
    "printmostcommon(hist, 20)"
   ]
  },
  {
   "cell_type": "markdown",
   "metadata": {},
   "source": [
    "### Dictionary Subtraction\n",
    "\n",
    "Finding the words from the book that are not in the word list from words.txt is a problem you might recognize as set subtraction; that is, we want to find all the words from one set (the words in the book) that are not in the other (the words\n",
    "in the list).\n",
    "\n",
    "`subtract` takes dictionaries `d1` and `d2` and returns a new dictionary that contains all the keys from `d1` that are not in `d2`. Since we don’t really care about the values, we set them all to `nothing`."
   ]
  },
  {
   "cell_type": "code",
   "execution_count": 23,
   "metadata": {},
   "outputs": [
    {
     "data": {
      "text/plain": [
       "subtract (generic function with 1 method)"
      ]
     },
     "execution_count": 23,
     "metadata": {},
     "output_type": "execute_result"
    }
   ],
   "source": [
    "function subtract(d1, d2)\n",
    "    res = Dict()\n",
    "    for key in keys(d1)\n",
    "        if key ∉ keys(d2)\n",
    "            res[key] = nothing\n",
    "        end\n",
    "    end\n",
    "    res\n",
    "end"
   ]
  },
  {
   "cell_type": "markdown",
   "metadata": {},
   "source": [
    "### Exercise 13-4\n",
    "\n",
    "Write a program to print all the words in the book that are not in the word list. How many of them are typos? How many of them are common words that should be in the word list, and how many of them are really obscure?"
   ]
  },
  {
   "cell_type": "code",
   "execution_count": 24,
   "metadata": {},
   "outputs": [
    {
     "name": "stdout",
     "output_type": "stream",
     "text": [
      "Words in the book that aren't in the word list:\n",
      "531\n",
      "\n",
      "outree   quicksighted   outwardly   adelaide   jeffereys   unreserved   dixons   betweens   groundless   jamess   westons   remembrance   unsuccessfully   hawkinss   rencontre   deservedly   favourably   incommoded   unfavourable   wiltshire   bateses   recollecting   recollected   irresistibly   pianoforte   undiscerned   ungraciously   humourist   placidity   swisserland   prosings   constitutions   ult   christian   xvi   outstepped   november   woodhouse   experienced   favourite   neptune   wallises   companionably   tremblings   recollect   httppglaforg   uninterruptedly   gbnewbypglaforg   ein   merchantibility   ing   emma   smallridges   disingenuousness   injustice   admirably   appellation   familiarise   surry   ix   c   ii   xiii   cromer   shakespeare   vii   unconvinced   coxs   tranquillised   complimenter   broadwood   bellas   richardson   dont   doatingly   braithwaites   unimpeded   michaelmas   reanimation   pglaf   neighbourhood   william   influenced   harriets   disclaimer   churchill   twelvemonth   tunbridge   england   gentlemans   imaginist   unexampled   hodges   apologised   grahams   stimulative   a   winkd   sympathise   pressingly   asparagus   adventuring   michael   mutterings   httppglaforgfundraising   s   novitiate   maam   administered   otway   hetty   destind   beaufet   hesitatingly   wingfields   soothings   redistribution   illiberal   augusta   lieut   downloading   httppglaforgdonate   mickleham   unenforceability      isabella   cramer   httpwwwgutenbergorg   inconsideration   suitableness   feelingly   shant   mantelpiece   caroline   promptitude   williams   penetrated   electronically   oclock   authorised   saturday   unconcern   tupman   fastidious   d   unbleached   embrocation   wakefield   patriae   behindhand   elizabeth   foolishly   grandpapa   buyings   xix   melan   penetrating   exultingly   al   monday   hypertext   delightfully   brunswick   wretchedly   windsor   unequalled   b   fairfax   apologise   observable   mitchells   langham   reprobating   december   unpersuadable   grandmama   non   harmonise   goddard   online   persuadable   collation   perrys   puppyism   humouredly   sposo   ak   visitings   m   commandingly   improvidently   tete   london   n   f   trademarkcopyright   goddards   pre   inferiorities   aggrandise   sufferable   tms   honourable   blameable   xiv   emmas   smilingly   taylors   nobodys   churchilld   waverings   impartial   disengage   weston   yorkshire   secresy   excusable   email   doubtingly   adair   clara   unexamined   nonproprietary   unreserve   housebreaking   silversmith   newby   mr   bickerton   hawkins   httpwwwpglaforg   gentlemens   patroness   ascii   complacently   disclaimers   hughes   donwell   unmentioned   sunday   deedily   uncouthness   sweetbread   pg   misunderstood   untouched   honourably   hannah   friday   mistresss   recantation   dostalis   greatcoat   arrowroot   etext   unsuitable   childs   amor   valetudinarian   undesigned   confidantes   pointedly   caro   xii   disengaged   theodore   unpretending   february   neighbour   penetrate   italian   broadwoods   remembrances   conversable   rumination   james   favourable   complaisance   arthur   hindrance   churchills   unseasonableness   designedly   eltons   july   enscombe   mens   hartfield   chuse   amiableness   baly   woodhouses   tupmans   solitarily   holyhead   tm   bragges   endeavoured   charitable   transcribing   undesignedly   inquietudes   cultivation   unsentimental   serle   comtesse   october   apartment   austen   collectedly   birmingham   taylor   nash   chuses   businesspglaforg   unsuspected   philippics   fancifulness   randalls   stomacher   unpolished   iii   barnes   encumbrance   wallis   rationality   paradings   greensward   campbell   mississippi   irish   unmirthful   june   knightley   behaviour   larkinss   ungallant   hartfields   rd   april   bragge   thats   connexions   gentlemanlike   th   robert   e   irksomeness   manoeuvring   x   substance   ungracious   endeavour   heartedness   desirableness   wwwgutenbergorg   delightful   insignificance   endeavours   transcribed   selinas   abruptness   astleys   solicitously   disagreeableness   otways   genlis   crossness   viii   alderneys   utf   abdys   elton   goodhumoured   wonderings   l   acquirements   clifton   catherine   george   slightingly   kingston   philip   aladdins   xvii   scotland   mrs   disapprobation   adversarys   encourager   dalmane   garricks   unceremoniousness   heartfelt   unobjectionable   gutenberg   st   particularity   pembroke   unsullied   etc   bodys   unexceptionably   iv   bella   complimented   tuesday   undistinguishing   blockhead   ceaseless   discomposed   ireland   incommoding   weymouth   neighbours   stilton   underbred   fragrance   houseroom   grandpapas   unpardonably   cowper   fairfaxs   york   inseparably   stept   broadway   anne   gregory   composedly   richmond   solemnity   txt   exultation   tautology   blanche   xv   dorking   ebook   grandmamas   discordancies   unperceived   flatterers   dublin   wingfield   prepossession   latters   endeavouring   unexceptionable   treachery   discourse   fidgetiness   portionless   admirable   knightleys   anothers   unfeignedly   inebriety   splendour   k   sympathiser   undoubting   connexion   batess   successless   talkativeness   sanguinely   cobham   entertainingly   milmans   gradations   companionableness   dr   churchwardens   clayton   privately   scepticism   january   saunders   manchester   highbury   acquittal   unostentatious   christmas   campbells   indiscreetly   fairbanks   unmodulated   unprovided   w   venice   i   richard   dexterity   untowardly   confederates   chusing   expediency   apartments   vi   dixon   hyperbolical   proportionably   unexpensively   delicately   craig   ladys   unfastidious   unpermitted   submissively   hazle   southward   httpgutenbergorglicense   larkins   sauciness   smallridge   selina   xviii   irs   untainted   agreeably   ebooks   v   criticising   coxe   isabellas   complaisant   unfrequently   unsuspicious   harriet   unaccountable   "
     ]
    }
   ],
   "source": [
    "words = processfile(\"words.txt\")\n",
    "diff = subtract(hist, words)\n",
    "println(\"Words in the book that aren't in the word list:\")\n",
    "println(length(keys(diff)))\n",
    "println(\"\")\n",
    "for word in keys(diff)\n",
    "    print(word, \"   \")\n",
    "end"
   ]
  },
  {
   "cell_type": "markdown",
   "metadata": {},
   "source": [
    "### Exercise 13-6\n",
    "\n",
    "Julia provides a data structure called Set that provides many common set operations. You can read about them in Collections and Data Structures, or read the documentation at https://docs.julialang.org/en/v1/base/collections/#Set-Like-Collections-1.\n",
    "\n",
    "Write a program that uses set subtraction to find words in the book that are not in the word list."
   ]
  },
  {
   "cell_type": "code",
   "execution_count": 25,
   "metadata": {},
   "outputs": [
    {
     "name": "stdout",
     "output_type": "stream",
     "text": [
      "Words in the book that aren't in the word list:\n",
      "531\n",
      "\n",
      "incommoded   bateses   pianoforte   november   a   authorised   grandmama   f   silversmith   favourable   paradings   x   st   fragrance   hyperbolical   irs   unaccountable   ungraciously   harriets   elizabeth   foolishly   exultingly   goddard   london   iii   june   heartedness   bella   gradations   confederates   ladys   wiltshire   dont   novitiate   administered   delightfully   smilingly   mr   uncouthness   churchills   barnes   l   broadway   wingfield   expediency   agreeably   england   pressingly   soothings   mickleham   unbleached   b   unpersuadable   ak   clara   knightley   th   garricks   incommoding   january   dixon   adelaide   ix   suitableness   email   amor   complaisance   serle   irksomeness   etc   tautology   unmodulated   proportionably   emma   c   tranquillised   disclaimer   destind   electronically   brunswick   online   arrowroot   houseroom   solemnity   latters   inebriety   manchester   untowardly   delicately   outstepped   favourite   merchantibility   disingenuousness   surry   monday   churchilld   disengage   xii   eltons   bragges   transcribing   october   mississippi   kingston   mrs   iv   blanche   ebook   discourse   harriet   gentlemans   httppglaforgdonate   isabella   tupman   wretchedly   persuadable   sposo   complacently   hartfield   unsuspected   irish   ungallant   hartfields   utf   abdys   encourager   weymouth   portionless   cobham   unostentatious   outwardly   dixons   recollecting   sympathise   beaufet   redistribution   feelingly   penetrating   pre   disclaimers   disengaged   baly   wallis   unmirthful   thats   gregory   dorking   k   sympathiser   ebooks   remembrance   unconvinced   mutterings   maam   unenforceability   apologise   taylors   patroness   selinas   pembroke   york   privately   coxe   undiscerned   swisserland   doatingly   stimulative   hypertext   non   improvidently   childs   mens   connexions   crossness   acquirements   scotland   unceremoniousness   tuesday   sanguinely   christmas   untainted   unsuspicious   uninterruptedly   coxs   illiberal   xix   unmentioned   unseasonableness   tupmans   insignificance   transcribed   disagreeableness   catherine   txt   ein   fastidious   embrocation   al   unreserve   chuses   bragge   gentlemanlike   slightingly   unsullied   unexceptionably   unexceptionable   treachery   w   richard   sauciness   smallridge   complaisant   rencontre   humourist   harmonise   humouredly   blameable   adair   hawkins   sunday   tm   solicitously   bodys   i   larkins   hawkinss   irresistibly   twelvemonth   augusta   unequalled   gentlemens   greatcoat   james   solitarily   april   endeavour   philip   disapprobation   fidgetiness   knightleys   unexpensively   xvi   gbnewbypglaforg   fairfax   waverings   ascii   untouched   neighbour   grandmamas   discordancies   quicksighted   unreserved   recollect   xiii   shakespeare   vii   december   trademarkcopyright   inferiorities   impartial   amiableness   randalls   fairfaxs   inseparably   clayton   highbury   craig   ult   pglaf   william   mantelpiece   weston   deedily   undesigned   abruptness   ceaseless   entertainingly   apartments   unsuccessfully   christian   httppglaforg   richardson   unimpeded   imaginist   otway   downloading   penetrated   nobodys   doubtingly   newby   etext   february   delightful   heartfelt   particularity   richmond   unperceived   dublin   unfeignedly   unpermitted   selina   outree   woodhouse   bellas   adventuring   s   buyings   reprobating   collation   xiv   mistresss   italian   undesignedly   nash   rd   endeavours   elton   dalmane   campbells   venice   vi   prosings   admirably   hetty   cramer   shant   unconcern   emmas   httpwwwpglaforg   honourably   encumbrance   greensward   composedly   prepossession   admirable   unprovided   experienced   familiarise   appellation   wingfields   observable   goddards   unexamined   theodore   arthur   enscombe   comtesse   blockhead   underbred   anothers   splendour   milmans   dr   dexterity   apologised   caroline   melan   perrys   yorkshire   hughes   confidantes   unpolished   campbell   desirableness   aladdins   unpardonably   exultation   undoubting   constitutions   tremblings   cromer   complimenter   neighbourhood   winkd   saturday   visitings   tms   nonproprietary   dostalis   birmingham   rationality   substance   wwwgutenbergorg   george   complimented   companionableness   acquittal   indiscreetly   smallridges   hodges   httpwwwgutenbergorg   oclock   recantation   stomacher   xvii   grandpapas   connexion   batess   saunders   hazle   httpgutenbergorglicense   placidity   neptune   ii   michaelmas   influenced   tunbridge   grahams   puppyism   excusable   donwell   unsuitable   designedly   july   philippics   fancifulness   e   manoeuvring   ungracious   astleys   clifton   churchwardens   ing   injustice   inconsideration   m   bickerton   unpretending   endeavoured   unsentimental   viii   gutenberg   discomposed   v   jamess   favourably   unfavourable   broadwood   httppglaforgfundraising   d   wakefield   woodhouses   apartment   businesspglaforg   behaviour   goodhumoured   wonderings   undistinguishing   cowper   successless   unfastidious   criticising   betweens   wallises   grandpapa   tete   n   aggrandise   sufferable   honourable   secresy   housebreaking   penetrate   conversable   charitable   robert   adversarys   ireland   xv   fairbanks   chusing   isabellas   deservedly   braithwaites   asparagus   hesitatingly   promptitude   patriae   commandingly   misunderstood   broadwoods   rumination   hindrance   chuse   taylor   larkinss   genlis   otways   unobjectionable   stilton   southward   jeffereys   groundless   churchill   unexampled   windsor   sweetbread   pg   pointedly   austen   alderneys   stept   flatterers   endeavouring   talkativeness   scepticism   submissively   unfrequently   westons   recollected   companionably   reanimation   michael   lieut      williams   behindhand   mitchells   langham   hannah   friday   valetudinarian   caro   remembrances   holyhead   inquietudes   cultivation   collectedly   neighbours   anne   xviii   "
     ]
    }
   ],
   "source": [
    "diff_set = setdiff(keys(hist),keys(words))\n",
    "println(\"Words in the book that aren't in the word list:\")\n",
    "println(length(diff_set))\n",
    "println(\"\")\n",
    "for word in diff_set\n",
    "    print(word, \"   \")\n",
    "end"
   ]
  },
  {
   "cell_type": "markdown",
   "metadata": {},
   "source": [
    "### Random Numbers\n",
    "\n",
    "Given the same inputs, most computer programs generate the same outputs every time, so they are said to be deterministic.\n",
    "\n",
    "For some applications, though, we want the computer to be unpredictable. Games are an obvious example, but there are more. Making a program truly nondeterministic turns out to be difficult, but there are ways to make it at least seem nondeterministic. One of them is to use algorithms that generate pseudorandom numbers. Pseudorandom numbers are not truly random because they are generated by a deterministic computation, but just by looking at the numbers it is all but impossible to distinguish them from random. The function rand returns a random float between 0.0 and 1.0 (including 0.0 but not 1.0). Each time you call rand , you get the next number in a long series."
   ]
  },
  {
   "cell_type": "code",
   "execution_count": 26,
   "metadata": {},
   "outputs": [
    {
     "name": "stdout",
     "output_type": "stream",
     "text": [
      "0.3372973791212781\n",
      "0.0781222530443737\n",
      "0.6446030337138386\n",
      "0.09714550717036374\n",
      "0.6290918512006622\n",
      "0.18968824137093354\n",
      "0.9646308561271866\n",
      "0.859097741155616\n",
      "0.23384774192125724\n",
      "0.23695937616158091\n"
     ]
    }
   ],
   "source": [
    "for i in 1:10\n",
    "    x = rand()\n",
    "    println(x)\n",
    "end"
   ]
  },
  {
   "cell_type": "markdown",
   "metadata": {},
   "source": [
    "The function rand can take an iterator or array as argument and returns a random element:"
   ]
  },
  {
   "cell_type": "code",
   "execution_count": 27,
   "metadata": {},
   "outputs": [
    {
     "name": "stdout",
     "output_type": "stream",
     "text": [
      "4 3 6 6 5 4 5 5 2 5 "
     ]
    }
   ],
   "source": [
    "for i in 1:10\n",
    "    x = rand(1:6)\n",
    "    print(x, \" \")\n",
    "end"
   ]
  },
  {
   "cell_type": "markdown",
   "metadata": {},
   "source": [
    "**Exercise 13-5**\n",
    "\n",
    "Write a function named `choosefromhist` that takes a histogram as defined in Dictionary as a Collection of Counters and\n",
    "returns a random value from the histogram, chosen with probability in proportion to frequency. For example, for this\n",
    "histogram:\n",
    "\n",
    "```\n",
    "julia> t = ['a', 'a', 'b'];\n",
    "julia> histogram(t)\n",
    "Dict{Any,Any} with 2 entries:\n",
    "'a' => 2\n",
    "'b' => 1\n",
    "```\n",
    "\n",
    "your function should return 'a' with probability 2/3 and 'b' with probability 1/3."
   ]
  },
  {
   "cell_type": "markdown",
   "metadata": {},
   "source": [
    "### Random Words\n",
    "\n",
    "To choose a random word from the histogram, the simplest algorithm is to build an array with multiple copies of each word, according to the observed frequency, and then choose from the array:"
   ]
  },
  {
   "cell_type": "code",
   "execution_count": 28,
   "metadata": {},
   "outputs": [
    {
     "data": {
      "text/plain": [
       "randomword (generic function with 1 method)"
      ]
     },
     "execution_count": 28,
     "metadata": {},
     "output_type": "execute_result"
    }
   ],
   "source": [
    "function randomword(h)\n",
    "    t = []\n",
    "    for (word, freq) in h\n",
    "        for i in 1:freq\n",
    "            push!(t, word)\n",
    "        end\n",
    "    end\n",
    "    rand(t)\n",
    "end"
   ]
  },
  {
   "cell_type": "markdown",
   "metadata": {},
   "source": [
    "This algorithm works, but it is not very efficient; each time you choose a random word, it rebuilds the array, which is as big as the original book. An obvious improvement is to build the array once and then make multiple selections, but the array is still big.\n",
    "\n",
    "An alternative is:\n",
    "\n",
    "1. Use keys to get an array of the words in the book.\n",
    "2. Build an array that contains the cumulative sum of the word frequencies (see Exercise 10-2). The last item in this array is the total number of words in the book, $n$. \n",
    "3. Choose a random number from 1 to $n$. Use a bisection search (modify Exercise 10-10) to find the index where the random number would be inserted in the cumulative sum.\n",
    "4. Use the index to find the corresponding word in the word array."
   ]
  },
  {
   "cell_type": "code",
   "execution_count": 29,
   "metadata": {},
   "outputs": [
    {
     "data": {
      "text/plain": [
       "inbisect (generic function with 1 method)"
      ]
     },
     "execution_count": 29,
     "metadata": {},
     "output_type": "execute_result"
    }
   ],
   "source": [
    "function inbisect(sorted_array, target)\n",
    "    \n",
    "    #@show sorted_array\n",
    "    a_len = length(sorted_array)\n",
    "    \n",
    "    if a_len < 2 \n",
    "        return sorted_array[1] == target\n",
    "    end\n",
    "\n",
    "    halfind = a_len ÷ 2\n",
    "    half = sorted_array[halfind]\n",
    "    \n",
    "    #@show a_len, halfind, half\n",
    "    if half < target\n",
    "        inbisect(sorted_array[(halfind+1):end],target)\n",
    "    else\n",
    "        inbisect(sorted_array[1:(halfind)],target)\n",
    "    end\n",
    "    \n",
    "end"
   ]
  },
  {
   "cell_type": "markdown",
   "metadata": {},
   "source": [
    "### Exercise 13-7\n",
    "\n",
    "Write a program that uses this algorithm to choose a random word from the book."
   ]
  },
  {
   "cell_type": "code",
   "execution_count": 30,
   "metadata": {},
   "outputs": [
    {
     "data": {
      "text/plain": [
       "cumulsum (generic function with 1 method)"
      ]
     },
     "execution_count": 30,
     "metadata": {},
     "output_type": "execute_result"
    }
   ],
   "source": [
    "function inbisect_index(sorted_array, target)\n",
    "    \n",
    "    #@show sorted_array\n",
    "    a_len = length(sorted_array)\n",
    "    \n",
    "    if a_len < 2 \n",
    "        return 1\n",
    "    end\n",
    "\n",
    "    halfind = a_len ÷ 2\n",
    "    half = sorted_array[halfind]\n",
    "    \n",
    "    #@show a_len, halfind, half\n",
    "    if half < target\n",
    "        return inbisect_index(sorted_array[(halfind+1):end],target)+halfind\n",
    "    else\n",
    "        return inbisect_index(sorted_array[1:(halfind)],target)\n",
    "    end\n",
    "    \n",
    "end\n",
    "\n",
    "\n",
    "function cumulsum(t)\n",
    "  total = 0\n",
    "  res = []\n",
    "  for x in t\n",
    "    total += x\n",
    "    push!(res, total)\n",
    "  end\n",
    "  res\n",
    "end"
   ]
  },
  {
   "cell_type": "code",
   "execution_count": 31,
   "metadata": {},
   "outputs": [
    {
     "data": {
      "text/plain": [
       "(3, 4, 4, 4, 5)"
      ]
     },
     "execution_count": 31,
     "metadata": {},
     "output_type": "execute_result"
    }
   ],
   "source": [
    "my_a = [10, 20, 30, 40, 50, 60, 70, 80, 90, 100]\n",
    "inbisect_index(my_a, 30),inbisect_index(my_a, 32),inbisect_index(my_a, 37),inbisect_index(my_a, 40),inbisect_index(my_a, 41)"
   ]
  },
  {
   "cell_type": "code",
   "execution_count": 32,
   "metadata": {},
   "outputs": [
    {
     "data": {
      "text/plain": [
       "164120"
      ]
     },
     "execution_count": 32,
     "metadata": {},
     "output_type": "execute_result"
    }
   ],
   "source": [
    "collect(values(hist));\n",
    "collect(keys(hist));\n",
    "freq_cum_sum = cumulsum(collect(values(hist)))\n",
    "freq_cum_sum[end]"
   ]
  },
  {
   "cell_type": "code",
   "execution_count": 33,
   "metadata": {},
   "outputs": [
    {
     "data": {
      "text/plain": [
       "random_word (generic function with 1 method)"
      ]
     },
     "execution_count": 33,
     "metadata": {},
     "output_type": "execute_result"
    }
   ],
   "source": [
    "function random_word(hist_input)\n",
    "    \n",
    "    words_array = collect(keys(hist_input))\n",
    "    freq_cum_sum = cumulsum(collect(values(hist_input)))\n",
    "    \n",
    "    n = rand(1:freq_cum_sum[end])\n",
    "      \n",
    "    index = inbisect_index(freq_cum_sum, n)\n",
    "   \n",
    "    @show n, index\n",
    "    \n",
    "    return words_array[index]\n",
    "\n",
    "end"
   ]
  },
  {
   "cell_type": "code",
   "execution_count": 34,
   "metadata": {},
   "outputs": [
    {
     "name": "stdout",
     "output_type": "stream",
     "text": [
      "(n, index) = (53595, 2002)\n"
     ]
    },
    {
     "data": {
      "text/plain": [
       "\"are\""
      ]
     },
     "execution_count": 34,
     "metadata": {},
     "output_type": "execute_result"
    }
   ],
   "source": [
    "random_word(hist)"
   ]
  },
  {
   "cell_type": "code",
   "execution_count": null,
   "metadata": {},
   "outputs": [],
   "source": []
  },
  {
   "cell_type": "markdown",
   "metadata": {},
   "source": [
    "### Markov Analysis\n",
    "\n",
    "If you choose words from the book at random, you can get a sense of the vocabulary, but you probably won’t get a sentence:\n",
    "\n",
    "```\n",
    "this the small regard harriet which knightley's it most things\n",
    "```\n",
    "\n",
    "A series of random words seldom makes sense because there is no relationship between successive words. For example, in a real sentence you would expect an article like “the” to be followed by an adjective or a noun, and probably not a verb or adverb.\n",
    "\n",
    "One way to measure these kinds of relationships is Markov analysis, which characterizes, for a given sequence of words, the probability of the words that might come next. For example, the song Eric, the Half a Bee (by Monty Python) begins:\n",
    "\n",
    "```\n",
    "Half a bee, philosophically,\n",
    "Must, ipso facto, half not be.\n",
    "But half the bee has got to be\n",
    "Vis a vis, its entity. D’you see?\n",
    "But can a bee be said to be\n",
    "Or not to be an entire bee\n",
    "When half the bee is not a bee\n",
    "Due to some ancient injury?\n",
    "```\n",
    "\n",
    "In this text, the phrase “half the” is always followed by the word “bee”, but the phrase “the bee” might be followed by either “has” or “is”. The result of Markov analysis is a mapping from each prefix (like “half the” and “the bee”) to all possible suffixes (like “has” and “is”). \n",
    "\n",
    "Given this mapping, you can generate a random text by starting with any prefix and choosing at random from the possible suffixes. Next, you can combine the end of the prefix and the new suffix to form the next prefix, and repeat. For example, if you start with the prefix “Half a”, then the next word has to be “bee”, because the prefix only appears once in the text. The next prefix is “a bee”, so the next suffix might be “philosophically”, “be” or “due”. In this example the length of the prefix  is always two, but you can do Markov analysis with any prefix length. "
   ]
  },
  {
   "cell_type": "markdown",
   "metadata": {},
   "source": [
    "### Exercise 13-8\n",
    "\n",
    "#### Markov analysis:\n",
    "\n",
    "1. Write a program to read a text from a file and perform Markov analysis. The result should be a dictionary that maps from prefixes to a collection of possible suffixes. The collection might be an array, tuple, or dictionary; it is up to you to make an appropriate choice. You can test your program with prefix length two, but you should write the program in a way that makes it easy to try other lengths.\n",
    "\n",
    "\n",
    "2. Add a function to the previous program to generate random text based on the Markov analysis. Here is an example from Emma with prefix length 2:\n",
    "\n",
    "```\n",
    "\"He was very clever, be it sweetness or be angry, ashamed or only amused, at such a stroke. She had never thought of Hannah till you were never meant for me?\" \"I cannot make speeches, Emma:\" he soon cut it all himself.\n",
    "```\n",
    "\n",
    "For this example, I left the punctuation attached to the words. The result is almost syntactically correct, but not quite. Semantically, it almost makes sense, but not quite.\n",
    "\n",
    "What happens if you increase the prefix length? Does the random text make more sense?\n",
    "\n",
    "3. Once your program is working, you might want to try a mash-up: if you combine text from two or more books, the random text you generate will blend the vocabulary and phrases from the sources in interesting ways. \n",
    "\n",
    "Credit: This case study is based on an example from Kernighan and Pike, The Practice of Programming, Addison-Wesley, 1999."
   ]
  },
  {
   "cell_type": "code",
   "execution_count": 35,
   "metadata": {},
   "outputs": [
    {
     "data": {
      "text/plain": [
       "Markov_analysis2 (generic function with 1 method)"
      ]
     },
     "execution_count": 35,
     "metadata": {},
     "output_type": "execute_result"
    }
   ],
   "source": [
    "function Markov_analysis2(filename, num_prefix_words)\n",
    " \n",
    "    mapping = Dict()\n",
    "    prefixes = []\n",
    "     \n",
    "    for line in eachline(filename)\n",
    "        \n",
    "        line = replace(line, '-' => ' ')\n",
    "    \n",
    "        for word in split(line)    \n",
    "            \n",
    "            if length(prefixes) < num_prefix_words\n",
    "                push!(prefixes, word)\n",
    "            end\n",
    "        \n",
    "            get!(mapping, (prefixes...,), Array{String, 1}())\n",
    "            push!(mapping[(prefixes...,)], word)\n",
    "            popfirst!(prefixes)\n",
    "            push!(prefixes, word)\n",
    "\n",
    "        end\n",
    "    \n",
    "    end\n",
    "    \n",
    "    return mapping\n",
    "    \n",
    "end"
   ]
  },
  {
   "cell_type": "code",
   "execution_count": 43,
   "metadata": {},
   "outputs": [
    {
     "data": {
      "text/plain": [
       "Dict{Any,Any} with 48 entries:\n",
       "  (\"said\", \"to\")               => [\"be\"]\n",
       "  (\"can\", \"a\")                 => [\"bee\"]\n",
       "  (\"see?\", \"But\")              => [\"can\"]\n",
       "  (\"be\", \"said\")               => [\"to\"]\n",
       "  (\"be\", \"an\")                 => [\"entire\"]\n",
       "  (\"ipso\", \"facto,\")           => [\"half\"]\n",
       "  (\"half\", \"the\")              => [\"bee\", \"bee\"]\n",
       "  (\"to\", \"some\")               => [\"ancient\"]\n",
       "  (\"bee\", \"Due\")               => [\"to\"]\n",
       "  (\"bee\", \"When\")              => [\"half\"]\n",
       "  (\"bee,\", \"philosophically,\") => [\"Must,\"]\n",
       "  (\"has\", \"got\")               => [\"to\"]\n",
       "  (\"D’you\", \"see?\")            => [\"But\"]\n",
       "  (\"the\", \"bee\")               => [\"has\", \"is\"]\n",
       "  (\"Due\", \"to\")                => [\"some\"]\n",
       "  (\"an\", \"entire\")             => [\"bee\"]\n",
       "  (\"got\", \"to\")                => [\"be\"]\n",
       "  (\"to\", \"be\")                 => [\"Vis\", \"Or\", \"an\"]\n",
       "  (\"is\", \"not\")                => [\"a\"]\n",
       "  (\"not\", \"a\")                 => [\"bee\"]\n",
       "  (\"facto,\", \"half\")           => [\"not\"]\n",
       "  (\"But\", \"half\")              => [\"the\"]\n",
       "  (\"Or\", \"not\")                => [\"to\"]\n",
       "  (\"not\", \"to\")                => [\"be\"]\n",
       "  (\"be.\", \"But\")               => [\"half\"]\n",
       "  ⋮                            => ⋮"
      ]
     },
     "execution_count": 43,
     "metadata": {},
     "output_type": "execute_result"
    }
   ],
   "source": [
    "eric_map2 = Markov_analysis2(\"erichalfbee.txt\",2)"
   ]
  },
  {
   "cell_type": "code",
   "execution_count": 54,
   "metadata": {},
   "outputs": [
    {
     "data": {
      "text/plain": [
       "1-element Array{String,1}:\n",
       " \"injury?\""
      ]
     },
     "execution_count": 54,
     "metadata": {},
     "output_type": "execute_result"
    }
   ],
   "source": [
    "eric_map2[(\"some\",\"ancient\")]"
   ]
  },
  {
   "cell_type": "code",
   "execution_count": 37,
   "metadata": {},
   "outputs": [
    {
     "data": {
      "text/plain": [
       "Dict{Any,Any} with 83960 entries:\n",
       "  (\"quiet\", \"a\")              => [\"“Yes,”\"]\n",
       "  (\"and\", \"grace\")            => [\"of\"]\n",
       "  (\"London.\", \"She\")          => [\"had\"]\n",
       "  (\"points,\", \"and\")          => [\"their\"]\n",
       "  (\"shall\", \"both\")           => [\"have\"]\n",
       "  (\"made\", \"for\")             => [\"grandpapas.\", \"the\", \"him\", \"_her_.\"]\n",
       "  (\"a\", \"done\")               => [\"thing;\"]\n",
       "  (\"no\", \"habits\")            => [\"of\"]\n",
       "  (\"found\", \"one\")            => [\"or\"]\n",
       "  (\"I\", \"agree\")              => [\"with\"]\n",
       "  (\"gave\", \"you\")             => [\"pain.\", \"understanding:\", \"principles.\"]\n",
       "  (\"the\", \"recollection,\")    => [\"that\"]\n",
       "  (\"goodness\", \"of\")          => [\"being\"]\n",
       "  (\"arm.\", \"Mr.\")             => [\"Elton,\"]\n",
       "  (\"least\", \"too\")            => [\"tall.\"]\n",
       "  (\"to\", \"London\")            => [\"at\", \"produced\", \"and\", \"had\", \"had\"]\n",
       "  (\"there\", \"too,\")           => [\"was\"]\n",
       "  (\"hand,\", \"“Hum!\")          => [\"just\"]\n",
       "  (\"a\", \"thing?\")             => [\"Mr.\", \"It\", \"I\"]\n",
       "  (\"neither\", \"geography\")    => [\"nor\"]\n",
       "  (\"Please\", \"check\")         => [\"the\"]\n",
       "  (\"had\", \"perfectly\")        => [\"answered.\"]\n",
       "  (\"grace\", \"to\")             => [\"acquit\"]\n",
       "  (\"this\", \"news.\")           => [\"You,\"]\n",
       "  (\"attempts,\", \"therefore,\") => [\"to\"]\n",
       "  ⋮                           => ⋮"
      ]
     },
     "execution_count": 37,
     "metadata": {},
     "output_type": "execute_result"
    }
   ],
   "source": [
    "emma_map2 = Markov_analysis2(\"emma.txt\",2)"
   ]
  },
  {
   "cell_type": "code",
   "execution_count": 38,
   "metadata": {},
   "outputs": [
    {
     "data": {
      "text/plain": [
       "83960-element Array{Pair{Any,Any},1}:\n",
       "                (\"of\", \"the\") => [\"Project\", \"best\", \"two\", \"last\", \"family,\", \"actual\", \"door\", \"family,\", \"few\", \"son\"  …  \"Project\", \"Project\", \"money\", \"state\", \"Foundation,\", \"following\", \"efforts\", \"state\", \"United\", \"Project\"]\n",
       "                 (\"to\", \"be\") => [\"cheerful.\", \"sure.”\", \"while\", \"put\", \"seen.\", \"only\", \"settled\", \"secure\", \"sure,\", \"dissuaded\"  …  \"really\", \"the\", \"as\", \"the\", \"regretted.\", \"married.\", \"concluded\", \"induced\", \"bound\", \"bound\"]\n",
       "                (\"in\", \"the\") => [\"world\", \"shape\", \"house;\", \"place,\", \"carriage,\", \"right,\", \"world!\", \"year\", \"very\", \"week\"  …  \"public\", \"United\", \"public\", \"United\", \"United\", \"same\", \"United\", \"official\", \"electronic\", \"U.S.\"]\n",
       "                  (\"I\", \"am\") => [\"sure\", \"sure\", \"afraid\", \"sometimes\", \"sure\", \"so\", \"not\", \"sure\", \"sure\", \"come\"  …  \"now\", \"convinced\", \"particularly\", \"at\", \"sure\", \"sure\", \"sure\", \"the\", \"resolved\", \"to\"]\n",
       "              (\"had\", \"been\") => [\"supplied\", \"living\", \"a\", \"entirely\", \"a\", \"rising\", \"considered,\", \"often\", \"a\", \"at\"  …  \"ever\", \"talking\", \"under,\", \"foolish,\", \"within\", \"almost\", \"perfectly\", \"to\", \"presumptuous\", \"irresistible.\"]\n",
       "             (\"could\", \"not\") => [\"meet\", \"have\", \"but\", \"walk\", \"think,\", \"but\", \"make\", \"tell.\", \"dispense\", \"feel\"  …  \"safely\", \"resist.\", \"wish\", \"help\", \"be\", \"help\", \"be\", \"prevent\", \"bear\", \"proceed.\"]\n",
       "                (\"it\", \"was\") => [\"more\", \"a\", \"impossible\", \"nothing\", \"not\", \"more\", \"not\", \"very\", \"understood\", \"a\"  …  \"very\", \"a\", \"the\", \"a\", \"a\", \"to\", \"evident\", \"not\", \"all\", \"to\"]\n",
       "                (\"to\", \"the\") => [\"question\", \"best\", \"family\", \"infinite\", \"care\", \"wishes\", \"place\", \"care\", \"occasional\", \"fire,\"  …  \"owner\", \"Project\", \"Project\", \"Project\", \"terms\", \"person\", \"Project\", \"full\", \"Project\", \"Project\"]\n",
       "               (\"she\", \"had\") => [\"then\", \"lost.\", \"always\", \"taught\", \"played\", \"devoted\", \"spent\", \"a\", \"one\", \"not\"  …  \"long\", \"been\", \"been\", \"been\", \"not\", \"been\", \"never\", \"to\", \"no\", \"been\"]\n",
       "             (\"have\", \"been\") => [\"a\", \"in\", \"endeavouring\", \"a\", \"the\", \"repeatedly\", \"struck\", \"lately\", \"seeing\", \"under\"  …  \"no\", \"of\", \"in\", \"silent\", \"better.\", \"a\", \"some\", \"better\", \"a\", \"under\"]\n",
       "                (\"I\", \"have\") => [\"a\", \"not\", \"been\", \"a\", \"of\", \"a\", \"no\", \"been\", \"seen\", \"done\"  …  \"no\", \"Miss\", \"not;\", \"been\", \"taken\", \"always\", \"often\", \"thought\", \"no\", \"heard\"]\n",
       "                (\"of\", \"her\") => [\"sister's\", \"caresses;\", \"temper\", \"but\", \"life\", \"own?”\", \"own!\", \"own?\", \"own,\", \"fortune\"  …  \"relations\", \"being\", \"father.\", \"sensations\", \"past\", \"most\", \"throat.\", \"own\", \"attachment\", \"beloved\"]\n",
       "               (\"and\", \"the\") => [\"shadow\", \"bride\", \"only\", \"uncle\", \"do\", \"chicken,\", \"wealth\", \"pleasures\", \"sale\", \"hope\"  …  \"walk\", \"message\", \"nonsense,\", \"fancies\", \"party\", \"smile\", \"dinner\", \"Project\", \"medium\", \"Foundation\"]\n",
       "                              ⋮\n",
       "             (\"been\", \"wet.\") => [\"We\"]\n",
       "              (\"walk,\", \"or\") => [\"his\"]\n",
       "     (\"performance,\", \"both\") => [\"vocal\"]\n",
       "             (\"to\", \"devote\") => [\"himself\"]\n",
       " (\"successively,\", \"without\") => [\"being\"]\n",
       "          (\"was\", \"married.\") => [\"I\"]\n",
       "            (\"I,\", \"indeed.\") => [\"I\"]\n",
       "              (\"Cole.\", \"“I\") => [\"declare,\"]\n",
       "              (\"see\", \"much\") => [\"sign\"]\n",
       "            (\"how\", \"nursed\") => [\"her\"]\n",
       "       (\"represent\", \"them.\") => [\"She\"]\n",
       "         (\"still\", \"living,\") => [\"walked\"]"
      ]
     },
     "execution_count": 38,
     "metadata": {},
     "output_type": "execute_result"
    }
   ],
   "source": [
    "sort(collect(emma_map2), by = x -> length(x[2]), rev=true)"
   ]
  },
  {
   "cell_type": "code",
   "execution_count": 39,
   "metadata": {},
   "outputs": [
    {
     "data": {
      "text/plain": [
       "(\"run\", \"there\", \"hi\")"
      ]
     },
     "execution_count": 39,
     "metadata": {},
     "output_type": "execute_result"
    }
   ],
   "source": [
    "str = (\"test\",\"run\",\"there\")\n",
    "(str[2:end]...,\"hi\")  # a new tuple that has elements from str[2] to str[end] and a new element"
   ]
  },
  {
   "cell_type": "code",
   "execution_count": 72,
   "metadata": {},
   "outputs": [
    {
     "data": {
      "text/plain": [
       "Markov_text_writing (generic function with 1 method)"
      ]
     },
     "execution_count": 72,
     "metadata": {},
     "output_type": "execute_result"
    }
   ],
   "source": [
    "function Markov_text_writing(filename, num_prefix_words, num_words)\n",
    "    \n",
    "    pre_suf_mapping = Markov_analysis2(filename, num_prefix_words)\n",
    "    \n",
    "    n = rand(1:length(pre_suf_mapping))\n",
    "    \n",
    "    current_words_tuple = collect(keys(pre_suf_mapping))[n] \n",
    "       \n",
    "    print(join(current_words_tuple, \" \") , \" \")\n",
    "    \n",
    "    for w = 1:num_words - num_prefix_words\n",
    "        \n",
    " #       next_word_list = pre_suf_mapping[current_words_tuple]\n",
    "        \n",
    "        next_word_list = get!(pre_suf_mapping, current_words_tuple,collect(values(pre_suf_mapping))[1])\n",
    "                    # to provision for the last word of the file\n",
    "        \n",
    "        m = rand(1:length(next_word_list))\n",
    "        next_word = next_word_list[m]\n",
    "        \n",
    "        print(next_word, \" \")\n",
    "                      \n",
    "        current_words_tuple = (current_words_tuple[2:end]..., next_word)  # this is a reassignment that creates a new tuple\n",
    "        \n",
    "    end\n",
    "    \n",
    "end\n",
    "    "
   ]
  },
  {
   "cell_type": "code",
   "execution_count": 73,
   "metadata": {},
   "outputs": [
    {
     "name": "stdout",
     "output_type": "stream",
     "text": [
      "entity. D’you see? But can a bee be said to be Or not to be an entire bee When half the bee has got to be Vis a vis, its entity. D’you see? But can a bee be said to "
     ]
    }
   ],
   "source": [
    "Markov_text_writing(\"erichalfbee.txt\", 3, 40)"
   ]
  },
  {
   "cell_type": "code",
   "execution_count": 74,
   "metadata": {},
   "outputs": [
    {
     "name": "stdout",
     "output_type": "stream",
     "text": [
      "Her observation had been so little knowledge as seemed terribly like a sensible man,” replied Emma, “and a very old and intimate friend of Mr. Weston's hint. “Why, to be treated rather as winter than summer. We had great faults, faults of inconsideration and thoughtlessness; and I can pronounce his "
     ]
    }
   ],
   "source": [
    "Markov_text_writing(\"emma.txt\", 2, 50)"
   ]
  },
  {
   "cell_type": "code",
   "execution_count": 75,
   "metadata": {},
   "outputs": [
    {
     "name": "stdout",
     "output_type": "stream",
     "text": [
      "here. I wish I were. I will answer for the gentleman's indifference.” She spoke with a very good young man, and a very proper, handsome letter it was. She shewed it to me. I will hear whatever you like. I will tell you. M. and A. Em ma. Do you "
     ]
    }
   ],
   "source": [
    "Markov_text_writing(\"emma.txt\", 3, 50)"
   ]
  },
  {
   "cell_type": "code",
   "execution_count": 76,
   "metadata": {},
   "outputs": [
    {
     "name": "stdout",
     "output_type": "stream",
     "text": [
      "Perry says that colds have been from jealousy. In Jane's eyes she had little to do.” “I thank you; but it had been pulling about! I never have.” He listened with much self contentment, totally unsuspicious of his journey; and she had been half a minute. They did as they were to be afraid of his being fond of connecting themselves with a much better than to be disturbed by it. A very little to you, Mrs. Weston, and of fancying what the chief of even Emma's vexation. The day approached, the day before, to the Coles. The visit afforded "
     ]
    }
   ],
   "source": [
    "Markov_text_writing(\"emma.txt\", 2, 100)"
   ]
  },
  {
   "cell_type": "markdown",
   "metadata": {},
   "source": [
    "### Data Structures\n",
    "\n",
    "Using Markov analysis to generate random text is fun, but there is also a point to this exercise: data structure selection. In your solution to the previous exercises, you had to choose:\n",
    "\n",
    "How to represent the prefixes.\n",
    "How to represent the collection of possible suffixes.\n",
    "How to represent the mapping from each prefix to the collection of possible suffixes.\n",
    "\n",
    "The last one is easy: a dictionary is the obvious choice for a mapping from keys to corresponding values.\n",
    "\n",
    "For the prefixes, the most obvious options are string, array of strings, or tuple of strings.\n",
    "\n",
    "For the suffixes, one option is an array; another is a histogram (dictionary).\n",
    "\n",
    "How should you choose? The first step is to think about the operations you will need to implement for each data structure.\n",
    "\n",
    "For the prefixes, we need to be able to remove words from the beginning and add to the end. For example, if the current prefix is “Half a”, and the next word is “bee”, you need to be able to form the next prefix, “a bee”. Your first choice might be an array, since it is easy to add and remove elements.\n",
    "\n",
    "For the collection of suffixes, the operations we need to perform include adding a new suffix (or increasing the frequency of an existing one), and choosing a random suffix. Adding a new suffix is equally easy for the array implementation or the histogram. \n",
    "\n",
    "Choosing a random element from an array is easy; choosing from a histogram is harder to do efficiently (see Exercise 13-7). \n",
    "\n",
    "So far we have been talking mostly about ease of implementation, but there are other factors to consider in choosing data structures. \n",
    "\n",
    "One is run time. Sometimes there is a theoretical reason to expect one data structure to be faster than other; for example, I mentioned that the in operator is faster for dictionaries than for arrays, at least when the number of elements is large.\n",
    "\n",
    "But often you don’t know ahead of time which implementation will be faster. One option is to implement both of them and see which is better. This approach is called benchmarking. A practical alternative is to choose the data structure that is easiest to implement, and then see if it is fast enough for the intended application. If so, there is no need to go on. If not, there are tools, like the Profile module, that can identify the places in a program that take the most time. \n",
    "\n",
    "The other factor to consider is storage space. For example, using a histogram for the collection of suffixes might take less space because you only have to store each word once, no matter how many times it appears in the text. In some cases, saving space can also make your program run faster, and in the extreme, your program might not run at all if you run out of memory. But for many applications, space is a secondary consideration after run time.\n",
    "\n",
    "One final thought: in this discussion, we have implied that we should use one data structure for both analysis and generation.\n",
    "But since these are separate phases, it would also be possible to use one structure for analysis and then convert to another\n",
    "structure for generation. This would be a net win if the time saved during generation exceeded the time spent in\n",
    "conversion."
   ]
  },
  {
   "cell_type": "markdown",
   "metadata": {},
   "source": [
    "### Debugging\n",
    "\n",
    "When you are debugging a program, and especially if you are working on a hard bug, there are five things to try:\n",
    "\n",
    "* Reading\n",
    "\n",
    "Examine your code, read it back to yourself, and check that it says what you meant to say.\n",
    "\n",
    "* Running\n",
    "\n",
    "Experiment by making changes and running different versions. Often if you display the right thing at the right place in the program, the problem becomes obvious, but sometimes you have to build scaffolding.\n",
    "\n",
    "* Ruminating\n",
    "\n",
    "Take some time to think! What kind of error is it: syntax, runtime, or semantic? What information can you get from the error messages, or from the output of the program? What kind of error could cause the problem you’re seeing? What did you change last, before the problem appeared?\n",
    "\n",
    "* Rubberducking\n",
    "\n",
    "If you explain the problem to someone else, you sometimes find the answer before you finish asking the question. Often you don’t need the other person; you could just talk to a rubber duck. And that’s the origin of the well-known strategy called rubber duck debugging. I am not making this up; see https://en.wikipedia.org/wiki/Rubber_duck_debugging.\n",
    "\n",
    "* Retreating\n",
    "\n",
    "At some point, the best thing to do is back off, undoing recent changes, until you get back to a program that works and that you understand. Then you can start rebuilding."
   ]
  },
  {
   "cell_type": "markdown",
   "metadata": {},
   "source": [
    "Beginning programmers sometimes get stuck on one of these activities and forget the others. Each activity comes with its own failure mode.\n",
    "\n",
    "For example, reading your code might help if the problem is a typographical error, but not if the problem is a conceptual misunderstanding. If you don’t understand what your program does, you can read it 100 times and never see the error, because the error is in your head.\n",
    "\n",
    "Running experiments can help, especially if you run small, simple tests. But if you run experiments without thinking or reading your code, you might fall into a pattern I call “random walk programming”, which is the process of making random changes until the program does the right thing. Needless to say, random walk programming can take a long time. \n",
    "\n",
    "You have to take time to think. Debugging is like an experimental science. You should have at least one hypothesis about what the problem is. If there are two or more possibilities, try to think of a test that would eliminate one of them.\n",
    "\n",
    "But even the best debugging techniques will fail if there are too many errors, or if the code you are trying to fix is too big and complicated. Sometimes the best option is to retreat, simplifying the program until you get to something that works and that you understand.\n",
    "\n",
    "Beginning programmers are often reluctant to retreat because they can’t stand to delete a line of code (even if it’s wrong). If it makes you feel better, copy your program into another file before you start stripping it down. Then you can copy the pieces back one at a time.\n",
    "\n",
    "Finding a hard bug requires reading, running, ruminating, and sometimes retreating. If you get stuck on one of these activities, try the others."
   ]
  },
  {
   "cell_type": "markdown",
   "metadata": {},
   "source": [
    "### Exercise 13-9\n",
    "\n",
    "The “rank” of a word is its position in an array of words sorted by frequency: the most common word has rank 1, the second most common has rank 2, etc.\n",
    "\n",
    "Zipf’s law describes a relationship between the ranks and frequencies of words in natural languages (https://en.wikipedia.org/wiki/Zipf's_law). Specifically, it predicts that the frequency, $f$, of the word with rank $r$ is:\n",
    "\n",
    "$$f = cr^{−s}$$\n",
    "\n",
    "where $c$ and $s$ are parameters that depend on the language and the text. If you take the logarithm of both sides of this\n",
    "equation, you get:\n",
    "\n",
    "$$\\log{f} = \\log{c}−s \\log{r}$$\n",
    "\n",
    "So if you plot $\\log{f}$ versus $\\log{r}$, you should get a straight line with slope $-s$ and intercept $\\log{c}$. \n",
    "\n",
    "Write a program that reads a text from a file, counts word frequencies, and prints one line for each word, in descending order of frequency, with $\\log{f}$ and $\\log{r}$.\n",
    "\n",
    "Use the `Plots` library to plot the results and check whether they form a straight line."
   ]
  },
  {
   "cell_type": "code",
   "execution_count": 49,
   "metadata": {},
   "outputs": [
    {
     "data": {
      "text/plain": [
       "zipf (generic function with 1 method)"
      ]
     },
     "execution_count": 49,
     "metadata": {},
     "output_type": "execute_result"
    }
   ],
   "source": [
    "function zipf(hist)\n",
    "    t = []\n",
    "    for (key, value) in hist\n",
    "        push!(t, (value, key))\n",
    "    end\n",
    "    #reverse(sort(t))\n",
    "    t_sorted = sort(t, rev=true)\n",
    "    \n",
    "    x=[]\n",
    "    y=[]\n",
    "    for i in eachindex(t_sorted)\n",
    "        (freq, word) = t_sorted[i]\n",
    "        push!(x, log(i))\n",
    "        push!(y, log(freq))\n",
    "#        println(\"$word, $(log(freq)), $(log(i))\")\n",
    "    end\n",
    "    \n",
    "    plot(x,y, label=\"Zipf\")\n",
    "    \n",
    "end\n"
   ]
  },
  {
   "cell_type": "code",
   "execution_count": 50,
   "metadata": {},
   "outputs": [
    {
     "name": "stderr",
     "output_type": "stream",
     "text": [
      "┌ Info: Precompiling Plots [91a5bcdd-55d7-5caf-9e0b-520d859cae80]\n",
      "└ @ Base loading.jl:1260\n"
     ]
    },
    {
     "data": {
      "image/svg+xml": [
       "<?xml version=\"1.0\" encoding=\"utf-8\"?>\n",
       "<svg xmlns=\"http://www.w3.org/2000/svg\" xmlns:xlink=\"http://www.w3.org/1999/xlink\" width=\"600\" height=\"400\" viewBox=\"0 0 2400 1600\">\n",
       "<defs>\n",
       "  <clipPath id=\"clip0000\">\n",
       "    <rect x=\"0\" y=\"0\" width=\"2400\" height=\"1600\"/>\n",
       "  </clipPath>\n",
       "</defs>\n",
       "<path clip-path=\"url(#clip0000)\" d=\"\n",
       "M0 1600 L2400 1600 L2400 0 L0 0  Z\n",
       "  \" fill=\"#ffffff\" fill-rule=\"evenodd\" fill-opacity=\"1\"/>\n",
       "<defs>\n",
       "  <clipPath id=\"clip0001\">\n",
       "    <rect x=\"480\" y=\"0\" width=\"1681\" height=\"1600\"/>\n",
       "  </clipPath>\n",
       "</defs>\n",
       "<path clip-path=\"url(#clip0000)\" d=\"\n",
       "M112.177 1486.45 L2352.76 1486.45 L2352.76 47.2441 L112.177 47.2441  Z\n",
       "  \" fill=\"#ffffff\" fill-rule=\"evenodd\" fill-opacity=\"1\"/>\n",
       "<defs>\n",
       "  <clipPath id=\"clip0002\">\n",
       "    <rect x=\"112\" y=\"47\" width=\"2242\" height=\"1440\"/>\n",
       "  </clipPath>\n",
       "</defs>\n",
       "<polyline clip-path=\"url(#clip0002)\" style=\"stroke:#000000; stroke-width:2; stroke-opacity:0.1; fill:none\" points=\"\n",
       "  175.59,1486.45 175.59,47.2441 \n",
       "  \"/>\n",
       "<polyline clip-path=\"url(#clip0002)\" style=\"stroke:#000000; stroke-width:2; stroke-opacity:0.1; fill:none\" points=\"\n",
       "  649.947,1486.45 649.947,47.2441 \n",
       "  \"/>\n",
       "<polyline clip-path=\"url(#clip0002)\" style=\"stroke:#000000; stroke-width:2; stroke-opacity:0.1; fill:none\" points=\"\n",
       "  1124.3,1486.45 1124.3,47.2441 \n",
       "  \"/>\n",
       "<polyline clip-path=\"url(#clip0002)\" style=\"stroke:#000000; stroke-width:2; stroke-opacity:0.1; fill:none\" points=\"\n",
       "  1598.66,1486.45 1598.66,47.2441 \n",
       "  \"/>\n",
       "<polyline clip-path=\"url(#clip0002)\" style=\"stroke:#000000; stroke-width:2; stroke-opacity:0.1; fill:none\" points=\"\n",
       "  2073.02,1486.45 2073.02,47.2441 \n",
       "  \"/>\n",
       "<polyline clip-path=\"url(#clip0002)\" style=\"stroke:#000000; stroke-width:2; stroke-opacity:0.1; fill:none\" points=\"\n",
       "  112.177,1445.72 2352.76,1445.72 \n",
       "  \"/>\n",
       "<polyline clip-path=\"url(#clip0002)\" style=\"stroke:#000000; stroke-width:2; stroke-opacity:0.1; fill:none\" points=\"\n",
       "  112.177,1129.61 2352.76,1129.61 \n",
       "  \"/>\n",
       "<polyline clip-path=\"url(#clip0002)\" style=\"stroke:#000000; stroke-width:2; stroke-opacity:0.1; fill:none\" points=\"\n",
       "  112.177,813.506 2352.76,813.506 \n",
       "  \"/>\n",
       "<polyline clip-path=\"url(#clip0002)\" style=\"stroke:#000000; stroke-width:2; stroke-opacity:0.1; fill:none\" points=\"\n",
       "  112.177,497.402 2352.76,497.402 \n",
       "  \"/>\n",
       "<polyline clip-path=\"url(#clip0002)\" style=\"stroke:#000000; stroke-width:2; stroke-opacity:0.1; fill:none\" points=\"\n",
       "  112.177,181.297 2352.76,181.297 \n",
       "  \"/>\n",
       "<polyline clip-path=\"url(#clip0000)\" style=\"stroke:#000000; stroke-width:4; stroke-opacity:1; fill:none\" points=\"\n",
       "  112.177,1486.45 2352.76,1486.45 \n",
       "  \"/>\n",
       "<polyline clip-path=\"url(#clip0000)\" style=\"stroke:#000000; stroke-width:4; stroke-opacity:1; fill:none\" points=\"\n",
       "  112.177,1486.45 112.177,47.2441 \n",
       "  \"/>\n",
       "<polyline clip-path=\"url(#clip0000)\" style=\"stroke:#000000; stroke-width:4; stroke-opacity:1; fill:none\" points=\"\n",
       "  175.59,1486.45 175.59,1469.18 \n",
       "  \"/>\n",
       "<polyline clip-path=\"url(#clip0000)\" style=\"stroke:#000000; stroke-width:4; stroke-opacity:1; fill:none\" points=\"\n",
       "  649.947,1486.45 649.947,1469.18 \n",
       "  \"/>\n",
       "<polyline clip-path=\"url(#clip0000)\" style=\"stroke:#000000; stroke-width:4; stroke-opacity:1; fill:none\" points=\"\n",
       "  1124.3,1486.45 1124.3,1469.18 \n",
       "  \"/>\n",
       "<polyline clip-path=\"url(#clip0000)\" style=\"stroke:#000000; stroke-width:4; stroke-opacity:1; fill:none\" points=\"\n",
       "  1598.66,1486.45 1598.66,1469.18 \n",
       "  \"/>\n",
       "<polyline clip-path=\"url(#clip0000)\" style=\"stroke:#000000; stroke-width:4; stroke-opacity:1; fill:none\" points=\"\n",
       "  2073.02,1486.45 2073.02,1469.18 \n",
       "  \"/>\n",
       "<polyline clip-path=\"url(#clip0000)\" style=\"stroke:#000000; stroke-width:4; stroke-opacity:1; fill:none\" points=\"\n",
       "  112.177,1445.72 139.064,1445.72 \n",
       "  \"/>\n",
       "<polyline clip-path=\"url(#clip0000)\" style=\"stroke:#000000; stroke-width:4; stroke-opacity:1; fill:none\" points=\"\n",
       "  112.177,1129.61 139.064,1129.61 \n",
       "  \"/>\n",
       "<polyline clip-path=\"url(#clip0000)\" style=\"stroke:#000000; stroke-width:4; stroke-opacity:1; fill:none\" points=\"\n",
       "  112.177,813.506 139.064,813.506 \n",
       "  \"/>\n",
       "<polyline clip-path=\"url(#clip0000)\" style=\"stroke:#000000; stroke-width:4; stroke-opacity:1; fill:none\" points=\"\n",
       "  112.177,497.402 139.064,497.402 \n",
       "  \"/>\n",
       "<polyline clip-path=\"url(#clip0000)\" style=\"stroke:#000000; stroke-width:4; stroke-opacity:1; fill:none\" points=\"\n",
       "  112.177,181.297 139.064,181.297 \n",
       "  \"/>\n",
       "<path clip-path=\"url(#clip0000)\" d=\"M 0 0 M175.59 1508.44 Q171.979 1508.44 170.15 1512 Q168.344 1515.55 168.344 1522.67 Q168.344 1529.78 170.15 1533.35 Q171.979 1536.89 175.59 1536.89 Q179.224 1536.89 181.03 1533.35 Q182.858 1529.78 182.858 1522.67 Q182.858 1515.55 181.03 1512 Q179.224 1508.44 175.59 1508.44 M175.59 1504.73 Q181.4 1504.73 184.455 1509.34 Q187.534 1513.92 187.534 1522.67 Q187.534 1531.4 184.455 1536.01 Q181.4 1540.59 175.59 1540.59 Q169.78 1540.59 166.701 1536.01 Q163.645 1531.4 163.645 1522.67 Q163.645 1513.92 166.701 1509.34 Q169.78 1504.73 175.59 1504.73 Z\" fill=\"#000000\" fill-rule=\"evenodd\" fill-opacity=\"1\" /><path clip-path=\"url(#clip0000)\" d=\"M 0 0 M644.6 1535.98 L660.919 1535.98 L660.919 1539.92 L638.975 1539.92 L638.975 1535.98 Q641.637 1533.23 646.22 1528.6 Q650.827 1523.95 652.007 1522.61 Q654.253 1520.08 655.132 1518.35 Q656.035 1516.59 656.035 1514.9 Q656.035 1512.14 654.091 1510.41 Q652.17 1508.67 649.068 1508.67 Q646.869 1508.67 644.415 1509.43 Q641.984 1510.2 639.207 1511.75 L639.207 1507.03 Q642.031 1505.89 644.484 1505.31 Q646.938 1504.73 648.975 1504.73 Q654.345 1504.73 657.54 1507.42 Q660.734 1510.11 660.734 1514.6 Q660.734 1516.73 659.924 1518.65 Q659.137 1520.54 657.031 1523.14 Q656.452 1523.81 653.35 1527.03 Q650.248 1530.22 644.6 1535.98 Z\" fill=\"#000000\" fill-rule=\"evenodd\" fill-opacity=\"1\" /><path clip-path=\"url(#clip0000)\" d=\"M 0 0 M1127.31 1509.43 L1115.51 1527.88 L1127.31 1527.88 L1127.31 1509.43 M1126.09 1505.36 L1131.97 1505.36 L1131.97 1527.88 L1136.9 1527.88 L1136.9 1531.77 L1131.97 1531.77 L1131.97 1539.92 L1127.31 1539.92 L1127.31 1531.77 L1111.71 1531.77 L1111.71 1527.26 L1126.09 1505.36 Z\" fill=\"#000000\" fill-rule=\"evenodd\" fill-opacity=\"1\" /><path clip-path=\"url(#clip0000)\" d=\"M 0 0 M1599.07 1520.78 Q1595.92 1520.78 1594.07 1522.93 Q1592.24 1525.08 1592.24 1528.83 Q1592.24 1532.56 1594.07 1534.73 Q1595.92 1536.89 1599.07 1536.89 Q1602.22 1536.89 1604.04 1534.73 Q1605.9 1532.56 1605.9 1528.83 Q1605.9 1525.08 1604.04 1522.93 Q1602.22 1520.78 1599.07 1520.78 M1608.35 1506.12 L1608.35 1510.38 Q1606.59 1509.55 1604.79 1509.11 Q1603 1508.67 1601.24 1508.67 Q1596.61 1508.67 1594.16 1511.8 Q1591.73 1514.92 1591.38 1521.24 Q1592.75 1519.23 1594.81 1518.16 Q1596.87 1517.07 1599.35 1517.07 Q1604.55 1517.07 1607.56 1520.24 Q1610.6 1523.39 1610.6 1528.83 Q1610.6 1534.16 1607.45 1537.37 Q1604.3 1540.59 1599.07 1540.59 Q1593.07 1540.59 1589.9 1536.01 Q1586.73 1531.4 1586.73 1522.67 Q1586.73 1514.48 1590.62 1509.62 Q1594.51 1504.73 1601.06 1504.73 Q1602.82 1504.73 1604.6 1505.08 Q1606.41 1505.43 1608.35 1506.12 Z\" fill=\"#000000\" fill-rule=\"evenodd\" fill-opacity=\"1\" /><path clip-path=\"url(#clip0000)\" d=\"M 0 0 M2073.02 1523.51 Q2069.69 1523.51 2067.77 1525.29 Q2065.87 1527.07 2065.87 1530.2 Q2065.87 1533.32 2067.77 1535.11 Q2069.69 1536.89 2073.02 1536.89 Q2076.35 1536.89 2078.27 1535.11 Q2080.2 1533.3 2080.2 1530.2 Q2080.2 1527.07 2078.27 1525.29 Q2076.38 1523.51 2073.02 1523.51 M2068.34 1521.52 Q2065.33 1520.78 2063.64 1518.72 Q2061.98 1516.66 2061.98 1513.69 Q2061.98 1509.55 2064.92 1507.14 Q2067.88 1504.73 2073.02 1504.73 Q2078.18 1504.73 2081.12 1507.14 Q2084.06 1509.55 2084.06 1513.69 Q2084.06 1516.66 2082.37 1518.72 Q2080.71 1520.78 2077.72 1521.52 Q2081.1 1522.3 2082.97 1524.6 Q2084.87 1526.89 2084.87 1530.2 Q2084.87 1535.22 2081.79 1537.91 Q2078.74 1540.59 2073.02 1540.59 Q2067.3 1540.59 2064.22 1537.91 Q2061.17 1535.22 2061.17 1530.2 Q2061.17 1526.89 2063.07 1524.6 Q2064.96 1522.3 2068.34 1521.52 M2066.63 1514.13 Q2066.63 1516.82 2068.3 1518.32 Q2069.99 1519.83 2073.02 1519.83 Q2076.03 1519.83 2077.72 1518.32 Q2079.43 1516.82 2079.43 1514.13 Q2079.43 1511.45 2077.72 1509.94 Q2076.03 1508.44 2073.02 1508.44 Q2069.99 1508.44 2068.3 1509.94 Q2066.63 1511.45 2066.63 1514.13 Z\" fill=\"#000000\" fill-rule=\"evenodd\" fill-opacity=\"1\" /><path clip-path=\"url(#clip0000)\" d=\"M 0 0 M76.2328 1431.51 Q72.6217 1431.51 70.793 1435.08 Q68.9875 1438.62 68.9875 1445.75 Q68.9875 1452.86 70.793 1456.42 Q72.6217 1459.96 76.2328 1459.96 Q79.867 1459.96 81.6726 1456.42 Q83.5013 1452.86 83.5013 1445.75 Q83.5013 1438.62 81.6726 1435.08 Q79.867 1431.51 76.2328 1431.51 M76.2328 1427.81 Q82.0429 1427.81 85.0985 1432.42 Q88.1772 1437 88.1772 1445.75 Q88.1772 1454.48 85.0985 1459.08 Q82.0429 1463.67 76.2328 1463.67 Q70.4226 1463.67 67.344 1459.08 Q64.2884 1454.48 64.2884 1445.75 Q64.2884 1437 67.344 1432.42 Q70.4226 1427.81 76.2328 1427.81 Z\" fill=\"#000000\" fill-rule=\"evenodd\" fill-opacity=\"1\" /><path clip-path=\"url(#clip0000)\" d=\"M 0 0 M71.8578 1142.96 L88.1772 1142.96 L88.1772 1146.89 L66.2328 1146.89 L66.2328 1142.96 Q68.8949 1140.2 73.4782 1135.57 Q78.0846 1130.92 79.2652 1129.58 Q81.5105 1127.05 82.3902 1125.32 Q83.2929 1123.56 83.2929 1121.87 Q83.2929 1119.11 81.3485 1117.38 Q79.4272 1115.64 76.3254 1115.64 Q74.1263 1115.64 71.6726 1116.41 Q69.2421 1117.17 66.4643 1118.72 L66.4643 1114 Q69.2884 1112.86 71.7421 1112.28 Q74.1958 1111.71 76.2328 1111.71 Q81.6031 1111.71 84.7976 1114.39 Q87.992 1117.08 87.992 1121.57 Q87.992 1123.7 87.1818 1125.62 Q86.3948 1127.52 84.2883 1130.11 Q83.7096 1130.78 80.6078 1134 Q77.5059 1137.19 71.8578 1142.96 Z\" fill=\"#000000\" fill-rule=\"evenodd\" fill-opacity=\"1\" /><path clip-path=\"url(#clip0000)\" d=\"M 0 0 M78.5939 800.301 L66.7884 818.75 L78.5939 818.75 L78.5939 800.301 M77.367 796.226 L83.2466 796.226 L83.2466 818.75 L88.1772 818.75 L88.1772 822.638 L83.2466 822.638 L83.2466 830.786 L78.5939 830.786 L78.5939 822.638 L62.9921 822.638 L62.9921 818.125 L77.367 796.226 Z\" fill=\"#000000\" fill-rule=\"evenodd\" fill-opacity=\"1\" /><path clip-path=\"url(#clip0000)\" d=\"M 0 0 M76.6495 495.538 Q73.5013 495.538 71.6495 497.691 Q69.8208 499.844 69.8208 503.594 Q69.8208 507.321 71.6495 509.497 Q73.5013 511.649 76.6495 511.649 Q79.7976 511.649 81.6263 509.497 Q83.4781 507.321 83.4781 503.594 Q83.4781 499.844 81.6263 497.691 Q79.7976 495.538 76.6495 495.538 M85.9318 480.886 L85.9318 485.145 Q84.1726 484.312 82.367 483.872 Q80.5846 483.432 78.8254 483.432 Q74.1958 483.432 71.7421 486.557 Q69.3115 489.682 68.9643 496.001 Q70.33 493.988 72.3902 492.923 Q74.4504 491.835 76.9272 491.835 Q82.1355 491.835 85.1448 495.006 Q88.1772 498.154 88.1772 503.594 Q88.1772 508.918 85.029 512.136 Q81.8809 515.353 76.6495 515.353 Q70.6541 515.353 67.4828 510.77 Q64.3116 506.163 64.3116 497.437 Q64.3116 489.242 68.2004 484.381 Q72.0893 479.497 78.6402 479.497 Q80.3994 479.497 82.1818 479.844 Q83.9874 480.191 85.9318 480.886 Z\" fill=\"#000000\" fill-rule=\"evenodd\" fill-opacity=\"1\" /><path clip-path=\"url(#clip0000)\" d=\"M 0 0 M76.3254 182.165 Q72.9921 182.165 71.0708 183.948 Q69.1726 185.73 69.1726 188.855 Q69.1726 191.98 71.0708 193.762 Q72.9921 195.545 76.3254 195.545 Q79.6587 195.545 81.58 193.762 Q83.5013 191.957 83.5013 188.855 Q83.5013 185.73 81.58 183.948 Q79.6819 182.165 76.3254 182.165 M71.6495 180.175 Q68.6402 179.434 66.9504 177.374 Q65.2838 175.313 65.2838 172.351 Q65.2838 168.207 68.2236 165.8 Q71.1865 163.392 76.3254 163.392 Q81.4874 163.392 84.4272 165.8 Q87.367 168.207 87.367 172.351 Q87.367 175.313 85.6772 177.374 Q84.0105 179.434 81.0244 180.175 Q84.404 180.962 86.279 183.253 Q88.1772 185.545 88.1772 188.855 Q88.1772 193.878 85.0985 196.563 Q82.0429 199.249 76.3254 199.249 Q70.6078 199.249 67.5291 196.563 Q64.4736 193.878 64.4736 188.855 Q64.4736 185.545 66.3717 183.253 Q68.2699 180.962 71.6495 180.175 M69.9365 172.79 Q69.9365 175.476 71.6032 176.98 Q73.293 178.485 76.3254 178.485 Q79.3346 178.485 81.0244 176.98 Q82.7374 175.476 82.7374 172.79 Q82.7374 170.105 81.0244 168.601 Q79.3346 167.096 76.3254 167.096 Q73.293 167.096 71.6032 168.601 Q69.9365 170.105 69.9365 172.79 Z\" fill=\"#000000\" fill-rule=\"evenodd\" fill-opacity=\"1\" /><polyline clip-path=\"url(#clip0002)\" style=\"stroke:#009af9; stroke-width:4; stroke-opacity:1; fill:none\" points=\"\n",
       "  175.59,87.9763 339.99,89.6894 436.157,100.664 504.389,119.328 557.314,170.536 600.557,170.684 637.118,206.35 668.789,210.186 696.725,215.493 721.714,217.881 \n",
       "  744.32,226.041 764.957,231.336 783.941,239.015 801.518,244.771 817.882,259.716 833.189,259.891 847.568,277.096 861.125,295.421 873.948,295.639 886.114,303.827 \n",
       "  897.686,309.332 908.719,316.276 919.262,316.775 929.357,323.41 939.039,331.291 948.341,331.839 957.292,346.519 965.918,357.931 974.241,376.668 982.282,381.863 \n",
       "  990.059,385.102 997.589,390.986 1004.89,395.033 1011.97,397.304 1018.84,398.977 1025.52,403.237 1032.02,409.626 1038.35,410.077 1044.51,412.119 1050.51,420.563 \n",
       "  1056.37,434.14 1062.09,434.403 1067.67,436.521 1073.12,439.209 1078.45,439.752 1083.66,440.024 1088.76,441.944 1093.76,442.22 1098.65,444.726 1103.44,445.289 \n",
       "  1108.14,447.559 1112.74,450.152 1117.26,452.199 1121.69,461.91 1126.04,465.071 1130.32,467.646 1134.52,468.623 1138.64,471.59 1142.7,473.262 1146.68,473.599 \n",
       "  1150.6,480.135 1154.46,485.13 1158.25,485.493 1161.99,491.794 1165.67,492.932 1169.29,493.314 1172.85,497.57 1176.37,499.543 1179.83,503.158 1183.24,505.203 \n",
       "  1186.61,508.53 1189.92,508.951 1193.2,509.797 1196.42,512.791 1199.61,513.223 1202.75,514.965 1205.85,515.843 1208.91,516.284 1211.93,516.284 1214.91,517.169 \n",
       "  1217.86,518.507 1220.77,523.049 1223.64,525.37 1226.49,531.083 1229.29,534.019 1232.07,537.515 1234.81,538.021 1237.52,542.126 1240.2,542.647 1242.85,545.277 \n",
       "  1245.47,547.951 1248.06,552.327 1250.63,553.999 1253.16,555.124 1255.67,555.69 1258.16,556.257 1260.61,563.231 1263.05,563.827 1265.45,568.671 1267.84,569.288 \n",
       "  1270.2,570.527 1272.54,570.527 1274.85,571.777 1277.14,571.777 1279.41,578.831 1281.66,580.811 1283.89,580.811 1286.09,582.816 1288.28,588.988 1290.44,589.689 \n",
       "  1292.59,590.393 1294.72,591.81 1296.83,592.524 1298.92,593.96 1300.99,594.684 1303.04,598.351 1305.08,599.842 1307.09,600.593 1309.1,605.175 1311.08,606.732 \n",
       "  1313.05,608.304 1315,608.304 1316.94,609.097 1318.86,613.935 1320.76,613.935 1322.65,613.935 1324.53,613.935 1326.39,614.756 1328.23,619.774 1330.07,626.723 \n",
       "  1331.88,627.613 1333.69,631.226 1335.48,631.226 1337.25,633.064 1339.02,634.923 1340.77,635.861 1342.5,637.754 1344.23,639.67 1345.94,640.637 1347.64,640.637 \n",
       "  1349.33,642.588 1351.01,642.588 1352.67,644.564 1354.32,645.561 1355.97,648.591 1357.6,648.591 1359.21,650.643 1360.82,651.68 1362.42,656.966 1364.01,656.966 \n",
       "  1365.58,658.045 1367.15,658.045 1368.7,658.045 1370.25,660.225 1371.78,662.436 1373.31,663.553 1374.82,663.553 1376.33,664.678 1377.83,665.811 1379.31,668.101 \n",
       "  1380.79,669.259 1382.26,671.601 1383.72,671.601 1385.17,673.978 1386.61,673.978 1388.04,673.978 1389.47,673.978 1390.89,677.611 1392.29,678.841 1393.69,678.841 \n",
       "  1395.08,681.33 1396.47,682.59 1397.84,682.59 1399.21,682.59 1400.57,685.139 1401.92,687.73 1403.26,689.042 1404.6,689.042 1405.93,689.042 1407.25,690.364 \n",
       "  1408.56,690.364 1409.87,690.364 1411.17,693.043 1412.46,693.043 1413.75,695.768 1415.03,695.768 1416.3,697.149 1417.56,698.541 1418.82,698.541 1420.07,699.946 \n",
       "  1421.32,701.364 1422.56,702.794 1423.79,704.237 1425.01,705.694 1426.23,705.694 1427.45,707.164 1428.65,713.186 1429.85,713.186 1431.05,713.186 1432.24,714.728 \n",
       "  1433.42,714.728 1434.6,714.728 1435.77,716.285 1436.93,716.285 1438.09,717.858 1439.25,719.446 1440.4,719.446 1441.54,719.446 1442.68,721.051 1443.81,721.051 \n",
       "  1444.94,721.051 1446.06,722.672 1447.17,724.31 1448.29,724.31 1449.39,724.31 1450.49,725.965 1451.59,725.965 1452.68,725.965 1453.76,725.965 1454.84,725.965 \n",
       "  1455.92,727.637 1456.99,727.637 1458.06,729.328 1459.12,731.037 1460.17,731.037 1461.23,732.764 1462.27,732.764 1463.32,732.764 1464.35,732.764 1465.39,734.51 \n",
       "  1466.42,734.51 1467.44,734.51 1468.46,736.276 1469.48,736.276 1470.49,736.276 1471.49,736.276 1472.5,738.062 1473.5,738.062 1474.49,738.062 1475.48,738.062 \n",
       "  1476.47,739.869 1477.45,739.869 1478.43,743.544 1479.4,743.544 1480.37,745.415 1481.34,747.308 1482.3,747.308 1483.26,751.163 1484.21,751.163 1485.16,751.163 \n",
       "  1486.11,751.163 1487.05,751.163 1487.99,753.126 1488.93,753.126 1489.86,755.114 1490.79,755.114 1491.71,755.114 1492.63,757.128 1493.55,757.128 1494.47,757.128 \n",
       "  1495.38,757.128 1496.28,759.167 1497.19,761.233 1498.09,761.233 1498.98,761.233 1499.88,761.233 1500.77,763.327 1501.65,763.327 1502.54,763.327 1503.42,765.448 \n",
       "  1504.29,765.448 1505.17,767.599 1506.04,767.599 1506.9,767.599 1507.77,769.779 1508.63,769.779 1509.49,769.779 1510.34,769.779 1511.19,769.779 1512.04,771.989 \n",
       "  1512.89,771.989 1513.73,774.231 1514.57,774.231 1515.41,774.231 1516.24,774.231 1517.07,774.231 1517.9,774.231 1518.72,776.505 1519.55,776.505 1520.37,776.505 \n",
       "  1521.18,776.505 1522,778.813 1522.81,778.813 1523.61,778.813 1524.42,778.813 1525.22,778.813 1526.02,781.154 1526.82,781.154 1527.61,781.154 1528.41,781.154 \n",
       "  1529.2,781.154 1529.98,783.531 1530.77,783.531 1531.55,783.531 1532.33,783.531 1533.1,783.531 1533.88,783.531 1534.65,783.531 1535.42,783.531 1536.18,785.944 \n",
       "  1536.95,785.944 1537.71,785.944 1538.47,785.944 1539.22,785.944 1539.98,785.944 1540.73,788.395 1541.48,788.395 1542.23,788.395 1542.97,788.395 1543.71,788.395 \n",
       "  1544.45,788.395 1545.19,788.395 1545.93,790.884 1546.66,790.884 1547.39,790.884 1548.12,793.413 1548.85,793.413 1549.57,793.413 1550.29,795.983 1551.01,795.983 \n",
       "  1551.73,795.983 1552.44,798.595 1553.16,798.595 1553.87,798.595 1554.58,798.595 1555.29,798.595 1555.99,798.595 1556.69,801.252 1557.39,801.252 1558.09,801.252 \n",
       "  1558.79,801.252 1559.48,801.252 1560.18,801.252 1560.87,801.252 1561.55,801.252 1562.24,801.252 1562.93,801.252 1563.61,803.953 1564.29,803.953 1564.97,803.953 \n",
       "  1565.64,803.953 1566.32,806.702 1566.99,806.702 1567.66,806.702 1568.33,806.702 1569,809.5 1569.66,809.5 1570.33,809.5 1570.99,809.5 1571.65,809.5 \n",
       "  1572.31,809.5 1572.96,809.5 1573.62,809.5 1574.27,809.5 1574.92,812.347 1575.57,812.347 1576.22,812.347 1576.86,812.347 1577.51,815.248 1578.15,815.248 \n",
       "  1578.79,815.248 1579.43,815.248 1580.06,815.248 1580.7,815.248 1581.33,818.202 1581.96,818.202 1582.59,818.202 1583.22,818.202 1583.85,821.213 1584.47,821.213 \n",
       "  1585.1,821.213 1585.72,821.213 1586.34,821.213 1586.96,821.213 1587.57,824.282 1588.19,824.282 1588.8,824.282 1589.41,824.282 1590.02,824.282 1590.63,824.282 \n",
       "  1591.24,824.282 1591.85,824.282 1592.45,824.282 1593.05,827.411 1593.65,827.411 1594.25,827.411 1594.85,827.411 1595.45,827.411 1596.04,830.605 1596.64,830.605 \n",
       "  1597.23,830.605 1597.82,830.605 1598.41,830.605 1599,830.605 1599.58,830.605 1600.17,833.863 1600.75,833.863 1601.33,833.863 1601.92,833.863 1602.49,833.863 \n",
       "  1603.07,833.863 1603.65,833.863 1604.22,837.191 1604.8,837.191 1605.37,837.191 1605.94,837.191 1606.51,837.191 1607.08,837.191 1607.64,837.191 1608.21,837.191 \n",
       "  1608.77,840.59 1609.34,840.59 1609.9,840.59 1610.46,840.59 1611.02,840.59 1611.57,840.59 1612.13,840.59 1612.69,840.59 1613.24,840.59 1613.79,844.064 \n",
       "  1614.34,844.064 1614.89,844.064 1615.44,844.064 1615.99,844.064 1616.53,844.064 1617.08,847.616 1617.62,847.616 1618.16,847.616 1618.7,847.616 1619.24,847.616 \n",
       "  1619.78,847.616 1620.32,847.616 1620.86,847.616 1621.39,851.249 1621.92,851.249 1622.46,851.249 1622.99,851.249 1623.52,851.249 1624.05,851.249 1624.57,851.249 \n",
       "  1625.1,851.249 1625.63,854.968 1626.15,854.968 1626.67,854.968 1627.19,854.968 1627.72,854.968 1628.23,854.968 1628.75,854.968 1629.27,854.968 1629.79,858.777 \n",
       "  1630.3,858.777 1630.82,858.777 1631.33,858.777 1631.84,858.777 1632.35,858.777 1632.86,858.777 1633.37,858.777 1633.88,858.777 1634.38,858.777 1634.89,858.777 \n",
       "  1635.39,858.777 1635.89,858.777 1636.4,862.68 1636.9,862.68 1637.4,862.68 1637.9,862.68 1638.39,862.68 1638.89,862.68 1639.39,862.68 1639.88,862.68 \n",
       "  1640.37,862.68 1640.87,862.68 1641.36,862.68 1641.85,862.68 1642.34,866.681 1642.83,866.681 1643.31,866.681 1643.8,866.681 1644.29,866.681 1644.77,866.681 \n",
       "  1645.25,866.681 1645.74,866.681 1646.22,866.681 1646.7,866.681 1647.18,866.681 1647.66,866.681 1648.14,866.681 1648.61,866.681 1649.09,866.681 1649.56,866.681 \n",
       "  1650.04,866.681 1650.51,866.681 1650.98,866.681 1651.45,870.787 1651.92,870.787 1652.39,870.787 1652.86,870.787 1653.33,870.787 1653.79,870.787 1654.26,870.787 \n",
       "  1654.72,870.787 1655.19,870.787 1655.65,870.787 1656.11,875.002 1656.57,875.002 1657.03,875.002 1657.49,875.002 1657.95,875.002 1658.41,875.002 1658.87,875.002 \n",
       "  1659.32,879.332 1659.78,879.332 1660.23,879.332 1660.68,879.332 1661.13,879.332 1661.59,879.332 1662.04,879.332 1662.49,879.332 1662.94,879.332 1663.38,879.332 \n",
       "  1663.83,879.332 1664.28,883.785 1664.72,883.785 1665.17,883.785 1665.61,883.785 1666.05,883.785 1666.5,883.785 1666.94,883.785 1667.38,883.785 1667.82,883.785 \n",
       "  1668.26,888.366 1668.69,888.366 1669.13,888.366 1669.57,888.366 1670,888.366 1670.44,888.366 1670.87,888.366 1671.3,888.366 1671.74,888.366 1672.17,888.366 \n",
       "  1672.6,893.085 1673.03,893.085 1673.46,893.085 1673.89,893.085 1674.31,893.085 1674.74,893.085 1675.17,893.085 1675.59,893.085 1676.02,893.085 1676.44,893.085 \n",
       "  1676.87,893.085 1677.29,897.948 1677.71,897.948 1678.13,897.948 1678.55,897.948 1678.97,897.948 1679.39,897.948 1679.81,897.948 1680.22,897.948 1680.64,897.948 \n",
       "  1681.06,897.948 1681.47,897.948 1681.88,902.966 1682.3,902.966 1682.71,902.966 1683.12,902.966 1683.53,902.966 1683.95,902.966 1684.36,902.966 1684.76,902.966 \n",
       "  1685.17,902.966 1685.58,902.966 1685.99,902.966 1686.4,902.966 1686.8,902.966 1687.21,902.966 1687.61,902.966 1688.01,902.966 1688.42,902.966 1688.82,902.966 \n",
       "  1689.22,902.966 1689.62,902.966 1690.02,902.966 1690.42,902.966 1690.82,902.966 1691.22,902.966 1691.62,908.149 1692.01,908.149 1692.41,908.149 1692.81,908.149 \n",
       "  1693.2,908.149 1693.59,908.149 1693.99,908.149 1694.38,908.149 1694.77,908.149 1695.17,908.149 1695.56,908.149 1695.95,908.149 1696.34,908.149 1696.73,908.149 \n",
       "  1697.11,908.149 1697.5,913.507 1697.89,913.507 1698.28,913.507 1698.66,913.507 1699.05,913.507 1699.43,913.507 1699.82,913.507 1700.2,913.507 1700.58,913.507 \n",
       "  1700.96,913.507 1701.35,913.507 1701.73,913.507 1702.11,913.507 1702.49,913.507 1702.87,913.507 1703.25,913.507 1703.62,913.507 1704,913.507 1704.38,913.507 \n",
       "  1704.75,913.507 1705.13,913.507 1705.5,919.053 1705.88,919.053 1706.25,919.053 1706.63,919.053 1707,919.053 1707.37,919.053 1707.74,919.053 1708.11,919.053 \n",
       "  1708.48,919.053 1708.85,919.053 1709.22,919.053 1709.59,919.053 1709.96,919.053 1710.33,924.801 1710.69,924.801 1711.06,924.801 1711.42,924.801 1711.79,924.801 \n",
       "  1712.15,924.801 1712.52,924.801 1712.88,924.801 1713.25,924.801 1713.61,924.801 1713.97,924.801 1714.33,924.801 1714.69,924.801 1715.05,924.801 1715.41,924.801 \n",
       "  1715.77,924.801 1716.13,924.801 1716.49,924.801 1716.84,924.801 1717.2,924.801 1717.56,924.801 1717.91,924.801 1718.27,924.801 1718.62,930.766 1718.98,930.766 \n",
       "  1719.33,930.766 1719.68,930.766 1720.04,930.766 1720.39,930.766 1720.74,930.766 1721.09,930.766 1721.44,930.766 1721.79,930.766 1722.14,930.766 1722.49,930.766 \n",
       "  1722.84,930.766 1723.19,930.766 1723.54,930.766 1723.88,930.766 1724.23,930.766 1724.58,930.766 1724.92,930.766 1725.27,930.766 1725.61,930.766 1725.95,930.766 \n",
       "  1726.3,930.766 1726.64,930.766 1726.98,930.766 1727.33,936.965 1727.67,936.965 1728.01,936.965 1728.35,936.965 1728.69,936.965 1729.03,936.965 1729.37,936.965 \n",
       "  1729.71,936.965 1730.04,936.965 1730.38,936.965 1730.72,936.965 1731.06,936.965 1731.39,936.965 1731.73,936.965 1732.06,936.965 1732.4,936.965 1732.73,936.965 \n",
       "  1733.07,936.965 1733.4,936.965 1733.73,936.965 1734.06,936.965 1734.4,936.965 1734.73,943.417 1735.06,943.417 1735.39,943.417 1735.72,943.417 1736.05,943.417 \n",
       "  1736.38,943.417 1736.71,943.417 1737.03,943.417 1737.36,943.417 1737.69,943.417 1738.02,943.417 1738.34,943.417 1738.67,943.417 1738.99,943.417 1739.32,943.417 \n",
       "  1739.64,943.417 1739.97,943.417 1740.29,943.417 1740.62,943.417 1740.94,943.417 1741.26,943.417 1741.58,943.417 1741.91,943.417 1742.23,943.417 1742.55,950.144 \n",
       "  1742.87,950.144 1743.19,950.144 1743.51,950.144 1743.83,950.144 1744.14,950.144 1744.46,950.144 1744.78,950.144 1745.1,950.144 1745.41,950.144 1745.73,950.144 \n",
       "  1746.05,950.144 1746.36,950.144 1746.68,950.144 1746.99,950.144 1747.31,950.144 1747.62,950.144 1747.93,950.144 1748.25,950.144 1748.56,950.144 1748.87,950.144 \n",
       "  1749.18,950.144 1749.5,950.144 1749.81,957.169 1750.12,957.169 1750.43,957.169 1750.74,957.169 1751.05,957.169 1751.36,957.169 1751.66,957.169 1751.97,957.169 \n",
       "  1752.28,957.169 1752.59,957.169 1752.89,957.169 1753.2,957.169 1753.51,957.169 1753.81,957.169 1754.12,957.169 1754.42,957.169 1754.73,957.169 1755.03,957.169 \n",
       "  1755.34,957.169 1755.64,957.169 1755.94,957.169 1756.25,957.169 1756.55,957.169 1756.85,957.169 1757.15,957.169 1757.45,957.169 1757.75,957.169 1758.05,957.169 \n",
       "  1758.35,957.169 1758.65,957.169 1758.95,964.522 1759.25,964.522 1759.55,964.522 1759.85,964.522 1760.15,964.522 1760.44,964.522 1760.74,964.522 1761.04,964.522 \n",
       "  1761.33,964.522 1761.63,964.522 1761.93,964.522 1762.22,964.522 1762.52,964.522 1762.81,964.522 1763.1,964.522 1763.4,964.522 1763.69,964.522 1763.98,964.522 \n",
       "  1764.28,964.522 1764.57,964.522 1764.86,964.522 1765.15,964.522 1765.44,964.522 1765.73,964.522 1766.02,964.522 1766.32,972.233 1766.6,972.233 1766.89,972.233 \n",
       "  1767.18,972.233 1767.47,972.233 1767.76,972.233 1768.05,972.233 1768.34,972.233 1768.62,972.233 1768.91,972.233 1769.2,972.233 1769.48,972.233 1769.77,972.233 \n",
       "  1770.05,972.233 1770.34,972.233 1770.62,972.233 1770.91,972.233 1771.19,972.233 1771.48,972.233 1771.76,972.233 1772.04,972.233 1772.33,972.233 1772.61,972.233 \n",
       "  1772.89,972.233 1773.17,972.233 1773.46,972.233 1773.74,972.233 1774.02,972.233 1774.3,980.34 1774.58,980.34 1774.86,980.34 1775.14,980.34 1775.42,980.34 \n",
       "  1775.7,980.34 1775.97,980.34 1776.25,980.34 1776.53,980.34 1776.81,980.34 1777.08,980.34 1777.36,980.34 1777.64,980.34 1777.91,980.34 1778.19,980.34 \n",
       "  1778.47,980.34 1778.74,980.34 1779.02,980.34 1779.29,980.34 1779.57,980.34 1779.84,980.34 1780.11,980.34 1780.39,980.34 1780.66,980.34 1780.93,980.34 \n",
       "  1781.21,980.34 1781.48,980.34 1781.75,980.34 1782.02,980.34 1782.29,980.34 1782.56,980.34 1782.83,980.34 1783.1,980.34 1783.37,980.34 1783.64,980.34 \n",
       "  1783.91,980.34 1784.18,980.34 1784.45,980.34 1784.72,980.34 1784.99,980.34 1785.25,980.34 1785.52,988.886 1785.79,988.886 1786.06,988.886 1786.32,988.886 \n",
       "  1786.59,988.886 1786.86,988.886 1787.12,988.886 1787.39,988.886 1787.65,988.886 1787.92,988.886 1788.18,988.886 1788.45,988.886 1788.71,988.886 1788.97,988.886 \n",
       "  1789.24,988.886 1789.5,988.886 1789.76,988.886 1790.03,988.886 1790.29,988.886 1790.55,988.886 1790.81,988.886 1791.07,988.886 1791.33,988.886 1791.59,988.886 \n",
       "  1791.85,988.886 1792.11,988.886 1792.37,988.886 1792.63,988.886 1792.89,988.886 1793.15,988.886 1793.41,988.886 1793.67,988.886 1793.93,988.886 1794.19,997.92 \n",
       "  1794.44,997.92 1794.7,997.92 1794.96,997.92 1795.22,997.92 1795.47,997.92 1795.73,997.92 1795.98,997.92 1796.24,997.92 1796.5,997.92 1796.75,997.92 \n",
       "  1797.01,997.92 1797.26,997.92 1797.51,997.92 1797.77,997.92 1798.02,997.92 1798.28,997.92 1798.53,997.92 1798.78,997.92 1799.03,997.92 1799.29,997.92 \n",
       "  1799.54,997.92 1799.79,997.92 1800.04,997.92 1800.29,997.92 1800.55,997.92 1800.8,997.92 1801.05,997.92 1801.3,997.92 1801.55,997.92 1801.8,997.92 \n",
       "  1802.05,997.92 1802.3,997.92 1802.54,997.92 1802.79,997.92 1803.04,997.92 1803.29,997.92 1803.54,997.92 1803.79,997.92 1804.03,997.92 1804.28,997.92 \n",
       "  1804.53,997.92 1804.77,997.92 1805.02,997.92 1805.27,1007.5 1805.51,1007.5 1805.76,1007.5 1806,1007.5 1806.25,1007.5 1806.49,1007.5 1806.74,1007.5 \n",
       "  1806.98,1007.5 1807.23,1007.5 1807.47,1007.5 1807.71,1007.5 1807.96,1007.5 1808.2,1007.5 1808.44,1007.5 1808.69,1007.5 1808.93,1007.5 1809.17,1007.5 \n",
       "  1809.41,1007.5 1809.65,1007.5 1809.9,1007.5 1810.14,1007.5 1810.38,1007.5 1810.62,1007.5 1810.86,1007.5 1811.1,1007.5 1811.34,1007.5 1811.58,1007.5 \n",
       "  1811.82,1007.5 1812.06,1007.5 1812.3,1007.5 1812.54,1007.5 1812.77,1007.5 1813.01,1007.5 1813.25,1007.5 1813.49,1007.5 1813.73,1007.5 1813.96,1007.5 \n",
       "  1814.2,1007.5 1814.44,1007.5 1814.67,1007.5 1814.91,1007.5 1815.15,1007.5 1815.38,1007.5 1815.62,1007.5 1815.85,1007.5 1816.09,1007.5 1816.32,1017.7 \n",
       "  1816.56,1017.7 1816.79,1017.7 1817.03,1017.7 1817.26,1017.7 1817.49,1017.7 1817.73,1017.7 1817.96,1017.7 1818.19,1017.7 1818.43,1017.7 1818.66,1017.7 \n",
       "  1818.89,1017.7 1819.12,1017.7 1819.36,1017.7 1819.59,1017.7 1819.82,1017.7 1820.05,1017.7 1820.28,1017.7 1820.51,1017.7 1820.74,1017.7 1820.97,1017.7 \n",
       "  1821.2,1017.7 1821.43,1017.7 1821.66,1017.7 1821.89,1017.7 1822.12,1017.7 1822.35,1017.7 1822.58,1017.7 1822.81,1017.7 1823.04,1017.7 1823.26,1017.7 \n",
       "  1823.49,1017.7 1823.72,1017.7 1823.95,1017.7 1824.18,1017.7 1824.4,1017.7 1824.63,1017.7 1824.86,1017.7 1825.08,1017.7 1825.31,1017.7 1825.53,1017.7 \n",
       "  1825.76,1017.7 1825.99,1017.7 1826.21,1028.61 1826.44,1028.61 1826.66,1028.61 1826.89,1028.61 1827.11,1028.61 1827.33,1028.61 1827.56,1028.61 1827.78,1028.61 \n",
       "  1828.01,1028.61 1828.23,1028.61 1828.45,1028.61 1828.68,1028.61 1828.9,1028.61 1829.12,1028.61 1829.34,1028.61 1829.57,1028.61 1829.79,1028.61 1830.01,1028.61 \n",
       "  1830.23,1028.61 1830.45,1028.61 1830.67,1028.61 1830.89,1028.61 1831.12,1028.61 1831.34,1028.61 1831.56,1028.61 1831.78,1028.61 1832,1028.61 1832.22,1028.61 \n",
       "  1832.44,1028.61 1832.65,1028.61 1832.87,1028.61 1833.09,1028.61 1833.31,1028.61 1833.53,1028.61 1833.75,1028.61 1833.97,1028.61 1834.18,1028.61 1834.4,1028.61 \n",
       "  1834.62,1028.61 1834.84,1028.61 1835.05,1028.61 1835.27,1028.61 1835.49,1028.61 1835.7,1028.61 1835.92,1028.61 1836.14,1028.61 1836.35,1028.61 1836.57,1028.61 \n",
       "  1836.78,1028.61 1837,1028.61 1837.21,1028.61 1837.43,1040.32 1837.64,1040.32 1837.86,1040.32 1838.07,1040.32 1838.29,1040.32 1838.5,1040.32 1838.71,1040.32 \n",
       "  1838.93,1040.32 1839.14,1040.32 1839.35,1040.32 1839.57,1040.32 1839.78,1040.32 1839.99,1040.32 1840.21,1040.32 1840.42,1040.32 1840.63,1040.32 1840.84,1040.32 \n",
       "  1841.05,1040.32 1841.26,1040.32 1841.48,1040.32 1841.69,1040.32 1841.9,1040.32 1842.11,1040.32 1842.32,1040.32 1842.53,1040.32 1842.74,1040.32 1842.95,1040.32 \n",
       "  1843.16,1040.32 1843.37,1040.32 1843.58,1040.32 1843.79,1040.32 1844,1040.32 1844.21,1040.32 1844.41,1040.32 1844.62,1040.32 1844.83,1040.32 1845.04,1040.32 \n",
       "  1845.25,1040.32 1845.46,1040.32 1845.66,1040.32 1845.87,1040.32 1846.08,1040.32 1846.28,1040.32 1846.49,1040.32 1846.7,1040.32 1846.9,1040.32 1847.11,1040.32 \n",
       "  1847.32,1040.32 1847.52,1040.32 1847.73,1040.32 1847.93,1040.32 1848.14,1040.32 1848.35,1040.32 1848.55,1040.32 1848.76,1040.32 1848.96,1040.32 1849.16,1040.32 \n",
       "  1849.37,1040.32 1849.57,1040.32 1849.78,1040.32 1849.98,1040.32 1850.18,1040.32 1850.39,1040.32 1850.59,1040.32 1850.79,1040.32 1851,1040.32 1851.2,1040.32 \n",
       "  1851.4,1040.32 1851.61,1040.32 1851.81,1052.97 1852.01,1052.97 1852.21,1052.97 1852.41,1052.97 1852.62,1052.97 1852.82,1052.97 1853.02,1052.97 1853.22,1052.97 \n",
       "  1853.42,1052.97 1853.62,1052.97 1853.82,1052.97 1854.02,1052.97 1854.22,1052.97 1854.42,1052.97 1854.62,1052.97 1854.82,1052.97 1855.02,1052.97 1855.22,1052.97 \n",
       "  1855.42,1052.97 1855.62,1052.97 1855.82,1052.97 1856.02,1052.97 1856.22,1052.97 1856.41,1052.97 1856.61,1052.97 1856.81,1052.97 1857.01,1052.97 1857.21,1052.97 \n",
       "  1857.4,1052.97 1857.6,1052.97 1857.8,1052.97 1857.99,1052.97 1858.19,1052.97 1858.39,1052.97 1858.58,1052.97 1858.78,1052.97 1858.98,1052.97 1859.17,1052.97 \n",
       "  1859.37,1052.97 1859.57,1052.97 1859.76,1052.97 1859.96,1052.97 1860.15,1052.97 1860.35,1052.97 1860.54,1052.97 1860.74,1052.97 1860.93,1052.97 1861.13,1052.97 \n",
       "  1861.32,1052.97 1861.51,1052.97 1861.71,1052.97 1861.9,1052.97 1862.1,1052.97 1862.29,1052.97 1862.48,1052.97 1862.68,1052.97 1862.87,1052.97 1863.06,1052.97 \n",
       "  1863.25,1052.97 1863.45,1052.97 1863.64,1052.97 1863.83,1052.97 1864.02,1052.97 1864.22,1052.97 1864.41,1052.97 1864.6,1052.97 1864.79,1052.97 1864.98,1052.97 \n",
       "  1865.17,1052.97 1865.36,1052.97 1865.56,1052.97 1865.75,1052.97 1865.94,1052.97 1866.13,1052.97 1866.32,1052.97 1866.51,1052.97 1866.7,1052.97 1866.89,1052.97 \n",
       "  1867.08,1052.97 1867.27,1052.97 1867.46,1052.97 1867.65,1066.72 1867.83,1066.72 1868.02,1066.72 1868.21,1066.72 1868.4,1066.72 1868.59,1066.72 1868.78,1066.72 \n",
       "  1868.97,1066.72 1869.15,1066.72 1869.34,1066.72 1869.53,1066.72 1869.72,1066.72 1869.9,1066.72 1870.09,1066.72 1870.28,1066.72 1870.47,1066.72 1870.65,1066.72 \n",
       "  1870.84,1066.72 1871.03,1066.72 1871.21,1066.72 1871.4,1066.72 1871.58,1066.72 1871.77,1066.72 1871.96,1066.72 1872.14,1066.72 1872.33,1066.72 1872.51,1066.72 \n",
       "  1872.7,1066.72 1872.88,1066.72 1873.07,1066.72 1873.25,1066.72 1873.44,1066.72 1873.62,1066.72 1873.81,1066.72 1873.99,1066.72 1874.17,1066.72 1874.36,1066.72 \n",
       "  1874.54,1066.72 1874.73,1066.72 1874.91,1066.72 1875.09,1066.72 1875.28,1066.72 1875.46,1066.72 1875.64,1066.72 1875.82,1066.72 1876.01,1066.72 1876.19,1066.72 \n",
       "  1876.37,1066.72 1876.55,1066.72 1876.74,1066.72 1876.92,1066.72 1877.1,1066.72 1877.28,1066.72 1877.46,1066.72 1877.64,1066.72 1877.83,1066.72 1878.01,1066.72 \n",
       "  1878.19,1066.72 1878.37,1066.72 1878.55,1066.72 1878.73,1066.72 1878.91,1066.72 1879.09,1066.72 1879.27,1066.72 1879.45,1066.72 1879.63,1066.72 1879.81,1066.72 \n",
       "  1879.99,1066.72 1880.17,1066.72 1880.35,1066.72 1880.53,1066.72 1880.71,1066.72 1880.89,1066.72 1881.07,1066.72 1881.24,1066.72 1881.42,1066.72 1881.6,1066.72 \n",
       "  1881.78,1066.72 1881.96,1066.72 1882.14,1066.72 1882.31,1066.72 1882.49,1066.72 1882.67,1066.72 1882.85,1066.72 1883.02,1066.72 1883.2,1066.72 1883.38,1066.72 \n",
       "  1883.55,1066.72 1883.73,1066.72 1883.91,1066.72 1884.08,1066.72 1884.26,1066.72 1884.44,1066.72 1884.61,1066.72 1884.79,1066.72 1884.97,1066.72 1885.14,1066.72 \n",
       "  1885.32,1066.72 1885.49,1066.72 1885.67,1066.72 1885.84,1066.72 1886.02,1066.72 1886.19,1066.72 1886.37,1066.72 1886.54,1066.72 1886.72,1066.72 1886.89,1081.79 \n",
       "  1887.07,1081.79 1887.24,1081.79 1887.41,1081.79 1887.59,1081.79 1887.76,1081.79 1887.94,1081.79 1888.11,1081.79 1888.28,1081.79 1888.46,1081.79 1888.63,1081.79 \n",
       "  1888.8,1081.79 1888.98,1081.79 1889.15,1081.79 1889.32,1081.79 1889.49,1081.79 1889.67,1081.79 1889.84,1081.79 1890.01,1081.79 1890.18,1081.79 1890.35,1081.79 \n",
       "  1890.53,1081.79 1890.7,1081.79 1890.87,1081.79 1891.04,1081.79 1891.21,1081.79 1891.38,1081.79 1891.55,1081.79 1891.72,1081.79 1891.9,1081.79 1892.07,1081.79 \n",
       "  1892.24,1081.79 1892.41,1081.79 1892.58,1081.79 1892.75,1081.79 1892.92,1081.79 1893.09,1081.79 1893.26,1081.79 1893.43,1081.79 1893.6,1081.79 1893.77,1081.79 \n",
       "  1893.94,1081.79 1894.11,1081.79 1894.27,1081.79 1894.44,1081.79 1894.61,1081.79 1894.78,1081.79 1894.95,1081.79 1895.12,1081.79 1895.29,1081.79 1895.45,1081.79 \n",
       "  1895.62,1081.79 1895.79,1081.79 1895.96,1081.79 1896.13,1081.79 1896.29,1081.79 1896.46,1081.79 1896.63,1081.79 1896.8,1081.79 1896.96,1081.79 1897.13,1081.79 \n",
       "  1897.3,1081.79 1897.46,1081.79 1897.63,1081.79 1897.8,1081.79 1897.96,1081.79 1898.13,1081.79 1898.3,1081.79 1898.46,1081.79 1898.63,1081.79 1898.8,1081.79 \n",
       "  1898.96,1081.79 1899.13,1081.79 1899.29,1081.79 1899.46,1081.79 1899.62,1081.79 1899.79,1081.79 1899.95,1081.79 1900.12,1081.79 1900.28,1081.79 1900.45,1081.79 \n",
       "  1900.61,1081.79 1900.78,1081.79 1900.94,1081.79 1901.11,1081.79 1901.27,1081.79 1901.43,1081.79 1901.6,1081.79 1901.76,1081.79 1901.93,1081.79 1902.09,1081.79 \n",
       "  1902.25,1081.79 1902.42,1081.79 1902.58,1081.79 1902.74,1081.79 1902.91,1081.79 1903.07,1081.79 1903.23,1081.79 1903.39,1081.79 1903.56,1081.79 1903.72,1081.79 \n",
       "  1903.88,1081.79 1904.04,1081.79 1904.21,1081.79 1904.37,1081.79 1904.53,1081.79 1904.69,1081.79 1904.85,1081.79 1905.02,1081.79 1905.18,1081.79 1905.34,1081.79 \n",
       "  1905.5,1081.79 1905.66,1098.44 1905.82,1098.44 1905.98,1098.44 1906.14,1098.44 1906.3,1098.44 1906.47,1098.44 1906.63,1098.44 1906.79,1098.44 1906.95,1098.44 \n",
       "  1907.11,1098.44 1907.27,1098.44 1907.43,1098.44 1907.59,1098.44 1907.75,1098.44 1907.91,1098.44 1908.07,1098.44 1908.23,1098.44 1908.38,1098.44 1908.54,1098.44 \n",
       "  1908.7,1098.44 1908.86,1098.44 1909.02,1098.44 1909.18,1098.44 1909.34,1098.44 1909.5,1098.44 1909.66,1098.44 1909.81,1098.44 1909.97,1098.44 1910.13,1098.44 \n",
       "  1910.29,1098.44 1910.45,1098.44 1910.6,1098.44 1910.76,1098.44 1910.92,1098.44 1911.08,1098.44 1911.23,1098.44 1911.39,1098.44 1911.55,1098.44 1911.71,1098.44 \n",
       "  1911.86,1098.44 1912.02,1098.44 1912.18,1098.44 1912.33,1098.44 1912.49,1098.44 1912.65,1098.44 1912.8,1098.44 1912.96,1098.44 1913.12,1098.44 1913.27,1098.44 \n",
       "  1913.43,1098.44 1913.58,1098.44 1913.74,1098.44 1913.9,1098.44 1914.05,1098.44 1914.21,1098.44 1914.36,1098.44 1914.52,1098.44 1914.67,1098.44 1914.83,1098.44 \n",
       "  1914.98,1098.44 1915.14,1098.44 1915.29,1098.44 1915.45,1098.44 1915.6,1098.44 1915.76,1098.44 1915.91,1098.44 1916.06,1098.44 1916.22,1098.44 1916.37,1098.44 \n",
       "  1916.53,1098.44 1916.68,1098.44 1916.83,1098.44 1916.99,1098.44 1917.14,1098.44 1917.29,1098.44 1917.45,1098.44 1917.6,1098.44 1917.75,1098.44 1917.91,1098.44 \n",
       "  1918.06,1098.44 1918.21,1098.44 1918.37,1098.44 1918.52,1098.44 1918.67,1098.44 1918.82,1098.44 1918.98,1098.44 1919.13,1098.44 1919.28,1098.44 1919.43,1098.44 \n",
       "  1919.58,1098.44 1919.74,1098.44 1919.89,1098.44 1920.04,1098.44 1920.19,1098.44 1920.34,1098.44 1920.49,1098.44 1920.65,1098.44 1920.8,1098.44 1920.95,1098.44 \n",
       "  1921.1,1098.44 1921.25,1098.44 1921.4,1098.44 1921.55,1098.44 1921.7,1098.44 1921.85,1098.44 1922,1098.44 1922.15,1098.44 1922.3,1098.44 1922.45,1098.44 \n",
       "  1922.6,1098.44 1922.75,1098.44 1922.9,1098.44 1923.05,1098.44 1923.2,1117.06 1923.35,1117.06 1923.5,1117.06 1923.65,1117.06 1923.8,1117.06 1923.95,1117.06 \n",
       "  1924.1,1117.06 1924.25,1117.06 1924.4,1117.06 1924.55,1117.06 1924.7,1117.06 1924.84,1117.06 1924.99,1117.06 1925.14,1117.06 1925.29,1117.06 1925.44,1117.06 \n",
       "  1925.59,1117.06 1925.73,1117.06 1925.88,1117.06 1926.03,1117.06 1926.18,1117.06 1926.33,1117.06 1926.47,1117.06 1926.62,1117.06 1926.77,1117.06 1926.92,1117.06 \n",
       "  1927.06,1117.06 1927.21,1117.06 1927.36,1117.06 1927.5,1117.06 1927.65,1117.06 1927.8,1117.06 1927.94,1117.06 1928.09,1117.06 1928.24,1117.06 1928.38,1117.06 \n",
       "  1928.53,1117.06 1928.68,1117.06 1928.82,1117.06 1928.97,1117.06 1929.11,1117.06 1929.26,1117.06 1929.41,1117.06 1929.55,1117.06 1929.7,1117.06 1929.84,1117.06 \n",
       "  1929.99,1117.06 1930.13,1117.06 1930.28,1117.06 1930.42,1117.06 1930.57,1117.06 1930.71,1117.06 1930.86,1117.06 1931,1117.06 1931.15,1117.06 1931.29,1117.06 \n",
       "  1931.44,1117.06 1931.58,1117.06 1931.73,1117.06 1931.87,1117.06 1932.02,1117.06 1932.16,1117.06 1932.3,1117.06 1932.45,1117.06 1932.59,1117.06 1932.74,1117.06 \n",
       "  1932.88,1117.06 1933.02,1117.06 1933.17,1117.06 1933.31,1117.06 1933.45,1117.06 1933.6,1117.06 1933.74,1117.06 1933.88,1117.06 1934.03,1117.06 1934.17,1117.06 \n",
       "  1934.31,1117.06 1934.45,1117.06 1934.6,1117.06 1934.74,1117.06 1934.88,1117.06 1935.02,1117.06 1935.17,1117.06 1935.31,1117.06 1935.45,1117.06 1935.59,1117.06 \n",
       "  1935.74,1117.06 1935.88,1117.06 1936.02,1117.06 1936.16,1117.06 1936.3,1117.06 1936.44,1117.06 1936.59,1117.06 1936.73,1117.06 1936.87,1117.06 1937.01,1117.06 \n",
       "  1937.15,1117.06 1937.29,1117.06 1937.43,1117.06 1937.57,1117.06 1937.71,1117.06 1937.86,1117.06 1938,1117.06 1938.14,1117.06 1938.28,1117.06 1938.42,1117.06 \n",
       "  1938.56,1117.06 1938.7,1117.06 1938.84,1117.06 1938.98,1117.06 1939.12,1117.06 1939.26,1117.06 1939.4,1117.06 1939.54,1117.06 1939.68,1117.06 1939.82,1117.06 \n",
       "  1939.96,1117.06 1940.1,1117.06 1940.23,1117.06 1940.37,1117.06 1940.51,1117.06 1940.65,1117.06 1940.79,1117.06 1940.93,1117.06 1941.07,1117.06 1941.21,1117.06 \n",
       "  1941.35,1117.06 1941.48,1117.06 1941.62,1117.06 1941.76,1117.06 1941.9,1117.06 1942.04,1117.06 1942.18,1117.06 1942.31,1117.06 1942.45,1117.06 1942.59,1117.06 \n",
       "  1942.73,1117.06 1942.87,1117.06 1943,1117.06 1943.14,1117.06 1943.28,1117.06 1943.42,1117.06 1943.55,1117.06 1943.69,1117.06 1943.83,1117.06 1943.97,1117.06 \n",
       "  1944.1,1117.06 1944.24,1117.06 1944.38,1117.06 1944.51,1117.06 1944.65,1117.06 1944.79,1138.16 1944.92,1138.16 1945.06,1138.16 1945.2,1138.16 1945.33,1138.16 \n",
       "  1945.47,1138.16 1945.6,1138.16 1945.74,1138.16 1945.88,1138.16 1946.01,1138.16 1946.15,1138.16 1946.28,1138.16 1946.42,1138.16 1946.56,1138.16 1946.69,1138.16 \n",
       "  1946.83,1138.16 1946.96,1138.16 1947.1,1138.16 1947.23,1138.16 1947.37,1138.16 1947.5,1138.16 1947.64,1138.16 1947.77,1138.16 1947.91,1138.16 1948.04,1138.16 \n",
       "  1948.18,1138.16 1948.31,1138.16 1948.45,1138.16 1948.58,1138.16 1948.72,1138.16 1948.85,1138.16 1948.98,1138.16 1949.12,1138.16 1949.25,1138.16 1949.39,1138.16 \n",
       "  1949.52,1138.16 1949.65,1138.16 1949.79,1138.16 1949.92,1138.16 1950.06,1138.16 1950.19,1138.16 1950.32,1138.16 1950.46,1138.16 1950.59,1138.16 1950.72,1138.16 \n",
       "  1950.86,1138.16 1950.99,1138.16 1951.12,1138.16 1951.26,1138.16 1951.39,1138.16 1951.52,1138.16 1951.65,1138.16 1951.79,1138.16 1951.92,1138.16 1952.05,1138.16 \n",
       "  1952.18,1138.16 1952.32,1138.16 1952.45,1138.16 1952.58,1138.16 1952.71,1138.16 1952.85,1138.16 1952.98,1138.16 1953.11,1138.16 1953.24,1138.16 1953.37,1138.16 \n",
       "  1953.5,1138.16 1953.64,1138.16 1953.77,1138.16 1953.9,1138.16 1954.03,1138.16 1954.16,1138.16 1954.29,1138.16 1954.42,1138.16 1954.56,1138.16 1954.69,1138.16 \n",
       "  1954.82,1138.16 1954.95,1138.16 1955.08,1138.16 1955.21,1138.16 1955.34,1138.16 1955.47,1138.16 1955.6,1138.16 1955.73,1138.16 1955.86,1138.16 1955.99,1138.16 \n",
       "  1956.12,1138.16 1956.25,1138.16 1956.38,1138.16 1956.51,1138.16 1956.64,1138.16 1956.77,1138.16 1956.9,1138.16 1957.03,1138.16 1957.16,1138.16 1957.29,1138.16 \n",
       "  1957.42,1138.16 1957.55,1138.16 1957.68,1138.16 1957.81,1138.16 1957.94,1138.16 1958.07,1138.16 1958.2,1138.16 1958.33,1138.16 1958.46,1138.16 1958.59,1138.16 \n",
       "  1958.71,1138.16 1958.84,1138.16 1958.97,1138.16 1959.1,1138.16 1959.23,1138.16 1959.36,1138.16 1959.49,1138.16 1959.62,1138.16 1959.74,1138.16 1959.87,1138.16 \n",
       "  1960,1138.16 1960.13,1138.16 1960.26,1138.16 1960.38,1138.16 1960.51,1138.16 1960.64,1138.16 1960.77,1138.16 1960.9,1138.16 1961.02,1138.16 1961.15,1138.16 \n",
       "  1961.28,1138.16 1961.41,1138.16 1961.53,1138.16 1961.66,1138.16 1961.79,1138.16 1961.91,1138.16 1962.04,1138.16 1962.17,1138.16 1962.3,1138.16 1962.42,1138.16 \n",
       "  1962.55,1138.16 1962.68,1138.16 1962.8,1138.16 1962.93,1138.16 1963.06,1138.16 1963.18,1138.16 1963.31,1138.16 1963.43,1138.16 1963.56,1138.16 1963.69,1138.16 \n",
       "  1963.81,1138.16 1963.94,1138.16 1964.07,1138.16 1964.19,1138.16 1964.32,1138.16 1964.44,1138.16 1964.57,1138.16 1964.69,1138.16 1964.82,1138.16 1964.95,1138.16 \n",
       "  1965.07,1138.16 1965.2,1138.16 1965.32,1138.16 1965.45,1138.16 1965.57,1138.16 1965.7,1138.16 1965.82,1138.16 1965.95,1138.16 1966.07,1138.16 1966.2,1138.16 \n",
       "  1966.32,1138.16 1966.45,1162.52 1966.57,1162.52 1966.7,1162.52 1966.82,1162.52 1966.94,1162.52 1967.07,1162.52 1967.19,1162.52 1967.32,1162.52 1967.44,1162.52 \n",
       "  1967.57,1162.52 1967.69,1162.52 1967.81,1162.52 1967.94,1162.52 1968.06,1162.52 1968.19,1162.52 1968.31,1162.52 1968.43,1162.52 1968.56,1162.52 1968.68,1162.52 \n",
       "  1968.8,1162.52 1968.93,1162.52 1969.05,1162.52 1969.17,1162.52 1969.3,1162.52 1969.42,1162.52 1969.54,1162.52 1969.67,1162.52 1969.79,1162.52 1969.91,1162.52 \n",
       "  1970.04,1162.52 1970.16,1162.52 1970.28,1162.52 1970.4,1162.52 1970.53,1162.52 1970.65,1162.52 1970.77,1162.52 1970.89,1162.52 1971.02,1162.52 1971.14,1162.52 \n",
       "  1971.26,1162.52 1971.38,1162.52 1971.5,1162.52 1971.63,1162.52 1971.75,1162.52 1971.87,1162.52 1971.99,1162.52 1972.11,1162.52 1972.24,1162.52 1972.36,1162.52 \n",
       "  1972.48,1162.52 1972.6,1162.52 1972.72,1162.52 1972.84,1162.52 1972.96,1162.52 1973.09,1162.52 1973.21,1162.52 1973.33,1162.52 1973.45,1162.52 1973.57,1162.52 \n",
       "  1973.69,1162.52 1973.81,1162.52 1973.93,1162.52 1974.05,1162.52 1974.18,1162.52 1974.3,1162.52 1974.42,1162.52 1974.54,1162.52 1974.66,1162.52 1974.78,1162.52 \n",
       "  1974.9,1162.52 1975.02,1162.52 1975.14,1162.52 1975.26,1162.52 1975.38,1162.52 1975.5,1162.52 1975.62,1162.52 1975.74,1162.52 1975.86,1162.52 1975.98,1162.52 \n",
       "  1976.1,1162.52 1976.22,1162.52 1976.34,1162.52 1976.46,1162.52 1976.58,1162.52 1976.7,1162.52 1976.82,1162.52 1976.94,1162.52 1977.05,1162.52 1977.17,1162.52 \n",
       "  1977.29,1162.52 1977.41,1162.52 1977.53,1162.52 1977.65,1162.52 1977.77,1162.52 1977.89,1162.52 1978.01,1162.52 1978.13,1162.52 1978.24,1162.52 1978.36,1162.52 \n",
       "  1978.48,1162.52 1978.6,1162.52 1978.72,1162.52 1978.84,1162.52 1978.95,1162.52 1979.07,1162.52 1979.19,1162.52 1979.31,1162.52 1979.43,1162.52 1979.55,1162.52 \n",
       "  1979.66,1162.52 1979.78,1162.52 1979.9,1162.52 1980.02,1162.52 1980.13,1162.52 1980.25,1162.52 1980.37,1162.52 1980.49,1162.52 1980.6,1162.52 1980.72,1162.52 \n",
       "  1980.84,1162.52 1980.96,1162.52 1981.07,1162.52 1981.19,1162.52 1981.31,1162.52 1981.43,1162.52 1981.54,1162.52 1981.66,1162.52 1981.78,1162.52 1981.89,1162.52 \n",
       "  1982.01,1162.52 1982.13,1162.52 1982.24,1162.52 1982.36,1162.52 1982.48,1162.52 1982.59,1162.52 1982.71,1162.52 1982.83,1162.52 1982.94,1162.52 1983.06,1162.52 \n",
       "  1983.18,1162.52 1983.29,1162.52 1983.41,1162.52 1983.52,1162.52 1983.64,1162.52 1983.76,1162.52 1983.87,1162.52 1983.99,1162.52 1984.1,1162.52 1984.22,1162.52 \n",
       "  1984.33,1162.52 1984.45,1162.52 1984.57,1162.52 1984.68,1162.52 1984.8,1162.52 1984.91,1162.52 1985.03,1162.52 1985.14,1162.52 1985.26,1162.52 1985.37,1162.52 \n",
       "  1985.49,1162.52 1985.6,1162.52 1985.72,1162.52 1985.83,1162.52 1985.95,1162.52 1986.06,1162.52 1986.18,1162.52 1986.29,1162.52 1986.41,1162.52 1986.52,1162.52 \n",
       "  1986.64,1162.52 1986.75,1162.52 1986.87,1162.52 1986.98,1162.52 1987.09,1162.52 1987.21,1162.52 1987.32,1162.52 1987.44,1162.52 1987.55,1162.52 1987.66,1162.52 \n",
       "  1987.78,1162.52 1987.89,1162.52 1988.01,1162.52 1988.12,1162.52 1988.23,1162.52 1988.35,1162.52 1988.46,1162.52 1988.58,1162.52 1988.69,1162.52 1988.8,1162.52 \n",
       "  1988.92,1162.52 1989.03,1162.52 1989.14,1162.52 1989.26,1162.52 1989.37,1162.52 1989.48,1162.52 1989.6,1162.52 1989.71,1162.52 1989.82,1162.52 1989.93,1162.52 \n",
       "  1990.05,1162.52 1990.16,1162.52 1990.27,1162.52 1990.39,1162.52 1990.5,1162.52 1990.61,1162.52 1990.72,1162.52 1990.84,1162.52 1990.95,1162.52 1991.06,1162.52 \n",
       "  1991.17,1162.52 1991.29,1162.52 1991.4,1162.52 1991.51,1162.52 1991.62,1162.52 1991.73,1162.52 1991.85,1162.52 1991.96,1162.52 1992.07,1162.52 1992.18,1162.52 \n",
       "  1992.29,1162.52 1992.41,1162.52 1992.52,1191.34 1992.63,1191.34 1992.74,1191.34 1992.85,1191.34 1992.96,1191.34 1993.08,1191.34 1993.19,1191.34 1993.3,1191.34 \n",
       "  1993.41,1191.34 1993.52,1191.34 1993.63,1191.34 1993.74,1191.34 1993.85,1191.34 1993.97,1191.34 1994.08,1191.34 1994.19,1191.34 1994.3,1191.34 1994.41,1191.34 \n",
       "  1994.52,1191.34 1994.63,1191.34 1994.74,1191.34 1994.85,1191.34 1994.96,1191.34 1995.07,1191.34 1995.18,1191.34 1995.29,1191.34 1995.41,1191.34 1995.52,1191.34 \n",
       "  1995.63,1191.34 1995.74,1191.34 1995.85,1191.34 1995.96,1191.34 1996.07,1191.34 1996.18,1191.34 1996.29,1191.34 1996.4,1191.34 1996.51,1191.34 1996.62,1191.34 \n",
       "  1996.73,1191.34 1996.84,1191.34 1996.95,1191.34 1997.05,1191.34 1997.16,1191.34 1997.27,1191.34 1997.38,1191.34 1997.49,1191.34 1997.6,1191.34 1997.71,1191.34 \n",
       "  1997.82,1191.34 1997.93,1191.34 1998.04,1191.34 1998.15,1191.34 1998.26,1191.34 1998.37,1191.34 1998.48,1191.34 1998.58,1191.34 1998.69,1191.34 1998.8,1191.34 \n",
       "  1998.91,1191.34 1999.02,1191.34 1999.13,1191.34 1999.24,1191.34 1999.35,1191.34 1999.45,1191.34 1999.56,1191.34 1999.67,1191.34 1999.78,1191.34 1999.89,1191.34 \n",
       "  2000,1191.34 2000.1,1191.34 2000.21,1191.34 2000.32,1191.34 2000.43,1191.34 2000.54,1191.34 2000.64,1191.34 2000.75,1191.34 2000.86,1191.34 2000.97,1191.34 \n",
       "  2001.08,1191.34 2001.18,1191.34 2001.29,1191.34 2001.4,1191.34 2001.51,1191.34 2001.61,1191.34 2001.72,1191.34 2001.83,1191.34 2001.94,1191.34 2002.04,1191.34 \n",
       "  2002.15,1191.34 2002.26,1191.34 2002.37,1191.34 2002.47,1191.34 2002.58,1191.34 2002.69,1191.34 2002.79,1191.34 2002.9,1191.34 2003.01,1191.34 2003.11,1191.34 \n",
       "  2003.22,1191.34 2003.33,1191.34 2003.43,1191.34 2003.54,1191.34 2003.65,1191.34 2003.75,1191.34 2003.86,1191.34 2003.97,1191.34 2004.07,1191.34 2004.18,1191.34 \n",
       "  2004.29,1191.34 2004.39,1191.34 2004.5,1191.34 2004.61,1191.34 2004.71,1191.34 2004.82,1191.34 2004.92,1191.34 2005.03,1191.34 2005.14,1191.34 2005.24,1191.34 \n",
       "  2005.35,1191.34 2005.45,1191.34 2005.56,1191.34 2005.66,1191.34 2005.77,1191.34 2005.88,1191.34 2005.98,1191.34 2006.09,1191.34 2006.19,1191.34 2006.3,1191.34 \n",
       "  2006.4,1191.34 2006.51,1191.34 2006.61,1191.34 2006.72,1191.34 2006.82,1191.34 2006.93,1191.34 2007.03,1191.34 2007.14,1191.34 2007.24,1191.34 2007.35,1191.34 \n",
       "  2007.45,1191.34 2007.56,1191.34 2007.66,1191.34 2007.77,1191.34 2007.87,1191.34 2007.98,1191.34 2008.08,1191.34 2008.19,1191.34 2008.29,1191.34 2008.4,1191.34 \n",
       "  2008.5,1191.34 2008.61,1191.34 2008.71,1191.34 2008.81,1191.34 2008.92,1191.34 2009.02,1191.34 2009.13,1191.34 2009.23,1191.34 2009.34,1191.34 2009.44,1191.34 \n",
       "  2009.54,1191.34 2009.65,1191.34 2009.75,1191.34 2009.86,1191.34 2009.96,1191.34 2010.06,1191.34 2010.17,1191.34 2010.27,1191.34 2010.37,1191.34 2010.48,1191.34 \n",
       "  2010.58,1191.34 2010.68,1191.34 2010.79,1191.34 2010.89,1191.34 2010.99,1191.34 2011.1,1191.34 2011.2,1191.34 2011.3,1191.34 2011.41,1191.34 2011.51,1191.34 \n",
       "  2011.61,1191.34 2011.72,1191.34 2011.82,1191.34 2011.92,1191.34 2012.03,1191.34 2012.13,1191.34 2012.23,1191.34 2012.33,1191.34 2012.44,1191.34 2012.54,1191.34 \n",
       "  2012.64,1191.34 2012.75,1191.34 2012.85,1191.34 2012.95,1191.34 2013.05,1191.34 2013.16,1191.34 2013.26,1191.34 2013.36,1191.34 2013.46,1191.34 2013.56,1191.34 \n",
       "  2013.67,1191.34 2013.77,1191.34 2013.87,1191.34 2013.97,1191.34 2014.08,1191.34 2014.18,1191.34 2014.28,1191.34 2014.38,1191.34 2014.48,1191.34 2014.58,1191.34 \n",
       "  2014.69,1191.34 2014.79,1191.34 2014.89,1191.34 2014.99,1191.34 2015.09,1191.34 2015.19,1191.34 2015.3,1191.34 2015.4,1191.34 2015.5,1191.34 2015.6,1191.34 \n",
       "  2015.7,1191.34 2015.8,1191.34 2015.9,1191.34 2016.01,1191.34 2016.11,1191.34 2016.21,1191.34 2016.31,1191.34 2016.41,1191.34 2016.51,1191.34 2016.61,1191.34 \n",
       "  2016.71,1191.34 2016.81,1191.34 2016.91,1191.34 2017.02,1191.34 2017.12,1191.34 2017.22,1191.34 2017.32,1191.34 2017.42,1191.34 2017.52,1191.34 2017.62,1191.34 \n",
       "  2017.72,1191.34 2017.82,1191.34 2017.92,1191.34 2018.02,1191.34 2018.12,1191.34 2018.22,1191.34 2018.32,1191.34 2018.42,1191.34 2018.52,1191.34 2018.62,1191.34 \n",
       "  2018.72,1191.34 2018.82,1191.34 2018.92,1191.34 2019.02,1191.34 2019.12,1191.34 2019.22,1191.34 2019.32,1191.34 2019.42,1191.34 2019.52,1191.34 2019.62,1191.34 \n",
       "  2019.72,1191.34 2019.82,1191.34 2019.92,1191.34 2020.02,1191.34 2020.12,1191.34 2020.22,1191.34 2020.32,1191.34 2020.42,1191.34 2020.52,1191.34 2020.61,1191.34 \n",
       "  2020.71,1191.34 2020.81,1191.34 2020.91,1191.34 2021.01,1191.34 2021.11,1191.34 2021.21,1191.34 2021.31,1191.34 2021.41,1191.34 2021.51,1191.34 2021.61,1191.34 \n",
       "  2021.7,1191.34 2021.8,1191.34 2021.9,1191.34 2022,1191.34 2022.1,1191.34 2022.2,1191.34 2022.3,1191.34 2022.39,1191.34 2022.49,1191.34 2022.59,1191.34 \n",
       "  2022.69,1191.34 2022.79,1191.34 2022.89,1191.34 2022.98,1191.34 2023.08,1191.34 2023.18,1191.34 2023.28,1191.34 2023.38,1191.34 2023.48,1191.34 2023.57,1191.34 \n",
       "  2023.67,1191.34 2023.77,1191.34 2023.87,1191.34 2023.97,1191.34 2024.06,1191.34 2024.16,1191.34 2024.26,1191.34 2024.36,1226.61 2024.45,1226.61 2024.55,1226.61 \n",
       "  2024.65,1226.61 2024.75,1226.61 2024.84,1226.61 2024.94,1226.61 2025.04,1226.61 2025.14,1226.61 2025.23,1226.61 2025.33,1226.61 2025.43,1226.61 2025.53,1226.61 \n",
       "  2025.62,1226.61 2025.72,1226.61 2025.82,1226.61 2025.91,1226.61 2026.01,1226.61 2026.11,1226.61 2026.21,1226.61 2026.3,1226.61 2026.4,1226.61 2026.5,1226.61 \n",
       "  2026.59,1226.61 2026.69,1226.61 2026.79,1226.61 2026.88,1226.61 2026.98,1226.61 2027.08,1226.61 2027.17,1226.61 2027.27,1226.61 2027.37,1226.61 2027.46,1226.61 \n",
       "  2027.56,1226.61 2027.65,1226.61 2027.75,1226.61 2027.85,1226.61 2027.94,1226.61 2028.04,1226.61 2028.14,1226.61 2028.23,1226.61 2028.33,1226.61 2028.42,1226.61 \n",
       "  2028.52,1226.61 2028.62,1226.61 2028.71,1226.61 2028.81,1226.61 2028.9,1226.61 2029,1226.61 2029.1,1226.61 2029.19,1226.61 2029.29,1226.61 2029.38,1226.61 \n",
       "  2029.48,1226.61 2029.57,1226.61 2029.67,1226.61 2029.76,1226.61 2029.86,1226.61 2029.96,1226.61 2030.05,1226.61 2030.15,1226.61 2030.24,1226.61 2030.34,1226.61 \n",
       "  2030.43,1226.61 2030.53,1226.61 2030.62,1226.61 2030.72,1226.61 2030.81,1226.61 2030.91,1226.61 2031,1226.61 2031.1,1226.61 2031.19,1226.61 2031.29,1226.61 \n",
       "  2031.38,1226.61 2031.48,1226.61 2031.57,1226.61 2031.67,1226.61 2031.76,1226.61 2031.86,1226.61 2031.95,1226.61 2032.05,1226.61 2032.14,1226.61 2032.23,1226.61 \n",
       "  2032.33,1226.61 2032.42,1226.61 2032.52,1226.61 2032.61,1226.61 2032.71,1226.61 2032.8,1226.61 2032.89,1226.61 2032.99,1226.61 2033.08,1226.61 2033.18,1226.61 \n",
       "  2033.27,1226.61 2033.37,1226.61 2033.46,1226.61 2033.55,1226.61 2033.65,1226.61 2033.74,1226.61 2033.84,1226.61 2033.93,1226.61 2034.02,1226.61 2034.12,1226.61 \n",
       "  2034.21,1226.61 2034.3,1226.61 2034.4,1226.61 2034.49,1226.61 2034.58,1226.61 2034.68,1226.61 2034.77,1226.61 2034.87,1226.61 2034.96,1226.61 2035.05,1226.61 \n",
       "  2035.15,1226.61 2035.24,1226.61 2035.33,1226.61 2035.43,1226.61 2035.52,1226.61 2035.61,1226.61 2035.7,1226.61 2035.8,1226.61 2035.89,1226.61 2035.98,1226.61 \n",
       "  2036.08,1226.61 2036.17,1226.61 2036.26,1226.61 2036.36,1226.61 2036.45,1226.61 2036.54,1226.61 2036.63,1226.61 2036.73,1226.61 2036.82,1226.61 2036.91,1226.61 \n",
       "  2037.01,1226.61 2037.1,1226.61 2037.19,1226.61 2037.28,1226.61 2037.38,1226.61 2037.47,1226.61 2037.56,1226.61 2037.65,1226.61 2037.74,1226.61 2037.84,1226.61 \n",
       "  2037.93,1226.61 2038.02,1226.61 2038.11,1226.61 2038.21,1226.61 2038.3,1226.61 2038.39,1226.61 2038.48,1226.61 2038.57,1226.61 2038.67,1226.61 2038.76,1226.61 \n",
       "  2038.85,1226.61 2038.94,1226.61 2039.03,1226.61 2039.13,1226.61 2039.22,1226.61 2039.31,1226.61 2039.4,1226.61 2039.49,1226.61 2039.58,1226.61 2039.68,1226.61 \n",
       "  2039.77,1226.61 2039.86,1226.61 2039.95,1226.61 2040.04,1226.61 2040.13,1226.61 2040.22,1226.61 2040.32,1226.61 2040.41,1226.61 2040.5,1226.61 2040.59,1226.61 \n",
       "  2040.68,1226.61 2040.77,1226.61 2040.86,1226.61 2040.95,1226.61 2041.05,1226.61 2041.14,1226.61 2041.23,1226.61 2041.32,1226.61 2041.41,1226.61 2041.5,1226.61 \n",
       "  2041.59,1226.61 2041.68,1226.61 2041.77,1226.61 2041.86,1226.61 2041.95,1226.61 2042.04,1226.61 2042.14,1226.61 2042.23,1226.61 2042.32,1226.61 2042.41,1226.61 \n",
       "  2042.5,1226.61 2042.59,1226.61 2042.68,1226.61 2042.77,1226.61 2042.86,1226.61 2042.95,1226.61 2043.04,1226.61 2043.13,1226.61 2043.22,1226.61 2043.31,1226.61 \n",
       "  2043.4,1226.61 2043.49,1226.61 2043.58,1226.61 2043.67,1226.61 2043.76,1226.61 2043.85,1226.61 2043.94,1226.61 2044.03,1226.61 2044.12,1226.61 2044.21,1226.61 \n",
       "  2044.3,1226.61 2044.39,1226.61 2044.48,1226.61 2044.57,1226.61 2044.66,1226.61 2044.75,1226.61 2044.84,1226.61 2044.93,1226.61 2045.02,1226.61 2045.11,1226.61 \n",
       "  2045.2,1226.61 2045.29,1226.61 2045.38,1226.61 2045.47,1226.61 2045.55,1226.61 2045.64,1226.61 2045.73,1226.61 2045.82,1226.61 2045.91,1226.61 2046,1226.61 \n",
       "  2046.09,1226.61 2046.18,1226.61 2046.27,1226.61 2046.36,1226.61 2046.45,1226.61 2046.54,1226.61 2046.62,1226.61 2046.71,1226.61 2046.8,1226.61 2046.89,1226.61 \n",
       "  2046.98,1226.61 2047.07,1226.61 2047.16,1226.61 2047.25,1226.61 2047.33,1226.61 2047.42,1226.61 2047.51,1226.61 2047.6,1226.61 2047.69,1226.61 2047.78,1226.61 \n",
       "  2047.87,1226.61 2047.95,1226.61 2048.04,1226.61 2048.13,1226.61 2048.22,1226.61 2048.31,1226.61 2048.4,1226.61 2048.48,1226.61 2048.57,1226.61 2048.66,1226.61 \n",
       "  2048.75,1226.61 2048.84,1226.61 2048.93,1226.61 2049.01,1226.61 2049.1,1226.61 2049.19,1226.61 2049.28,1226.61 2049.37,1226.61 2049.45,1226.61 2049.54,1226.61 \n",
       "  2049.63,1226.61 2049.72,1226.61 2049.8,1226.61 2049.89,1226.61 2049.98,1226.61 2050.07,1226.61 2050.15,1226.61 2050.24,1226.61 2050.33,1226.61 2050.42,1226.61 \n",
       "  2050.51,1226.61 2050.59,1226.61 2050.68,1226.61 2050.77,1226.61 2050.85,1226.61 2050.94,1226.61 2051.03,1226.61 2051.12,1226.61 2051.2,1226.61 2051.29,1226.61 \n",
       "  2051.38,1226.61 2051.47,1226.61 2051.55,1226.61 2051.64,1226.61 2051.73,1226.61 2051.81,1226.61 2051.9,1226.61 2051.99,1226.61 2052.07,1226.61 2052.16,1226.61 \n",
       "  2052.25,1226.61 2052.34,1226.61 2052.42,1226.61 2052.51,1226.61 2052.6,1226.61 2052.68,1226.61 2052.77,1226.61 2052.86,1226.61 2052.94,1226.61 2053.03,1226.61 \n",
       "  2053.12,1226.61 2053.2,1226.61 2053.29,1226.61 2053.37,1226.61 2053.46,1226.61 2053.55,1226.61 2053.63,1226.61 2053.72,1226.61 2053.81,1226.61 2053.89,1226.61 \n",
       "  2053.98,1226.61 2054.07,1226.61 2054.15,1226.61 2054.24,1226.61 2054.32,1226.61 2054.41,1226.61 2054.5,1226.61 2054.58,1226.61 2054.67,1226.61 2054.75,1226.61 \n",
       "  2054.84,1226.61 2054.93,1226.61 2055.01,1226.61 2055.1,1226.61 2055.18,1226.61 2055.27,1226.61 2055.35,1226.61 2055.44,1226.61 2055.53,1226.61 2055.61,1226.61 \n",
       "  2055.7,1226.61 2055.78,1226.61 2055.87,1226.61 2055.95,1226.61 2056.04,1226.61 2056.12,1226.61 2056.21,1226.61 2056.3,1226.61 2056.38,1226.61 2056.47,1226.61 \n",
       "  2056.55,1226.61 2056.64,1226.61 2056.72,1226.61 2056.81,1226.61 2056.89,1226.61 2056.98,1226.61 2057.06,1226.61 2057.15,1226.61 2057.23,1226.61 2057.32,1226.61 \n",
       "  2057.4,1226.61 2057.49,1226.61 2057.57,1226.61 2057.66,1226.61 2057.74,1226.61 2057.83,1226.61 2057.91,1226.61 2058,1226.61 2058.08,1226.61 2058.17,1226.61 \n",
       "  2058.25,1226.61 2058.34,1226.61 2058.42,1226.61 2058.51,1226.61 2058.59,1226.61 2058.67,1226.61 2058.76,1226.61 2058.84,1226.61 2058.93,1226.61 2059.01,1226.61 \n",
       "  2059.1,1226.61 2059.18,1226.61 2059.27,1226.61 2059.35,1226.61 2059.43,1226.61 2059.52,1226.61 2059.6,1226.61 2059.69,1226.61 2059.77,1226.61 2059.85,1226.61 \n",
       "  2059.94,1226.61 2060.02,1226.61 2060.11,1226.61 2060.19,1226.61 2060.27,1226.61 2060.36,1226.61 2060.44,1226.61 2060.53,1226.61 2060.61,1226.61 2060.69,1226.61 \n",
       "  2060.78,1226.61 2060.86,1226.61 2060.95,1226.61 2061.03,1226.61 2061.11,1226.61 2061.2,1226.61 2061.28,1226.61 2061.36,1226.61 2061.45,1226.61 2061.53,1226.61 \n",
       "  2061.61,1226.61 2061.7,1226.61 2061.78,1226.61 2061.86,1226.61 2061.95,1226.61 2062.03,1226.61 2062.11,1226.61 2062.2,1226.61 2062.28,1226.61 2062.36,1226.61 \n",
       "  2062.45,1226.61 2062.53,1226.61 2062.61,1226.61 2062.7,1226.61 2062.78,1226.61 2062.86,1226.61 2062.95,1226.61 2063.03,1226.61 2063.11,1226.61 2063.2,1226.61 \n",
       "  2063.28,1226.61 2063.36,1226.61 2063.44,1226.61 2063.53,1226.61 2063.61,1226.61 2063.69,1226.61 2063.77,1226.61 2063.86,1226.61 2063.94,1226.61 2064.02,1226.61 \n",
       "  2064.11,1226.61 2064.19,1272.08 2064.27,1272.08 2064.35,1272.08 2064.44,1272.08 2064.52,1272.08 2064.6,1272.08 2064.68,1272.08 2064.77,1272.08 2064.85,1272.08 \n",
       "  2064.93,1272.08 2065.01,1272.08 2065.09,1272.08 2065.18,1272.08 2065.26,1272.08 2065.34,1272.08 2065.42,1272.08 2065.51,1272.08 2065.59,1272.08 2065.67,1272.08 \n",
       "  2065.75,1272.08 2065.83,1272.08 2065.92,1272.08 2066,1272.08 2066.08,1272.08 2066.16,1272.08 2066.24,1272.08 2066.33,1272.08 2066.41,1272.08 2066.49,1272.08 \n",
       "  2066.57,1272.08 2066.65,1272.08 2066.73,1272.08 2066.82,1272.08 2066.9,1272.08 2066.98,1272.08 2067.06,1272.08 2067.14,1272.08 2067.22,1272.08 2067.31,1272.08 \n",
       "  2067.39,1272.08 2067.47,1272.08 2067.55,1272.08 2067.63,1272.08 2067.71,1272.08 2067.79,1272.08 2067.88,1272.08 2067.96,1272.08 2068.04,1272.08 2068.12,1272.08 \n",
       "  2068.2,1272.08 2068.28,1272.08 2068.36,1272.08 2068.44,1272.08 2068.53,1272.08 2068.61,1272.08 2068.69,1272.08 2068.77,1272.08 2068.85,1272.08 2068.93,1272.08 \n",
       "  2069.01,1272.08 2069.09,1272.08 2069.17,1272.08 2069.25,1272.08 2069.33,1272.08 2069.42,1272.08 2069.5,1272.08 2069.58,1272.08 2069.66,1272.08 2069.74,1272.08 \n",
       "  2069.82,1272.08 2069.9,1272.08 2069.98,1272.08 2070.06,1272.08 2070.14,1272.08 2070.22,1272.08 2070.3,1272.08 2070.38,1272.08 2070.46,1272.08 2070.54,1272.08 \n",
       "  2070.62,1272.08 2070.7,1272.08 2070.78,1272.08 2070.87,1272.08 2070.95,1272.08 2071.03,1272.08 2071.11,1272.08 2071.19,1272.08 2071.27,1272.08 2071.35,1272.08 \n",
       "  2071.43,1272.08 2071.51,1272.08 2071.59,1272.08 2071.67,1272.08 2071.75,1272.08 2071.83,1272.08 2071.91,1272.08 2071.99,1272.08 2072.07,1272.08 2072.15,1272.08 \n",
       "  2072.23,1272.08 2072.31,1272.08 2072.39,1272.08 2072.47,1272.08 2072.55,1272.08 2072.63,1272.08 2072.7,1272.08 2072.78,1272.08 2072.86,1272.08 2072.94,1272.08 \n",
       "  2073.02,1272.08 2073.1,1272.08 2073.18,1272.08 2073.26,1272.08 2073.34,1272.08 2073.42,1272.08 2073.5,1272.08 2073.58,1272.08 2073.66,1272.08 2073.74,1272.08 \n",
       "  2073.82,1272.08 2073.9,1272.08 2073.98,1272.08 2074.06,1272.08 2074.13,1272.08 2074.21,1272.08 2074.29,1272.08 2074.37,1272.08 2074.45,1272.08 2074.53,1272.08 \n",
       "  2074.61,1272.08 2074.69,1272.08 2074.77,1272.08 2074.85,1272.08 2074.93,1272.08 2075,1272.08 2075.08,1272.08 2075.16,1272.08 2075.24,1272.08 2075.32,1272.08 \n",
       "  2075.4,1272.08 2075.48,1272.08 2075.56,1272.08 2075.63,1272.08 2075.71,1272.08 2075.79,1272.08 2075.87,1272.08 2075.95,1272.08 2076.03,1272.08 2076.11,1272.08 \n",
       "  2076.18,1272.08 2076.26,1272.08 2076.34,1272.08 2076.42,1272.08 2076.5,1272.08 2076.58,1272.08 2076.66,1272.08 2076.73,1272.08 2076.81,1272.08 2076.89,1272.08 \n",
       "  2076.97,1272.08 2077.05,1272.08 2077.12,1272.08 2077.2,1272.08 2077.28,1272.08 2077.36,1272.08 2077.44,1272.08 2077.52,1272.08 2077.59,1272.08 2077.67,1272.08 \n",
       "  2077.75,1272.08 2077.83,1272.08 2077.91,1272.08 2077.98,1272.08 2078.06,1272.08 2078.14,1272.08 2078.22,1272.08 2078.29,1272.08 2078.37,1272.08 2078.45,1272.08 \n",
       "  2078.53,1272.08 2078.61,1272.08 2078.68,1272.08 2078.76,1272.08 2078.84,1272.08 2078.92,1272.08 2078.99,1272.08 2079.07,1272.08 2079.15,1272.08 2079.23,1272.08 \n",
       "  2079.3,1272.08 2079.38,1272.08 2079.46,1272.08 2079.54,1272.08 2079.61,1272.08 2079.69,1272.08 2079.77,1272.08 2079.85,1272.08 2079.92,1272.08 2080,1272.08 \n",
       "  2080.08,1272.08 2080.16,1272.08 2080.23,1272.08 2080.31,1272.08 2080.39,1272.08 2080.46,1272.08 2080.54,1272.08 2080.62,1272.08 2080.7,1272.08 2080.77,1272.08 \n",
       "  2080.85,1272.08 2080.93,1272.08 2081,1272.08 2081.08,1272.08 2081.16,1272.08 2081.23,1272.08 2081.31,1272.08 2081.39,1272.08 2081.46,1272.08 2081.54,1272.08 \n",
       "  2081.62,1272.08 2081.69,1272.08 2081.77,1272.08 2081.85,1272.08 2081.92,1272.08 2082,1272.08 2082.08,1272.08 2082.15,1272.08 2082.23,1272.08 2082.31,1272.08 \n",
       "  2082.38,1272.08 2082.46,1272.08 2082.54,1272.08 2082.61,1272.08 2082.69,1272.08 2082.77,1272.08 2082.84,1272.08 2082.92,1272.08 2082.99,1272.08 2083.07,1272.08 \n",
       "  2083.15,1272.08 2083.22,1272.08 2083.3,1272.08 2083.38,1272.08 2083.45,1272.08 2083.53,1272.08 2083.6,1272.08 2083.68,1272.08 2083.76,1272.08 2083.83,1272.08 \n",
       "  2083.91,1272.08 2083.98,1272.08 2084.06,1272.08 2084.14,1272.08 2084.21,1272.08 2084.29,1272.08 2084.36,1272.08 2084.44,1272.08 2084.52,1272.08 2084.59,1272.08 \n",
       "  2084.67,1272.08 2084.74,1272.08 2084.82,1272.08 2084.89,1272.08 2084.97,1272.08 2085.05,1272.08 2085.12,1272.08 2085.2,1272.08 2085.27,1272.08 2085.35,1272.08 \n",
       "  2085.42,1272.08 2085.5,1272.08 2085.57,1272.08 2085.65,1272.08 2085.73,1272.08 2085.8,1272.08 2085.88,1272.08 2085.95,1272.08 2086.03,1272.08 2086.1,1272.08 \n",
       "  2086.18,1272.08 2086.25,1272.08 2086.33,1272.08 2086.4,1272.08 2086.48,1272.08 2086.55,1272.08 2086.63,1272.08 2086.7,1272.08 2086.78,1272.08 2086.85,1272.08 \n",
       "  2086.93,1272.08 2087,1272.08 2087.08,1272.08 2087.15,1272.08 2087.23,1272.08 2087.3,1272.08 2087.38,1272.08 2087.45,1272.08 2087.53,1272.08 2087.6,1272.08 \n",
       "  2087.68,1272.08 2087.75,1272.08 2087.83,1272.08 2087.9,1272.08 2087.98,1272.08 2088.05,1272.08 2088.13,1272.08 2088.2,1272.08 2088.28,1272.08 2088.35,1272.08 \n",
       "  2088.42,1272.08 2088.5,1272.08 2088.57,1272.08 2088.65,1272.08 2088.72,1272.08 2088.8,1272.08 2088.87,1272.08 2088.95,1272.08 2089.02,1272.08 2089.09,1272.08 \n",
       "  2089.17,1272.08 2089.24,1272.08 2089.32,1272.08 2089.39,1272.08 2089.47,1272.08 2089.54,1272.08 2089.61,1272.08 2089.69,1272.08 2089.76,1272.08 2089.84,1272.08 \n",
       "  2089.91,1272.08 2089.99,1272.08 2090.06,1272.08 2090.13,1272.08 2090.21,1272.08 2090.28,1272.08 2090.36,1272.08 2090.43,1272.08 2090.5,1272.08 2090.58,1272.08 \n",
       "  2090.65,1272.08 2090.73,1272.08 2090.8,1272.08 2090.87,1272.08 2090.95,1272.08 2091.02,1272.08 2091.09,1272.08 2091.17,1272.08 2091.24,1272.08 2091.32,1272.08 \n",
       "  2091.39,1272.08 2091.46,1272.08 2091.54,1272.08 2091.61,1272.08 2091.68,1272.08 2091.76,1272.08 2091.83,1272.08 2091.9,1272.08 2091.98,1272.08 2092.05,1272.08 \n",
       "  2092.12,1272.08 2092.2,1272.08 2092.27,1272.08 2092.34,1272.08 2092.42,1272.08 2092.49,1272.08 2092.56,1272.08 2092.64,1272.08 2092.71,1272.08 2092.78,1272.08 \n",
       "  2092.86,1272.08 2092.93,1272.08 2093,1272.08 2093.08,1272.08 2093.15,1272.08 2093.22,1272.08 2093.3,1272.08 2093.37,1272.08 2093.44,1272.08 2093.51,1272.08 \n",
       "  2093.59,1272.08 2093.66,1272.08 2093.73,1272.08 2093.81,1272.08 2093.88,1272.08 2093.95,1272.08 2094.02,1272.08 2094.1,1272.08 2094.17,1272.08 2094.24,1272.08 \n",
       "  2094.32,1272.08 2094.39,1272.08 2094.46,1272.08 2094.53,1272.08 2094.61,1272.08 2094.68,1272.08 2094.75,1272.08 2094.82,1272.08 2094.9,1272.08 2094.97,1272.08 \n",
       "  2095.04,1272.08 2095.11,1272.08 2095.19,1272.08 2095.26,1272.08 2095.33,1272.08 2095.4,1272.08 2095.48,1272.08 2095.55,1272.08 2095.62,1272.08 2095.69,1272.08 \n",
       "  2095.77,1272.08 2095.84,1272.08 2095.91,1272.08 2095.98,1272.08 2096.06,1272.08 2096.13,1272.08 2096.2,1272.08 2096.27,1272.08 2096.34,1272.08 2096.42,1272.08 \n",
       "  2096.49,1272.08 2096.56,1272.08 2096.63,1272.08 2096.7,1272.08 2096.78,1272.08 2096.85,1272.08 2096.92,1272.08 2096.99,1272.08 2097.06,1272.08 2097.14,1272.08 \n",
       "  2097.21,1272.08 2097.28,1272.08 2097.35,1272.08 2097.42,1272.08 2097.49,1272.08 2097.57,1272.08 2097.64,1272.08 2097.71,1272.08 2097.78,1272.08 2097.85,1272.08 \n",
       "  2097.92,1272.08 2098,1272.08 2098.07,1272.08 2098.14,1272.08 2098.21,1272.08 2098.28,1272.08 2098.35,1272.08 2098.43,1272.08 2098.5,1272.08 2098.57,1272.08 \n",
       "  2098.64,1272.08 2098.71,1272.08 2098.78,1272.08 2098.85,1272.08 2098.93,1272.08 2099,1272.08 2099.07,1272.08 2099.14,1272.08 2099.21,1272.08 2099.28,1272.08 \n",
       "  2099.35,1272.08 2099.42,1272.08 2099.5,1272.08 2099.57,1272.08 2099.64,1272.08 2099.71,1272.08 2099.78,1272.08 2099.85,1272.08 2099.92,1272.08 2099.99,1272.08 \n",
       "  2100.06,1272.08 2100.14,1272.08 2100.21,1272.08 2100.28,1272.08 2100.35,1272.08 2100.42,1272.08 2100.49,1272.08 2100.56,1272.08 2100.63,1272.08 2100.7,1272.08 \n",
       "  2100.77,1272.08 2100.84,1272.08 2100.91,1272.08 2100.99,1272.08 2101.06,1272.08 2101.13,1272.08 2101.2,1272.08 2101.27,1272.08 2101.34,1272.08 2101.41,1272.08 \n",
       "  2101.48,1272.08 2101.55,1272.08 2101.62,1272.08 2101.69,1272.08 2101.76,1272.08 2101.83,1272.08 2101.9,1272.08 2101.97,1272.08 2102.04,1272.08 2102.11,1272.08 \n",
       "  2102.18,1272.08 2102.25,1272.08 2102.33,1272.08 2102.4,1272.08 2102.47,1272.08 2102.54,1272.08 2102.61,1272.08 2102.68,1272.08 2102.75,1272.08 2102.82,1272.08 \n",
       "  2102.89,1272.08 2102.96,1272.08 2103.03,1272.08 2103.1,1272.08 2103.17,1272.08 2103.24,1272.08 2103.31,1272.08 2103.38,1272.08 2103.45,1272.08 2103.52,1272.08 \n",
       "  2103.59,1272.08 2103.66,1272.08 2103.73,1272.08 2103.8,1272.08 2103.87,1272.08 2103.94,1272.08 2104.01,1272.08 2104.08,1272.08 2104.15,1272.08 2104.22,1272.08 \n",
       "  2104.29,1272.08 2104.36,1272.08 2104.43,1272.08 2104.5,1272.08 2104.56,1272.08 2104.63,1272.08 2104.7,1272.08 2104.77,1272.08 2104.84,1272.08 2104.91,1272.08 \n",
       "  2104.98,1272.08 2105.05,1272.08 2105.12,1272.08 2105.19,1272.08 2105.26,1272.08 2105.33,1272.08 2105.4,1272.08 2105.47,1272.08 2105.54,1272.08 2105.61,1272.08 \n",
       "  2105.68,1272.08 2105.75,1272.08 2105.82,1272.08 2105.88,1272.08 2105.95,1272.08 2106.02,1272.08 2106.09,1272.08 2106.16,1272.08 2106.23,1272.08 2106.3,1272.08 \n",
       "  2106.37,1272.08 2106.44,1272.08 2106.51,1272.08 2106.58,1272.08 2106.65,1272.08 2106.71,1272.08 2106.78,1272.08 2106.85,1272.08 2106.92,1272.08 2106.99,1272.08 \n",
       "  2107.06,1272.08 2107.13,1272.08 2107.2,1272.08 2107.27,1272.08 2107.33,1272.08 2107.4,1272.08 2107.47,1272.08 2107.54,1272.08 2107.61,1272.08 2107.68,1272.08 \n",
       "  2107.75,1272.08 2107.82,1272.08 2107.88,1272.08 2107.95,1272.08 2108.02,1272.08 2108.09,1272.08 2108.16,1272.08 2108.23,1272.08 2108.3,1272.08 2108.37,1272.08 \n",
       "  2108.43,1272.08 2108.5,1272.08 2108.57,1272.08 2108.64,1272.08 2108.71,1272.08 2108.78,1272.08 2108.84,1272.08 2108.91,1336.16 2108.98,1336.16 2109.05,1336.16 \n",
       "  2109.12,1336.16 2109.19,1336.16 2109.25,1336.16 2109.32,1336.16 2109.39,1336.16 2109.46,1336.16 2109.53,1336.16 2109.6,1336.16 2109.66,1336.16 2109.73,1336.16 \n",
       "  2109.8,1336.16 2109.87,1336.16 2109.94,1336.16 2110,1336.16 2110.07,1336.16 2110.14,1336.16 2110.21,1336.16 2110.28,1336.16 2110.34,1336.16 2110.41,1336.16 \n",
       "  2110.48,1336.16 2110.55,1336.16 2110.62,1336.16 2110.68,1336.16 2110.75,1336.16 2110.82,1336.16 2110.89,1336.16 2110.96,1336.16 2111.02,1336.16 2111.09,1336.16 \n",
       "  2111.16,1336.16 2111.23,1336.16 2111.29,1336.16 2111.36,1336.16 2111.43,1336.16 2111.5,1336.16 2111.57,1336.16 2111.63,1336.16 2111.7,1336.16 2111.77,1336.16 \n",
       "  2111.84,1336.16 2111.9,1336.16 2111.97,1336.16 2112.04,1336.16 2112.11,1336.16 2112.17,1336.16 2112.24,1336.16 2112.31,1336.16 2112.38,1336.16 2112.44,1336.16 \n",
       "  2112.51,1336.16 2112.58,1336.16 2112.64,1336.16 2112.71,1336.16 2112.78,1336.16 2112.85,1336.16 2112.91,1336.16 2112.98,1336.16 2113.05,1336.16 2113.12,1336.16 \n",
       "  2113.18,1336.16 2113.25,1336.16 2113.32,1336.16 2113.38,1336.16 2113.45,1336.16 2113.52,1336.16 2113.59,1336.16 2113.65,1336.16 2113.72,1336.16 2113.79,1336.16 \n",
       "  2113.85,1336.16 2113.92,1336.16 2113.99,1336.16 2114.05,1336.16 2114.12,1336.16 2114.19,1336.16 2114.26,1336.16 2114.32,1336.16 2114.39,1336.16 2114.46,1336.16 \n",
       "  2114.52,1336.16 2114.59,1336.16 2114.66,1336.16 2114.72,1336.16 2114.79,1336.16 2114.86,1336.16 2114.92,1336.16 2114.99,1336.16 2115.06,1336.16 2115.12,1336.16 \n",
       "  2115.19,1336.16 2115.26,1336.16 2115.32,1336.16 2115.39,1336.16 2115.46,1336.16 2115.52,1336.16 2115.59,1336.16 2115.66,1336.16 2115.72,1336.16 2115.79,1336.16 \n",
       "  2115.85,1336.16 2115.92,1336.16 2115.99,1336.16 2116.05,1336.16 2116.12,1336.16 2116.19,1336.16 2116.25,1336.16 2116.32,1336.16 2116.39,1336.16 2116.45,1336.16 \n",
       "  2116.52,1336.16 2116.58,1336.16 2116.65,1336.16 2116.72,1336.16 2116.78,1336.16 2116.85,1336.16 2116.91,1336.16 2116.98,1336.16 2117.05,1336.16 2117.11,1336.16 \n",
       "  2117.18,1336.16 2117.25,1336.16 2117.31,1336.16 2117.38,1336.16 2117.44,1336.16 2117.51,1336.16 2117.58,1336.16 2117.64,1336.16 2117.71,1336.16 2117.77,1336.16 \n",
       "  2117.84,1336.16 2117.9,1336.16 2117.97,1336.16 2118.04,1336.16 2118.1,1336.16 2118.17,1336.16 2118.23,1336.16 2118.3,1336.16 2118.37,1336.16 2118.43,1336.16 \n",
       "  2118.5,1336.16 2118.56,1336.16 2118.63,1336.16 2118.69,1336.16 2118.76,1336.16 2118.82,1336.16 2118.89,1336.16 2118.96,1336.16 2119.02,1336.16 2119.09,1336.16 \n",
       "  2119.15,1336.16 2119.22,1336.16 2119.28,1336.16 2119.35,1336.16 2119.41,1336.16 2119.48,1336.16 2119.55,1336.16 2119.61,1336.16 2119.68,1336.16 2119.74,1336.16 \n",
       "  2119.81,1336.16 2119.87,1336.16 2119.94,1336.16 2120,1336.16 2120.07,1336.16 2120.13,1336.16 2120.2,1336.16 2120.26,1336.16 2120.33,1336.16 2120.39,1336.16 \n",
       "  2120.46,1336.16 2120.52,1336.16 2120.59,1336.16 2120.65,1336.16 2120.72,1336.16 2120.78,1336.16 2120.85,1336.16 2120.91,1336.16 2120.98,1336.16 2121.04,1336.16 \n",
       "  2121.11,1336.16 2121.17,1336.16 2121.24,1336.16 2121.3,1336.16 2121.37,1336.16 2121.43,1336.16 2121.5,1336.16 2121.56,1336.16 2121.63,1336.16 2121.69,1336.16 \n",
       "  2121.76,1336.16 2121.82,1336.16 2121.89,1336.16 2121.95,1336.16 2122.02,1336.16 2122.08,1336.16 2122.15,1336.16 2122.21,1336.16 2122.28,1336.16 2122.34,1336.16 \n",
       "  2122.41,1336.16 2122.47,1336.16 2122.53,1336.16 2122.6,1336.16 2122.66,1336.16 2122.73,1336.16 2122.79,1336.16 2122.86,1336.16 2122.92,1336.16 2122.99,1336.16 \n",
       "  2123.05,1336.16 2123.11,1336.16 2123.18,1336.16 2123.24,1336.16 2123.31,1336.16 2123.37,1336.16 2123.44,1336.16 2123.5,1336.16 2123.57,1336.16 2123.63,1336.16 \n",
       "  2123.69,1336.16 2123.76,1336.16 2123.82,1336.16 2123.89,1336.16 2123.95,1336.16 2124.01,1336.16 2124.08,1336.16 2124.14,1336.16 2124.21,1336.16 2124.27,1336.16 \n",
       "  2124.34,1336.16 2124.4,1336.16 2124.46,1336.16 2124.53,1336.16 2124.59,1336.16 2124.66,1336.16 2124.72,1336.16 2124.78,1336.16 2124.85,1336.16 2124.91,1336.16 \n",
       "  2124.98,1336.16 2125.04,1336.16 2125.1,1336.16 2125.17,1336.16 2125.23,1336.16 2125.29,1336.16 2125.36,1336.16 2125.42,1336.16 2125.49,1336.16 2125.55,1336.16 \n",
       "  2125.61,1336.16 2125.68,1336.16 2125.74,1336.16 2125.8,1336.16 2125.87,1336.16 2125.93,1336.16 2126,1336.16 2126.06,1336.16 2126.12,1336.16 2126.19,1336.16 \n",
       "  2126.25,1336.16 2126.31,1336.16 2126.38,1336.16 2126.44,1336.16 2126.5,1336.16 2126.57,1336.16 2126.63,1336.16 2126.69,1336.16 2126.76,1336.16 2126.82,1336.16 \n",
       "  2126.89,1336.16 2126.95,1336.16 2127.01,1336.16 2127.08,1336.16 2127.14,1336.16 2127.2,1336.16 2127.27,1336.16 2127.33,1336.16 2127.39,1336.16 2127.46,1336.16 \n",
       "  2127.52,1336.16 2127.58,1336.16 2127.64,1336.16 2127.71,1336.16 2127.77,1336.16 2127.83,1336.16 2127.9,1336.16 2127.96,1336.16 2128.02,1336.16 2128.09,1336.16 \n",
       "  2128.15,1336.16 2128.21,1336.16 2128.28,1336.16 2128.34,1336.16 2128.4,1336.16 2128.46,1336.16 2128.53,1336.16 2128.59,1336.16 2128.65,1336.16 2128.72,1336.16 \n",
       "  2128.78,1336.16 2128.84,1336.16 2128.91,1336.16 2128.97,1336.16 2129.03,1336.16 2129.09,1336.16 2129.16,1336.16 2129.22,1336.16 2129.28,1336.16 2129.34,1336.16 \n",
       "  2129.41,1336.16 2129.47,1336.16 2129.53,1336.16 2129.6,1336.16 2129.66,1336.16 2129.72,1336.16 2129.78,1336.16 2129.85,1336.16 2129.91,1336.16 2129.97,1336.16 \n",
       "  2130.03,1336.16 2130.1,1336.16 2130.16,1336.16 2130.22,1336.16 2130.28,1336.16 2130.35,1336.16 2130.41,1336.16 2130.47,1336.16 2130.53,1336.16 2130.6,1336.16 \n",
       "  2130.66,1336.16 2130.72,1336.16 2130.78,1336.16 2130.85,1336.16 2130.91,1336.16 2130.97,1336.16 2131.03,1336.16 2131.1,1336.16 2131.16,1336.16 2131.22,1336.16 \n",
       "  2131.28,1336.16 2131.34,1336.16 2131.41,1336.16 2131.47,1336.16 2131.53,1336.16 2131.59,1336.16 2131.66,1336.16 2131.72,1336.16 2131.78,1336.16 2131.84,1336.16 \n",
       "  2131.9,1336.16 2131.97,1336.16 2132.03,1336.16 2132.09,1336.16 2132.15,1336.16 2132.21,1336.16 2132.28,1336.16 2132.34,1336.16 2132.4,1336.16 2132.46,1336.16 \n",
       "  2132.52,1336.16 2132.59,1336.16 2132.65,1336.16 2132.71,1336.16 2132.77,1336.16 2132.83,1336.16 2132.89,1336.16 2132.96,1336.16 2133.02,1336.16 2133.08,1336.16 \n",
       "  2133.14,1336.16 2133.2,1336.16 2133.27,1336.16 2133.33,1336.16 2133.39,1336.16 2133.45,1336.16 2133.51,1336.16 2133.57,1336.16 2133.64,1336.16 2133.7,1336.16 \n",
       "  2133.76,1336.16 2133.82,1336.16 2133.88,1336.16 2133.94,1336.16 2134,1336.16 2134.07,1336.16 2134.13,1336.16 2134.19,1336.16 2134.25,1336.16 2134.31,1336.16 \n",
       "  2134.37,1336.16 2134.44,1336.16 2134.5,1336.16 2134.56,1336.16 2134.62,1336.16 2134.68,1336.16 2134.74,1336.16 2134.8,1336.16 2134.86,1336.16 2134.93,1336.16 \n",
       "  2134.99,1336.16 2135.05,1336.16 2135.11,1336.16 2135.17,1336.16 2135.23,1336.16 2135.29,1336.16 2135.35,1336.16 2135.42,1336.16 2135.48,1336.16 2135.54,1336.16 \n",
       "  2135.6,1336.16 2135.66,1336.16 2135.72,1336.16 2135.78,1336.16 2135.84,1336.16 2135.9,1336.16 2135.97,1336.16 2136.03,1336.16 2136.09,1336.16 2136.15,1336.16 \n",
       "  2136.21,1336.16 2136.27,1336.16 2136.33,1336.16 2136.39,1336.16 2136.45,1336.16 2136.51,1336.16 2136.57,1336.16 2136.64,1336.16 2136.7,1336.16 2136.76,1336.16 \n",
       "  2136.82,1336.16 2136.88,1336.16 2136.94,1336.16 2137,1336.16 2137.06,1336.16 2137.12,1336.16 2137.18,1336.16 2137.24,1336.16 2137.3,1336.16 2137.36,1336.16 \n",
       "  2137.43,1336.16 2137.49,1336.16 2137.55,1336.16 2137.61,1336.16 2137.67,1336.16 2137.73,1336.16 2137.79,1336.16 2137.85,1336.16 2137.91,1336.16 2137.97,1336.16 \n",
       "  2138.03,1336.16 2138.09,1336.16 2138.15,1336.16 2138.21,1336.16 2138.27,1336.16 2138.33,1336.16 2138.39,1336.16 2138.45,1336.16 2138.51,1336.16 2138.57,1336.16 \n",
       "  2138.64,1336.16 2138.7,1336.16 2138.76,1336.16 2138.82,1336.16 2138.88,1336.16 2138.94,1336.16 2139,1336.16 2139.06,1336.16 2139.12,1336.16 2139.18,1336.16 \n",
       "  2139.24,1336.16 2139.3,1336.16 2139.36,1336.16 2139.42,1336.16 2139.48,1336.16 2139.54,1336.16 2139.6,1336.16 2139.66,1336.16 2139.72,1336.16 2139.78,1336.16 \n",
       "  2139.84,1336.16 2139.9,1336.16 2139.96,1336.16 2140.02,1336.16 2140.08,1336.16 2140.14,1336.16 2140.2,1336.16 2140.26,1336.16 2140.32,1336.16 2140.38,1336.16 \n",
       "  2140.44,1336.16 2140.5,1336.16 2140.56,1336.16 2140.62,1336.16 2140.68,1336.16 2140.74,1336.16 2140.8,1336.16 2140.86,1336.16 2140.92,1336.16 2140.98,1336.16 \n",
       "  2141.04,1336.16 2141.1,1336.16 2141.16,1336.16 2141.22,1336.16 2141.28,1336.16 2141.33,1336.16 2141.39,1336.16 2141.45,1336.16 2141.51,1336.16 2141.57,1336.16 \n",
       "  2141.63,1336.16 2141.69,1336.16 2141.75,1336.16 2141.81,1336.16 2141.87,1336.16 2141.93,1336.16 2141.99,1336.16 2142.05,1336.16 2142.11,1336.16 2142.17,1336.16 \n",
       "  2142.23,1336.16 2142.29,1336.16 2142.35,1336.16 2142.41,1336.16 2142.47,1336.16 2142.52,1336.16 2142.58,1336.16 2142.64,1336.16 2142.7,1336.16 2142.76,1336.16 \n",
       "  2142.82,1336.16 2142.88,1336.16 2142.94,1336.16 2143,1336.16 2143.06,1336.16 2143.12,1336.16 2143.18,1336.16 2143.24,1336.16 2143.3,1336.16 2143.35,1336.16 \n",
       "  2143.41,1336.16 2143.47,1336.16 2143.53,1336.16 2143.59,1336.16 2143.65,1336.16 2143.71,1336.16 2143.77,1336.16 2143.83,1336.16 2143.89,1336.16 2143.95,1336.16 \n",
       "  2144,1336.16 2144.06,1336.16 2144.12,1336.16 2144.18,1336.16 2144.24,1336.16 2144.3,1336.16 2144.36,1336.16 2144.42,1336.16 2144.48,1336.16 2144.53,1336.16 \n",
       "  2144.59,1336.16 2144.65,1336.16 2144.71,1336.16 2144.77,1336.16 2144.83,1336.16 2144.89,1336.16 2144.95,1336.16 2145,1336.16 2145.06,1336.16 2145.12,1336.16 \n",
       "  2145.18,1336.16 2145.24,1336.16 2145.3,1336.16 2145.36,1336.16 2145.42,1336.16 2145.47,1336.16 2145.53,1336.16 2145.59,1336.16 2145.65,1336.16 2145.71,1336.16 \n",
       "  2145.77,1336.16 2145.83,1336.16 2145.88,1336.16 2145.94,1336.16 2146,1336.16 2146.06,1336.16 2146.12,1336.16 2146.18,1336.16 2146.24,1336.16 2146.29,1336.16 \n",
       "  2146.35,1336.16 2146.41,1336.16 2146.47,1336.16 2146.53,1336.16 2146.59,1336.16 2146.64,1336.16 2146.7,1336.16 2146.76,1336.16 2146.82,1336.16 2146.88,1336.16 \n",
       "  2146.94,1336.16 2146.99,1336.16 2147.05,1336.16 2147.11,1336.16 2147.17,1336.16 2147.23,1336.16 2147.28,1336.16 2147.34,1336.16 2147.4,1336.16 2147.46,1336.16 \n",
       "  2147.52,1336.16 2147.58,1336.16 2147.63,1336.16 2147.69,1336.16 2147.75,1336.16 2147.81,1336.16 2147.87,1336.16 2147.92,1336.16 2147.98,1336.16 2148.04,1336.16 \n",
       "  2148.1,1336.16 2148.16,1336.16 2148.21,1336.16 2148.27,1336.16 2148.33,1336.16 2148.39,1336.16 2148.45,1336.16 2148.5,1336.16 2148.56,1336.16 2148.62,1336.16 \n",
       "  2148.68,1336.16 2148.73,1336.16 2148.79,1336.16 2148.85,1336.16 2148.91,1336.16 2148.97,1336.16 2149.02,1336.16 2149.08,1336.16 2149.14,1336.16 2149.2,1336.16 \n",
       "  2149.25,1336.16 2149.31,1336.16 2149.37,1336.16 2149.43,1336.16 2149.48,1336.16 2149.54,1336.16 2149.6,1336.16 2149.66,1336.16 2149.72,1336.16 2149.77,1336.16 \n",
       "  2149.83,1336.16 2149.89,1336.16 2149.95,1336.16 2150,1336.16 2150.06,1336.16 2150.12,1336.16 2150.18,1336.16 2150.23,1336.16 2150.29,1336.16 2150.35,1336.16 \n",
       "  2150.41,1336.16 2150.46,1336.16 2150.52,1336.16 2150.58,1336.16 2150.63,1336.16 2150.69,1336.16 2150.75,1336.16 2150.81,1336.16 2150.86,1336.16 2150.92,1336.16 \n",
       "  2150.98,1336.16 2151.04,1336.16 2151.09,1336.16 2151.15,1336.16 2151.21,1336.16 2151.26,1336.16 2151.32,1336.16 2151.38,1336.16 2151.44,1336.16 2151.49,1336.16 \n",
       "  2151.55,1336.16 2151.61,1336.16 2151.67,1336.16 2151.72,1336.16 2151.78,1336.16 2151.84,1336.16 2151.89,1336.16 2151.95,1336.16 2152.01,1336.16 2152.06,1336.16 \n",
       "  2152.12,1336.16 2152.18,1336.16 2152.24,1336.16 2152.29,1336.16 2152.35,1336.16 2152.41,1336.16 2152.46,1336.16 2152.52,1336.16 2152.58,1336.16 2152.63,1336.16 \n",
       "  2152.69,1336.16 2152.75,1336.16 2152.8,1336.16 2152.86,1336.16 2152.92,1336.16 2152.98,1336.16 2153.03,1336.16 2153.09,1336.16 2153.15,1336.16 2153.2,1336.16 \n",
       "  2153.26,1336.16 2153.32,1336.16 2153.37,1336.16 2153.43,1336.16 2153.49,1336.16 2153.54,1336.16 2153.6,1336.16 2153.66,1336.16 2153.71,1336.16 2153.77,1336.16 \n",
       "  2153.83,1336.16 2153.88,1336.16 2153.94,1336.16 2154,1336.16 2154.05,1336.16 2154.11,1336.16 2154.16,1336.16 2154.22,1336.16 2154.28,1336.16 2154.33,1336.16 \n",
       "  2154.39,1336.16 2154.45,1336.16 2154.5,1336.16 2154.56,1336.16 2154.62,1336.16 2154.67,1336.16 2154.73,1336.16 2154.79,1336.16 2154.84,1336.16 2154.9,1336.16 \n",
       "  2154.95,1336.16 2155.01,1336.16 2155.07,1336.16 2155.12,1336.16 2155.18,1336.16 2155.24,1336.16 2155.29,1336.16 2155.35,1336.16 2155.4,1336.16 2155.46,1336.16 \n",
       "  2155.52,1336.16 2155.57,1336.16 2155.63,1336.16 2155.69,1336.16 2155.74,1336.16 2155.8,1336.16 2155.85,1336.16 2155.91,1336.16 2155.97,1336.16 2156.02,1336.16 \n",
       "  2156.08,1336.16 2156.13,1336.16 2156.19,1336.16 2156.25,1336.16 2156.3,1336.16 2156.36,1336.16 2156.41,1336.16 2156.47,1336.16 2156.53,1336.16 2156.58,1336.16 \n",
       "  2156.64,1336.16 2156.69,1336.16 2156.75,1336.16 2156.81,1336.16 2156.86,1336.16 2156.92,1336.16 2156.97,1336.16 2157.03,1336.16 2157.09,1336.16 2157.14,1336.16 \n",
       "  2157.2,1336.16 2157.25,1336.16 2157.31,1336.16 2157.36,1336.16 2157.42,1336.16 2157.48,1336.16 2157.53,1336.16 2157.59,1336.16 2157.64,1336.16 2157.7,1336.16 \n",
       "  2157.75,1336.16 2157.81,1336.16 2157.87,1336.16 2157.92,1336.16 2157.98,1336.16 2158.03,1336.16 2158.09,1336.16 2158.14,1336.16 2158.2,1336.16 2158.25,1336.16 \n",
       "  2158.31,1336.16 2158.37,1336.16 2158.42,1336.16 2158.48,1336.16 2158.53,1336.16 2158.59,1336.16 2158.64,1336.16 2158.7,1336.16 2158.75,1336.16 2158.81,1336.16 \n",
       "  2158.86,1336.16 2158.92,1336.16 2158.98,1336.16 2159.03,1336.16 2159.09,1336.16 2159.14,1336.16 2159.2,1336.16 2159.25,1336.16 2159.31,1336.16 2159.36,1336.16 \n",
       "  2159.42,1336.16 2159.47,1336.16 2159.53,1336.16 2159.58,1336.16 2159.64,1336.16 2159.69,1336.16 2159.75,1336.16 2159.8,1336.16 2159.86,1336.16 2159.92,1336.16 \n",
       "  2159.97,1336.16 2160.03,1336.16 2160.08,1336.16 2160.14,1336.16 2160.19,1336.16 2160.25,1336.16 2160.3,1336.16 2160.36,1336.16 2160.41,1336.16 2160.47,1336.16 \n",
       "  2160.52,1336.16 2160.58,1336.16 2160.63,1336.16 2160.69,1336.16 2160.74,1336.16 2160.8,1336.16 2160.85,1336.16 2160.91,1336.16 2160.96,1336.16 2161.02,1336.16 \n",
       "  2161.07,1336.16 2161.13,1336.16 2161.18,1336.16 2161.24,1336.16 2161.29,1336.16 2161.34,1336.16 2161.4,1336.16 2161.45,1336.16 2161.51,1336.16 2161.56,1336.16 \n",
       "  2161.62,1336.16 2161.67,1336.16 2161.73,1336.16 2161.78,1336.16 2161.84,1336.16 2161.89,1336.16 2161.95,1336.16 2162,1336.16 2162.06,1336.16 2162.11,1336.16 \n",
       "  2162.17,1336.16 2162.22,1336.16 2162.28,1336.16 2162.33,1336.16 2162.38,1336.16 2162.44,1336.16 2162.49,1336.16 2162.55,1336.16 2162.6,1336.16 2162.66,1336.16 \n",
       "  2162.71,1336.16 2162.77,1336.16 2162.82,1336.16 2162.88,1336.16 2162.93,1336.16 2162.98,1336.16 2163.04,1336.16 2163.09,1336.16 2163.15,1336.16 2163.2,1336.16 \n",
       "  2163.26,1336.16 2163.31,1336.16 2163.36,1336.16 2163.42,1336.16 2163.47,1336.16 2163.53,1336.16 2163.58,1336.16 2163.64,1336.16 2163.69,1336.16 2163.75,1336.16 \n",
       "  2163.8,1336.16 2163.85,1336.16 2163.91,1336.16 2163.96,1336.16 2164.02,1336.16 2164.07,1336.16 2164.12,1336.16 2164.18,1336.16 2164.23,1336.16 2164.29,1336.16 \n",
       "  2164.34,1336.16 2164.4,1336.16 2164.45,1336.16 2164.5,1336.16 2164.56,1336.16 2164.61,1336.16 2164.67,1336.16 2164.72,1336.16 2164.77,1336.16 2164.83,1336.16 \n",
       "  2164.88,1336.16 2164.94,1336.16 2164.99,1336.16 2165.04,1336.16 2165.1,1336.16 2165.15,1336.16 2165.21,1336.16 2165.26,1336.16 2165.31,1336.16 2165.37,1336.16 \n",
       "  2165.42,1336.16 2165.48,1336.16 2165.53,1336.16 2165.58,1336.16 2165.64,1336.16 2165.69,1336.16 2165.74,1336.16 2165.8,1336.16 2165.85,1336.16 2165.91,1336.16 \n",
       "  2165.96,1336.16 2166.01,1336.16 2166.07,1336.16 2166.12,1336.16 2166.17,1336.16 2166.23,1336.16 2166.28,1336.16 2166.34,1336.16 2166.39,1336.16 2166.44,1336.16 \n",
       "  2166.5,1336.16 2166.55,1336.16 2166.6,1336.16 2166.66,1336.16 2166.71,1336.16 2166.77,1336.16 2166.82,1336.16 2166.87,1336.16 2166.93,1336.16 2166.98,1336.16 \n",
       "  2167.03,1336.16 2167.09,1336.16 2167.14,1336.16 2167.19,1336.16 2167.25,1336.16 2167.3,1336.16 2167.35,1336.16 2167.41,1336.16 2167.46,1336.16 2167.51,1336.16 \n",
       "  2167.57,1336.16 2167.62,1336.16 2167.67,1336.16 2167.73,1336.16 2167.78,1336.16 2167.83,1336.16 2167.89,1336.16 2167.94,1336.16 2167.99,1336.16 2168.05,1336.16 \n",
       "  2168.1,1336.16 2168.15,1336.16 2168.21,1336.16 2168.26,1336.16 2168.31,1336.16 2168.37,1336.16 2168.42,1336.16 2168.47,1336.16 2168.53,1336.16 2168.58,1336.16 \n",
       "  2168.63,1336.16 2168.69,1336.16 2168.74,1336.16 2168.79,1336.16 2168.85,1336.16 2168.9,1336.16 2168.95,1336.16 2169.01,1336.16 2169.06,1336.16 2169.11,1336.16 \n",
       "  2169.16,1336.16 2169.22,1336.16 2169.27,1336.16 2169.32,1336.16 2169.38,1336.16 2169.43,1336.16 2169.48,1336.16 2169.54,1336.16 2169.59,1336.16 2169.64,1336.16 \n",
       "  2169.69,1336.16 2169.75,1336.16 2169.8,1336.16 2169.85,1336.16 2169.91,1336.16 2169.96,1336.16 2170.01,1336.16 2170.06,1336.16 2170.12,1336.16 2170.17,1336.16 \n",
       "  2170.22,1336.16 2170.28,1336.16 2170.33,1336.16 2170.38,1336.16 2170.43,1336.16 2170.49,1336.16 2170.54,1336.16 2170.59,1336.16 2170.65,1336.16 2170.7,1336.16 \n",
       "  2170.75,1336.16 2170.8,1336.16 2170.86,1336.16 2170.91,1336.16 2170.96,1336.16 2171.01,1336.16 2171.07,1336.16 2171.12,1336.16 2171.17,1336.16 2171.22,1336.16 \n",
       "  2171.28,1336.16 2171.33,1336.16 2171.38,1336.16 2171.43,1336.16 2171.49,1336.16 2171.54,1336.16 2171.59,1336.16 2171.64,1336.16 2171.7,1336.16 2171.75,1336.16 \n",
       "  2171.8,1336.16 2171.85,1336.16 2171.91,1336.16 2171.96,1336.16 2172.01,1336.16 2172.06,1336.16 2172.12,1336.16 2172.17,1336.16 2172.22,1336.16 2172.27,1336.16 \n",
       "  2172.33,1336.16 2172.38,1336.16 2172.43,1336.16 2172.48,1336.16 2172.54,1336.16 2172.59,1336.16 2172.64,1336.16 2172.69,1336.16 2172.74,1336.16 2172.8,1336.16 \n",
       "  2172.85,1336.16 2172.9,1336.16 2172.95,1336.16 2173.01,1336.16 2173.06,1336.16 2173.11,1336.16 2173.16,1336.16 2173.21,1336.16 2173.27,1336.16 2173.32,1336.16 \n",
       "  2173.37,1336.16 2173.42,1336.16 2173.47,1445.72 2173.53,1445.72 2173.58,1445.72 2173.63,1445.72 2173.68,1445.72 2173.74,1445.72 2173.79,1445.72 2173.84,1445.72 \n",
       "  2173.89,1445.72 2173.94,1445.72 2174,1445.72 2174.05,1445.72 2174.1,1445.72 2174.15,1445.72 2174.2,1445.72 2174.26,1445.72 2174.31,1445.72 2174.36,1445.72 \n",
       "  2174.41,1445.72 2174.46,1445.72 2174.51,1445.72 2174.57,1445.72 2174.62,1445.72 2174.67,1445.72 2174.72,1445.72 2174.77,1445.72 2174.83,1445.72 2174.88,1445.72 \n",
       "  2174.93,1445.72 2174.98,1445.72 2175.03,1445.72 2175.08,1445.72 2175.14,1445.72 2175.19,1445.72 2175.24,1445.72 2175.29,1445.72 2175.34,1445.72 2175.39,1445.72 \n",
       "  2175.45,1445.72 2175.5,1445.72 2175.55,1445.72 2175.6,1445.72 2175.65,1445.72 2175.7,1445.72 2175.76,1445.72 2175.81,1445.72 2175.86,1445.72 2175.91,1445.72 \n",
       "  2175.96,1445.72 2176.01,1445.72 2176.07,1445.72 2176.12,1445.72 2176.17,1445.72 2176.22,1445.72 2176.27,1445.72 2176.32,1445.72 2176.37,1445.72 2176.43,1445.72 \n",
       "  2176.48,1445.72 2176.53,1445.72 2176.58,1445.72 2176.63,1445.72 2176.68,1445.72 2176.73,1445.72 2176.79,1445.72 2176.84,1445.72 2176.89,1445.72 2176.94,1445.72 \n",
       "  2176.99,1445.72 2177.04,1445.72 2177.09,1445.72 2177.15,1445.72 2177.2,1445.72 2177.25,1445.72 2177.3,1445.72 2177.35,1445.72 2177.4,1445.72 2177.45,1445.72 \n",
       "  2177.5,1445.72 2177.56,1445.72 2177.61,1445.72 2177.66,1445.72 2177.71,1445.72 2177.76,1445.72 2177.81,1445.72 2177.86,1445.72 2177.91,1445.72 2177.96,1445.72 \n",
       "  2178.02,1445.72 2178.07,1445.72 2178.12,1445.72 2178.17,1445.72 2178.22,1445.72 2178.27,1445.72 2178.32,1445.72 2178.37,1445.72 2178.42,1445.72 2178.47,1445.72 \n",
       "  2178.53,1445.72 2178.58,1445.72 2178.63,1445.72 2178.68,1445.72 2178.73,1445.72 2178.78,1445.72 2178.83,1445.72 2178.88,1445.72 2178.93,1445.72 2178.98,1445.72 \n",
       "  2179.04,1445.72 2179.09,1445.72 2179.14,1445.72 2179.19,1445.72 2179.24,1445.72 2179.29,1445.72 2179.34,1445.72 2179.39,1445.72 2179.44,1445.72 2179.49,1445.72 \n",
       "  2179.54,1445.72 2179.59,1445.72 2179.65,1445.72 2179.7,1445.72 2179.75,1445.72 2179.8,1445.72 2179.85,1445.72 2179.9,1445.72 2179.95,1445.72 2180,1445.72 \n",
       "  2180.05,1445.72 2180.1,1445.72 2180.15,1445.72 2180.2,1445.72 2180.25,1445.72 2180.3,1445.72 2180.35,1445.72 2180.41,1445.72 2180.46,1445.72 2180.51,1445.72 \n",
       "  2180.56,1445.72 2180.61,1445.72 2180.66,1445.72 2180.71,1445.72 2180.76,1445.72 2180.81,1445.72 2180.86,1445.72 2180.91,1445.72 2180.96,1445.72 2181.01,1445.72 \n",
       "  2181.06,1445.72 2181.11,1445.72 2181.16,1445.72 2181.21,1445.72 2181.26,1445.72 2181.31,1445.72 2181.36,1445.72 2181.41,1445.72 2181.47,1445.72 2181.52,1445.72 \n",
       "  2181.57,1445.72 2181.62,1445.72 2181.67,1445.72 2181.72,1445.72 2181.77,1445.72 2181.82,1445.72 2181.87,1445.72 2181.92,1445.72 2181.97,1445.72 2182.02,1445.72 \n",
       "  2182.07,1445.72 2182.12,1445.72 2182.17,1445.72 2182.22,1445.72 2182.27,1445.72 2182.32,1445.72 2182.37,1445.72 2182.42,1445.72 2182.47,1445.72 2182.52,1445.72 \n",
       "  2182.57,1445.72 2182.62,1445.72 2182.67,1445.72 2182.72,1445.72 2182.77,1445.72 2182.82,1445.72 2182.87,1445.72 2182.92,1445.72 2182.97,1445.72 2183.02,1445.72 \n",
       "  2183.07,1445.72 2183.12,1445.72 2183.17,1445.72 2183.22,1445.72 2183.27,1445.72 2183.32,1445.72 2183.37,1445.72 2183.42,1445.72 2183.47,1445.72 2183.52,1445.72 \n",
       "  2183.57,1445.72 2183.62,1445.72 2183.67,1445.72 2183.72,1445.72 2183.77,1445.72 2183.82,1445.72 2183.87,1445.72 2183.92,1445.72 2183.97,1445.72 2184.02,1445.72 \n",
       "  2184.07,1445.72 2184.12,1445.72 2184.17,1445.72 2184.22,1445.72 2184.27,1445.72 2184.32,1445.72 2184.37,1445.72 2184.42,1445.72 2184.47,1445.72 2184.52,1445.72 \n",
       "  2184.57,1445.72 2184.62,1445.72 2184.67,1445.72 2184.72,1445.72 2184.77,1445.72 2184.82,1445.72 2184.87,1445.72 2184.92,1445.72 2184.97,1445.72 2185.01,1445.72 \n",
       "  2185.06,1445.72 2185.11,1445.72 2185.16,1445.72 2185.21,1445.72 2185.26,1445.72 2185.31,1445.72 2185.36,1445.72 2185.41,1445.72 2185.46,1445.72 2185.51,1445.72 \n",
       "  2185.56,1445.72 2185.61,1445.72 2185.66,1445.72 2185.71,1445.72 2185.76,1445.72 2185.81,1445.72 2185.86,1445.72 2185.91,1445.72 2185.96,1445.72 2186.01,1445.72 \n",
       "  2186.05,1445.72 2186.1,1445.72 2186.15,1445.72 2186.2,1445.72 2186.25,1445.72 2186.3,1445.72 2186.35,1445.72 2186.4,1445.72 2186.45,1445.72 2186.5,1445.72 \n",
       "  2186.55,1445.72 2186.6,1445.72 2186.65,1445.72 2186.7,1445.72 2186.75,1445.72 2186.79,1445.72 2186.84,1445.72 2186.89,1445.72 2186.94,1445.72 2186.99,1445.72 \n",
       "  2187.04,1445.72 2187.09,1445.72 2187.14,1445.72 2187.19,1445.72 2187.24,1445.72 2187.29,1445.72 2187.34,1445.72 2187.38,1445.72 2187.43,1445.72 2187.48,1445.72 \n",
       "  2187.53,1445.72 2187.58,1445.72 2187.63,1445.72 2187.68,1445.72 2187.73,1445.72 2187.78,1445.72 2187.83,1445.72 2187.88,1445.72 2187.92,1445.72 2187.97,1445.72 \n",
       "  2188.02,1445.72 2188.07,1445.72 2188.12,1445.72 2188.17,1445.72 2188.22,1445.72 2188.27,1445.72 2188.32,1445.72 2188.37,1445.72 2188.41,1445.72 2188.46,1445.72 \n",
       "  2188.51,1445.72 2188.56,1445.72 2188.61,1445.72 2188.66,1445.72 2188.71,1445.72 2188.76,1445.72 2188.8,1445.72 2188.85,1445.72 2188.9,1445.72 2188.95,1445.72 \n",
       "  2189,1445.72 2189.05,1445.72 2189.1,1445.72 2189.15,1445.72 2189.2,1445.72 2189.24,1445.72 2189.29,1445.72 2189.34,1445.72 2189.39,1445.72 2189.44,1445.72 \n",
       "  2189.49,1445.72 2189.54,1445.72 2189.58,1445.72 2189.63,1445.72 2189.68,1445.72 2189.73,1445.72 2189.78,1445.72 2189.83,1445.72 2189.88,1445.72 2189.93,1445.72 \n",
       "  2189.97,1445.72 2190.02,1445.72 2190.07,1445.72 2190.12,1445.72 2190.17,1445.72 2190.22,1445.72 2190.27,1445.72 2190.31,1445.72 2190.36,1445.72 2190.41,1445.72 \n",
       "  2190.46,1445.72 2190.51,1445.72 2190.56,1445.72 2190.6,1445.72 2190.65,1445.72 2190.7,1445.72 2190.75,1445.72 2190.8,1445.72 2190.85,1445.72 2190.9,1445.72 \n",
       "  2190.94,1445.72 2190.99,1445.72 2191.04,1445.72 2191.09,1445.72 2191.14,1445.72 2191.19,1445.72 2191.23,1445.72 2191.28,1445.72 2191.33,1445.72 2191.38,1445.72 \n",
       "  2191.43,1445.72 2191.48,1445.72 2191.52,1445.72 2191.57,1445.72 2191.62,1445.72 2191.67,1445.72 2191.72,1445.72 2191.77,1445.72 2191.81,1445.72 2191.86,1445.72 \n",
       "  2191.91,1445.72 2191.96,1445.72 2192.01,1445.72 2192.05,1445.72 2192.1,1445.72 2192.15,1445.72 2192.2,1445.72 2192.25,1445.72 2192.3,1445.72 2192.34,1445.72 \n",
       "  2192.39,1445.72 2192.44,1445.72 2192.49,1445.72 2192.54,1445.72 2192.58,1445.72 2192.63,1445.72 2192.68,1445.72 2192.73,1445.72 2192.78,1445.72 2192.82,1445.72 \n",
       "  2192.87,1445.72 2192.92,1445.72 2192.97,1445.72 2193.02,1445.72 2193.06,1445.72 2193.11,1445.72 2193.16,1445.72 2193.21,1445.72 2193.26,1445.72 2193.3,1445.72 \n",
       "  2193.35,1445.72 2193.4,1445.72 2193.45,1445.72 2193.49,1445.72 2193.54,1445.72 2193.59,1445.72 2193.64,1445.72 2193.69,1445.72 2193.73,1445.72 2193.78,1445.72 \n",
       "  2193.83,1445.72 2193.88,1445.72 2193.93,1445.72 2193.97,1445.72 2194.02,1445.72 2194.07,1445.72 2194.12,1445.72 2194.16,1445.72 2194.21,1445.72 2194.26,1445.72 \n",
       "  2194.31,1445.72 2194.36,1445.72 2194.4,1445.72 2194.45,1445.72 2194.5,1445.72 2194.55,1445.72 2194.59,1445.72 2194.64,1445.72 2194.69,1445.72 2194.74,1445.72 \n",
       "  2194.78,1445.72 2194.83,1445.72 2194.88,1445.72 2194.93,1445.72 2194.97,1445.72 2195.02,1445.72 2195.07,1445.72 2195.12,1445.72 2195.16,1445.72 2195.21,1445.72 \n",
       "  2195.26,1445.72 2195.31,1445.72 2195.35,1445.72 2195.4,1445.72 2195.45,1445.72 2195.5,1445.72 2195.54,1445.72 2195.59,1445.72 2195.64,1445.72 2195.69,1445.72 \n",
       "  2195.73,1445.72 2195.78,1445.72 2195.83,1445.72 2195.88,1445.72 2195.92,1445.72 2195.97,1445.72 2196.02,1445.72 2196.07,1445.72 2196.11,1445.72 2196.16,1445.72 \n",
       "  2196.21,1445.72 2196.26,1445.72 2196.3,1445.72 2196.35,1445.72 2196.4,1445.72 2196.44,1445.72 2196.49,1445.72 2196.54,1445.72 2196.59,1445.72 2196.63,1445.72 \n",
       "  2196.68,1445.72 2196.73,1445.72 2196.78,1445.72 2196.82,1445.72 2196.87,1445.72 2196.92,1445.72 2196.96,1445.72 2197.01,1445.72 2197.06,1445.72 2197.11,1445.72 \n",
       "  2197.15,1445.72 2197.2,1445.72 2197.25,1445.72 2197.29,1445.72 2197.34,1445.72 2197.39,1445.72 2197.44,1445.72 2197.48,1445.72 2197.53,1445.72 2197.58,1445.72 \n",
       "  2197.62,1445.72 2197.67,1445.72 2197.72,1445.72 2197.77,1445.72 2197.81,1445.72 2197.86,1445.72 2197.91,1445.72 2197.95,1445.72 2198,1445.72 2198.05,1445.72 \n",
       "  2198.09,1445.72 2198.14,1445.72 2198.19,1445.72 2198.23,1445.72 2198.28,1445.72 2198.33,1445.72 2198.38,1445.72 2198.42,1445.72 2198.47,1445.72 2198.52,1445.72 \n",
       "  2198.56,1445.72 2198.61,1445.72 2198.66,1445.72 2198.7,1445.72 2198.75,1445.72 2198.8,1445.72 2198.84,1445.72 2198.89,1445.72 2198.94,1445.72 2198.98,1445.72 \n",
       "  2199.03,1445.72 2199.08,1445.72 2199.12,1445.72 2199.17,1445.72 2199.22,1445.72 2199.27,1445.72 2199.31,1445.72 2199.36,1445.72 2199.41,1445.72 2199.45,1445.72 \n",
       "  2199.5,1445.72 2199.55,1445.72 2199.59,1445.72 2199.64,1445.72 2199.69,1445.72 2199.73,1445.72 2199.78,1445.72 2199.83,1445.72 2199.87,1445.72 2199.92,1445.72 \n",
       "  2199.96,1445.72 2200.01,1445.72 2200.06,1445.72 2200.1,1445.72 2200.15,1445.72 2200.2,1445.72 2200.24,1445.72 2200.29,1445.72 2200.34,1445.72 2200.38,1445.72 \n",
       "  2200.43,1445.72 2200.48,1445.72 2200.52,1445.72 2200.57,1445.72 2200.62,1445.72 2200.66,1445.72 2200.71,1445.72 2200.76,1445.72 2200.8,1445.72 2200.85,1445.72 \n",
       "  2200.89,1445.72 2200.94,1445.72 2200.99,1445.72 2201.03,1445.72 2201.08,1445.72 2201.13,1445.72 2201.17,1445.72 2201.22,1445.72 2201.27,1445.72 2201.31,1445.72 \n",
       "  2201.36,1445.72 2201.4,1445.72 2201.45,1445.72 2201.5,1445.72 2201.54,1445.72 2201.59,1445.72 2201.64,1445.72 2201.68,1445.72 2201.73,1445.72 2201.77,1445.72 \n",
       "  2201.82,1445.72 2201.87,1445.72 2201.91,1445.72 2201.96,1445.72 2202.01,1445.72 2202.05,1445.72 2202.1,1445.72 2202.14,1445.72 2202.19,1445.72 2202.24,1445.72 \n",
       "  2202.28,1445.72 2202.33,1445.72 2202.38,1445.72 2202.42,1445.72 2202.47,1445.72 2202.51,1445.72 2202.56,1445.72 2202.61,1445.72 2202.65,1445.72 2202.7,1445.72 \n",
       "  2202.74,1445.72 2202.79,1445.72 2202.84,1445.72 2202.88,1445.72 2202.93,1445.72 2202.97,1445.72 2203.02,1445.72 2203.07,1445.72 2203.11,1445.72 2203.16,1445.72 \n",
       "  2203.2,1445.72 2203.25,1445.72 2203.3,1445.72 2203.34,1445.72 2203.39,1445.72 2203.43,1445.72 2203.48,1445.72 2203.53,1445.72 2203.57,1445.72 2203.62,1445.72 \n",
       "  2203.66,1445.72 2203.71,1445.72 2203.75,1445.72 2203.8,1445.72 2203.85,1445.72 2203.89,1445.72 2203.94,1445.72 2203.98,1445.72 2204.03,1445.72 2204.08,1445.72 \n",
       "  2204.12,1445.72 2204.17,1445.72 2204.21,1445.72 2204.26,1445.72 2204.3,1445.72 2204.35,1445.72 2204.4,1445.72 2204.44,1445.72 2204.49,1445.72 2204.53,1445.72 \n",
       "  2204.58,1445.72 2204.62,1445.72 2204.67,1445.72 2204.72,1445.72 2204.76,1445.72 2204.81,1445.72 2204.85,1445.72 2204.9,1445.72 2204.94,1445.72 2204.99,1445.72 \n",
       "  2205.04,1445.72 2205.08,1445.72 2205.13,1445.72 2205.17,1445.72 2205.22,1445.72 2205.26,1445.72 2205.31,1445.72 2205.35,1445.72 2205.4,1445.72 2205.45,1445.72 \n",
       "  2205.49,1445.72 2205.54,1445.72 2205.58,1445.72 2205.63,1445.72 2205.67,1445.72 2205.72,1445.72 2205.76,1445.72 2205.81,1445.72 2205.85,1445.72 2205.9,1445.72 \n",
       "  2205.95,1445.72 2205.99,1445.72 2206.04,1445.72 2206.08,1445.72 2206.13,1445.72 2206.17,1445.72 2206.22,1445.72 2206.26,1445.72 2206.31,1445.72 2206.35,1445.72 \n",
       "  2206.4,1445.72 2206.44,1445.72 2206.49,1445.72 2206.54,1445.72 2206.58,1445.72 2206.63,1445.72 2206.67,1445.72 2206.72,1445.72 2206.76,1445.72 2206.81,1445.72 \n",
       "  2206.85,1445.72 2206.9,1445.72 2206.94,1445.72 2206.99,1445.72 2207.03,1445.72 2207.08,1445.72 2207.12,1445.72 2207.17,1445.72 2207.21,1445.72 2207.26,1445.72 \n",
       "  2207.3,1445.72 2207.35,1445.72 2207.39,1445.72 2207.44,1445.72 2207.48,1445.72 2207.53,1445.72 2207.58,1445.72 2207.62,1445.72 2207.67,1445.72 2207.71,1445.72 \n",
       "  2207.76,1445.72 2207.8,1445.72 2207.85,1445.72 2207.89,1445.72 2207.94,1445.72 2207.98,1445.72 2208.03,1445.72 2208.07,1445.72 2208.12,1445.72 2208.16,1445.72 \n",
       "  2208.21,1445.72 2208.25,1445.72 2208.3,1445.72 2208.34,1445.72 2208.39,1445.72 2208.43,1445.72 2208.48,1445.72 2208.52,1445.72 2208.57,1445.72 2208.61,1445.72 \n",
       "  2208.66,1445.72 2208.7,1445.72 2208.75,1445.72 2208.79,1445.72 2208.84,1445.72 2208.88,1445.72 2208.92,1445.72 2208.97,1445.72 2209.01,1445.72 2209.06,1445.72 \n",
       "  2209.1,1445.72 2209.15,1445.72 2209.19,1445.72 2209.24,1445.72 2209.28,1445.72 2209.33,1445.72 2209.37,1445.72 2209.42,1445.72 2209.46,1445.72 2209.51,1445.72 \n",
       "  2209.55,1445.72 2209.6,1445.72 2209.64,1445.72 2209.69,1445.72 2209.73,1445.72 2209.78,1445.72 2209.82,1445.72 2209.87,1445.72 2209.91,1445.72 2209.95,1445.72 \n",
       "  2210,1445.72 2210.04,1445.72 2210.09,1445.72 2210.13,1445.72 2210.18,1445.72 2210.22,1445.72 2210.27,1445.72 2210.31,1445.72 2210.36,1445.72 2210.4,1445.72 \n",
       "  2210.45,1445.72 2210.49,1445.72 2210.53,1445.72 2210.58,1445.72 2210.62,1445.72 2210.67,1445.72 2210.71,1445.72 2210.76,1445.72 2210.8,1445.72 2210.85,1445.72 \n",
       "  2210.89,1445.72 2210.93,1445.72 2210.98,1445.72 2211.02,1445.72 2211.07,1445.72 2211.11,1445.72 2211.16,1445.72 2211.2,1445.72 2211.25,1445.72 2211.29,1445.72 \n",
       "  2211.33,1445.72 2211.38,1445.72 2211.42,1445.72 2211.47,1445.72 2211.51,1445.72 2211.56,1445.72 2211.6,1445.72 2211.65,1445.72 2211.69,1445.72 2211.73,1445.72 \n",
       "  2211.78,1445.72 2211.82,1445.72 2211.87,1445.72 2211.91,1445.72 2211.96,1445.72 2212,1445.72 2212.04,1445.72 2212.09,1445.72 2212.13,1445.72 2212.18,1445.72 \n",
       "  2212.22,1445.72 2212.27,1445.72 2212.31,1445.72 2212.35,1445.72 2212.4,1445.72 2212.44,1445.72 2212.49,1445.72 2212.53,1445.72 2212.58,1445.72 2212.62,1445.72 \n",
       "  2212.66,1445.72 2212.71,1445.72 2212.75,1445.72 2212.8,1445.72 2212.84,1445.72 2212.88,1445.72 2212.93,1445.72 2212.97,1445.72 2213.02,1445.72 2213.06,1445.72 \n",
       "  2213.1,1445.72 2213.15,1445.72 2213.19,1445.72 2213.24,1445.72 2213.28,1445.72 2213.32,1445.72 2213.37,1445.72 2213.41,1445.72 2213.46,1445.72 2213.5,1445.72 \n",
       "  2213.55,1445.72 2213.59,1445.72 2213.63,1445.72 2213.68,1445.72 2213.72,1445.72 2213.76,1445.72 2213.81,1445.72 2213.85,1445.72 2213.9,1445.72 2213.94,1445.72 \n",
       "  2213.98,1445.72 2214.03,1445.72 2214.07,1445.72 2214.12,1445.72 2214.16,1445.72 2214.2,1445.72 2214.25,1445.72 2214.29,1445.72 2214.34,1445.72 2214.38,1445.72 \n",
       "  2214.42,1445.72 2214.47,1445.72 2214.51,1445.72 2214.55,1445.72 2214.6,1445.72 2214.64,1445.72 2214.69,1445.72 2214.73,1445.72 2214.77,1445.72 2214.82,1445.72 \n",
       "  2214.86,1445.72 2214.9,1445.72 2214.95,1445.72 2214.99,1445.72 2215.04,1445.72 2215.08,1445.72 2215.12,1445.72 2215.17,1445.72 2215.21,1445.72 2215.25,1445.72 \n",
       "  2215.3,1445.72 2215.34,1445.72 2215.39,1445.72 2215.43,1445.72 2215.47,1445.72 2215.52,1445.72 2215.56,1445.72 2215.6,1445.72 2215.65,1445.72 2215.69,1445.72 \n",
       "  2215.73,1445.72 2215.78,1445.72 2215.82,1445.72 2215.87,1445.72 2215.91,1445.72 2215.95,1445.72 2216,1445.72 2216.04,1445.72 2216.08,1445.72 2216.13,1445.72 \n",
       "  2216.17,1445.72 2216.21,1445.72 2216.26,1445.72 2216.3,1445.72 2216.34,1445.72 2216.39,1445.72 2216.43,1445.72 2216.47,1445.72 2216.52,1445.72 2216.56,1445.72 \n",
       "  2216.6,1445.72 2216.65,1445.72 2216.69,1445.72 2216.74,1445.72 2216.78,1445.72 2216.82,1445.72 2216.87,1445.72 2216.91,1445.72 2216.95,1445.72 2217,1445.72 \n",
       "  2217.04,1445.72 2217.08,1445.72 2217.13,1445.72 2217.17,1445.72 2217.21,1445.72 2217.26,1445.72 2217.3,1445.72 2217.34,1445.72 2217.39,1445.72 2217.43,1445.72 \n",
       "  2217.47,1445.72 2217.52,1445.72 2217.56,1445.72 2217.6,1445.72 2217.64,1445.72 2217.69,1445.72 2217.73,1445.72 2217.77,1445.72 2217.82,1445.72 2217.86,1445.72 \n",
       "  2217.9,1445.72 2217.95,1445.72 2217.99,1445.72 2218.03,1445.72 2218.08,1445.72 2218.12,1445.72 2218.16,1445.72 2218.21,1445.72 2218.25,1445.72 2218.29,1445.72 \n",
       "  2218.34,1445.72 2218.38,1445.72 2218.42,1445.72 2218.47,1445.72 2218.51,1445.72 2218.55,1445.72 2218.59,1445.72 2218.64,1445.72 2218.68,1445.72 2218.72,1445.72 \n",
       "  2218.77,1445.72 2218.81,1445.72 2218.85,1445.72 2218.9,1445.72 2218.94,1445.72 2218.98,1445.72 2219.02,1445.72 2219.07,1445.72 2219.11,1445.72 2219.15,1445.72 \n",
       "  2219.2,1445.72 2219.24,1445.72 2219.28,1445.72 2219.33,1445.72 2219.37,1445.72 2219.41,1445.72 2219.45,1445.72 2219.5,1445.72 2219.54,1445.72 2219.58,1445.72 \n",
       "  2219.63,1445.72 2219.67,1445.72 2219.71,1445.72 2219.75,1445.72 2219.8,1445.72 2219.84,1445.72 2219.88,1445.72 2219.93,1445.72 2219.97,1445.72 2220.01,1445.72 \n",
       "  2220.05,1445.72 2220.1,1445.72 2220.14,1445.72 2220.18,1445.72 2220.23,1445.72 2220.27,1445.72 2220.31,1445.72 2220.35,1445.72 2220.4,1445.72 2220.44,1445.72 \n",
       "  2220.48,1445.72 2220.52,1445.72 2220.57,1445.72 2220.61,1445.72 2220.65,1445.72 2220.7,1445.72 2220.74,1445.72 2220.78,1445.72 2220.82,1445.72 2220.87,1445.72 \n",
       "  2220.91,1445.72 2220.95,1445.72 2220.99,1445.72 2221.04,1445.72 2221.08,1445.72 2221.12,1445.72 2221.16,1445.72 2221.21,1445.72 2221.25,1445.72 2221.29,1445.72 \n",
       "  2221.33,1445.72 2221.38,1445.72 2221.42,1445.72 2221.46,1445.72 2221.51,1445.72 2221.55,1445.72 2221.59,1445.72 2221.63,1445.72 2221.68,1445.72 2221.72,1445.72 \n",
       "  2221.76,1445.72 2221.8,1445.72 2221.85,1445.72 2221.89,1445.72 2221.93,1445.72 2221.97,1445.72 2222.02,1445.72 2222.06,1445.72 2222.1,1445.72 2222.14,1445.72 \n",
       "  2222.18,1445.72 2222.23,1445.72 2222.27,1445.72 2222.31,1445.72 2222.35,1445.72 2222.4,1445.72 2222.44,1445.72 2222.48,1445.72 2222.52,1445.72 2222.57,1445.72 \n",
       "  2222.61,1445.72 2222.65,1445.72 2222.69,1445.72 2222.74,1445.72 2222.78,1445.72 2222.82,1445.72 2222.86,1445.72 2222.9,1445.72 2222.95,1445.72 2222.99,1445.72 \n",
       "  2223.03,1445.72 2223.07,1445.72 2223.12,1445.72 2223.16,1445.72 2223.2,1445.72 2223.24,1445.72 2223.29,1445.72 2223.33,1445.72 2223.37,1445.72 2223.41,1445.72 \n",
       "  2223.45,1445.72 2223.5,1445.72 2223.54,1445.72 2223.58,1445.72 2223.62,1445.72 2223.66,1445.72 2223.71,1445.72 2223.75,1445.72 2223.79,1445.72 2223.83,1445.72 \n",
       "  2223.88,1445.72 2223.92,1445.72 2223.96,1445.72 2224,1445.72 2224.04,1445.72 2224.09,1445.72 2224.13,1445.72 2224.17,1445.72 2224.21,1445.72 2224.25,1445.72 \n",
       "  2224.3,1445.72 2224.34,1445.72 2224.38,1445.72 2224.42,1445.72 2224.46,1445.72 2224.51,1445.72 2224.55,1445.72 2224.59,1445.72 2224.63,1445.72 2224.67,1445.72 \n",
       "  2224.72,1445.72 2224.76,1445.72 2224.8,1445.72 2224.84,1445.72 2224.88,1445.72 2224.93,1445.72 2224.97,1445.72 2225.01,1445.72 2225.05,1445.72 2225.09,1445.72 \n",
       "  2225.14,1445.72 2225.18,1445.72 2225.22,1445.72 2225.26,1445.72 2225.3,1445.72 2225.35,1445.72 2225.39,1445.72 2225.43,1445.72 2225.47,1445.72 2225.51,1445.72 \n",
       "  2225.55,1445.72 2225.6,1445.72 2225.64,1445.72 2225.68,1445.72 2225.72,1445.72 2225.76,1445.72 2225.81,1445.72 2225.85,1445.72 2225.89,1445.72 2225.93,1445.72 \n",
       "  2225.97,1445.72 2226.01,1445.72 2226.06,1445.72 2226.1,1445.72 2226.14,1445.72 2226.18,1445.72 2226.22,1445.72 2226.26,1445.72 2226.31,1445.72 2226.35,1445.72 \n",
       "  2226.39,1445.72 2226.43,1445.72 2226.47,1445.72 2226.51,1445.72 2226.56,1445.72 2226.6,1445.72 2226.64,1445.72 2226.68,1445.72 2226.72,1445.72 2226.76,1445.72 \n",
       "  2226.81,1445.72 2226.85,1445.72 2226.89,1445.72 2226.93,1445.72 2226.97,1445.72 2227.01,1445.72 2227.06,1445.72 2227.1,1445.72 2227.14,1445.72 2227.18,1445.72 \n",
       "  2227.22,1445.72 2227.26,1445.72 2227.3,1445.72 2227.35,1445.72 2227.39,1445.72 2227.43,1445.72 2227.47,1445.72 2227.51,1445.72 2227.55,1445.72 2227.59,1445.72 \n",
       "  2227.64,1445.72 2227.68,1445.72 2227.72,1445.72 2227.76,1445.72 2227.8,1445.72 2227.84,1445.72 2227.89,1445.72 2227.93,1445.72 2227.97,1445.72 2228.01,1445.72 \n",
       "  2228.05,1445.72 2228.09,1445.72 2228.13,1445.72 2228.17,1445.72 2228.22,1445.72 2228.26,1445.72 2228.3,1445.72 2228.34,1445.72 2228.38,1445.72 2228.42,1445.72 \n",
       "  2228.46,1445.72 2228.51,1445.72 2228.55,1445.72 2228.59,1445.72 2228.63,1445.72 2228.67,1445.72 2228.71,1445.72 2228.75,1445.72 2228.79,1445.72 2228.84,1445.72 \n",
       "  2228.88,1445.72 2228.92,1445.72 2228.96,1445.72 2229,1445.72 2229.04,1445.72 2229.08,1445.72 2229.12,1445.72 2229.17,1445.72 2229.21,1445.72 2229.25,1445.72 \n",
       "  2229.29,1445.72 2229.33,1445.72 2229.37,1445.72 2229.41,1445.72 2229.45,1445.72 2229.49,1445.72 2229.54,1445.72 2229.58,1445.72 2229.62,1445.72 2229.66,1445.72 \n",
       "  2229.7,1445.72 2229.74,1445.72 2229.78,1445.72 2229.82,1445.72 2229.86,1445.72 2229.91,1445.72 2229.95,1445.72 2229.99,1445.72 2230.03,1445.72 2230.07,1445.72 \n",
       "  2230.11,1445.72 2230.15,1445.72 2230.19,1445.72 2230.23,1445.72 2230.28,1445.72 2230.32,1445.72 2230.36,1445.72 2230.4,1445.72 2230.44,1445.72 2230.48,1445.72 \n",
       "  2230.52,1445.72 2230.56,1445.72 2230.6,1445.72 2230.64,1445.72 2230.68,1445.72 2230.73,1445.72 2230.77,1445.72 2230.81,1445.72 2230.85,1445.72 2230.89,1445.72 \n",
       "  2230.93,1445.72 2230.97,1445.72 2231.01,1445.72 2231.05,1445.72 2231.09,1445.72 2231.13,1445.72 2231.18,1445.72 2231.22,1445.72 2231.26,1445.72 2231.3,1445.72 \n",
       "  2231.34,1445.72 2231.38,1445.72 2231.42,1445.72 2231.46,1445.72 2231.5,1445.72 2231.54,1445.72 2231.58,1445.72 2231.62,1445.72 2231.66,1445.72 2231.71,1445.72 \n",
       "  2231.75,1445.72 2231.79,1445.72 2231.83,1445.72 2231.87,1445.72 2231.91,1445.72 2231.95,1445.72 2231.99,1445.72 2232.03,1445.72 2232.07,1445.72 2232.11,1445.72 \n",
       "  2232.15,1445.72 2232.19,1445.72 2232.23,1445.72 2232.28,1445.72 2232.32,1445.72 2232.36,1445.72 2232.4,1445.72 2232.44,1445.72 2232.48,1445.72 2232.52,1445.72 \n",
       "  2232.56,1445.72 2232.6,1445.72 2232.64,1445.72 2232.68,1445.72 2232.72,1445.72 2232.76,1445.72 2232.8,1445.72 2232.84,1445.72 2232.88,1445.72 2232.93,1445.72 \n",
       "  2232.97,1445.72 2233.01,1445.72 2233.05,1445.72 2233.09,1445.72 2233.13,1445.72 2233.17,1445.72 2233.21,1445.72 2233.25,1445.72 2233.29,1445.72 2233.33,1445.72 \n",
       "  2233.37,1445.72 2233.41,1445.72 2233.45,1445.72 2233.49,1445.72 2233.53,1445.72 2233.57,1445.72 2233.61,1445.72 2233.65,1445.72 2233.69,1445.72 2233.73,1445.72 \n",
       "  2233.77,1445.72 2233.82,1445.72 2233.86,1445.72 2233.9,1445.72 2233.94,1445.72 2233.98,1445.72 2234.02,1445.72 2234.06,1445.72 2234.1,1445.72 2234.14,1445.72 \n",
       "  2234.18,1445.72 2234.22,1445.72 2234.26,1445.72 2234.3,1445.72 2234.34,1445.72 2234.38,1445.72 2234.42,1445.72 2234.46,1445.72 2234.5,1445.72 2234.54,1445.72 \n",
       "  2234.58,1445.72 2234.62,1445.72 2234.66,1445.72 2234.7,1445.72 2234.74,1445.72 2234.78,1445.72 2234.82,1445.72 2234.86,1445.72 2234.9,1445.72 2234.94,1445.72 \n",
       "  2234.98,1445.72 2235.02,1445.72 2235.06,1445.72 2235.1,1445.72 2235.14,1445.72 2235.18,1445.72 2235.22,1445.72 2235.27,1445.72 2235.31,1445.72 2235.35,1445.72 \n",
       "  2235.39,1445.72 2235.43,1445.72 2235.47,1445.72 2235.51,1445.72 2235.55,1445.72 2235.59,1445.72 2235.63,1445.72 2235.67,1445.72 2235.71,1445.72 2235.75,1445.72 \n",
       "  2235.79,1445.72 2235.83,1445.72 2235.87,1445.72 2235.91,1445.72 2235.95,1445.72 2235.99,1445.72 2236.03,1445.72 2236.07,1445.72 2236.11,1445.72 2236.15,1445.72 \n",
       "  2236.19,1445.72 2236.23,1445.72 2236.27,1445.72 2236.31,1445.72 2236.35,1445.72 2236.39,1445.72 2236.43,1445.72 2236.47,1445.72 2236.51,1445.72 2236.55,1445.72 \n",
       "  2236.59,1445.72 2236.63,1445.72 2236.67,1445.72 2236.71,1445.72 2236.75,1445.72 2236.79,1445.72 2236.83,1445.72 2236.87,1445.72 2236.91,1445.72 2236.95,1445.72 \n",
       "  2236.99,1445.72 2237.02,1445.72 2237.06,1445.72 2237.1,1445.72 2237.14,1445.72 2237.18,1445.72 2237.22,1445.72 2237.26,1445.72 2237.3,1445.72 2237.34,1445.72 \n",
       "  2237.38,1445.72 2237.42,1445.72 2237.46,1445.72 2237.5,1445.72 2237.54,1445.72 2237.58,1445.72 2237.62,1445.72 2237.66,1445.72 2237.7,1445.72 2237.74,1445.72 \n",
       "  2237.78,1445.72 2237.82,1445.72 2237.86,1445.72 2237.9,1445.72 2237.94,1445.72 2237.98,1445.72 2238.02,1445.72 2238.06,1445.72 2238.1,1445.72 2238.14,1445.72 \n",
       "  2238.18,1445.72 2238.22,1445.72 2238.26,1445.72 2238.3,1445.72 2238.34,1445.72 2238.38,1445.72 2238.42,1445.72 2238.46,1445.72 2238.49,1445.72 2238.53,1445.72 \n",
       "  2238.57,1445.72 2238.61,1445.72 2238.65,1445.72 2238.69,1445.72 2238.73,1445.72 2238.77,1445.72 2238.81,1445.72 2238.85,1445.72 2238.89,1445.72 2238.93,1445.72 \n",
       "  2238.97,1445.72 2239.01,1445.72 2239.05,1445.72 2239.09,1445.72 2239.13,1445.72 2239.17,1445.72 2239.21,1445.72 2239.25,1445.72 2239.29,1445.72 2239.32,1445.72 \n",
       "  2239.36,1445.72 2239.4,1445.72 2239.44,1445.72 2239.48,1445.72 2239.52,1445.72 2239.56,1445.72 2239.6,1445.72 2239.64,1445.72 2239.68,1445.72 2239.72,1445.72 \n",
       "  2239.76,1445.72 2239.8,1445.72 2239.84,1445.72 2239.88,1445.72 2239.92,1445.72 2239.96,1445.72 2239.99,1445.72 2240.03,1445.72 2240.07,1445.72 2240.11,1445.72 \n",
       "  2240.15,1445.72 2240.19,1445.72 2240.23,1445.72 2240.27,1445.72 2240.31,1445.72 2240.35,1445.72 2240.39,1445.72 2240.43,1445.72 2240.47,1445.72 2240.51,1445.72 \n",
       "  2240.55,1445.72 2240.58,1445.72 2240.62,1445.72 2240.66,1445.72 2240.7,1445.72 2240.74,1445.72 2240.78,1445.72 2240.82,1445.72 2240.86,1445.72 2240.9,1445.72 \n",
       "  2240.94,1445.72 2240.98,1445.72 2241.02,1445.72 2241.05,1445.72 2241.09,1445.72 2241.13,1445.72 2241.17,1445.72 2241.21,1445.72 2241.25,1445.72 2241.29,1445.72 \n",
       "  2241.33,1445.72 2241.37,1445.72 2241.41,1445.72 2241.45,1445.72 2241.49,1445.72 2241.52,1445.72 2241.56,1445.72 2241.6,1445.72 2241.64,1445.72 2241.68,1445.72 \n",
       "  2241.72,1445.72 2241.76,1445.72 2241.8,1445.72 2241.84,1445.72 2241.88,1445.72 2241.92,1445.72 2241.95,1445.72 2241.99,1445.72 2242.03,1445.72 2242.07,1445.72 \n",
       "  2242.11,1445.72 2242.15,1445.72 2242.19,1445.72 2242.23,1445.72 2242.27,1445.72 2242.31,1445.72 2242.34,1445.72 2242.38,1445.72 2242.42,1445.72 2242.46,1445.72 \n",
       "  2242.5,1445.72 2242.54,1445.72 2242.58,1445.72 2242.62,1445.72 2242.66,1445.72 2242.69,1445.72 2242.73,1445.72 2242.77,1445.72 2242.81,1445.72 2242.85,1445.72 \n",
       "  2242.89,1445.72 2242.93,1445.72 2242.97,1445.72 2243.01,1445.72 2243.04,1445.72 2243.08,1445.72 2243.12,1445.72 2243.16,1445.72 2243.2,1445.72 2243.24,1445.72 \n",
       "  2243.28,1445.72 2243.32,1445.72 2243.36,1445.72 2243.39,1445.72 2243.43,1445.72 2243.47,1445.72 2243.51,1445.72 2243.55,1445.72 2243.59,1445.72 2243.63,1445.72 \n",
       "  2243.67,1445.72 2243.7,1445.72 2243.74,1445.72 2243.78,1445.72 2243.82,1445.72 2243.86,1445.72 2243.9,1445.72 2243.94,1445.72 2243.98,1445.72 2244.01,1445.72 \n",
       "  2244.05,1445.72 2244.09,1445.72 2244.13,1445.72 2244.17,1445.72 2244.21,1445.72 2244.25,1445.72 2244.28,1445.72 2244.32,1445.72 2244.36,1445.72 2244.4,1445.72 \n",
       "  2244.44,1445.72 2244.48,1445.72 2244.52,1445.72 2244.55,1445.72 2244.59,1445.72 2244.63,1445.72 2244.67,1445.72 2244.71,1445.72 2244.75,1445.72 2244.79,1445.72 \n",
       "  2244.83,1445.72 2244.86,1445.72 2244.9,1445.72 2244.94,1445.72 2244.98,1445.72 2245.02,1445.72 2245.06,1445.72 2245.09,1445.72 2245.13,1445.72 2245.17,1445.72 \n",
       "  2245.21,1445.72 2245.25,1445.72 2245.29,1445.72 2245.33,1445.72 2245.36,1445.72 2245.4,1445.72 2245.44,1445.72 2245.48,1445.72 2245.52,1445.72 2245.56,1445.72 \n",
       "  2245.59,1445.72 2245.63,1445.72 2245.67,1445.72 2245.71,1445.72 2245.75,1445.72 2245.79,1445.72 2245.83,1445.72 2245.86,1445.72 2245.9,1445.72 2245.94,1445.72 \n",
       "  2245.98,1445.72 2246.02,1445.72 2246.06,1445.72 2246.09,1445.72 2246.13,1445.72 2246.17,1445.72 2246.21,1445.72 2246.25,1445.72 2246.29,1445.72 2246.32,1445.72 \n",
       "  2246.36,1445.72 2246.4,1445.72 2246.44,1445.72 2246.48,1445.72 2246.52,1445.72 2246.55,1445.72 2246.59,1445.72 2246.63,1445.72 2246.67,1445.72 2246.71,1445.72 \n",
       "  2246.75,1445.72 2246.78,1445.72 2246.82,1445.72 2246.86,1445.72 2246.9,1445.72 2246.94,1445.72 2246.97,1445.72 2247.01,1445.72 2247.05,1445.72 2247.09,1445.72 \n",
       "  2247.13,1445.72 2247.17,1445.72 2247.2,1445.72 2247.24,1445.72 2247.28,1445.72 2247.32,1445.72 2247.36,1445.72 2247.39,1445.72 2247.43,1445.72 2247.47,1445.72 \n",
       "  2247.51,1445.72 2247.55,1445.72 2247.59,1445.72 2247.62,1445.72 2247.66,1445.72 2247.7,1445.72 2247.74,1445.72 2247.78,1445.72 2247.81,1445.72 2247.85,1445.72 \n",
       "  2247.89,1445.72 2247.93,1445.72 2247.97,1445.72 2248,1445.72 2248.04,1445.72 2248.08,1445.72 2248.12,1445.72 2248.16,1445.72 2248.19,1445.72 2248.23,1445.72 \n",
       "  2248.27,1445.72 2248.31,1445.72 2248.35,1445.72 2248.38,1445.72 2248.42,1445.72 2248.46,1445.72 2248.5,1445.72 2248.54,1445.72 2248.57,1445.72 2248.61,1445.72 \n",
       "  2248.65,1445.72 2248.69,1445.72 2248.73,1445.72 2248.76,1445.72 2248.8,1445.72 2248.84,1445.72 2248.88,1445.72 2248.92,1445.72 2248.95,1445.72 2248.99,1445.72 \n",
       "  2249.03,1445.72 2249.07,1445.72 2249.1,1445.72 2249.14,1445.72 2249.18,1445.72 2249.22,1445.72 2249.26,1445.72 2249.29,1445.72 2249.33,1445.72 2249.37,1445.72 \n",
       "  2249.41,1445.72 2249.45,1445.72 2249.48,1445.72 2249.52,1445.72 2249.56,1445.72 2249.6,1445.72 2249.63,1445.72 2249.67,1445.72 2249.71,1445.72 2249.75,1445.72 \n",
       "  2249.79,1445.72 2249.82,1445.72 2249.86,1445.72 2249.9,1445.72 2249.94,1445.72 2249.97,1445.72 2250.01,1445.72 2250.05,1445.72 2250.09,1445.72 2250.13,1445.72 \n",
       "  2250.16,1445.72 2250.2,1445.72 2250.24,1445.72 2250.28,1445.72 2250.31,1445.72 2250.35,1445.72 2250.39,1445.72 2250.43,1445.72 2250.46,1445.72 2250.5,1445.72 \n",
       "  2250.54,1445.72 2250.58,1445.72 2250.61,1445.72 2250.65,1445.72 2250.69,1445.72 2250.73,1445.72 2250.77,1445.72 2250.8,1445.72 2250.84,1445.72 2250.88,1445.72 \n",
       "  2250.92,1445.72 2250.95,1445.72 2250.99,1445.72 2251.03,1445.72 2251.07,1445.72 2251.1,1445.72 2251.14,1445.72 2251.18,1445.72 2251.22,1445.72 2251.25,1445.72 \n",
       "  2251.29,1445.72 2251.33,1445.72 2251.37,1445.72 2251.4,1445.72 2251.44,1445.72 2251.48,1445.72 2251.52,1445.72 2251.55,1445.72 2251.59,1445.72 2251.63,1445.72 \n",
       "  2251.67,1445.72 2251.7,1445.72 2251.74,1445.72 2251.78,1445.72 2251.82,1445.72 2251.85,1445.72 2251.89,1445.72 2251.93,1445.72 2251.97,1445.72 2252,1445.72 \n",
       "  2252.04,1445.72 2252.08,1445.72 2252.12,1445.72 2252.15,1445.72 2252.19,1445.72 2252.23,1445.72 2252.26,1445.72 2252.3,1445.72 2252.34,1445.72 2252.38,1445.72 \n",
       "  2252.41,1445.72 2252.45,1445.72 2252.49,1445.72 2252.53,1445.72 2252.56,1445.72 2252.6,1445.72 2252.64,1445.72 2252.68,1445.72 2252.71,1445.72 2252.75,1445.72 \n",
       "  2252.79,1445.72 2252.82,1445.72 2252.86,1445.72 2252.9,1445.72 2252.94,1445.72 2252.97,1445.72 2253.01,1445.72 2253.05,1445.72 2253.09,1445.72 2253.12,1445.72 \n",
       "  2253.16,1445.72 2253.2,1445.72 2253.23,1445.72 2253.27,1445.72 2253.31,1445.72 2253.35,1445.72 2253.38,1445.72 2253.42,1445.72 2253.46,1445.72 2253.49,1445.72 \n",
       "  2253.53,1445.72 2253.57,1445.72 2253.61,1445.72 2253.64,1445.72 2253.68,1445.72 2253.72,1445.72 2253.75,1445.72 2253.79,1445.72 2253.83,1445.72 2253.87,1445.72 \n",
       "  2253.9,1445.72 2253.94,1445.72 2253.98,1445.72 2254.01,1445.72 2254.05,1445.72 2254.09,1445.72 2254.13,1445.72 2254.16,1445.72 2254.2,1445.72 2254.24,1445.72 \n",
       "  2254.27,1445.72 2254.31,1445.72 2254.35,1445.72 2254.39,1445.72 2254.42,1445.72 2254.46,1445.72 2254.5,1445.72 2254.53,1445.72 2254.57,1445.72 2254.61,1445.72 \n",
       "  2254.64,1445.72 2254.68,1445.72 2254.72,1445.72 2254.76,1445.72 2254.79,1445.72 2254.83,1445.72 2254.87,1445.72 2254.9,1445.72 2254.94,1445.72 2254.98,1445.72 \n",
       "  2255.01,1445.72 2255.05,1445.72 2255.09,1445.72 2255.12,1445.72 2255.16,1445.72 2255.2,1445.72 2255.24,1445.72 2255.27,1445.72 2255.31,1445.72 2255.35,1445.72 \n",
       "  2255.38,1445.72 2255.42,1445.72 2255.46,1445.72 2255.49,1445.72 2255.53,1445.72 2255.57,1445.72 2255.6,1445.72 2255.64,1445.72 2255.68,1445.72 2255.71,1445.72 \n",
       "  2255.75,1445.72 2255.79,1445.72 2255.83,1445.72 2255.86,1445.72 2255.9,1445.72 2255.94,1445.72 2255.97,1445.72 2256.01,1445.72 2256.05,1445.72 2256.08,1445.72 \n",
       "  2256.12,1445.72 2256.16,1445.72 2256.19,1445.72 2256.23,1445.72 2256.27,1445.72 2256.3,1445.72 2256.34,1445.72 2256.38,1445.72 2256.41,1445.72 2256.45,1445.72 \n",
       "  2256.49,1445.72 2256.52,1445.72 2256.56,1445.72 2256.6,1445.72 2256.63,1445.72 2256.67,1445.72 2256.71,1445.72 2256.74,1445.72 2256.78,1445.72 2256.82,1445.72 \n",
       "  2256.85,1445.72 2256.89,1445.72 2256.93,1445.72 2256.96,1445.72 2257,1445.72 2257.04,1445.72 2257.07,1445.72 2257.11,1445.72 2257.15,1445.72 2257.18,1445.72 \n",
       "  2257.22,1445.72 2257.26,1445.72 2257.29,1445.72 2257.33,1445.72 2257.37,1445.72 2257.4,1445.72 2257.44,1445.72 2257.48,1445.72 2257.51,1445.72 2257.55,1445.72 \n",
       "  2257.59,1445.72 2257.62,1445.72 2257.66,1445.72 2257.7,1445.72 2257.73,1445.72 2257.77,1445.72 2257.8,1445.72 2257.84,1445.72 2257.88,1445.72 2257.91,1445.72 \n",
       "  2257.95,1445.72 2257.99,1445.72 2258.02,1445.72 2258.06,1445.72 2258.1,1445.72 2258.13,1445.72 2258.17,1445.72 2258.21,1445.72 2258.24,1445.72 2258.28,1445.72 \n",
       "  2258.32,1445.72 2258.35,1445.72 2258.39,1445.72 2258.42,1445.72 2258.46,1445.72 2258.5,1445.72 2258.53,1445.72 2258.57,1445.72 2258.61,1445.72 2258.64,1445.72 \n",
       "  2258.68,1445.72 2258.72,1445.72 2258.75,1445.72 2258.79,1445.72 2258.82,1445.72 2258.86,1445.72 2258.9,1445.72 2258.93,1445.72 2258.97,1445.72 2259.01,1445.72 \n",
       "  2259.04,1445.72 2259.08,1445.72 2259.12,1445.72 2259.15,1445.72 2259.19,1445.72 2259.22,1445.72 2259.26,1445.72 2259.3,1445.72 2259.33,1445.72 2259.37,1445.72 \n",
       "  2259.41,1445.72 2259.44,1445.72 2259.48,1445.72 2259.51,1445.72 2259.55,1445.72 2259.59,1445.72 2259.62,1445.72 2259.66,1445.72 2259.7,1445.72 2259.73,1445.72 \n",
       "  2259.77,1445.72 2259.8,1445.72 2259.84,1445.72 2259.88,1445.72 2259.91,1445.72 2259.95,1445.72 2259.99,1445.72 2260.02,1445.72 2260.06,1445.72 2260.09,1445.72 \n",
       "  2260.13,1445.72 2260.17,1445.72 2260.2,1445.72 2260.24,1445.72 2260.27,1445.72 2260.31,1445.72 2260.35,1445.72 2260.38,1445.72 2260.42,1445.72 2260.45,1445.72 \n",
       "  2260.49,1445.72 2260.53,1445.72 2260.56,1445.72 2260.6,1445.72 2260.64,1445.72 2260.67,1445.72 2260.71,1445.72 2260.74,1445.72 2260.78,1445.72 2260.82,1445.72 \n",
       "  2260.85,1445.72 2260.89,1445.72 2260.92,1445.72 2260.96,1445.72 2261,1445.72 2261.03,1445.72 2261.07,1445.72 2261.1,1445.72 2261.14,1445.72 2261.18,1445.72 \n",
       "  2261.21,1445.72 2261.25,1445.72 2261.28,1445.72 2261.32,1445.72 2261.36,1445.72 2261.39,1445.72 2261.43,1445.72 2261.46,1445.72 2261.5,1445.72 2261.54,1445.72 \n",
       "  2261.57,1445.72 2261.61,1445.72 2261.64,1445.72 2261.68,1445.72 2261.72,1445.72 2261.75,1445.72 2261.79,1445.72 2261.82,1445.72 2261.86,1445.72 2261.89,1445.72 \n",
       "  2261.93,1445.72 2261.97,1445.72 2262,1445.72 2262.04,1445.72 2262.07,1445.72 2262.11,1445.72 2262.15,1445.72 2262.18,1445.72 2262.22,1445.72 2262.25,1445.72 \n",
       "  2262.29,1445.72 2262.32,1445.72 2262.36,1445.72 2262.4,1445.72 2262.43,1445.72 2262.47,1445.72 2262.5,1445.72 2262.54,1445.72 2262.58,1445.72 2262.61,1445.72 \n",
       "  2262.65,1445.72 2262.68,1445.72 2262.72,1445.72 2262.75,1445.72 2262.79,1445.72 2262.83,1445.72 2262.86,1445.72 2262.9,1445.72 2262.93,1445.72 2262.97,1445.72 \n",
       "  2263,1445.72 2263.04,1445.72 2263.08,1445.72 2263.11,1445.72 2263.15,1445.72 2263.18,1445.72 2263.22,1445.72 2263.25,1445.72 2263.29,1445.72 2263.33,1445.72 \n",
       "  2263.36,1445.72 2263.4,1445.72 2263.43,1445.72 2263.47,1445.72 2263.5,1445.72 2263.54,1445.72 2263.58,1445.72 2263.61,1445.72 2263.65,1445.72 2263.68,1445.72 \n",
       "  2263.72,1445.72 2263.75,1445.72 2263.79,1445.72 2263.82,1445.72 2263.86,1445.72 2263.9,1445.72 2263.93,1445.72 2263.97,1445.72 2264,1445.72 2264.04,1445.72 \n",
       "  2264.07,1445.72 2264.11,1445.72 2264.14,1445.72 2264.18,1445.72 2264.22,1445.72 2264.25,1445.72 2264.29,1445.72 2264.32,1445.72 2264.36,1445.72 2264.39,1445.72 \n",
       "  2264.43,1445.72 2264.46,1445.72 2264.5,1445.72 2264.54,1445.72 2264.57,1445.72 2264.61,1445.72 2264.64,1445.72 2264.68,1445.72 2264.71,1445.72 2264.75,1445.72 \n",
       "  2264.78,1445.72 2264.82,1445.72 2264.85,1445.72 2264.89,1445.72 2264.93,1445.72 2264.96,1445.72 2265,1445.72 2265.03,1445.72 2265.07,1445.72 2265.1,1445.72 \n",
       "  2265.14,1445.72 2265.17,1445.72 2265.21,1445.72 2265.24,1445.72 2265.28,1445.72 2265.31,1445.72 2265.35,1445.72 2265.39,1445.72 2265.42,1445.72 2265.46,1445.72 \n",
       "  2265.49,1445.72 2265.53,1445.72 2265.56,1445.72 2265.6,1445.72 2265.63,1445.72 2265.67,1445.72 2265.7,1445.72 2265.74,1445.72 2265.77,1445.72 2265.81,1445.72 \n",
       "  2265.84,1445.72 2265.88,1445.72 2265.91,1445.72 2265.95,1445.72 2265.99,1445.72 2266.02,1445.72 2266.06,1445.72 2266.09,1445.72 2266.13,1445.72 2266.16,1445.72 \n",
       "  2266.2,1445.72 2266.23,1445.72 2266.27,1445.72 2266.3,1445.72 2266.34,1445.72 2266.37,1445.72 2266.41,1445.72 2266.44,1445.72 2266.48,1445.72 2266.51,1445.72 \n",
       "  2266.55,1445.72 2266.58,1445.72 2266.62,1445.72 2266.65,1445.72 2266.69,1445.72 2266.72,1445.72 2266.76,1445.72 2266.8,1445.72 2266.83,1445.72 2266.87,1445.72 \n",
       "  2266.9,1445.72 2266.94,1445.72 2266.97,1445.72 2267.01,1445.72 2267.04,1445.72 2267.08,1445.72 2267.11,1445.72 2267.15,1445.72 2267.18,1445.72 2267.22,1445.72 \n",
       "  2267.25,1445.72 2267.29,1445.72 2267.32,1445.72 2267.36,1445.72 2267.39,1445.72 2267.43,1445.72 2267.46,1445.72 2267.5,1445.72 2267.53,1445.72 2267.57,1445.72 \n",
       "  2267.6,1445.72 2267.64,1445.72 2267.67,1445.72 2267.71,1445.72 2267.74,1445.72 2267.78,1445.72 2267.81,1445.72 2267.85,1445.72 2267.88,1445.72 2267.92,1445.72 \n",
       "  2267.95,1445.72 2267.99,1445.72 2268.02,1445.72 2268.06,1445.72 2268.09,1445.72 2268.13,1445.72 2268.16,1445.72 2268.2,1445.72 2268.23,1445.72 2268.27,1445.72 \n",
       "  2268.3,1445.72 2268.34,1445.72 2268.37,1445.72 2268.41,1445.72 2268.44,1445.72 2268.48,1445.72 2268.51,1445.72 2268.55,1445.72 2268.58,1445.72 2268.62,1445.72 \n",
       "  2268.65,1445.72 2268.69,1445.72 2268.72,1445.72 2268.76,1445.72 2268.79,1445.72 2268.83,1445.72 2268.86,1445.72 2268.89,1445.72 2268.93,1445.72 2268.96,1445.72 \n",
       "  2269,1445.72 2269.03,1445.72 2269.07,1445.72 2269.1,1445.72 2269.14,1445.72 2269.17,1445.72 2269.21,1445.72 2269.24,1445.72 2269.28,1445.72 2269.31,1445.72 \n",
       "  2269.35,1445.72 2269.38,1445.72 2269.42,1445.72 2269.45,1445.72 2269.49,1445.72 2269.52,1445.72 2269.56,1445.72 2269.59,1445.72 2269.63,1445.72 2269.66,1445.72 \n",
       "  2269.69,1445.72 2269.73,1445.72 2269.76,1445.72 2269.8,1445.72 2269.83,1445.72 2269.87,1445.72 2269.9,1445.72 2269.94,1445.72 2269.97,1445.72 2270.01,1445.72 \n",
       "  2270.04,1445.72 2270.08,1445.72 2270.11,1445.72 2270.15,1445.72 2270.18,1445.72 2270.22,1445.72 2270.25,1445.72 2270.28,1445.72 2270.32,1445.72 2270.35,1445.72 \n",
       "  2270.39,1445.72 2270.42,1445.72 2270.46,1445.72 2270.49,1445.72 2270.53,1445.72 2270.56,1445.72 2270.6,1445.72 2270.63,1445.72 2270.66,1445.72 2270.7,1445.72 \n",
       "  2270.73,1445.72 2270.77,1445.72 2270.8,1445.72 2270.84,1445.72 2270.87,1445.72 2270.91,1445.72 2270.94,1445.72 2270.98,1445.72 2271.01,1445.72 2271.05,1445.72 \n",
       "  2271.08,1445.72 2271.11,1445.72 2271.15,1445.72 2271.18,1445.72 2271.22,1445.72 2271.25,1445.72 2271.29,1445.72 2271.32,1445.72 2271.36,1445.72 2271.39,1445.72 \n",
       "  2271.42,1445.72 2271.46,1445.72 2271.49,1445.72 2271.53,1445.72 2271.56,1445.72 2271.6,1445.72 2271.63,1445.72 2271.67,1445.72 2271.7,1445.72 2271.73,1445.72 \n",
       "  2271.77,1445.72 2271.8,1445.72 2271.84,1445.72 2271.87,1445.72 2271.91,1445.72 2271.94,1445.72 2271.98,1445.72 2272.01,1445.72 2272.04,1445.72 2272.08,1445.72 \n",
       "  2272.11,1445.72 2272.15,1445.72 2272.18,1445.72 2272.22,1445.72 2272.25,1445.72 2272.28,1445.72 2272.32,1445.72 2272.35,1445.72 2272.39,1445.72 2272.42,1445.72 \n",
       "  2272.46,1445.72 2272.49,1445.72 2272.52,1445.72 2272.56,1445.72 2272.59,1445.72 2272.63,1445.72 2272.66,1445.72 2272.7,1445.72 2272.73,1445.72 2272.76,1445.72 \n",
       "  2272.8,1445.72 2272.83,1445.72 2272.87,1445.72 2272.9,1445.72 2272.94,1445.72 2272.97,1445.72 2273,1445.72 2273.04,1445.72 2273.07,1445.72 2273.11,1445.72 \n",
       "  2273.14,1445.72 2273.18,1445.72 2273.21,1445.72 2273.24,1445.72 2273.28,1445.72 2273.31,1445.72 2273.35,1445.72 2273.38,1445.72 2273.42,1445.72 2273.45,1445.72 \n",
       "  2273.48,1445.72 2273.52,1445.72 2273.55,1445.72 2273.59,1445.72 2273.62,1445.72 2273.65,1445.72 2273.69,1445.72 2273.72,1445.72 2273.76,1445.72 2273.79,1445.72 \n",
       "  2273.83,1445.72 2273.86,1445.72 2273.89,1445.72 2273.93,1445.72 2273.96,1445.72 2274,1445.72 2274.03,1445.72 2274.06,1445.72 2274.1,1445.72 2274.13,1445.72 \n",
       "  2274.17,1445.72 2274.2,1445.72 2274.23,1445.72 2274.27,1445.72 2274.3,1445.72 2274.34,1445.72 2274.37,1445.72 2274.4,1445.72 2274.44,1445.72 2274.47,1445.72 \n",
       "  2274.51,1445.72 2274.54,1445.72 2274.57,1445.72 2274.61,1445.72 2274.64,1445.72 2274.68,1445.72 2274.71,1445.72 2274.74,1445.72 2274.78,1445.72 2274.81,1445.72 \n",
       "  2274.85,1445.72 2274.88,1445.72 2274.91,1445.72 2274.95,1445.72 2274.98,1445.72 2275.02,1445.72 2275.05,1445.72 2275.08,1445.72 2275.12,1445.72 2275.15,1445.72 \n",
       "  2275.19,1445.72 2275.22,1445.72 2275.25,1445.72 2275.29,1445.72 2275.32,1445.72 2275.36,1445.72 2275.39,1445.72 2275.42,1445.72 2275.46,1445.72 2275.49,1445.72 \n",
       "  2275.53,1445.72 2275.56,1445.72 2275.59,1445.72 2275.63,1445.72 2275.66,1445.72 2275.69,1445.72 2275.73,1445.72 2275.76,1445.72 2275.8,1445.72 2275.83,1445.72 \n",
       "  2275.86,1445.72 2275.9,1445.72 2275.93,1445.72 2275.97,1445.72 2276,1445.72 2276.03,1445.72 2276.07,1445.72 2276.1,1445.72 2276.13,1445.72 2276.17,1445.72 \n",
       "  2276.2,1445.72 2276.24,1445.72 2276.27,1445.72 2276.3,1445.72 2276.34,1445.72 2276.37,1445.72 2276.4,1445.72 2276.44,1445.72 2276.47,1445.72 2276.51,1445.72 \n",
       "  2276.54,1445.72 2276.57,1445.72 2276.61,1445.72 2276.64,1445.72 2276.67,1445.72 2276.71,1445.72 2276.74,1445.72 2276.78,1445.72 2276.81,1445.72 2276.84,1445.72 \n",
       "  2276.88,1445.72 2276.91,1445.72 2276.94,1445.72 2276.98,1445.72 2277.01,1445.72 2277.04,1445.72 2277.08,1445.72 2277.11,1445.72 2277.15,1445.72 2277.18,1445.72 \n",
       "  2277.21,1445.72 2277.25,1445.72 2277.28,1445.72 2277.31,1445.72 2277.35,1445.72 2277.38,1445.72 2277.41,1445.72 2277.45,1445.72 2277.48,1445.72 2277.52,1445.72 \n",
       "  2277.55,1445.72 2277.58,1445.72 2277.62,1445.72 2277.65,1445.72 2277.68,1445.72 2277.72,1445.72 2277.75,1445.72 2277.78,1445.72 2277.82,1445.72 2277.85,1445.72 \n",
       "  2277.88,1445.72 2277.92,1445.72 2277.95,1445.72 2277.99,1445.72 2278.02,1445.72 2278.05,1445.72 2278.09,1445.72 2278.12,1445.72 2278.15,1445.72 2278.19,1445.72 \n",
       "  2278.22,1445.72 2278.25,1445.72 2278.29,1445.72 2278.32,1445.72 2278.35,1445.72 2278.39,1445.72 2278.42,1445.72 2278.45,1445.72 2278.49,1445.72 2278.52,1445.72 \n",
       "  2278.55,1445.72 2278.59,1445.72 2278.62,1445.72 2278.65,1445.72 2278.69,1445.72 2278.72,1445.72 2278.76,1445.72 2278.79,1445.72 2278.82,1445.72 2278.86,1445.72 \n",
       "  2278.89,1445.72 2278.92,1445.72 2278.96,1445.72 2278.99,1445.72 2279.02,1445.72 2279.06,1445.72 2279.09,1445.72 2279.12,1445.72 2279.16,1445.72 2279.19,1445.72 \n",
       "  2279.22,1445.72 2279.26,1445.72 2279.29,1445.72 2279.32,1445.72 2279.36,1445.72 2279.39,1445.72 2279.42,1445.72 2279.46,1445.72 2279.49,1445.72 2279.52,1445.72 \n",
       "  2279.56,1445.72 2279.59,1445.72 2279.62,1445.72 2279.66,1445.72 2279.69,1445.72 2279.72,1445.72 2279.76,1445.72 2279.79,1445.72 2279.82,1445.72 2279.86,1445.72 \n",
       "  2279.89,1445.72 2279.92,1445.72 2279.96,1445.72 2279.99,1445.72 2280.02,1445.72 2280.06,1445.72 2280.09,1445.72 2280.12,1445.72 2280.15,1445.72 2280.19,1445.72 \n",
       "  2280.22,1445.72 2280.25,1445.72 2280.29,1445.72 2280.32,1445.72 2280.35,1445.72 2280.39,1445.72 2280.42,1445.72 2280.45,1445.72 2280.49,1445.72 2280.52,1445.72 \n",
       "  2280.55,1445.72 2280.59,1445.72 2280.62,1445.72 2280.65,1445.72 2280.69,1445.72 2280.72,1445.72 2280.75,1445.72 2280.79,1445.72 2280.82,1445.72 2280.85,1445.72 \n",
       "  2280.88,1445.72 2280.92,1445.72 2280.95,1445.72 2280.98,1445.72 2281.02,1445.72 2281.05,1445.72 2281.08,1445.72 2281.12,1445.72 2281.15,1445.72 2281.18,1445.72 \n",
       "  2281.22,1445.72 2281.25,1445.72 2281.28,1445.72 2281.31,1445.72 2281.35,1445.72 2281.38,1445.72 2281.41,1445.72 2281.45,1445.72 2281.48,1445.72 2281.51,1445.72 \n",
       "  2281.55,1445.72 2281.58,1445.72 2281.61,1445.72 2281.65,1445.72 2281.68,1445.72 2281.71,1445.72 2281.74,1445.72 2281.78,1445.72 2281.81,1445.72 2281.84,1445.72 \n",
       "  2281.88,1445.72 2281.91,1445.72 2281.94,1445.72 2281.97,1445.72 2282.01,1445.72 2282.04,1445.72 2282.07,1445.72 2282.11,1445.72 2282.14,1445.72 2282.17,1445.72 \n",
       "  2282.21,1445.72 2282.24,1445.72 2282.27,1445.72 2282.3,1445.72 2282.34,1445.72 2282.37,1445.72 2282.4,1445.72 2282.44,1445.72 2282.47,1445.72 2282.5,1445.72 \n",
       "  2282.53,1445.72 2282.57,1445.72 2282.6,1445.72 2282.63,1445.72 2282.67,1445.72 2282.7,1445.72 2282.73,1445.72 2282.76,1445.72 2282.8,1445.72 2282.83,1445.72 \n",
       "  2282.86,1445.72 2282.9,1445.72 2282.93,1445.72 2282.96,1445.72 2282.99,1445.72 2283.03,1445.72 2283.06,1445.72 2283.09,1445.72 2283.13,1445.72 2283.16,1445.72 \n",
       "  2283.19,1445.72 2283.22,1445.72 2283.26,1445.72 2283.29,1445.72 2283.32,1445.72 2283.36,1445.72 2283.39,1445.72 2283.42,1445.72 2283.45,1445.72 2283.49,1445.72 \n",
       "  2283.52,1445.72 2283.55,1445.72 2283.58,1445.72 2283.62,1445.72 2283.65,1445.72 2283.68,1445.72 2283.72,1445.72 2283.75,1445.72 2283.78,1445.72 2283.81,1445.72 \n",
       "  2283.85,1445.72 2283.88,1445.72 2283.91,1445.72 2283.94,1445.72 2283.98,1445.72 2284.01,1445.72 2284.04,1445.72 2284.08,1445.72 2284.11,1445.72 2284.14,1445.72 \n",
       "  2284.17,1445.72 2284.21,1445.72 2284.24,1445.72 2284.27,1445.72 2284.3,1445.72 2284.34,1445.72 2284.37,1445.72 2284.4,1445.72 2284.43,1445.72 2284.47,1445.72 \n",
       "  2284.5,1445.72 2284.53,1445.72 2284.57,1445.72 2284.6,1445.72 2284.63,1445.72 2284.66,1445.72 2284.7,1445.72 2284.73,1445.72 2284.76,1445.72 2284.79,1445.72 \n",
       "  2284.83,1445.72 2284.86,1445.72 2284.89,1445.72 2284.92,1445.72 2284.96,1445.72 2284.99,1445.72 2285.02,1445.72 2285.05,1445.72 2285.09,1445.72 2285.12,1445.72 \n",
       "  2285.15,1445.72 2285.18,1445.72 2285.22,1445.72 2285.25,1445.72 2285.28,1445.72 2285.31,1445.72 2285.35,1445.72 2285.38,1445.72 2285.41,1445.72 2285.44,1445.72 \n",
       "  2285.48,1445.72 2285.51,1445.72 2285.54,1445.72 2285.57,1445.72 2285.61,1445.72 2285.64,1445.72 2285.67,1445.72 2285.7,1445.72 2285.74,1445.72 2285.77,1445.72 \n",
       "  2285.8,1445.72 2285.83,1445.72 2285.87,1445.72 2285.9,1445.72 2285.93,1445.72 2285.96,1445.72 2286,1445.72 2286.03,1445.72 2286.06,1445.72 2286.09,1445.72 \n",
       "  2286.13,1445.72 2286.16,1445.72 2286.19,1445.72 2286.22,1445.72 2286.26,1445.72 2286.29,1445.72 2286.32,1445.72 2286.35,1445.72 2286.38,1445.72 2286.42,1445.72 \n",
       "  2286.45,1445.72 2286.48,1445.72 2286.51,1445.72 2286.55,1445.72 2286.58,1445.72 2286.61,1445.72 2286.64,1445.72 2286.68,1445.72 2286.71,1445.72 2286.74,1445.72 \n",
       "  2286.77,1445.72 2286.8,1445.72 2286.84,1445.72 2286.87,1445.72 2286.9,1445.72 2286.93,1445.72 2286.97,1445.72 2287,1445.72 2287.03,1445.72 2287.06,1445.72 \n",
       "  2287.1,1445.72 2287.13,1445.72 2287.16,1445.72 2287.19,1445.72 2287.22,1445.72 2287.26,1445.72 2287.29,1445.72 2287.32,1445.72 2287.35,1445.72 2287.39,1445.72 \n",
       "  2287.42,1445.72 2287.45,1445.72 2287.48,1445.72 2287.51,1445.72 2287.55,1445.72 2287.58,1445.72 2287.61,1445.72 2287.64,1445.72 2287.68,1445.72 2287.71,1445.72 \n",
       "  2287.74,1445.72 2287.77,1445.72 2287.8,1445.72 2287.84,1445.72 2287.87,1445.72 2287.9,1445.72 2287.93,1445.72 2287.97,1445.72 2288,1445.72 2288.03,1445.72 \n",
       "  2288.06,1445.72 2288.09,1445.72 2288.13,1445.72 2288.16,1445.72 2288.19,1445.72 2288.22,1445.72 2288.25,1445.72 2288.29,1445.72 2288.32,1445.72 2288.35,1445.72 \n",
       "  2288.38,1445.72 2288.41,1445.72 2288.45,1445.72 2288.48,1445.72 2288.51,1445.72 2288.54,1445.72 2288.58,1445.72 2288.61,1445.72 2288.64,1445.72 2288.67,1445.72 \n",
       "  2288.7,1445.72 2288.74,1445.72 2288.77,1445.72 2288.8,1445.72 2288.83,1445.72 2288.86,1445.72 2288.9,1445.72 2288.93,1445.72 2288.96,1445.72 2288.99,1445.72 \n",
       "  2289.02,1445.72 2289.06,1445.72 2289.09,1445.72 2289.12,1445.72 2289.15,1445.72 2289.18,1445.72 2289.22,1445.72 2289.25,1445.72 2289.28,1445.72 2289.31,1445.72 \n",
       "  2289.34,1445.72 \n",
       "  \"/>\n",
       "<path clip-path=\"url(#clip0000)\" d=\"\n",
       "M1958.72 251.724 L2280.76 251.724 L2280.76 130.764 L1958.72 130.764  Z\n",
       "  \" fill=\"#ffffff\" fill-rule=\"evenodd\" fill-opacity=\"1\"/>\n",
       "<polyline clip-path=\"url(#clip0000)\" style=\"stroke:#000000; stroke-width:4; stroke-opacity:1; fill:none\" points=\"\n",
       "  1958.72,251.724 2280.76,251.724 2280.76,130.764 1958.72,130.764 1958.72,251.724 \n",
       "  \"/>\n",
       "<polyline clip-path=\"url(#clip0000)\" style=\"stroke:#009af9; stroke-width:4; stroke-opacity:1; fill:none\" points=\"\n",
       "  1982.72,191.244 2126.72,191.244 \n",
       "  \"/>\n",
       "<path clip-path=\"url(#clip0000)\" d=\"M 0 0 M2151.25 173.964 L2178.4 173.964 L2178.4 177.529 L2156.55 204.589 L2178.94 204.589 L2178.94 208.524 L2150.72 208.524 L2150.72 204.959 L2172.57 177.899 L2151.25 177.899 L2151.25 173.964 Z\" fill=\"#000000\" fill-rule=\"evenodd\" fill-opacity=\"1\" /><path clip-path=\"url(#clip0000)\" d=\"M 0 0 M2183.4 182.598 L2187.66 182.598 L2187.66 208.524 L2183.4 208.524 L2183.4 182.598 M2183.4 172.506 L2187.66 172.506 L2187.66 177.899 L2183.4 177.899 L2183.4 172.506 Z\" fill=\"#000000\" fill-rule=\"evenodd\" fill-opacity=\"1\" /><path clip-path=\"url(#clip0000)\" d=\"M 0 0 M2196.25 204.635 L2196.25 218.385 L2191.97 218.385 L2191.97 182.598 L2196.25 182.598 L2196.25 186.533 Q2197.59 184.219 2199.63 183.108 Q2201.69 181.973 2204.54 181.973 Q2209.26 181.973 2212.2 185.723 Q2215.16 189.473 2215.16 195.584 Q2215.16 201.695 2212.2 205.445 Q2209.26 209.195 2204.54 209.195 Q2201.69 209.195 2199.63 208.084 Q2197.59 206.95 2196.25 204.635 M2210.74 195.584 Q2210.74 190.885 2208.8 188.223 Q2206.88 185.538 2203.5 185.538 Q2200.12 185.538 2198.17 188.223 Q2196.25 190.885 2196.25 195.584 Q2196.25 200.283 2198.17 202.969 Q2200.12 205.631 2203.5 205.631 Q2206.88 205.631 2208.8 202.969 Q2210.74 200.283 2210.74 195.584 Z\" fill=\"#000000\" fill-rule=\"evenodd\" fill-opacity=\"1\" /><path clip-path=\"url(#clip0000)\" d=\"M 0 0 M2232.76 172.506 L2232.76 176.047 L2228.68 176.047 Q2226.39 176.047 2225.49 176.973 Q2224.61 177.899 2224.61 180.307 L2224.61 182.598 L2231.62 182.598 L2231.62 185.908 L2224.61 185.908 L2224.61 208.524 L2220.33 208.524 L2220.33 185.908 L2216.25 185.908 L2216.25 182.598 L2220.33 182.598 L2220.33 180.793 Q2220.33 176.464 2222.34 174.496 Q2224.35 172.506 2228.73 172.506 L2232.76 172.506 Z\" fill=\"#000000\" fill-rule=\"evenodd\" fill-opacity=\"1\" /></svg>\n"
      ]
     },
     "execution_count": 50,
     "metadata": {},
     "output_type": "execute_result"
    }
   ],
   "source": [
    "using Plots\n",
    "\n",
    "emma_hist = processfile(\"emma.txt\")\n",
    "zipf(emma_hist)"
   ]
  }
 ],
 "metadata": {
  "kernelspec": {
   "display_name": "Julia 1.4.0",
   "language": "julia",
   "name": "julia-1.4"
  },
  "language_info": {
   "file_extension": ".jl",
   "mimetype": "application/julia",
   "name": "julia",
   "version": "1.4.0"
  }
 },
 "nbformat": 4,
 "nbformat_minor": 2
}
