{
 "cells": [
  {
   "cell_type": "markdown",
   "metadata": {},
   "source": [
    "# Ch 56S: Advanced Recursion Practices"
   ]
  },
  {
   "cell_type": "markdown",
   "metadata": {},
   "source": [
    "### Exercise 5-6\n",
    "\n",
    "We will first add a module PyCall to use Turtle Graphics.\n",
    "\n",
    "Read the following function `draw` and see if you can figure out what it does (see the examples in Case Study: Interface Design). Then run it and see if you got it right."
   ]
  },
  {
   "cell_type": "code",
   "execution_count": 35,
   "metadata": {},
   "outputs": [
    {
     "name": "stdout",
     "output_type": "stream",
     "text": [
      "\u001b[32m\u001b[1m  Updating\u001b[22m\u001b[39m registry at `C:\\Users\\ST\\.julia\\registries\\General`\n",
      "\u001b[32m\u001b[1m  Updating\u001b[22m\u001b[39m git-repo `https://github.com/JuliaRegistries/General.git`\n",
      "\u001b[2K\u001b[36m\u001b[1mFetching:\u001b[22m\u001b[39m [========================================>]  100.0 %.0 %.2 %.4 %                              ]  24.5 %                         ]  35.7 %44.8 %2 %63.0 %            ]  69.9 %]  78.1 % %\u001b[?25h\u001b[32m\u001b[1m Resolving\u001b[22m\u001b[39m package versions...\n",
      "\u001b[32m\u001b[1m Installed\u001b[22m\u001b[39m JSExpr ── v0.5.1\n",
      "\u001b[32m\u001b[1m Installed\u001b[22m\u001b[39m Widgets ─ v0.6.2\n",
      "\u001b[32m\u001b[1m  Updating\u001b[22m\u001b[39m `C:\\Users\\ST\\.julia\\environments\\v1.2\\Project.toml`\n",
      "\u001b[90m [no changes]\u001b[39m\n",
      "\u001b[32m\u001b[1m  Updating\u001b[22m\u001b[39m `C:\\Users\\ST\\.julia\\environments\\v1.2\\Manifest.toml`\n",
      " \u001b[90m [97c1335a]\u001b[39m\u001b[93m ↑ JSExpr v0.5.0 ⇒ v0.5.1\u001b[39m\n",
      " \u001b[90m [cc8bc4a8]\u001b[39m\u001b[93m ↑ Widgets v0.6.1 ⇒ v0.6.2\u001b[39m\n"
     ]
    },
    {
     "data": {
      "text/plain": [
       "PyObject <turtle.Turtle object at 0x00000000171C3BE0>"
      ]
     },
     "execution_count": 35,
     "metadata": {},
     "output_type": "execute_result"
    }
   ],
   "source": [
    "using Pkg            \n",
    "# this module allows us to manage modules and packages in Julia\n",
    "\n",
    "Pkg.add(\"PyCall\")    \n",
    "# to call Python functions within Julia, we import a package called PyCall\n",
    "\n",
    "using PyCall\n",
    "\n",
    "jturtle = pyimport(\"turtle\")\n",
    "\n",
    "my_t = jturtle.Turtle()"
   ]
  },
  {
   "cell_type": "code",
   "execution_count": 36,
   "metadata": {},
   "outputs": [
    {
     "data": {
      "text/plain": [
       "draw (generic function with 1 method)"
      ]
     },
     "execution_count": 36,
     "metadata": {},
     "output_type": "execute_result"
    }
   ],
   "source": [
    "function draw(t, length, n)\n",
    "    \n",
    "    if n == 0\n",
    "        return\n",
    "    end\n",
    "    \n",
    "    angle = 50\n",
    "    \n",
    "    my_t.forward(length*n)\n",
    "    my_t.left(angle)\n",
    "    draw(t, length, n-1)\n",
    "    my_t.left(-2*angle)\n",
    "    draw(t, length, n-1)\n",
    "    my_t.left(angle)\n",
    "    my_t.forward(-length*n)\n",
    "    \n",
    "end"
   ]
  },
  {
   "cell_type": "code",
   "execution_count": 37,
   "metadata": {},
   "outputs": [],
   "source": [
    "my_t.reset()\n",
    "my_t.speed(1)\n",
    "draw(my_t, 20, 5)"
   ]
  },
  {
   "cell_type": "markdown",
   "metadata": {},
   "source": [
    "### Exercise 5-7\n",
    "\n",
    "The Koch curve is a fractal. To draw a Koch curve with length , all you have to do is\n",
    "\n",
    "1. Draw a Koch curve with length $x/3$.\n",
    "2. Turn left 60 degrees.\n",
    "3. Draw a Koch curve with length $x/3$.\n",
    "4. Turn right 120 degrees.\n",
    "5. Draw a Koch curve with length $x/3$.\n",
    "6. Turn left 60 degrees.\n",
    "7. Draw a Koch curve with length $x/3$.\n",
    "\n",
    "The exception is if $x$ is less than 3: in that case, you can just draw a straight line with length $x$.\n",
    "\n",
    "1. Write a function called koch that takes a turtle and a length as arguments, and that uses the turtle to draw a Koch curve with the given length.\n",
    "\n",
    "2. Write a function called snowflake that draws three Koch curves to make the outline of a snowflake.\n",
    "\n",
    "3. The Koch curve can be generalized in several ways. See https://en.wikipedia.org/wiki/Koch_snowflake for examples and implement your favorite."
   ]
  },
  {
   "cell_type": "code",
   "execution_count": 38,
   "metadata": {},
   "outputs": [
    {
     "data": {
      "text/plain": [
       "koch (generic function with 1 method)"
      ]
     },
     "execution_count": 38,
     "metadata": {},
     "output_type": "execute_result"
    }
   ],
   "source": [
    "function koch(t, x)\n",
    "  if x < 3\n",
    "    t.forward(x)\n",
    "  else\n",
    "    koch(t, x/3)\n",
    "    t.left(60)\n",
    "    koch(t, x/3)\n",
    "    t.right(120)\n",
    "    koch(t, x/3)\n",
    "    t.left(60)\n",
    "    koch(t, x/3)\n",
    "  end\n",
    "end"
   ]
  },
  {
   "cell_type": "code",
   "execution_count": 39,
   "metadata": {},
   "outputs": [],
   "source": [
    "my_t.reset()\n",
    "my_t.speed(5)\n",
    "koch(my_t, 200)"
   ]
  },
  {
   "cell_type": "code",
   "execution_count": 40,
   "metadata": {},
   "outputs": [
    {
     "data": {
      "text/plain": [
       "snowflake (generic function with 1 method)"
      ]
     },
     "execution_count": 40,
     "metadata": {},
     "output_type": "execute_result"
    }
   ],
   "source": [
    "function snowflake(t,x)\n",
    "     for i in 1:3\n",
    "        koch(t,x)\n",
    "        t.right(120)\n",
    "    end\n",
    "end\n",
    "    "
   ]
  },
  {
   "cell_type": "code",
   "execution_count": 41,
   "metadata": {},
   "outputs": [],
   "source": [
    "my_t.reset()\n",
    "my_t.speed(10)\n",
    "snowflake(my_t,200)"
   ]
  }
 ],
 "metadata": {
  "@webio": {
   "lastCommId": null,
   "lastKernelId": null
  },
  "kernelspec": {
   "display_name": "Julia 1.2.0",
   "language": "julia",
   "name": "julia-1.2"
  },
  "language_info": {
   "file_extension": ".jl",
   "mimetype": "application/julia",
   "name": "julia",
   "version": "1.2.0"
  }
 },
 "nbformat": 4,
 "nbformat_minor": 2
}
