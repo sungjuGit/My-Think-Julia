{
 "cells": [
  {
   "cell_type": "markdown",
   "metadata": {},
   "source": [
    "# Ch 14: Files\n"
   ]
  },
  {
   "cell_type": "markdown",
   "metadata": {},
   "source": [
    "### Reading and Writing\n",
    "\n",
    "A text file is a sequence of characters stored on a permanent medium like a hard drive, or flash memory. We saw how to open and read a file in Reading Word Lists. To write a file, you have to open it with mode \"w\" as a second parameter:\n"
   ]
  },
  {
   "cell_type": "code",
   "execution_count": 1,
   "metadata": {},
   "outputs": [
    {
     "data": {
      "text/plain": [
       "IOStream(<file output.txt>)"
      ]
     },
     "execution_count": 1,
     "metadata": {},
     "output_type": "execute_result"
    }
   ],
   "source": [
    "fout = open(\"output.txt\", \"w\")"
   ]
  },
  {
   "cell_type": "markdown",
   "metadata": {},
   "source": [
    "If the file already exists, opening it in write mode clears out the old data and starts fresh, so be careful! If the file doesn’t exist, a new one is created. The function `open` returns a file object and the function `write` puts data into the file."
   ]
  },
  {
   "cell_type": "code",
   "execution_count": 2,
   "metadata": {},
   "outputs": [
    {
     "data": {
      "text/plain": [
       "24"
      ]
     },
     "execution_count": 2,
     "metadata": {},
     "output_type": "execute_result"
    }
   ],
   "source": [
    "line1 = \"This here's the wattle,\\n\";\n",
    "write(fout, line1)"
   ]
  },
  {
   "cell_type": "markdown",
   "metadata": {},
   "source": [
    "The return value is the number of characters that were written. The file object keeps track of where it is, so if you call\n",
    "write again, it adds the new data to the end of the file."
   ]
  },
  {
   "cell_type": "code",
   "execution_count": 3,
   "metadata": {},
   "outputs": [
    {
     "data": {
      "text/plain": [
       "24"
      ]
     },
     "execution_count": 3,
     "metadata": {},
     "output_type": "execute_result"
    }
   ],
   "source": [
    "line2 = \"the emblem of our land.\\n\";\n",
    "write(fout, line2)"
   ]
  },
  {
   "cell_type": "markdown",
   "metadata": {},
   "source": [
    "When you are done writing, you should close the file."
   ]
  },
  {
   "cell_type": "code",
   "execution_count": 4,
   "metadata": {},
   "outputs": [],
   "source": [
    "close(fout)"
   ]
  },
  {
   "cell_type": "markdown",
   "metadata": {},
   "source": [
    "***Formatting***\n",
    "\n",
    "The argument of write has to be a string, so if we want to put other values in a file, we have to convert them to strings. The\n",
    "easiest way to do that is with string or string interpolation:"
   ]
  },
  {
   "cell_type": "code",
   "execution_count": 5,
   "metadata": {},
   "outputs": [
    {
     "data": {
      "text/plain": [
       "3"
      ]
     },
     "execution_count": 5,
     "metadata": {},
     "output_type": "execute_result"
    }
   ],
   "source": [
    "fout = open(\"output.txt\", \"w\")\n",
    "write(fout, string(150))"
   ]
  },
  {
   "cell_type": "markdown",
   "metadata": {},
   "source": [
    "An alternative is to use the `print(ln)` family of functions."
   ]
  },
  {
   "cell_type": "code",
   "execution_count": 6,
   "metadata": {},
   "outputs": [],
   "source": [
    "camels = 42\n",
    "println(fout, \"I have spotted $camels camels.\")"
   ]
  },
  {
   "cell_type": "markdown",
   "metadata": {},
   "source": [
    "A more powerful alternative is the @printf macro that prints using a C style format specification\n",
    "string, which you can read about at https://docs.julialang.org/en/v1/stdlib/Printf/"
   ]
  },
  {
   "cell_type": "code",
   "execution_count": 7,
   "metadata": {},
   "outputs": [],
   "source": [
    "close(fout)"
   ]
  },
  {
   "cell_type": "markdown",
   "metadata": {},
   "source": [
    "### Filenames and Paths\n",
    "\n",
    "Files are organized into directories (also called “folders”). Every running program has a “current directory”, which is the default directory for most operations. For example, when you open a file for reading, Julia looks for it in the current directory. \n",
    "\n",
    "The function `pwd` returns the name of the current directory:"
   ]
  },
  {
   "cell_type": "code",
   "execution_count": 8,
   "metadata": {},
   "outputs": [
    {
     "data": {
      "text/plain": [
       "\"C:\\\\users\\\\st\\\\OneDrive\\\\STJuliaLessons\""
      ]
     },
     "execution_count": 8,
     "metadata": {},
     "output_type": "execute_result"
    }
   ],
   "source": [
    "cwd = pwd()"
   ]
  },
  {
   "cell_type": "markdown",
   "metadata": {},
   "source": [
    "`cwd` stands for “current working directory”.  A string like \"/home/ben\" that identifies a file or directory is called a path."
   ]
  },
  {
   "cell_type": "markdown",
   "metadata": {},
   "source": [
    "A simple filename, like memo.txt is also considered a path, but it is a relative path because it relates to the current\n",
    "directory. \n",
    "\n",
    "If the current directory is `C:\\\\users\\\\st\\\\OneDrive\\\\STJuliaLessons`, the filename `memo.txt` would refer to `C:\\\\users\\\\st\\\\OneDrive\\\\STJuliaLessons\\\\memo.txt.` A path that begins with / does not depend on the current directory; it is called an absolute path. To find the absolute path to a file, you can use `abspath`:"
   ]
  },
  {
   "cell_type": "code",
   "execution_count": 9,
   "metadata": {},
   "outputs": [
    {
     "data": {
      "text/plain": [
       "\"C:\\\\users\\\\st\\\\OneDrive\\\\STJuliaLessons\\\\emma.txt\""
      ]
     },
     "execution_count": 9,
     "metadata": {},
     "output_type": "execute_result"
    }
   ],
   "source": [
    "abspath(\"emma.txt\")"
   ]
  },
  {
   "cell_type": "markdown",
   "metadata": {},
   "source": [
    "Julia provides other functions for working with filenames and paths. For example, `ispath` checks whether a file or\n",
    "directory exists:"
   ]
  },
  {
   "cell_type": "code",
   "execution_count": 11,
   "metadata": {},
   "outputs": [
    {
     "data": {
      "text/plain": [
       "true"
      ]
     },
     "execution_count": 11,
     "metadata": {},
     "output_type": "execute_result"
    }
   ],
   "source": [
    "ispath(\"emma.txt\")"
   ]
  },
  {
   "cell_type": "markdown",
   "metadata": {},
   "source": [
    "If it exists, `isdir` checks whether it’s a directory"
   ]
  },
  {
   "cell_type": "code",
   "execution_count": 12,
   "metadata": {},
   "outputs": [
    {
     "data": {
      "text/plain": [
       "false"
      ]
     },
     "execution_count": 12,
     "metadata": {},
     "output_type": "execute_result"
    }
   ],
   "source": [
    "isdir(\"emma.txt\")"
   ]
  },
  {
   "cell_type": "markdown",
   "metadata": {},
   "source": [
    "Similarly, `isfile` checks whether it’s a file. `readdir` returns an array of the files (and other directories) in the given directory:"
   ]
  },
  {
   "cell_type": "code",
   "execution_count": 13,
   "metadata": {},
   "outputs": [
    {
     "data": {
      "text/plain": [
       "32-element Array{String,1}:\n",
       " \".ipynb_checkpoints\"                       \n",
       " \"cmudict-0.7b.txt\"                         \n",
       " \"cmudict-rem-punc.txt\"                     \n",
       " \"emma.txt\"                                 \n",
       " \"EricHalfBee.txt\"                          \n",
       " \"intro-to-julia-for-data-science\"          \n",
       " \"intro-to-ml\"                              \n",
       " \"MyThinkJulia-Ch00-JupyterNB.ipynb\"        \n",
       " \"MyThinkJulia-Ch01-Intro.ipynb\"            \n",
       " \"MyThinkJulia-Ch02-VarExpState.ipynb\"      \n",
       " \"MyThinkJulia-Ch03-Functions.ipynb\"        \n",
       " \"MyThinkJulia-Ch04-Interface.ipynb\"        \n",
       " \"MyThinkJulia-Ch04-Turtle graphic geom.pdf\"\n",
       " ⋮                                          \n",
       " \"MyThinkJulia-Ch09-WordPlay.ipynb\"         \n",
       " \"MyThinkJulia-Ch10-Arrays.ipynb\"           \n",
       " \"MyThinkJulia-Ch11-Dictionary.ipynb\"       \n",
       " \"MyThinkJulia-Ch12-Tuple.ipynb\"            \n",
       " \"MyThinkJulia-Ch13-DataStructure.ipynb\"    \n",
       " \"MyThinkJuliaCh16.ipynb\"                   \n",
       " \"output.txt\"                               \n",
       " \"select-notebooks\"                         \n",
       " \"test.mp3\"                                 \n",
       " \"Text_to_speech_test.ipynb\"                \n",
       " \"Untitled.ipynb\"                           \n",
       " \"words.txt\"                                "
      ]
     },
     "execution_count": 13,
     "metadata": {},
     "output_type": "execute_result"
    }
   ],
   "source": [
    "readdir(cwd)"
   ]
  },
  {
   "cell_type": "markdown",
   "metadata": {},
   "source": [
    "To demonstrate these functions, the following example “walks” through a directory, prints the names of all the files, and\n",
    "calls itself recursively on all the directories."
   ]
  },
  {
   "cell_type": "code",
   "execution_count": 14,
   "metadata": {},
   "outputs": [
    {
     "data": {
      "text/plain": [
       "walk (generic function with 1 method)"
      ]
     },
     "execution_count": 14,
     "metadata": {},
     "output_type": "execute_result"
    }
   ],
   "source": [
    "function walk(dirname)\n",
    "    for name in readdir(dirname)\n",
    "        path = joinpath(dirname, name)\n",
    "        if isfile(path)\n",
    "            println(path)\n",
    "        else\n",
    "            ]walk(path)\n",
    "        end\n",
    "    end\n",
    "end"
   ]
  },
  {
   "cell_type": "code",
   "execution_count": 16,
   "metadata": {},
   "outputs": [
    {
     "name": "stdout",
     "output_type": "stream",
     "text": [
      "C:\\users\\st\\OneDrive\\STJuliaLessons\\.ipynb_checkpoints\\create_a_caesar_cipher_solutions-checkpoint.ipynb\n",
      "C:\\users\\st\\OneDrive\\STJuliaLessons\\.ipynb_checkpoints\\MyThinkJulia-Ch00-JupyterNB-checkpoint.ipynb\n",
      "C:\\users\\st\\OneDrive\\STJuliaLessons\\.ipynb_checkpoints\\MyThinkJulia-Ch03rev-checkpoint.ipynb\n",
      "C:\\users\\st\\OneDrive\\STJuliaLessons\\.ipynb_checkpoints\\MyThinkJulia-Ch04rev-checkpoint.ipynb\n",
      "C:\\users\\st\\OneDrive\\STJuliaLessons\\.ipynb_checkpoints\\MyThinkJulia-Ch04z5-Plotting-checkpoint.ipynb\n",
      "C:\\users\\st\\OneDrive\\STJuliaLessons\\.ipynb_checkpoints\\MyThinkJulia-Ch05-checkpoint.ipynb\n",
      "C:\\users\\st\\OneDrive\\STJuliaLessons\\.ipynb_checkpoints\\MyThinkJulia-Ch06-checkpoint.ipynb\n",
      "C:\\users\\st\\OneDrive\\STJuliaLessons\\.ipynb_checkpoints\\MyThinkJulia-Ch06z56S-checkpoint.ipynb\n",
      "C:\\users\\st\\OneDrive\\STJuliaLessons\\.ipynb_checkpoints\\MyThinkJulia-Ch07-checkpoint.ipynb\n",
      "C:\\users\\st\\OneDrive\\STJuliaLessons\\.ipynb_checkpoints\\MyThinkJulia-Ch08-checkpoint.ipynb\n",
      "C:\\users\\st\\OneDrive\\STJuliaLessons\\.ipynb_checkpoints\\MyThinkJulia-Ch13-checkpoint.ipynb\n",
      "C:\\users\\st\\OneDrive\\STJuliaLessons\\.ipynb_checkpoints\\MyThinkJuliaCh09-checkpoint.ipynb\n",
      "C:\\users\\st\\OneDrive\\STJuliaLessons\\.ipynb_checkpoints\\MyThinkJuliaCh10-checkpoint.ipynb\n",
      "C:\\users\\st\\OneDrive\\STJuliaLessons\\.ipynb_checkpoints\\MyThinkJuliaCh11-checkpoint.ipynb\n",
      "C:\\users\\st\\OneDrive\\STJuliaLessons\\.ipynb_checkpoints\\MyThinkJuliaCh12-checkpoint.ipynb\n",
      "C:\\users\\st\\OneDrive\\STJuliaLessons\\.ipynb_checkpoints\\MyThinkJuliaCh5-checkpoint.ipynb\n",
      "C:\\users\\st\\OneDrive\\STJuliaLessons\\.ipynb_checkpoints\\Text_to_speech_test-checkpoint.ipynb\n",
      "C:\\users\\st\\OneDrive\\STJuliaLessons\\.ipynb_checkpoints\\Untitled-checkpoint.ipynb\n",
      "C:\\users\\st\\OneDrive\\STJuliaLessons\\cmudict-0.7b.txt\n",
      "C:\\users\\st\\OneDrive\\STJuliaLessons\\cmudict-rem-punc.txt\n",
      "C:\\users\\st\\OneDrive\\STJuliaLessons\\emma.txt\n",
      "C:\\users\\st\\OneDrive\\STJuliaLessons\\EricHalfBee.txt\n",
      "C:\\users\\st\\OneDrive\\STJuliaLessons\\intro-to-julia-for-data-science\\.ipynb_checkpoints\\1. Julia for Data Science - Data-checkpoint.ipynb\n",
      "C:\\users\\st\\OneDrive\\STJuliaLessons\\intro-to-julia-for-data-science\\.ipynb_checkpoints\\2. Julia for Data Science - Algorithms-checkpoint.ipynb\n",
      "C:\\users\\st\\OneDrive\\STJuliaLessons\\intro-to-julia-for-data-science\\.ipynb_checkpoints\\3. Julia for Data Science - Plotting-checkpoint.ipynb\n",
      "C:\\users\\st\\OneDrive\\STJuliaLessons\\intro-to-julia-for-data-science\\1. Julia for Data Science - Data.ipynb\n",
      "C:\\users\\st\\OneDrive\\STJuliaLessons\\intro-to-julia-for-data-science\\2. Julia for Data Science - Algorithms.ipynb\n",
      "C:\\users\\st\\OneDrive\\STJuliaLessons\\intro-to-julia-for-data-science\\3. Julia for Data Science - Plotting.ipynb\n",
      "C:\\users\\st\\OneDrive\\STJuliaLessons\\intro-to-julia-for-data-science\\densematrix.mat\n",
      "C:\\users\\st\\OneDrive\\STJuliaLessons\\intro-to-julia-for-data-science\\houses.csv\n",
      "C:\\users\\st\\OneDrive\\STJuliaLessons\\intro-to-julia-for-data-science\\julialogo.png\n",
      "C:\\users\\st\\OneDrive\\STJuliaLessons\\intro-to-julia-for-data-science\\LICENSE.md\n",
      "C:\\users\\st\\OneDrive\\STJuliaLessons\\intro-to-julia-for-data-science\\programminglanguages.csv\n",
      "C:\\users\\st\\OneDrive\\STJuliaLessons\\intro-to-julia-for-data-science\\programming_languages_data.txt\n",
      "C:\\users\\st\\OneDrive\\STJuliaLessons\\intro-to-julia-for-data-science\\README.md\n",
      "C:\\users\\st\\OneDrive\\STJuliaLessons\\intro-to-julia-for-data-science\\short-version\\01.Julia_for_data_science-Data.ipynb\n",
      "C:\\users\\st\\OneDrive\\STJuliaLessons\\intro-to-julia-for-data-science\\short-version\\02.Julia_for_data_science-Algorithms.ipynb\n",
      "C:\\users\\st\\OneDrive\\STJuliaLessons\\intro-to-julia-for-data-science\\short-version\\03.Julia_for_data_science-Plotting.ipynb\n",
      "C:\\users\\st\\OneDrive\\STJuliaLessons\\intro-to-julia-for-data-science\\short-version\\04.Bonus_MNIST_example.ipynb\n",
      "C:\\users\\st\\OneDrive\\STJuliaLessons\\intro-to-ml\\00. Motivation - Classifying fruit.ipynb\n",
      "C:\\users\\st\\OneDrive\\STJuliaLessons\\intro-to-ml\\01. ML - Representing data in a computer.ipynb\n",
      "C:\\users\\st\\OneDrive\\STJuliaLessons\\intro-to-ml\\02. Tools - Using arrays to store data.ipynb\n",
      "C:\\users\\st\\OneDrive\\STJuliaLessons\\intro-to-ml\\03. ML - Representing data with models.ipynb\n",
      "C:\\users\\st\\OneDrive\\STJuliaLessons\\intro-to-ml\\04. Tools - Functions.ipynb\n",
      "C:\\users\\st\\OneDrive\\STJuliaLessons\\intro-to-ml\\05. ML - Building models.ipynb\n",
      "C:\\users\\st\\OneDrive\\STJuliaLessons\\intro-to-ml\\06. Tools - Adding a function parameter.ipynb\n",
      "C:\\users\\st\\OneDrive\\STJuliaLessons\\intro-to-ml\\07. ML - Model complexity.ipynb\n",
      "C:\\users\\st\\OneDrive\\STJuliaLessons\\intro-to-ml\\08. Tools - Multiple function parameters.ipynb\n",
      "C:\\users\\st\\OneDrive\\STJuliaLessons\\intro-to-ml\\09. ML - What is learning.ipynb\n",
      "C:\\users\\st\\OneDrive\\STJuliaLessons\\intro-to-ml\\10. Tools - Minimizing functions - how a computer learns.ipynb\n",
      "C:\\users\\st\\OneDrive\\STJuliaLessons\\intro-to-ml\\11. ML - Intro to neurons.ipynb\n",
      "C:\\users\\st\\OneDrive\\STJuliaLessons\\intro-to-ml\\12. Tools - Learning with a single neuron.ipynb\n",
      "C:\\users\\st\\OneDrive\\STJuliaLessons\\intro-to-ml\\13. ML - Intro to Flux.jl.ipynb\n",
      "C:\\users\\st\\OneDrive\\STJuliaLessons\\intro-to-ml\\1300.Intro-to-Flux.jl.ipynb\n",
      "C:\\users\\st\\OneDrive\\STJuliaLessons\\intro-to-ml\\14. Tools - Learning with a single neuron using Flux.jl.ipynb\n",
      "C:\\users\\st\\OneDrive\\STJuliaLessons\\intro-to-ml\\15. ML - Intro to neural networks.ipynb\n",
      "C:\\users\\st\\OneDrive\\STJuliaLessons\\intro-to-ml\\1500.Intro-to-neural-networks.ipynb\n",
      "C:\\users\\st\\OneDrive\\STJuliaLessons\\intro-to-ml\\16. Tools - Using Flux to build a single layer neural net.ipynb\n",
      "C:\\users\\st\\OneDrive\\STJuliaLessons\\intro-to-ml\\17. ML - Introduction to deep learning.ipynb\n",
      "C:\\users\\st\\OneDrive\\STJuliaLessons\\intro-to-ml\\1700.Introduction-to-deep-learning.ipynb\n",
      "C:\\users\\st\\OneDrive\\STJuliaLessons\\intro-to-ml\\18. Tools - Multi-layer neural networks with Flux.ipynb\n",
      "C:\\users\\st\\OneDrive\\STJuliaLessons\\intro-to-ml\\19. Recognizing handwriting using a neural network.ipynb\n",
      "C:\\users\\st\\OneDrive\\STJuliaLessons\\intro-to-ml\\1900.Recognizing-handwriting-using-a-neural-network.ipynb\n",
      "C:\\users\\st\\OneDrive\\STJuliaLessons\\intro-to-ml\\20. Automatic Differentiation in 10 Minutes.ipynb\n",
      "C:\\users\\st\\OneDrive\\STJuliaLessons\\intro-to-ml\\21. Express path to classifying images.ipynb\n",
      "C:\\users\\st\\OneDrive\\STJuliaLessons\\intro-to-ml\\22. Julia is fast.ipynb\n",
      "C:\\users\\st\\OneDrive\\STJuliaLessons\\intro-to-ml\\data\\104_100.jpg\n",
      "C:\\users\\st\\OneDrive\\STJuliaLessons\\intro-to-ml\\data\\107_100.jpg\n",
      "C:\\users\\st\\OneDrive\\STJuliaLessons\\intro-to-ml\\data\\10_100.jpg\n",
      "C:\\users\\st\\OneDrive\\STJuliaLessons\\intro-to-ml\\data\\8_100.jpg\n",
      "C:\\users\\st\\OneDrive\\STJuliaLessons\\intro-to-ml\\data\\apples.dat\n",
      "C:\\users\\st\\OneDrive\\STJuliaLessons\\intro-to-ml\\data\\Apple_Braeburn.dat\n",
      "C:\\users\\st\\OneDrive\\STJuliaLessons\\intro-to-ml\\data\\Apple_Golden_1.dat\n",
      "C:\\users\\st\\OneDrive\\STJuliaLessons\\intro-to-ml\\data\\Apple_Golden_2.dat\n",
      "C:\\users\\st\\OneDrive\\STJuliaLessons\\intro-to-ml\\data\\Apple_Golden_3.dat\n",
      "C:\\users\\st\\OneDrive\\STJuliaLessons\\intro-to-ml\\data\\array2d.png\n",
      "C:\\users\\st\\OneDrive\\STJuliaLessons\\intro-to-ml\\data\\array_cartoon.png\n",
      "C:\\users\\st\\OneDrive\\STJuliaLessons\\intro-to-ml\\data\\array_comprehension.png\n",
      "C:\\users\\st\\OneDrive\\STJuliaLessons\\intro-to-ml\\data\\Banana.dat\n",
      "C:\\users\\st\\OneDrive\\STJuliaLessons\\intro-to-ml\\data\\bananas.dat\n",
      "C:\\users\\st\\OneDrive\\STJuliaLessons\\intro-to-ml\\data\\Celeste.png\n",
      "C:\\users\\st\\OneDrive\\STJuliaLessons\\intro-to-ml\\data\\data_flow.png\n",
      "C:\\users\\st\\OneDrive\\STJuliaLessons\\intro-to-ml\\data\\deep-neural-net.png\n",
      "C:\\users\\st\\OneDrive\\STJuliaLessons\\intro-to-ml\\data\\fruit-salad.png\n",
      "C:\\users\\st\\OneDrive\\STJuliaLessons\\intro-to-ml\\data\\Grape_White.dat\n",
      "C:\\users\\st\\OneDrive\\STJuliaLessons\\intro-to-ml\\data\\Grape_White_2.dat\n",
      "C:\\users\\st\\OneDrive\\STJuliaLessons\\intro-to-ml\\data\\model_fitting.png\n",
      "C:\\users\\st\\OneDrive\\STJuliaLessons\\intro-to-ml\\data\\philip.jpg\n",
      "C:\\users\\st\\OneDrive\\STJuliaLessons\\intro-to-ml\\data\\single-layer.png\n",
      "C:\\users\\st\\OneDrive\\STJuliaLessons\\intro-to-ml\\data\\single-neuron.png\n",
      "C:\\users\\st\\OneDrive\\STJuliaLessons\\intro-to-ml\\data\\what_is_model.png\n",
      "C:\\users\\st\\OneDrive\\STJuliaLessons\\intro-to-ml\\data\\without_arrays.png\n",
      "C:\\users\\st\\OneDrive\\STJuliaLessons\\intro-to-ml\\draw_neural_net.jl\n",
      "C:\\users\\st\\OneDrive\\STJuliaLessons\\intro-to-ml\\motivation.html\n",
      "C:\\users\\st\\OneDrive\\STJuliaLessons\\MyThinkJulia-Ch00-JupyterNB.ipynb\n",
      "C:\\users\\st\\OneDrive\\STJuliaLessons\\MyThinkJulia-Ch01-Intro.ipynb\n",
      "C:\\users\\st\\OneDrive\\STJuliaLessons\\MyThinkJulia-Ch02-VarExpState.ipynb\n",
      "C:\\users\\st\\OneDrive\\STJuliaLessons\\MyThinkJulia-Ch03-Functions.ipynb\n",
      "C:\\users\\st\\OneDrive\\STJuliaLessons\\MyThinkJulia-Ch04-Interface.ipynb\n",
      "C:\\users\\st\\OneDrive\\STJuliaLessons\\MyThinkJulia-Ch04-Turtle graphic geom.pdf\n",
      "C:\\users\\st\\OneDrive\\STJuliaLessons\\MyThinkJulia-Ch04z5-Plotting.ipynb\n",
      "C:\\users\\st\\OneDrive\\STJuliaLessons\\MyThinkJulia-Ch05-CondtionalsRecursion.ipynb\n",
      "C:\\users\\st\\OneDrive\\STJuliaLessons\\MyThinkJulia-Ch06-FruitfulFunc.ipynb\n",
      "C:\\users\\st\\OneDrive\\STJuliaLessons\\MyThinkJulia-Ch06z56S-AdvRecursion.ipynb\n",
      "C:\\users\\st\\OneDrive\\STJuliaLessons\\MyThinkJulia-Ch07-Iteration.ipynb\n",
      "C:\\users\\st\\OneDrive\\STJuliaLessons\\MyThinkJulia-Ch07z-calculate_pi_solution.ipynb\n",
      "C:\\users\\st\\OneDrive\\STJuliaLessons\\MyThinkJulia-Ch08-Strings.ipynb\n",
      "C:\\users\\st\\OneDrive\\STJuliaLessons\\MyThinkJulia-Ch09-WordPlay.ipynb\n",
      "C:\\users\\st\\OneDrive\\STJuliaLessons\\MyThinkJulia-Ch10-Arrays.ipynb\n",
      "C:\\users\\st\\OneDrive\\STJuliaLessons\\MyThinkJulia-Ch11-Dictionary.ipynb\n",
      "C:\\users\\st\\OneDrive\\STJuliaLessons\\MyThinkJulia-Ch12-Tuple.ipynb\n",
      "C:\\users\\st\\OneDrive\\STJuliaLessons\\MyThinkJulia-Ch13-DataStructure.ipynb\n",
      "C:\\users\\st\\OneDrive\\STJuliaLessons\\MyThinkJuliaCh16.ipynb\n",
      "C:\\users\\st\\OneDrive\\STJuliaLessons\\output.txt\n",
      "C:\\users\\st\\OneDrive\\STJuliaLessons\\select-notebooks\\100 Working with Matrices.ipynb\n"
     ]
    },
    {
     "name": "stdout",
     "output_type": "stream",
     "text": [
      "C:\\users\\st\\OneDrive\\STJuliaLessons\\select-notebooks\\110 Multiple dispatch.ipynb\n",
      "C:\\users\\st\\OneDrive\\STJuliaLessons\\select-notebooks\\115 Multiple dispatch examples.ipynb\n",
      "C:\\users\\st\\OneDrive\\STJuliaLessons\\select-notebooks\\120 Types.ipynb\n",
      "C:\\users\\st\\OneDrive\\STJuliaLessons\\select-notebooks\\130 OneHot Vector.ipynb\n",
      "C:\\users\\st\\OneDrive\\STJuliaLessons\\select-notebooks\\140 ModInt.ipynb\n",
      "C:\\users\\st\\OneDrive\\STJuliaLessons\\select-notebooks\\150 Iterators.ipynb\n",
      "C:\\users\\st\\OneDrive\\STJuliaLessons\\select-notebooks\\160 AutoDiff.ipynb\n",
      "C:\\users\\st\\OneDrive\\STJuliaLessons\\select-notebooks\\170 Basic linear algebra.ipynb\n",
      "C:\\users\\st\\OneDrive\\STJuliaLessons\\select-notebooks\\180 Factorizations and other fun.ipynb\n",
      "C:\\users\\st\\OneDrive\\STJuliaLessons\\select-notebooks\\calculate_pi.ipynb\n",
      "C:\\users\\st\\OneDrive\\STJuliaLessons\\select-notebooks\\compressing_an_image.ipynb\n",
      "C:\\users\\st\\OneDrive\\STJuliaLessons\\select-notebooks\\compressing_an_image_solutions.ipynb\n",
      "C:\\users\\st\\OneDrive\\STJuliaLessons\\select-notebooks\\create_a_caesar_cipher.ipynb\n",
      "C:\\users\\st\\OneDrive\\STJuliaLessons\\select-notebooks\\create_a_caesar_cipher_solutions.ipynb\n",
      "C:\\users\\st\\OneDrive\\STJuliaLessons\\select-notebooks\\Exploring_benchmarking_and_performance.ipynb\n",
      "C:\\users\\st\\OneDrive\\STJuliaLessons\\select-notebooks\\Exploring_benchmarking_and_performance_solutions.ipynb\n",
      "C:\\users\\st\\OneDrive\\STJuliaLessons\\test.mp3\n",
      "C:\\users\\st\\OneDrive\\STJuliaLessons\\Text_to_speech_test.ipynb\n",
      "C:\\users\\st\\OneDrive\\STJuliaLessons\\Untitled.ipynb\n",
      "C:\\users\\st\\OneDrive\\STJuliaLessons\\words.txt\n"
     ]
    }
   ],
   "source": [
    "walk(\"C:\\\\users\\\\st\\\\OneDrive\\\\STJuliaLessons\")"
   ]
  },
  {
   "cell_type": "code",
   "execution_count": 17,
   "metadata": {},
   "outputs": [
    {
     "name": "stdout",
     "output_type": "stream",
     "text": [
      "search: \u001b[0m\u001b[1mw\u001b[22m\u001b[0m\u001b[1ma\u001b[22m\u001b[0m\u001b[1ml\u001b[22m\u001b[0m\u001b[1mk\u001b[22m\u001b[0m\u001b[1md\u001b[22m\u001b[0m\u001b[1mi\u001b[22m\u001b[0m\u001b[1mr\u001b[22m\n",
      "\n"
     ]
    },
    {
     "data": {
      "text/latex": [
       "\\begin{verbatim}\n",
       "walkdir(dir; topdown=true, follow_symlinks=false, onerror=throw)\n",
       "\\end{verbatim}\n",
       "Return an iterator that walks the directory tree of a directory. The iterator returns a tuple containing \\texttt{(rootpath, dirs, files)}. The directory tree can be traversed top-down or bottom-up. If \\texttt{walkdir} encounters a \\href{@ref}{\\texttt{SystemError}} it will rethrow the error by default. A custom error handling function can be provided through \\texttt{onerror} keyword argument. \\texttt{onerror} is called with a \\texttt{SystemError} as argument.\n",
       "\n",
       "\\section{Examples}\n",
       "\\begin{verbatim}\n",
       "for (root, dirs, files) in walkdir(\".\")\n",
       "    println(\"Directories in $root\")\n",
       "    for dir in dirs\n",
       "        println(joinpath(root, dir)) # path to directories\n",
       "    end\n",
       "    println(\"Files in $root\")\n",
       "    for file in files\n",
       "        println(joinpath(root, file)) # path to files\n",
       "    end\n",
       "end\n",
       "\\end{verbatim}\n",
       "\\begin{verbatim}\n",
       "julia> mkpath(\"my/test/dir\");\n",
       "\n",
       "julia> itr = walkdir(\"my\");\n",
       "\n",
       "julia> (root, dirs, files) = first(itr)\n",
       "(\"my\", [\"test\"], String[])\n",
       "\n",
       "julia> (root, dirs, files) = first(itr)\n",
       "(\"my/test\", [\"dir\"], String[])\n",
       "\n",
       "julia> (root, dirs, files) = first(itr)\n",
       "(\"my/test/dir\", String[], String[])\n",
       "\\end{verbatim}\n"
      ],
      "text/markdown": [
       "```\n",
       "walkdir(dir; topdown=true, follow_symlinks=false, onerror=throw)\n",
       "```\n",
       "\n",
       "Return an iterator that walks the directory tree of a directory. The iterator returns a tuple containing `(rootpath, dirs, files)`. The directory tree can be traversed top-down or bottom-up. If `walkdir` encounters a [`SystemError`](@ref) it will rethrow the error by default. A custom error handling function can be provided through `onerror` keyword argument. `onerror` is called with a `SystemError` as argument.\n",
       "\n",
       "# Examples\n",
       "\n",
       "```julia\n",
       "for (root, dirs, files) in walkdir(\".\")\n",
       "    println(\"Directories in $root\")\n",
       "    for dir in dirs\n",
       "        println(joinpath(root, dir)) # path to directories\n",
       "    end\n",
       "    println(\"Files in $root\")\n",
       "    for file in files\n",
       "        println(joinpath(root, file)) # path to files\n",
       "    end\n",
       "end\n",
       "```\n",
       "\n",
       "```julia-repl\n",
       "julia> mkpath(\"my/test/dir\");\n",
       "\n",
       "julia> itr = walkdir(\"my\");\n",
       "\n",
       "julia> (root, dirs, files) = first(itr)\n",
       "(\"my\", [\"test\"], String[])\n",
       "\n",
       "julia> (root, dirs, files) = first(itr)\n",
       "(\"my/test\", [\"dir\"], String[])\n",
       "\n",
       "julia> (root, dirs, files) = first(itr)\n",
       "(\"my/test/dir\", String[], String[])\n",
       "```\n"
      ],
      "text/plain": [
       "\u001b[36m  walkdir(dir; topdown=true, follow_symlinks=false, onerror=throw)\u001b[39m\n",
       "\n",
       "  Return an iterator that walks the directory tree of a directory. The\n",
       "  iterator returns a tuple containing \u001b[36m(rootpath, dirs, files)\u001b[39m. The directory\n",
       "  tree can be traversed top-down or bottom-up. If \u001b[36mwalkdir\u001b[39m encounters a\n",
       "  \u001b[36mSystemError\u001b[39m it will rethrow the error by default. A custom error handling\n",
       "  function can be provided through \u001b[36monerror\u001b[39m keyword argument. \u001b[36monerror\u001b[39m is called\n",
       "  with a \u001b[36mSystemError\u001b[39m as argument.\n",
       "\n",
       "\u001b[1m  Examples\u001b[22m\n",
       "\u001b[1m  ≡≡≡≡≡≡≡≡≡≡\u001b[22m\n",
       "\n",
       "\u001b[36m  for (root, dirs, files) in walkdir(\".\")\u001b[39m\n",
       "\u001b[36m      println(\"Directories in $root\")\u001b[39m\n",
       "\u001b[36m      for dir in dirs\u001b[39m\n",
       "\u001b[36m          println(joinpath(root, dir)) # path to directories\u001b[39m\n",
       "\u001b[36m      end\u001b[39m\n",
       "\u001b[36m      println(\"Files in $root\")\u001b[39m\n",
       "\u001b[36m      for file in files\u001b[39m\n",
       "\u001b[36m          println(joinpath(root, file)) # path to files\u001b[39m\n",
       "\u001b[36m      end\u001b[39m\n",
       "\u001b[36m  end\u001b[39m\n",
       "\n",
       "\u001b[36m  julia> mkpath(\"my/test/dir\");\u001b[39m\n",
       "\u001b[36m  \u001b[39m\n",
       "\u001b[36m  julia> itr = walkdir(\"my\");\u001b[39m\n",
       "\u001b[36m  \u001b[39m\n",
       "\u001b[36m  julia> (root, dirs, files) = first(itr)\u001b[39m\n",
       "\u001b[36m  (\"my\", [\"test\"], String[])\u001b[39m\n",
       "\u001b[36m  \u001b[39m\n",
       "\u001b[36m  julia> (root, dirs, files) = first(itr)\u001b[39m\n",
       "\u001b[36m  (\"my/test\", [\"dir\"], String[])\u001b[39m\n",
       "\u001b[36m  \u001b[39m\n",
       "\u001b[36m  julia> (root, dirs, files) = first(itr)\u001b[39m\n",
       "\u001b[36m  (\"my/test/dir\", String[], String[])\u001b[39m"
      ]
     },
     "execution_count": 17,
     "metadata": {},
     "output_type": "execute_result"
    }
   ],
   "source": [
    "?walkdir"
   ]
  },
  {
   "cell_type": "markdown",
   "metadata": {},
   "source": [
    "### Catching Exceptions\n",
    "\n",
    "A lot of things can go wrong when you try to read and write files. If you try to open a file that doesn’t exist, you get a SystemError:"
   ]
  },
  {
   "cell_type": "code",
   "execution_count": 18,
   "metadata": {},
   "outputs": [
    {
     "ename": "SystemError",
     "evalue": "SystemError: opening file \"bad_file\": No such file or directory",
     "output_type": "error",
     "traceback": [
      "SystemError: opening file \"bad_file\": No such file or directory",
      "",
      "Stacktrace:",
      " [1] #systemerror#44(::Nothing, ::typeof(systemerror), ::String, ::Bool) at .\\error.jl:134",
      " [2] systemerror at .\\error.jl:134 [inlined]",
      " [3] #open#311(::Nothing, ::Nothing, ::Nothing, ::Nothing, ::Nothing, ::typeof(open), ::String) at .\\iostream.jl:289",
      " [4] open(::String) at .\\iostream.jl:281",
      " [5] top-level scope at In[18]:1"
     ]
    }
   ],
   "source": [
    "fin = open(\"bad_file\")"
   ]
  },
  {
   "cell_type": "markdown",
   "metadata": {},
   "source": [
    "It is easier to go ahead and try—and deal with problems if they happen—which is exactly what the try statement does.\n",
    "The syntax is similar to an if statement:"
   ]
  },
  {
   "cell_type": "code",
   "execution_count": 21,
   "metadata": {},
   "outputs": [
    {
     "name": "stdout",
     "output_type": "stream",
     "text": [
      "150I have spotted 42 camels.\n"
     ]
    }
   ],
   "source": [
    "f = open(\"output.txt\")\n",
    "try\n",
    "    line = readline(f)\n",
    "    println(line)\n",
    "catch exc\n",
    "    println(\"Something went wrong: $exc\")\n",
    "finally\n",
    "    close(f)\n",
    "end"
   ]
  },
  {
   "cell_type": "markdown",
   "metadata": {},
   "source": [
    "The `finally` keyword provides a way to run some code when a given block of code exits, regardless of how it exits:"
   ]
  },
  {
   "cell_type": "markdown",
   "metadata": {},
   "source": [
    "### Command Objects\n",
    "\n",
    "Most operating systems provide a command-line interface, also known as a shell. Shells usually provide commands to navigate the file system and launch applications. For example, in Unix you can change directories with cd , display the contents of a directory with ls , and launch a web browser by typing (for example) firefox . Any program that you can launch from the shell can also be launched from Julia using a command object:"
   ]
  },
  {
   "cell_type": "code",
   "execution_count": 22,
   "metadata": {},
   "outputs": [
    {
     "data": {
      "text/plain": [
       "`\u001b[4mecho\u001b[24m \u001b[4mhello\u001b[24m`"
      ]
     },
     "execution_count": 22,
     "metadata": {},
     "output_type": "execute_result"
    }
   ],
   "source": [
    "cmd = `echo hello`"
   ]
  },
  {
   "cell_type": "markdown",
   "metadata": {},
   "source": [
    "Backticks are used to delimit the command.\n",
    "The function run executes the command:"
   ]
  },
  {
   "cell_type": "code",
   "execution_count": 23,
   "metadata": {},
   "outputs": [
    {
     "name": "stdout",
     "output_type": "stream",
     "text": [
      "hello\n"
     ]
    },
    {
     "data": {
      "text/plain": [
       "Process(`\u001b[4mecho\u001b[24m \u001b[4mhello\u001b[24m`, ProcessExited(0))"
      ]
     },
     "execution_count": 23,
     "metadata": {},
     "output_type": "execute_result"
    }
   ],
   "source": [
    "run(cmd)"
   ]
  },
  {
   "cell_type": "markdown",
   "metadata": {},
   "source": [
    "If you want to read the output of the external command, read can be used instead:"
   ]
  },
  {
   "cell_type": "code",
   "execution_count": 24,
   "metadata": {},
   "outputs": [
    {
     "data": {
      "text/plain": [
       "\"hello\\n\""
      ]
     },
     "execution_count": 24,
     "metadata": {},
     "output_type": "execute_result"
    }
   ],
   "source": [
    "a = read(cmd, String)"
   ]
  },
  {
   "cell_type": "markdown",
   "metadata": {},
   "source": [
    "For example, most Unix systems provide a command called md5sum or md5 that reads the contents of a file and computes\n",
    "a “checksum”. You can read about MD5 at https://en.wikipedia.org/wiki/Md5. This command provides an efficient way to\n",
    "check whether two files have the same contents. The probability that different contents yield the same checksum is very\n",
    "small (that is, unlikely to happen before the universe collapses).\n",
    "You can use a command object to run md5 from Julia and get the result:"
   ]
  },
  {
   "cell_type": "code",
   "execution_count": 26,
   "metadata": {},
   "outputs": [
    {
     "data": {
      "text/plain": [
       "\"MD5 hash of output.txt:\\r\\n5bf98090c23bbd88314ac9bdf319ba1f\\r\\nCertUtil: -hashfile command completed successfully.\\r\\n\""
      ]
     },
     "execution_count": 26,
     "metadata": {},
     "output_type": "execute_result"
    }
   ],
   "source": [
    "filename = \"output.txt\"\n",
    "\n",
    "#cmd = `md5 $filename`  # for UNIX\n",
    "\n",
    "cmd = `CertUtil -hashfile $filename MD5`\n",
    "\n",
    "res = read(cmd, String)"
   ]
  },
  {
   "cell_type": "markdown",
   "metadata": {},
   "source": [
    "### Modules\n",
    "\n",
    "Julia introduces modules to create separate variable workspace, i.e. new global scopes.\n",
    "\n",
    "A module starts with the keyword `module` and ends with `end`. Naming conflicts are avoided between your own top-level definitions and those found in somebody else’s code. \n",
    "\n",
    "`import` allows to control which names from other modules are visible and `export` specifies which of your names are public, i.e. can be used outside the module without being prefixed with the name of the module."
   ]
  },
  {
   "cell_type": "code",
   "execution_count": 1,
   "metadata": {},
   "outputs": [
    {
     "data": {
      "text/plain": [
       "Main.LineCount"
      ]
     },
     "execution_count": 1,
     "metadata": {},
     "output_type": "execute_result"
    }
   ],
   "source": [
    "module LineCount\n",
    "\n",
    "    export linecount\n",
    "\n",
    "    function linecount(filename)\n",
    "        count = 0\n",
    "        for line in eachline(filename)\n",
    "            count += 1\n",
    "        end\n",
    "        count\n",
    "    end\n",
    "\n",
    "end"
   ]
  },
  {
   "cell_type": "markdown",
   "metadata": {},
   "source": [
    "The module LineCount object provides linecount :"
   ]
  },
  {
   "cell_type": "code",
   "execution_count": 2,
   "metadata": {},
   "outputs": [],
   "source": [
    "using .LineCount"
   ]
  },
  {
   "cell_type": "markdown",
   "metadata": {},
   "source": [
    "### Debugging\n",
    "\n",
    "When you are reading and writing files, you might run into problems with whitespace. These errors can be hard to debug because spaces, tabs and newlines are normally invisible.\n",
    "\n",
    "The built-in functions `repr` or `dump` can help. It takes any object as an argument and returns a string representation of the object."
   ]
  },
  {
   "cell_type": "code",
   "execution_count": 30,
   "metadata": {},
   "outputs": [
    {
     "data": {
      "text/plain": [
       "\"\\\"1 2\\\\t 3\\\\n 4\\\"\""
      ]
     },
     "execution_count": 30,
     "metadata": {},
     "output_type": "execute_result"
    }
   ],
   "source": [
    "s = \"1 2\\t 3\\n 4\";\n",
    "repr(s)"
   ]
  },
  {
   "cell_type": "code",
   "execution_count": 31,
   "metadata": {},
   "outputs": [
    {
     "name": "stdout",
     "output_type": "stream",
     "text": [
      "String \"1 2\\t 3\\n 4\"\n"
     ]
    }
   ],
   "source": [
    "dump(s)"
   ]
  },
  {
   "cell_type": "code",
   "execution_count": null,
   "metadata": {},
   "outputs": [],
   "source": []
  }
 ],
 "metadata": {
  "kernelspec": {
   "display_name": "Julia 1.4.0",
   "language": "julia",
   "name": "julia-1.4"
  },
  "language_info": {
   "file_extension": ".jl",
   "mimetype": "application/julia",
   "name": "julia",
   "version": "1.4.0"
  }
 },
 "nbformat": 4,
 "nbformat_minor": 2
}
